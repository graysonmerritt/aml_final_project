{
 "cells": [
  {
   "cell_type": "code",
   "execution_count": 1,
   "metadata": {},
   "outputs": [
    {
     "name": "stderr",
     "output_type": "stream",
     "text": [
      "\n",
      "A module that was compiled using NumPy 1.x cannot be run in\n",
      "NumPy 2.1.3 as it may crash. To support both 1.x and 2.x\n",
      "versions of NumPy, modules must be compiled with NumPy 2.0.\n",
      "Some module may need to rebuild instead e.g. with 'pybind11>=2.12'.\n",
      "\n",
      "If you are a user of the module, the easiest solution will be to\n",
      "downgrade to 'numpy<2' or try to upgrade the affected module.\n",
      "We expect that some modules will need time to support NumPy 2.\n",
      "\n",
      "Traceback (most recent call last):  File \"<frozen runpy>\", line 198, in _run_module_as_main\n",
      "  File \"<frozen runpy>\", line 88, in _run_code\n",
      "  File \"/opt/miniconda3/lib/python3.12/site-packages/ipykernel_launcher.py\", line 18, in <module>\n",
      "    app.launch_new_instance()\n",
      "  File \"/opt/miniconda3/lib/python3.12/site-packages/traitlets/config/application.py\", line 1075, in launch_instance\n",
      "    app.start()\n",
      "  File \"/opt/miniconda3/lib/python3.12/site-packages/ipykernel/kernelapp.py\", line 739, in start\n",
      "    self.io_loop.start()\n",
      "  File \"/opt/miniconda3/lib/python3.12/site-packages/tornado/platform/asyncio.py\", line 205, in start\n",
      "    self.asyncio_loop.run_forever()\n",
      "  File \"/opt/miniconda3/lib/python3.12/asyncio/base_events.py\", line 639, in run_forever\n",
      "    self._run_once()\n",
      "  File \"/opt/miniconda3/lib/python3.12/asyncio/base_events.py\", line 1985, in _run_once\n",
      "    handle._run()\n",
      "  File \"/opt/miniconda3/lib/python3.12/asyncio/events.py\", line 88, in _run\n",
      "    self._context.run(self._callback, *self._args)\n",
      "  File \"/opt/miniconda3/lib/python3.12/site-packages/ipykernel/kernelbase.py\", line 545, in dispatch_queue\n",
      "    await self.process_one()\n",
      "  File \"/opt/miniconda3/lib/python3.12/site-packages/ipykernel/kernelbase.py\", line 534, in process_one\n",
      "    await dispatch(*args)\n",
      "  File \"/opt/miniconda3/lib/python3.12/site-packages/ipykernel/kernelbase.py\", line 437, in dispatch_shell\n",
      "    await result\n",
      "  File \"/opt/miniconda3/lib/python3.12/site-packages/ipykernel/ipkernel.py\", line 359, in execute_request\n",
      "    await super().execute_request(stream, ident, parent)\n",
      "  File \"/opt/miniconda3/lib/python3.12/site-packages/ipykernel/kernelbase.py\", line 778, in execute_request\n",
      "    reply_content = await reply_content\n",
      "  File \"/opt/miniconda3/lib/python3.12/site-packages/ipykernel/ipkernel.py\", line 446, in do_execute\n",
      "    res = shell.run_cell(\n",
      "  File \"/opt/miniconda3/lib/python3.12/site-packages/ipykernel/zmqshell.py\", line 549, in run_cell\n",
      "    return super().run_cell(*args, **kwargs)\n",
      "  File \"/opt/miniconda3/lib/python3.12/site-packages/IPython/core/interactiveshell.py\", line 3075, in run_cell\n",
      "    result = self._run_cell(\n",
      "  File \"/opt/miniconda3/lib/python3.12/site-packages/IPython/core/interactiveshell.py\", line 3130, in _run_cell\n",
      "    result = runner(coro)\n",
      "  File \"/opt/miniconda3/lib/python3.12/site-packages/IPython/core/async_helpers.py\", line 129, in _pseudo_sync_runner\n",
      "    coro.send(None)\n",
      "  File \"/opt/miniconda3/lib/python3.12/site-packages/IPython/core/interactiveshell.py\", line 3334, in run_cell_async\n",
      "    has_raised = await self.run_ast_nodes(code_ast.body, cell_name,\n",
      "  File \"/opt/miniconda3/lib/python3.12/site-packages/IPython/core/interactiveshell.py\", line 3517, in run_ast_nodes\n",
      "    if await self.run_code(code, result, async_=asy):\n",
      "  File \"/opt/miniconda3/lib/python3.12/site-packages/IPython/core/interactiveshell.py\", line 3577, in run_code\n",
      "    exec(code_obj, self.user_global_ns, self.user_ns)\n",
      "  File \"/var/folders/kg/6zcpy_5d1cv8qp9ktgjrvmrw0000gn/T/ipykernel_83861/1505038768.py\", line 16, in <module>\n",
      "    import torch\n",
      "  File \"/opt/miniconda3/lib/python3.12/site-packages/torch/__init__.py\", line 1477, in <module>\n",
      "    from .functional import *  # noqa: F403\n",
      "  File \"/opt/miniconda3/lib/python3.12/site-packages/torch/functional.py\", line 9, in <module>\n",
      "    import torch.nn.functional as F\n",
      "  File \"/opt/miniconda3/lib/python3.12/site-packages/torch/nn/__init__.py\", line 1, in <module>\n",
      "    from .modules import *  # noqa: F403\n",
      "  File \"/opt/miniconda3/lib/python3.12/site-packages/torch/nn/modules/__init__.py\", line 35, in <module>\n",
      "    from .transformer import TransformerEncoder, TransformerDecoder, \\\n",
      "  File \"/opt/miniconda3/lib/python3.12/site-packages/torch/nn/modules/transformer.py\", line 20, in <module>\n",
      "    device: torch.device = torch.device(torch._C._get_default_device()),  # torch.device('cpu'),\n",
      "/opt/miniconda3/lib/python3.12/site-packages/torch/nn/modules/transformer.py:20: UserWarning: Failed to initialize NumPy: _ARRAY_API not found (Triggered internally at /Users/runner/work/_temp/anaconda/conda-bld/pytorch_1711403226120/work/torch/csrc/utils/tensor_numpy.cpp:84.)\n",
      "  device: torch.device = torch.device(torch._C._get_default_device()),  # torch.device('cpu'),\n"
     ]
    }
   ],
   "source": [
    "# Import necessary libraries\n",
    "import numpy as np\n",
    "import pandas as pd\n",
    "import matplotlib.pyplot as plt\n",
    "import seaborn as sns\n",
    "from scipy.stats import skew\n",
    "from sklearn.model_selection import train_test_split\n",
    "from sklearn.preprocessing import StandardScaler\n",
    "from imblearn.over_sampling import SMOTE\n",
    "import random\n",
    "from statsmodels.stats.outliers_influence import variance_inflation_factor\n",
    "from sklearn.decomposition import PCA\n",
    "from imblearn.over_sampling import SMOTE\n",
    "from statsmodels.stats.outliers_influence import variance_inflation_factor\n",
    "from sklearn.metrics import classification_report, confusion_matrix, roc_auc_score, precision_recall_curve, roc_curve\n",
    "import torch\n",
    "import torch.nn as nn\n",
    "import torch.optim as optim\n",
    "from torch.utils.data import DataLoader, Dataset, TensorDataset\n",
    "import warnings\n",
    "warnings.filterwarnings('ignore')"
   ]
  },
  {
   "cell_type": "code",
   "execution_count": 2,
   "metadata": {},
   "outputs": [
    {
     "name": "stdout",
     "output_type": "stream",
     "text": [
      "Saved apache columns in a separate DataFrame and removed them from the main dataset.\n",
      "Apache Probabilities DataFrame:\n",
      "   apache_4a_hospital_death_prob  apache_4a_icu_death_prob\n",
      "0                           0.10                      0.05\n",
      "1                           0.47                      0.29\n",
      "2                           0.00                      0.00\n",
      "3                           0.04                      0.03\n",
      "4                            NaN                       NaN\n",
      "Value Counts for 'apache_2_bodysystem' after combining categories:\n",
      "apache_2_bodysystem\n",
      "Cardiovascular         38816\n",
      "Neurologic             11896\n",
      "Respiratory            11609\n",
      "Gastrointestinal        9026\n",
      "Metabolic               7650\n",
      "Undefined Diagnoses     4114\n",
      "Trauma                  3842\n",
      "Renal/Genitourinary     2460\n",
      "Haematologic             638\n",
      "Name: count, dtype: int64\n"
     ]
    }
   ],
   "source": [
    "# Load the dataset\n",
    "data = pd.read_csv('dataset.csv')\n",
    "\n",
    "# Drop unnecessary columns\n",
    "cols_to_drop = ['encounter_id', 'patient_id', 'hospital_id', 'icu_id', 'Unnamed: 83']\n",
    "data.drop(columns=cols_to_drop, inplace=True)\n",
    "\n",
    "# Save 'apache_4a_hospital_death_prob' and 'apache_4a_icu_death_prob' in a separate DataFrame\n",
    "apache_probs = data[['apache_4a_hospital_death_prob', 'apache_4a_icu_death_prob']].copy()\n",
    "\n",
    "# Drop these columns from the main dataset\n",
    "data.drop(columns=['apache_4a_hospital_death_prob', 'apache_4a_icu_death_prob'], inplace=True)\n",
    "\n",
    "# Display confirmation of saved and deleted columns\n",
    "print(\"Saved apache columns in a separate DataFrame and removed them from the main dataset.\")\n",
    "print(\"Apache Probabilities DataFrame:\")\n",
    "print(apache_probs.head())\n",
    "\n",
    "\n",
    "# Replace the lowercase value with the uppercase value to combine these categories\n",
    "data['apache_2_bodysystem'] = data['apache_2_bodysystem'].replace('Undefined diagnoses', 'Undefined Diagnoses')\n",
    "\n",
    "# Verify that the categories have been combined\n",
    "print(\"Value Counts for 'apache_2_bodysystem' after combining categories:\")\n",
    "print(data['apache_2_bodysystem'].value_counts())\n",
    "# Convert binary variables to categorical\n",
    "binary_categorical_vars = [\n",
    "    'intubated_apache', 'ventilated_apache', 'aids', 'cirrhosis',\n",
    "    'diabetes_mellitus', 'hepatic_failure', 'immunosuppression',\n",
    "    'leukemia', 'lymphoma', 'solid_tumor_with_metastasis',\n",
    "    'apache_post_operative', 'arf_apache', 'gcs_unable_apache', 'elective_surgery'\n",
    "]\n",
    "for col in binary_categorical_vars:\n",
    "    data[col] = data[col].astype('category')\n",
    "\n",
    "# Convert target variable to integer if it's not already\n",
    "data['hospital_death'] = data['hospital_death'].astype(int)\n",
    "\n",
    "categorical_vars = ['icu_admit_source', 'ethnicity', 'gender', 'icu_type', 'apache_3j_bodysystem', 'apache_2_bodysystem', 'icu_stay_type']\n",
    "data = pd.get_dummies(data, columns=categorical_vars, drop_first=True)"
   ]
  },
  {
   "cell_type": "code",
   "execution_count": 3,
   "metadata": {},
   "outputs": [
    {
     "name": "stdout",
     "output_type": "stream",
     "text": [
      "the list of categorical features is: ['elective_surgery', 'apache_post_operative', 'arf_apache', 'gcs_unable_apache', 'intubated_apache', 'ventilated_apache', 'aids', 'cirrhosis', 'diabetes_mellitus', 'hepatic_failure', 'immunosuppression', 'leukemia', 'lymphoma', 'solid_tumor_with_metastasis']\n",
      "the list of numerical features is: ['age', 'bmi', 'height', 'pre_icu_los_days', 'weight', 'apache_2_diagnosis', 'apache_3j_diagnosis', 'gcs_eyes_apache', 'gcs_motor_apache', 'gcs_verbal_apache', 'heart_rate_apache', 'map_apache', 'resprate_apache', 'temp_apache', 'd1_diasbp_max', 'd1_diasbp_min', 'd1_diasbp_noninvasive_max', 'd1_diasbp_noninvasive_min', 'd1_heartrate_max', 'd1_heartrate_min', 'd1_mbp_max', 'd1_mbp_min', 'd1_mbp_noninvasive_max', 'd1_mbp_noninvasive_min', 'd1_resprate_max', 'd1_resprate_min', 'd1_spo2_max', 'd1_spo2_min', 'd1_sysbp_max', 'd1_sysbp_min', 'd1_sysbp_noninvasive_max', 'd1_sysbp_noninvasive_min', 'd1_temp_max', 'd1_temp_min', 'h1_diasbp_max', 'h1_diasbp_min', 'h1_diasbp_noninvasive_max', 'h1_diasbp_noninvasive_min', 'h1_heartrate_max', 'h1_heartrate_min', 'h1_mbp_max', 'h1_mbp_min', 'h1_mbp_noninvasive_max', 'h1_mbp_noninvasive_min', 'h1_resprate_max', 'h1_resprate_min', 'h1_spo2_max', 'h1_spo2_min', 'h1_sysbp_max', 'h1_sysbp_min', 'h1_sysbp_noninvasive_max', 'h1_sysbp_noninvasive_min', 'd1_glucose_max', 'd1_glucose_min', 'd1_potassium_max', 'd1_potassium_min']\n"
     ]
    }
   ],
   "source": [
    "# Update lists of numerical and categorical features\n",
    "categorical_features = data.select_dtypes(include=['object', 'category']).columns.tolist()\n",
    "numerical_features = data.select_dtypes(include=[np.number]).columns.tolist()\n",
    "if 'hospital_death' in numerical_features:\n",
    "    numerical_features.remove('hospital_death')\n",
    "\n",
    "print('the list of categorical features is:', categorical_features)\n",
    "print('the list of numerical features is:', numerical_features)"
   ]
  },
  {
   "cell_type": "code",
   "execution_count": 4,
   "metadata": {},
   "outputs": [
    {
     "data": {
      "text/plain": [
       "dtype('int64')"
      ]
     },
     "execution_count": 4,
     "metadata": {},
     "output_type": "execute_result"
    }
   ],
   "source": [
    "# check the data type of a colum in data dataframe\n",
    "data['hospital_death'].dtype"
   ]
  },
  {
   "cell_type": "code",
   "execution_count": 5,
   "metadata": {},
   "outputs": [
    {
     "name": "stdout",
     "output_type": "stream",
     "text": [
      "Percentage Distribution of Hospital Deaths:\n",
      "hospital_death\n",
      "0    91.369817\n",
      "1     8.630183\n",
      "Name: proportion, dtype: float64\n",
      "Percentage Distribution of Hospital Deaths:\n",
      "hospital_death\n",
      "0    91.587413\n",
      "1     8.412587\n",
      "Name: proportion, dtype: float64\n"
     ]
    }
   ],
   "source": [
    "# Handling Missing Values\n",
    "\n",
    "# Calculate the value counts for 'hospital_death' and convert them to percentages\n",
    "hospital_death_counts = data['hospital_death'].value_counts(normalize=True) * 100\n",
    "\n",
    "# Display the percentage distribution of hospital deaths\n",
    "print(\"Percentage Distribution of Hospital Deaths:\")\n",
    "print(hospital_death_counts)\n",
    "\n",
    "# For now, drop any rows that have missing values\n",
    "data = data.dropna()\n",
    "\n",
    "# Alternative strategies:\n",
    "# - Impute numerical features using mean, median, or mode\n",
    "# - Use KNN imputation or regression models to estimate missing values\n",
    "# - Impute categorical features with the most frequent category or 'Unknown'\n",
    "# - Use advanced imputation techniques like MICE (Multiple Imputation by Chained Equations)\n",
    "\n",
    "\n",
    "# Calculate the value counts for 'hospital_death' and convert them to percentages\n",
    "hospital_death_counts = data['hospital_death'].value_counts(normalize=True) * 100\n",
    "\n",
    "# Display the percentage distribution of hospital deaths\n",
    "print(\"Percentage Distribution of Hospital Deaths:\")\n",
    "print(hospital_death_counts)"
   ]
  },
  {
   "cell_type": "code",
   "execution_count": 6,
   "metadata": {},
   "outputs": [],
   "source": [
    "# Split the data\n",
    "X = data.drop('hospital_death', axis=1)\n",
    "Y = data['hospital_death']\n",
    "X_train, X_test, Y_train, Y_test = train_test_split(X, Y, test_size=0.2, random_state=50, stratify=Y)"
   ]
  },
  {
   "cell_type": "code",
   "execution_count": 7,
   "metadata": {},
   "outputs": [],
   "source": [
    "# Scale the data\n",
    "scaler = StandardScaler()\n",
    "X_train_scaled = scaler.fit_transform(X_train)  # Fit on training data\n",
    "X_test_scaled = scaler.transform(X_test)        # Transform test data using the same scaler"
   ]
  },
  {
   "cell_type": "code",
   "execution_count": 8,
   "metadata": {},
   "outputs": [],
   "source": [
    "# Split the train dataset into train(85% of train data) and validation(15% of train data) using the train_test_split function with random_state = 50.\n",
    "X_train, X_val, Y_train, Y_val = train_test_split(X_train_scaled, Y_train, test_size=0.15, random_state=50)"
   ]
  },
  {
   "cell_type": "code",
   "execution_count": 9,
   "metadata": {},
   "outputs": [],
   "source": [
    "# Apply SMOTE (if needed)\n",
    "def apply_smote(X_train, Y_train):\n",
    "    smote = SMOTE(random_state=50)\n",
    "    X_train_smote, Y_train_smote = smote.fit_resample(X_train, Y_train)\n",
    "    return X_train_smote, Y_train_smote\n",
    "\n",
    "# Convert Data to PyTorch Tensors\n",
    "def to_tensor(X, Y):\n",
    "    X_tensor = torch.tensor(X, dtype=torch.float32)\n",
    "    Y_tensor = torch.tensor(Y.values.reshape(-1, 1), dtype=torch.float32)\n",
    "    return X_tensor, Y_tensor"
   ]
  },
  {
   "cell_type": "code",
   "execution_count": 10,
   "metadata": {},
   "outputs": [],
   "source": [
    "# Without SMOTE\n",
    "X_train_tensor, Y_train_tensor = to_tensor(X_train, Y_train)\n",
    "X_val_tensor, Y_val_tensor = to_tensor(X_val, Y_val)\n",
    "X_test_tensor, Y_test_tensor = to_tensor(X_test_scaled, Y_test)\n",
    "\n",
    "# With SMOTE\n",
    "X_train_smote, Y_train_smote = apply_smote(X_train, Y_train)\n",
    "X_train_smote_tensor, Y_train_smote_tensor = to_tensor(X_train_smote, Y_train_smote)"
   ]
  },
  {
   "cell_type": "code",
   "execution_count": 11,
   "metadata": {},
   "outputs": [],
   "source": [
    "# Define the model\n",
    "class NeuralNet(nn.Module):\n",
    "    def __init__(self, input_size):\n",
    "        super(NeuralNet, self).__init__()\n",
    "        self.layers = nn.Sequential(\n",
    "            nn.Linear(input_size, 128),\n",
    "            nn.ReLU(),\n",
    "            nn.Dropout(0.3),\n",
    "            nn.Linear(128, 64),\n",
    "            nn.ReLU(),\n",
    "            nn.Dropout(0.3),\n",
    "            nn.Linear(64, 1),\n",
    "            nn.Sigmoid()\n",
    "        )\n",
    "\n",
    "    def forward(self, x):\n",
    "        return self.layers(x)\n",
    "    \n",
    "class BigModel(nn.Module):\n",
    "    def __init__(self, input_size):\n",
    "        super(BigModel, self).__init__()\n",
    "        self.network = nn.Sequential(\n",
    "            nn.Linear(input_size, 256),\n",
    "            nn.ReLU(),\n",
    "            nn.Linear(256, 32),\n",
    "            nn.ReLU(),\n",
    "            nn.Linear(32, 8),\n",
    "            nn.ReLU(),\n",
    "            nn.Linear(8, 1),\n",
    "            nn.Sigmoid()  # Adding Sigmoid for binary classification\n",
    "        )\n",
    "\n",
    "    def forward(self, x):\n",
    "        return self.network(x)"
   ]
  },
  {
   "cell_type": "code",
   "execution_count": 12,
   "metadata": {},
   "outputs": [],
   "source": [
    "def eval_model(model, X, Y, loss_fn, threshold=0.5):\n",
    "    \"\"\"\n",
    "    Evaluates the model on a given dataset.\n",
    "    Returns the loss and accuracy.\n",
    "    \"\"\"\n",
    "    model.eval()  # Set the model to evaluation mode\n",
    "    with torch.no_grad():  # Disable gradient calculation\n",
    "        outputs = model(X)  # Get model predictions\n",
    "        loss = loss_fn(outputs, Y)  # Calculate loss\n",
    "        predictions = (outputs > threshold).float()  # Convert probabilities to binary predictions\n",
    "        accuracy = (predictions == Y).float().mean().item()  # Calculate accuracy\n",
    "    return float(loss), accuracy, predictions"
   ]
  },
  {
   "cell_type": "code",
   "execution_count": 13,
   "metadata": {},
   "outputs": [],
   "source": [
    "# Threshold search function\n",
    "def find_best_threshold(model, X_val, Y_val):\n",
    "    \"\"\"\n",
    "    Finds the best threshold to maximize TPR (True Positive Rate).\n",
    "    \"\"\"\n",
    "    model.eval()\n",
    "    with torch.no_grad():\n",
    "        # Move tensors to CPU and convert to NumPy\n",
    "        outputs = np.array(model(X_val).cpu().tolist())\n",
    "        Y_val_np = np.array(Y_val.cpu().tolist())\n",
    "        thresholds = np.linspace(0.1, 0.9, 9)\n",
    "        best_tpr = 0\n",
    "        best_threshold = 0.5\n",
    "\n",
    "        for threshold in thresholds:\n",
    "            predictions = (outputs > threshold).astype(int)\n",
    "            tp = ((predictions == 1) & (Y_val_np == 1)).sum()\n",
    "            fn = ((predictions == 0) & (Y_val_np == 1)).sum()\n",
    "            tpr = tp / (tp + fn) if (tp + fn) > 0 else 0\n",
    "\n",
    "            if tpr > best_tpr:\n",
    "                best_tpr = tpr\n",
    "                best_threshold = threshold\n",
    "\n",
    "    print(f\"\\nBest Threshold: {best_threshold:.2f}, Best TPR: {best_tpr:.4f}\")\n",
    "    return best_threshold"
   ]
  },
  {
   "cell_type": "code",
   "execution_count": 14,
   "metadata": {},
   "outputs": [],
   "source": [
    "def train_model(model, X_train, y_train, X_valid, y_valid, n_epochs, batch_size, optimizer, loss_fn, threshold=0.5):\n",
    "    \"\"\"\n",
    "    Trains the model on the training set and evaluates it on the validation set.\n",
    "    Tracks the best model based on validation loss.\n",
    "    \"\"\"\n",
    "    import copy\n",
    "    from tqdm import tqdm\n",
    "\n",
    "    # Parameters to store the best model on validation loss\n",
    "    best_loss = np.inf   # Initialize to infinity\n",
    "    best_weights = None\n",
    "    train_history = []\n",
    "    valid_history = []\n",
    "    batch_start = torch.arange(0, len(X_train), batch_size)\n",
    "\n",
    "    for epoch in range(n_epochs):\n",
    "        model.train()  # Set the model to training mode\n",
    "        with tqdm(batch_start, unit=\"batch\", mininterval=0, disable=False) as bar:\n",
    "            bar.set_description(f\"Epoch {epoch}\")\n",
    "            train_losses = []\n",
    "\n",
    "            for start in bar:\n",
    "                # Take a batch with the help of 'start' variable\n",
    "                end = min(start + batch_size, len(X_train))\n",
    "                X_batch, y_batch = X_train[start:end], y_train[start:end]\n",
    "                y_pred = model(X_batch)\n",
    "                loss = loss_fn(y_pred, y_batch)\n",
    "\n",
    "                # Backward pass\n",
    "                optimizer.zero_grad()\n",
    "                loss.backward()  # Calculate gradients\n",
    "                optimizer.step()\n",
    "\n",
    "                # Print progress\n",
    "                bar.set_postfix(loss=float(loss))\n",
    "                train_losses.append(float(loss))\n",
    "\n",
    "        # Average training loss for the epoch\n",
    "        train_history.append(sum(train_losses) / len(train_losses))\n",
    "        val_loss, val_accuracy,val_prediction = eval_model(model, X_valid, y_valid, loss_fn, threshold)\n",
    "\n",
    "        # Store the best model based on validation loss\n",
    "        valid_history.append(val_loss)\n",
    "        if val_loss < best_loss:\n",
    "            best_loss = val_loss\n",
    "            best_weights = copy.deepcopy(model.state_dict())  # Save best weights\n",
    "\n",
    "        print(f\"Epoch {epoch + 1}/{n_epochs}: Train Loss = {train_history[-1]:.4f}, \"\n",
    "              f\"Val Loss = {val_loss:.4f}, Val Accuracy = {val_accuracy:.4f}\")\n",
    "\n",
    "    print(\"Best Validation Loss: %.4f\" % best_loss)\n",
    "    return best_weights, train_history, valid_history, best_loss"
   ]
  },
  {
   "cell_type": "code",
   "execution_count": 15,
   "metadata": {},
   "outputs": [],
   "source": [
    "def test_model(model, X_test_tensor, Y_test_tensor, loss_fn, best_threshold, description=\"\"):\n",
    "    \"\"\"\n",
    "    Tests the model on the test set and displays evaluation metrics.\n",
    "    \"\"\"\n",
    "    # Evaluate the model on the test set\n",
    "    test_loss, test_accuracy, test_predictions = eval_model(model, X_test_tensor, Y_test_tensor, loss_fn, best_threshold)\n",
    "\n",
    "    # Move predictions and targets to CPU and convert to NumPy\n",
    "    Y_test_np = np.array(Y_test_tensor.cpu().tolist())\n",
    "    test_predictions_np = np.array(test_predictions.cpu().tolist())\n",
    "\n",
    "    # Display metrics\n",
    "    print(f\"\\n=== Testing Model: {description} ===\")\n",
    "    print(f\"Test Loss: {test_loss:.4f}, Test Accuracy: {test_accuracy:.4f}\")\n",
    "\n",
    "    # Print Classification Report\n",
    "    print(\"\\nClassification Report:\")\n",
    "    print(classification_report(Y_test_np, test_predictions_np))\n",
    "\n",
    "    # Print Confusion Matrix\n",
    "    print(\"\\nConfusion Matrix:\")\n",
    "    print(confusion_matrix(Y_test_np, test_predictions_np))\n",
    "\n",
    "    # Compute Precision-Recall Curve\n",
    "    with torch.no_grad():\n",
    "        outputs = np.array(model(X_test_tensor).cpu().tolist())\n",
    "    precision, recall, _ = precision_recall_curve(Y_test_np, outputs)\n",
    "\n",
    "    plt.figure(figsize=(8, 6))\n",
    "    plt.plot(recall, precision, label=f\"Precision-Recall Curve - {description}\")\n",
    "    plt.xlabel('Recall')\n",
    "    plt.ylabel('Precision')\n",
    "    plt.title(f\"Precision-Recall Curve - {description}\")\n",
    "    plt.legend()\n",
    "    plt.grid(True)\n",
    "    plt.show()\n",
    "\n",
    "    # ROC Curve\n",
    "    fpr, tpr, _ = roc_curve(Y_test_np, outputs)\n",
    "    plt.figure(figsize=(8, 6))\n",
    "    plt.plot(fpr, tpr, label=f\"ROC Curve - {description} (AUC = {roc_auc_score(Y_test_np, outputs):.4f})\")\n",
    "    plt.plot([0, 1], [0, 1], linestyle='--', label='Random Guess')\n",
    "    plt.xlabel('False Positive Rate')\n",
    "    plt.ylabel('True Positive Rate')\n",
    "    plt.title(f\"ROC Curve - {description}\")\n",
    "    plt.legend()\n",
    "    plt.grid(True)\n",
    "    plt.show()\n",
    "\n",
    "    # Compute ROC-AUC\n",
    "    roc_auc = roc_auc_score(Y_test_np, outputs)\n",
    "    print(f\"Test ROC AUC Score: {roc_auc:.4f}\")\n",
    "\n",
    "    return test_loss, test_accuracy, roc_auc"
   ]
  },
  {
   "cell_type": "code",
   "execution_count": 17,
   "metadata": {},
   "outputs": [],
   "source": [
    "# # Step 8: Train and Evaluate the Model Without SMOTE\n",
    "# train_eval_test(\n",
    "#     X_train_tensor, Y_train_tensor,\n",
    "#     X_val_tensor, Y_val_tensor,\n",
    "#     X_test_tensor, Y_test_tensor,\n",
    "#     description=\"Without SMOTE\"\n",
    "# )\n",
    "\n",
    "# # Step 9: Train and Evaluate the Model With SMOTE\n",
    "# train_eval_test(\n",
    "#     X_train_smote_tensor, Y_train_smote_tensor,\n",
    "#     X_val_tensor, Y_val_tensor,\n",
    "#     X_test_tensor, Y_test_tensor,\n",
    "#     description=\"With SMOTE\"\n",
    "# )"
   ]
  },
  {
   "cell_type": "code",
   "execution_count": 22,
   "metadata": {},
   "outputs": [],
   "source": [
    "# Train, evaluate, and test across learning rates\n",
    "def train_eval_find_best_lr_test(modelX, X_train_tensor, Y_train_tensor, X_val_tensor, Y_val_tensor, X_test_tensor, Y_test_tensor, lrs, description=\"\"):\n",
    "    best_valid_mse = np.inf\n",
    "    best_weights = None\n",
    "    best_train_history = None\n",
    "    best_valid_history = None\n",
    "    best_lr = None\n",
    "\n",
    "    for lr in lrs:\n",
    "        print(f\"\\n=== Running with Learning Rate: {lr} ===\")\n",
    "        model = modelX\n",
    "        criterion = nn.BCELoss()\n",
    "        optimizer = optim.Adam(model.parameters(), lr=lr)\n",
    "\n",
    "        # Train the model\n",
    "        weights, train_history, valid_history, valid_loss = train_model(\n",
    "            model, X_train_tensor, Y_train_tensor,\n",
    "            X_val_tensor, Y_val_tensor,\n",
    "            n_epochs=50, batch_size=64,\n",
    "            optimizer=optimizer, loss_fn=criterion\n",
    "        )\n",
    "\n",
    "        if valid_loss < best_valid_mse:\n",
    "            best_valid_mse = valid_loss\n",
    "            best_weights = weights\n",
    "            best_train_history = train_history\n",
    "            best_valid_history = valid_history\n",
    "            best_lr = lr\n",
    "\n",
    "    print(f\"\\n=== Best Learning Rate: {best_lr} ===\")\n",
    "    print(f\"Best Validation Loss: {best_valid_mse:.4f}\")\n",
    "\n",
    "    # Load the best model\n",
    "    model = modelX\n",
    "    model.load_state_dict(best_weights)\n",
    "\n",
    "    # Find the best threshold\n",
    "    best_threshold = find_best_threshold(model, X_val_tensor, Y_val_tensor)\n",
    "    # best_threshold = 0.5\n",
    "    # Test the best model\n",
    "    test_loss, test_accuracy, roc_auc = test_model(\n",
    "        model, X_test_tensor, Y_test_tensor, criterion, best_threshold, description=f\"Best LR: {best_lr}\"\n",
    "    )\n",
    "\n",
    "    return best_lr, test_loss, test_accuracy, roc_auc, model"
   ]
  },
  {
   "cell_type": "code",
   "execution_count": 20,
   "metadata": {},
   "outputs": [
    {
     "name": "stdout",
     "output_type": "stream",
     "text": [
      "\n",
      "=== Running with Learning Rate: 0.01 ===\n"
     ]
    },
    {
     "name": "stderr",
     "output_type": "stream",
     "text": [
      "Epoch 0: 100%|██████████| 666/666 [00:00<00:00, 837.12batch/s, loss=0.39]  \n"
     ]
    },
    {
     "name": "stdout",
     "output_type": "stream",
     "text": [
      "Epoch 1/50: Train Loss = 0.2380, Val Loss = 0.2201, Val Accuracy = 0.9214\n"
     ]
    },
    {
     "name": "stderr",
     "output_type": "stream",
     "text": [
      "Epoch 1: 100%|██████████| 666/666 [00:00<00:00, 823.48batch/s, loss=0.398] \n"
     ]
    },
    {
     "name": "stdout",
     "output_type": "stream",
     "text": [
      "Epoch 2/50: Train Loss = 0.2305, Val Loss = 0.2173, Val Accuracy = 0.9259\n"
     ]
    },
    {
     "name": "stderr",
     "output_type": "stream",
     "text": [
      "Epoch 2: 100%|██████████| 666/666 [00:00<00:00, 813.57batch/s, loss=0.382] \n"
     ]
    },
    {
     "name": "stdout",
     "output_type": "stream",
     "text": [
      "Epoch 3/50: Train Loss = 0.2277, Val Loss = 0.2107, Val Accuracy = 0.9277\n"
     ]
    },
    {
     "name": "stderr",
     "output_type": "stream",
     "text": [
      "Epoch 3: 100%|██████████| 666/666 [00:00<00:00, 848.25batch/s, loss=0.354] \n"
     ]
    },
    {
     "name": "stdout",
     "output_type": "stream",
     "text": [
      "Epoch 4/50: Train Loss = 0.2277, Val Loss = 0.2159, Val Accuracy = 0.9251\n"
     ]
    },
    {
     "name": "stderr",
     "output_type": "stream",
     "text": [
      "Epoch 4: 100%|██████████| 666/666 [00:00<00:00, 821.56batch/s, loss=0.416] \n"
     ]
    },
    {
     "name": "stdout",
     "output_type": "stream",
     "text": [
      "Epoch 5/50: Train Loss = 0.2274, Val Loss = 0.2165, Val Accuracy = 0.9253\n"
     ]
    },
    {
     "name": "stderr",
     "output_type": "stream",
     "text": [
      "Epoch 5: 100%|██████████| 666/666 [00:00<00:00, 836.84batch/s, loss=0.418] \n"
     ]
    },
    {
     "name": "stdout",
     "output_type": "stream",
     "text": [
      "Epoch 6/50: Train Loss = 0.2264, Val Loss = 0.2199, Val Accuracy = 0.9259\n"
     ]
    },
    {
     "name": "stderr",
     "output_type": "stream",
     "text": [
      "Epoch 6: 100%|██████████| 666/666 [00:00<00:00, 873.65batch/s, loss=0.385] \n"
     ]
    },
    {
     "name": "stdout",
     "output_type": "stream",
     "text": [
      "Epoch 7/50: Train Loss = 0.2247, Val Loss = 0.2119, Val Accuracy = 0.9259\n"
     ]
    },
    {
     "name": "stderr",
     "output_type": "stream",
     "text": [
      "Epoch 7: 100%|██████████| 666/666 [00:00<00:00, 836.21batch/s, loss=0.382] \n"
     ]
    },
    {
     "name": "stdout",
     "output_type": "stream",
     "text": [
      "Epoch 8/50: Train Loss = 0.2225, Val Loss = 0.2175, Val Accuracy = 0.9270\n"
     ]
    },
    {
     "name": "stderr",
     "output_type": "stream",
     "text": [
      "Epoch 8: 100%|██████████| 666/666 [00:00<00:00, 831.34batch/s, loss=0.367] \n"
     ]
    },
    {
     "name": "stdout",
     "output_type": "stream",
     "text": [
      "Epoch 9/50: Train Loss = 0.2226, Val Loss = 0.2145, Val Accuracy = 0.9266\n"
     ]
    },
    {
     "name": "stderr",
     "output_type": "stream",
     "text": [
      "Epoch 9: 100%|██████████| 666/666 [00:00<00:00, 842.78batch/s, loss=0.354] \n"
     ]
    },
    {
     "name": "stdout",
     "output_type": "stream",
     "text": [
      "Epoch 10/50: Train Loss = 0.2223, Val Loss = 0.2139, Val Accuracy = 0.9271\n"
     ]
    },
    {
     "name": "stderr",
     "output_type": "stream",
     "text": [
      "Epoch 10: 100%|██████████| 666/666 [00:00<00:00, 849.02batch/s, loss=0.446] \n"
     ]
    },
    {
     "name": "stdout",
     "output_type": "stream",
     "text": [
      "Epoch 11/50: Train Loss = 0.2206, Val Loss = 0.2112, Val Accuracy = 0.9294\n"
     ]
    },
    {
     "name": "stderr",
     "output_type": "stream",
     "text": [
      "Epoch 11: 100%|██████████| 666/666 [00:00<00:00, 823.73batch/s, loss=0.428] \n"
     ]
    },
    {
     "name": "stdout",
     "output_type": "stream",
     "text": [
      "Epoch 12/50: Train Loss = 0.2205, Val Loss = 0.2118, Val Accuracy = 0.9278\n"
     ]
    },
    {
     "name": "stderr",
     "output_type": "stream",
     "text": [
      "Epoch 12: 100%|██████████| 666/666 [00:00<00:00, 819.80batch/s, loss=0.433] \n"
     ]
    },
    {
     "name": "stdout",
     "output_type": "stream",
     "text": [
      "Epoch 13/50: Train Loss = 0.2183, Val Loss = 0.2132, Val Accuracy = 0.9273\n"
     ]
    },
    {
     "name": "stderr",
     "output_type": "stream",
     "text": [
      "Epoch 13: 100%|██████████| 666/666 [00:00<00:00, 851.26batch/s, loss=0.372] \n"
     ]
    },
    {
     "name": "stdout",
     "output_type": "stream",
     "text": [
      "Epoch 14/50: Train Loss = 0.2205, Val Loss = 0.2112, Val Accuracy = 0.9279\n"
     ]
    },
    {
     "name": "stderr",
     "output_type": "stream",
     "text": [
      "Epoch 14: 100%|██████████| 666/666 [00:00<00:00, 772.48batch/s, loss=0.364] \n"
     ]
    },
    {
     "name": "stdout",
     "output_type": "stream",
     "text": [
      "Epoch 15/50: Train Loss = 0.2181, Val Loss = 0.2146, Val Accuracy = 0.9270\n"
     ]
    },
    {
     "name": "stderr",
     "output_type": "stream",
     "text": [
      "Epoch 15: 100%|██████████| 666/666 [00:00<00:00, 832.96batch/s, loss=0.375] \n"
     ]
    },
    {
     "name": "stdout",
     "output_type": "stream",
     "text": [
      "Epoch 16/50: Train Loss = 0.2170, Val Loss = 0.2137, Val Accuracy = 0.9279\n"
     ]
    },
    {
     "name": "stderr",
     "output_type": "stream",
     "text": [
      "Epoch 16: 100%|██████████| 666/666 [00:00<00:00, 875.45batch/s, loss=0.386] \n"
     ]
    },
    {
     "name": "stdout",
     "output_type": "stream",
     "text": [
      "Epoch 17/50: Train Loss = 0.2165, Val Loss = 0.2138, Val Accuracy = 0.9274\n"
     ]
    },
    {
     "name": "stderr",
     "output_type": "stream",
     "text": [
      "Epoch 17: 100%|██████████| 666/666 [00:00<00:00, 850.60batch/s, loss=0.323] \n"
     ]
    },
    {
     "name": "stdout",
     "output_type": "stream",
     "text": [
      "Epoch 18/50: Train Loss = 0.2187, Val Loss = 0.2156, Val Accuracy = 0.9285\n"
     ]
    },
    {
     "name": "stderr",
     "output_type": "stream",
     "text": [
      "Epoch 18: 100%|██████████| 666/666 [00:00<00:00, 835.51batch/s, loss=0.366] \n"
     ]
    },
    {
     "name": "stdout",
     "output_type": "stream",
     "text": [
      "Epoch 19/50: Train Loss = 0.2152, Val Loss = 0.2206, Val Accuracy = 0.9298\n"
     ]
    },
    {
     "name": "stderr",
     "output_type": "stream",
     "text": [
      "Epoch 19: 100%|██████████| 666/666 [00:00<00:00, 855.82batch/s, loss=0.357] \n"
     ]
    },
    {
     "name": "stdout",
     "output_type": "stream",
     "text": [
      "Epoch 20/50: Train Loss = 0.2144, Val Loss = 0.2177, Val Accuracy = 0.9287\n"
     ]
    },
    {
     "name": "stderr",
     "output_type": "stream",
     "text": [
      "Epoch 20: 100%|██████████| 666/666 [00:00<00:00, 844.51batch/s, loss=0.36]  \n"
     ]
    },
    {
     "name": "stdout",
     "output_type": "stream",
     "text": [
      "Epoch 21/50: Train Loss = 0.2159, Val Loss = 0.2256, Val Accuracy = 0.9285\n"
     ]
    },
    {
     "name": "stderr",
     "output_type": "stream",
     "text": [
      "Epoch 21: 100%|██████████| 666/666 [00:00<00:00, 801.10batch/s, loss=0.349] \n"
     ]
    },
    {
     "name": "stdout",
     "output_type": "stream",
     "text": [
      "Epoch 22/50: Train Loss = 0.2145, Val Loss = 0.2194, Val Accuracy = 0.9275\n"
     ]
    },
    {
     "name": "stderr",
     "output_type": "stream",
     "text": [
      "Epoch 22: 100%|██████████| 666/666 [00:00<00:00, 685.69batch/s, loss=0.335] \n"
     ]
    },
    {
     "name": "stdout",
     "output_type": "stream",
     "text": [
      "Epoch 23/50: Train Loss = 0.2135, Val Loss = 0.2164, Val Accuracy = 0.9262\n"
     ]
    },
    {
     "name": "stderr",
     "output_type": "stream",
     "text": [
      "Epoch 23: 100%|██████████| 666/666 [00:00<00:00, 769.40batch/s, loss=0.378] \n"
     ]
    },
    {
     "name": "stdout",
     "output_type": "stream",
     "text": [
      "Epoch 24/50: Train Loss = 0.2145, Val Loss = 0.2451, Val Accuracy = 0.9247\n"
     ]
    },
    {
     "name": "stderr",
     "output_type": "stream",
     "text": [
      "Epoch 24: 100%|██████████| 666/666 [00:00<00:00, 852.02batch/s, loss=0.797] \n"
     ]
    },
    {
     "name": "stdout",
     "output_type": "stream",
     "text": [
      "Epoch 25/50: Train Loss = 0.2164, Val Loss = 0.3676, Val Accuracy = 0.9277\n"
     ]
    },
    {
     "name": "stderr",
     "output_type": "stream",
     "text": [
      "Epoch 25: 100%|██████████| 666/666 [00:00<00:00, 846.99batch/s, loss=0.235] \n"
     ]
    },
    {
     "name": "stdout",
     "output_type": "stream",
     "text": [
      "Epoch 26/50: Train Loss = 0.2127, Val Loss = 0.2353, Val Accuracy = 0.9266\n"
     ]
    },
    {
     "name": "stderr",
     "output_type": "stream",
     "text": [
      "Epoch 26: 100%|██████████| 666/666 [00:00<00:00, 847.29batch/s, loss=0.324] \n"
     ]
    },
    {
     "name": "stdout",
     "output_type": "stream",
     "text": [
      "Epoch 27/50: Train Loss = 0.2224, Val Loss = 0.2218, Val Accuracy = 0.9278\n"
     ]
    },
    {
     "name": "stderr",
     "output_type": "stream",
     "text": [
      "Epoch 27: 100%|██████████| 666/666 [00:00<00:00, 879.04batch/s, loss=0.276] \n"
     ]
    },
    {
     "name": "stdout",
     "output_type": "stream",
     "text": [
      "Epoch 28/50: Train Loss = 0.2124, Val Loss = 0.2138, Val Accuracy = 0.9279\n"
     ]
    },
    {
     "name": "stderr",
     "output_type": "stream",
     "text": [
      "Epoch 28: 100%|██████████| 666/666 [00:00<00:00, 839.96batch/s, loss=0.31]  \n"
     ]
    },
    {
     "name": "stdout",
     "output_type": "stream",
     "text": [
      "Epoch 29/50: Train Loss = 0.2133, Val Loss = 0.2339, Val Accuracy = 0.9287\n"
     ]
    },
    {
     "name": "stderr",
     "output_type": "stream",
     "text": [
      "Epoch 29: 100%|██████████| 666/666 [00:00<00:00, 844.81batch/s, loss=0.273] \n"
     ]
    },
    {
     "name": "stdout",
     "output_type": "stream",
     "text": [
      "Epoch 30/50: Train Loss = 0.2145, Val Loss = 0.2192, Val Accuracy = 0.9285\n"
     ]
    },
    {
     "name": "stderr",
     "output_type": "stream",
     "text": [
      "Epoch 30: 100%|██████████| 666/666 [00:00<00:00, 866.25batch/s, loss=0.259] \n"
     ]
    },
    {
     "name": "stdout",
     "output_type": "stream",
     "text": [
      "Epoch 31/50: Train Loss = 0.2134, Val Loss = 0.2388, Val Accuracy = 0.9249\n"
     ]
    },
    {
     "name": "stderr",
     "output_type": "stream",
     "text": [
      "Epoch 31: 100%|██████████| 666/666 [00:00<00:00, 837.50batch/s, loss=0.347] \n"
     ]
    },
    {
     "name": "stdout",
     "output_type": "stream",
     "text": [
      "Epoch 32/50: Train Loss = 0.2077, Val Loss = 0.2291, Val Accuracy = 0.9259\n"
     ]
    },
    {
     "name": "stderr",
     "output_type": "stream",
     "text": [
      "Epoch 32: 100%|██████████| 666/666 [00:00<00:00, 845.69batch/s, loss=0.455] \n"
     ]
    },
    {
     "name": "stdout",
     "output_type": "stream",
     "text": [
      "Epoch 33/50: Train Loss = 0.2095, Val Loss = 0.2351, Val Accuracy = 0.9263\n"
     ]
    },
    {
     "name": "stderr",
     "output_type": "stream",
     "text": [
      "Epoch 33: 100%|██████████| 666/666 [00:00<00:00, 874.01batch/s, loss=0.285] \n"
     ]
    },
    {
     "name": "stdout",
     "output_type": "stream",
     "text": [
      "Epoch 34/50: Train Loss = 0.2137, Val Loss = 0.2232, Val Accuracy = 0.9258\n"
     ]
    },
    {
     "name": "stderr",
     "output_type": "stream",
     "text": [
      "Epoch 34: 100%|██████████| 666/666 [00:00<00:00, 827.81batch/s, loss=0.288] \n"
     ]
    },
    {
     "name": "stdout",
     "output_type": "stream",
     "text": [
      "Epoch 35/50: Train Loss = 0.2069, Val Loss = 0.2283, Val Accuracy = 0.9255\n"
     ]
    },
    {
     "name": "stderr",
     "output_type": "stream",
     "text": [
      "Epoch 35: 100%|██████████| 666/666 [00:00<00:00, 819.78batch/s, loss=0.296] \n"
     ]
    },
    {
     "name": "stdout",
     "output_type": "stream",
     "text": [
      "Epoch 36/50: Train Loss = 0.2159, Val Loss = 0.2339, Val Accuracy = 0.9263\n"
     ]
    },
    {
     "name": "stderr",
     "output_type": "stream",
     "text": [
      "Epoch 36: 100%|██████████| 666/666 [00:00<00:00, 846.24batch/s, loss=0.344] \n"
     ]
    },
    {
     "name": "stdout",
     "output_type": "stream",
     "text": [
      "Epoch 37/50: Train Loss = 0.2062, Val Loss = 0.2195, Val Accuracy = 0.9298\n"
     ]
    },
    {
     "name": "stderr",
     "output_type": "stream",
     "text": [
      "Epoch 37: 100%|██████████| 666/666 [00:00<00:00, 851.08batch/s, loss=0.284] \n"
     ]
    },
    {
     "name": "stdout",
     "output_type": "stream",
     "text": [
      "Epoch 38/50: Train Loss = 0.2079, Val Loss = 0.2365, Val Accuracy = 0.9266\n"
     ]
    },
    {
     "name": "stderr",
     "output_type": "stream",
     "text": [
      "Epoch 38: 100%|██████████| 666/666 [00:00<00:00, 879.08batch/s, loss=0.278] \n"
     ]
    },
    {
     "name": "stdout",
     "output_type": "stream",
     "text": [
      "Epoch 39/50: Train Loss = 0.2066, Val Loss = 0.2279, Val Accuracy = 0.9266\n"
     ]
    },
    {
     "name": "stderr",
     "output_type": "stream",
     "text": [
      "Epoch 39: 100%|██████████| 666/666 [00:00<00:00, 838.26batch/s, loss=0.336] \n"
     ]
    },
    {
     "name": "stdout",
     "output_type": "stream",
     "text": [
      "Epoch 40/50: Train Loss = 0.2054, Val Loss = 0.2488, Val Accuracy = 0.9253\n"
     ]
    },
    {
     "name": "stderr",
     "output_type": "stream",
     "text": [
      "Epoch 40: 100%|██████████| 666/666 [00:00<00:00, 851.10batch/s, loss=0.323] \n"
     ]
    },
    {
     "name": "stdout",
     "output_type": "stream",
     "text": [
      "Epoch 41/50: Train Loss = 0.2088, Val Loss = 0.2330, Val Accuracy = 0.9250\n"
     ]
    },
    {
     "name": "stderr",
     "output_type": "stream",
     "text": [
      "Epoch 41: 100%|██████████| 666/666 [00:00<00:00, 865.63batch/s, loss=0.364] \n"
     ]
    },
    {
     "name": "stdout",
     "output_type": "stream",
     "text": [
      "Epoch 42/50: Train Loss = 0.2071, Val Loss = 0.2219, Val Accuracy = 0.9281\n"
     ]
    },
    {
     "name": "stderr",
     "output_type": "stream",
     "text": [
      "Epoch 42: 100%|██████████| 666/666 [00:00<00:00, 838.41batch/s, loss=0.328] \n"
     ]
    },
    {
     "name": "stdout",
     "output_type": "stream",
     "text": [
      "Epoch 43/50: Train Loss = 0.2090, Val Loss = 0.2294, Val Accuracy = 0.9275\n"
     ]
    },
    {
     "name": "stderr",
     "output_type": "stream",
     "text": [
      "Epoch 43: 100%|██████████| 666/666 [00:00<00:00, 838.39batch/s, loss=0.414] \n"
     ]
    },
    {
     "name": "stdout",
     "output_type": "stream",
     "text": [
      "Epoch 44/50: Train Loss = 0.2038, Val Loss = 0.2423, Val Accuracy = 0.9267\n"
     ]
    },
    {
     "name": "stderr",
     "output_type": "stream",
     "text": [
      "Epoch 44: 100%|██████████| 666/666 [00:00<00:00, 852.92batch/s, loss=0.326] \n"
     ]
    },
    {
     "name": "stdout",
     "output_type": "stream",
     "text": [
      "Epoch 45/50: Train Loss = 0.2081, Val Loss = 0.2278, Val Accuracy = 0.9277\n"
     ]
    },
    {
     "name": "stderr",
     "output_type": "stream",
     "text": [
      "Epoch 45: 100%|██████████| 666/666 [00:00<00:00, 836.92batch/s, loss=0.387] \n"
     ]
    },
    {
     "name": "stdout",
     "output_type": "stream",
     "text": [
      "Epoch 46/50: Train Loss = 0.2080, Val Loss = 0.2237, Val Accuracy = 0.9278\n"
     ]
    },
    {
     "name": "stderr",
     "output_type": "stream",
     "text": [
      "Epoch 46: 100%|██████████| 666/666 [00:00<00:00, 837.35batch/s, loss=0.368] \n"
     ]
    },
    {
     "name": "stdout",
     "output_type": "stream",
     "text": [
      "Epoch 47/50: Train Loss = 0.2030, Val Loss = 0.2338, Val Accuracy = 0.9262\n"
     ]
    },
    {
     "name": "stderr",
     "output_type": "stream",
     "text": [
      "Epoch 47: 100%|██████████| 666/666 [00:00<00:00, 794.50batch/s, loss=0.324] \n"
     ]
    },
    {
     "name": "stdout",
     "output_type": "stream",
     "text": [
      "Epoch 48/50: Train Loss = 0.2089, Val Loss = 0.2250, Val Accuracy = 0.9283\n"
     ]
    },
    {
     "name": "stderr",
     "output_type": "stream",
     "text": [
      "Epoch 48: 100%|██████████| 666/666 [00:00<00:00, 825.33batch/s, loss=0.272] \n"
     ]
    },
    {
     "name": "stdout",
     "output_type": "stream",
     "text": [
      "Epoch 49/50: Train Loss = 0.2090, Val Loss = 0.2291, Val Accuracy = 0.9270\n"
     ]
    },
    {
     "name": "stderr",
     "output_type": "stream",
     "text": [
      "Epoch 49: 100%|██████████| 666/666 [00:00<00:00, 798.33batch/s, loss=0.304] \n"
     ]
    },
    {
     "name": "stdout",
     "output_type": "stream",
     "text": [
      "Epoch 50/50: Train Loss = 0.2043, Val Loss = 0.2280, Val Accuracy = 0.9261\n",
      "Best Validation Loss: 0.2107\n",
      "\n",
      "=== Running with Learning Rate: 0.001 ===\n"
     ]
    },
    {
     "name": "stderr",
     "output_type": "stream",
     "text": [
      "Epoch 0: 100%|██████████| 666/666 [00:00<00:00, 739.21batch/s, loss=0.257] \n"
     ]
    },
    {
     "name": "stdout",
     "output_type": "stream",
     "text": [
      "Epoch 1/50: Train Loss = 0.1892, Val Loss = 0.2270, Val Accuracy = 0.9254\n"
     ]
    },
    {
     "name": "stderr",
     "output_type": "stream",
     "text": [
      "Epoch 1: 100%|██████████| 666/666 [00:00<00:00, 884.76batch/s, loss=0.223] \n"
     ]
    },
    {
     "name": "stdout",
     "output_type": "stream",
     "text": [
      "Epoch 2/50: Train Loss = 0.1896, Val Loss = 0.2211, Val Accuracy = 0.9266\n"
     ]
    },
    {
     "name": "stderr",
     "output_type": "stream",
     "text": [
      "Epoch 2: 100%|██████████| 666/666 [00:00<00:00, 849.22batch/s, loss=0.354] \n"
     ]
    },
    {
     "name": "stdout",
     "output_type": "stream",
     "text": [
      "Epoch 3/50: Train Loss = 0.1861, Val Loss = 0.2161, Val Accuracy = 0.9273\n"
     ]
    },
    {
     "name": "stderr",
     "output_type": "stream",
     "text": [
      "Epoch 3: 100%|██████████| 666/666 [00:00<00:00, 864.12batch/s, loss=0.279] \n"
     ]
    },
    {
     "name": "stdout",
     "output_type": "stream",
     "text": [
      "Epoch 4/50: Train Loss = 0.1842, Val Loss = 0.2233, Val Accuracy = 0.9274\n"
     ]
    },
    {
     "name": "stderr",
     "output_type": "stream",
     "text": [
      "Epoch 4: 100%|██████████| 666/666 [00:00<00:00, 827.83batch/s, loss=0.277] \n"
     ]
    },
    {
     "name": "stdout",
     "output_type": "stream",
     "text": [
      "Epoch 5/50: Train Loss = 0.1807, Val Loss = 0.2281, Val Accuracy = 0.9270\n"
     ]
    },
    {
     "name": "stderr",
     "output_type": "stream",
     "text": [
      "Epoch 5: 100%|██████████| 666/666 [00:00<00:00, 831.10batch/s, loss=0.32]  \n"
     ]
    },
    {
     "name": "stdout",
     "output_type": "stream",
     "text": [
      "Epoch 6/50: Train Loss = 0.1796, Val Loss = 0.2301, Val Accuracy = 0.9269\n"
     ]
    },
    {
     "name": "stderr",
     "output_type": "stream",
     "text": [
      "Epoch 6: 100%|██████████| 666/666 [00:00<00:00, 872.65batch/s, loss=0.342] \n"
     ]
    },
    {
     "name": "stdout",
     "output_type": "stream",
     "text": [
      "Epoch 7/50: Train Loss = 0.1783, Val Loss = 0.2324, Val Accuracy = 0.9267\n"
     ]
    },
    {
     "name": "stderr",
     "output_type": "stream",
     "text": [
      "Epoch 7: 100%|██████████| 666/666 [00:00<00:00, 879.19batch/s, loss=0.254] \n"
     ]
    },
    {
     "name": "stdout",
     "output_type": "stream",
     "text": [
      "Epoch 8/50: Train Loss = 0.1785, Val Loss = 0.2264, Val Accuracy = 0.9270\n"
     ]
    },
    {
     "name": "stderr",
     "output_type": "stream",
     "text": [
      "Epoch 8: 100%|██████████| 666/666 [00:00<00:00, 814.08batch/s, loss=0.31]  \n"
     ]
    },
    {
     "name": "stdout",
     "output_type": "stream",
     "text": [
      "Epoch 9/50: Train Loss = 0.1785, Val Loss = 0.2248, Val Accuracy = 0.9270\n"
     ]
    },
    {
     "name": "stderr",
     "output_type": "stream",
     "text": [
      "Epoch 9: 100%|██████████| 666/666 [00:00<00:00, 770.50batch/s, loss=0.34]  \n"
     ]
    },
    {
     "name": "stdout",
     "output_type": "stream",
     "text": [
      "Epoch 10/50: Train Loss = 0.1778, Val Loss = 0.2374, Val Accuracy = 0.9269\n"
     ]
    },
    {
     "name": "stderr",
     "output_type": "stream",
     "text": [
      "Epoch 10: 100%|██████████| 666/666 [00:00<00:00, 762.37batch/s, loss=0.35]  \n"
     ]
    },
    {
     "name": "stdout",
     "output_type": "stream",
     "text": [
      "Epoch 11/50: Train Loss = 0.1776, Val Loss = 0.2315, Val Accuracy = 0.9265\n"
     ]
    },
    {
     "name": "stderr",
     "output_type": "stream",
     "text": [
      "Epoch 11: 100%|██████████| 666/666 [00:00<00:00, 794.23batch/s, loss=0.245] \n"
     ]
    },
    {
     "name": "stdout",
     "output_type": "stream",
     "text": [
      "Epoch 12/50: Train Loss = 0.1764, Val Loss = 0.2268, Val Accuracy = 0.9271\n"
     ]
    },
    {
     "name": "stderr",
     "output_type": "stream",
     "text": [
      "Epoch 12: 100%|██████████| 666/666 [00:00<00:00, 813.93batch/s, loss=0.249] \n"
     ]
    },
    {
     "name": "stdout",
     "output_type": "stream",
     "text": [
      "Epoch 13/50: Train Loss = 0.1744, Val Loss = 0.2279, Val Accuracy = 0.9271\n"
     ]
    },
    {
     "name": "stderr",
     "output_type": "stream",
     "text": [
      "Epoch 13: 100%|██████████| 666/666 [00:00<00:00, 807.15batch/s, loss=0.28]  \n"
     ]
    },
    {
     "name": "stdout",
     "output_type": "stream",
     "text": [
      "Epoch 14/50: Train Loss = 0.1743, Val Loss = 0.2341, Val Accuracy = 0.9270\n"
     ]
    },
    {
     "name": "stderr",
     "output_type": "stream",
     "text": [
      "Epoch 14: 100%|██████████| 666/666 [00:00<00:00, 827.26batch/s, loss=0.324] \n"
     ]
    },
    {
     "name": "stdout",
     "output_type": "stream",
     "text": [
      "Epoch 15/50: Train Loss = 0.1756, Val Loss = 0.2291, Val Accuracy = 0.9267\n"
     ]
    },
    {
     "name": "stderr",
     "output_type": "stream",
     "text": [
      "Epoch 15: 100%|██████████| 666/666 [00:00<00:00, 799.68batch/s, loss=0.24]  \n"
     ]
    },
    {
     "name": "stdout",
     "output_type": "stream",
     "text": [
      "Epoch 16/50: Train Loss = 0.1736, Val Loss = 0.2324, Val Accuracy = 0.9273\n"
     ]
    },
    {
     "name": "stderr",
     "output_type": "stream",
     "text": [
      "Epoch 16: 100%|██████████| 666/666 [00:00<00:00, 836.58batch/s, loss=0.213] \n"
     ]
    },
    {
     "name": "stdout",
     "output_type": "stream",
     "text": [
      "Epoch 17/50: Train Loss = 0.1704, Val Loss = 0.2434, Val Accuracy = 0.9269\n"
     ]
    },
    {
     "name": "stderr",
     "output_type": "stream",
     "text": [
      "Epoch 17: 100%|██████████| 666/666 [00:00<00:00, 790.89batch/s, loss=0.252] \n"
     ]
    },
    {
     "name": "stdout",
     "output_type": "stream",
     "text": [
      "Epoch 18/50: Train Loss = 0.1719, Val Loss = 0.2344, Val Accuracy = 0.9274\n"
     ]
    },
    {
     "name": "stderr",
     "output_type": "stream",
     "text": [
      "Epoch 18: 100%|██████████| 666/666 [00:00<00:00, 798.55batch/s, loss=0.271] \n"
     ]
    },
    {
     "name": "stdout",
     "output_type": "stream",
     "text": [
      "Epoch 19/50: Train Loss = 0.1724, Val Loss = 0.2398, Val Accuracy = 0.9270\n"
     ]
    },
    {
     "name": "stderr",
     "output_type": "stream",
     "text": [
      "Epoch 19: 100%|██████████| 666/666 [00:00<00:00, 817.33batch/s, loss=0.295] \n"
     ]
    },
    {
     "name": "stdout",
     "output_type": "stream",
     "text": [
      "Epoch 20/50: Train Loss = 0.1704, Val Loss = 0.2359, Val Accuracy = 0.9279\n"
     ]
    },
    {
     "name": "stderr",
     "output_type": "stream",
     "text": [
      "Epoch 20: 100%|██████████| 666/666 [00:00<00:00, 813.18batch/s, loss=0.22]  \n"
     ]
    },
    {
     "name": "stdout",
     "output_type": "stream",
     "text": [
      "Epoch 21/50: Train Loss = 0.1732, Val Loss = 0.2352, Val Accuracy = 0.9273\n"
     ]
    },
    {
     "name": "stderr",
     "output_type": "stream",
     "text": [
      "Epoch 21: 100%|██████████| 666/666 [00:00<00:00, 788.28batch/s, loss=0.316] \n"
     ]
    },
    {
     "name": "stdout",
     "output_type": "stream",
     "text": [
      "Epoch 22/50: Train Loss = 0.1716, Val Loss = 0.2319, Val Accuracy = 0.9266\n"
     ]
    },
    {
     "name": "stderr",
     "output_type": "stream",
     "text": [
      "Epoch 22: 100%|██████████| 666/666 [00:00<00:00, 852.29batch/s, loss=0.291] \n"
     ]
    },
    {
     "name": "stdout",
     "output_type": "stream",
     "text": [
      "Epoch 23/50: Train Loss = 0.1701, Val Loss = 0.2413, Val Accuracy = 0.9262\n"
     ]
    },
    {
     "name": "stderr",
     "output_type": "stream",
     "text": [
      "Epoch 23: 100%|██████████| 666/666 [00:00<00:00, 799.09batch/s, loss=0.274] \n"
     ]
    },
    {
     "name": "stdout",
     "output_type": "stream",
     "text": [
      "Epoch 24/50: Train Loss = 0.1705, Val Loss = 0.2411, Val Accuracy = 0.9271\n"
     ]
    },
    {
     "name": "stderr",
     "output_type": "stream",
     "text": [
      "Epoch 24: 100%|██████████| 666/666 [00:00<00:00, 794.22batch/s, loss=0.245] \n"
     ]
    },
    {
     "name": "stdout",
     "output_type": "stream",
     "text": [
      "Epoch 25/50: Train Loss = 0.1679, Val Loss = 0.2469, Val Accuracy = 0.9275\n"
     ]
    },
    {
     "name": "stderr",
     "output_type": "stream",
     "text": [
      "Epoch 25: 100%|██████████| 666/666 [00:00<00:00, 816.87batch/s, loss=0.284] \n"
     ]
    },
    {
     "name": "stdout",
     "output_type": "stream",
     "text": [
      "Epoch 26/50: Train Loss = 0.1713, Val Loss = 0.2389, Val Accuracy = 0.9275\n"
     ]
    },
    {
     "name": "stderr",
     "output_type": "stream",
     "text": [
      "Epoch 26: 100%|██████████| 666/666 [00:00<00:00, 775.00batch/s, loss=0.266] \n"
     ]
    },
    {
     "name": "stdout",
     "output_type": "stream",
     "text": [
      "Epoch 27/50: Train Loss = 0.1688, Val Loss = 0.2334, Val Accuracy = 0.9263\n"
     ]
    },
    {
     "name": "stderr",
     "output_type": "stream",
     "text": [
      "Epoch 27: 100%|██████████| 666/666 [00:00<00:00, 793.79batch/s, loss=0.342] \n"
     ]
    },
    {
     "name": "stdout",
     "output_type": "stream",
     "text": [
      "Epoch 28/50: Train Loss = 0.1683, Val Loss = 0.2348, Val Accuracy = 0.9265\n"
     ]
    },
    {
     "name": "stderr",
     "output_type": "stream",
     "text": [
      "Epoch 28: 100%|██████████| 666/666 [00:00<00:00, 802.47batch/s, loss=0.277] \n"
     ]
    },
    {
     "name": "stdout",
     "output_type": "stream",
     "text": [
      "Epoch 29/50: Train Loss = 0.1664, Val Loss = 0.2384, Val Accuracy = 0.9271\n"
     ]
    },
    {
     "name": "stderr",
     "output_type": "stream",
     "text": [
      "Epoch 29: 100%|██████████| 666/666 [00:00<00:00, 795.50batch/s, loss=0.239] \n"
     ]
    },
    {
     "name": "stdout",
     "output_type": "stream",
     "text": [
      "Epoch 30/50: Train Loss = 0.1680, Val Loss = 0.2372, Val Accuracy = 0.9273\n"
     ]
    },
    {
     "name": "stderr",
     "output_type": "stream",
     "text": [
      "Epoch 30: 100%|██████████| 666/666 [00:00<00:00, 788.23batch/s, loss=0.244] \n"
     ]
    },
    {
     "name": "stdout",
     "output_type": "stream",
     "text": [
      "Epoch 31/50: Train Loss = 0.1640, Val Loss = 0.2488, Val Accuracy = 0.9271\n"
     ]
    },
    {
     "name": "stderr",
     "output_type": "stream",
     "text": [
      "Epoch 31: 100%|██████████| 666/666 [00:00<00:00, 774.78batch/s, loss=0.285] \n"
     ]
    },
    {
     "name": "stdout",
     "output_type": "stream",
     "text": [
      "Epoch 32/50: Train Loss = 0.1673, Val Loss = 0.2450, Val Accuracy = 0.9273\n"
     ]
    },
    {
     "name": "stderr",
     "output_type": "stream",
     "text": [
      "Epoch 32: 100%|██████████| 666/666 [00:00<00:00, 723.34batch/s, loss=0.3]   \n"
     ]
    },
    {
     "name": "stdout",
     "output_type": "stream",
     "text": [
      "Epoch 33/50: Train Loss = 0.1659, Val Loss = 0.2468, Val Accuracy = 0.9271\n"
     ]
    },
    {
     "name": "stderr",
     "output_type": "stream",
     "text": [
      "Epoch 33: 100%|██████████| 666/666 [00:00<00:00, 807.50batch/s, loss=0.243] \n"
     ]
    },
    {
     "name": "stdout",
     "output_type": "stream",
     "text": [
      "Epoch 34/50: Train Loss = 0.1660, Val Loss = 0.2415, Val Accuracy = 0.9271\n"
     ]
    },
    {
     "name": "stderr",
     "output_type": "stream",
     "text": [
      "Epoch 34: 100%|██████████| 666/666 [00:00<00:00, 785.12batch/s, loss=0.358] \n"
     ]
    },
    {
     "name": "stdout",
     "output_type": "stream",
     "text": [
      "Epoch 35/50: Train Loss = 0.1675, Val Loss = 0.2424, Val Accuracy = 0.9281\n"
     ]
    },
    {
     "name": "stderr",
     "output_type": "stream",
     "text": [
      "Epoch 35: 100%|██████████| 666/666 [00:00<00:00, 813.21batch/s, loss=0.249] \n"
     ]
    },
    {
     "name": "stdout",
     "output_type": "stream",
     "text": [
      "Epoch 36/50: Train Loss = 0.1660, Val Loss = 0.2443, Val Accuracy = 0.9271\n"
     ]
    },
    {
     "name": "stderr",
     "output_type": "stream",
     "text": [
      "Epoch 36: 100%|██████████| 666/666 [00:00<00:00, 798.66batch/s, loss=0.29]  \n"
     ]
    },
    {
     "name": "stdout",
     "output_type": "stream",
     "text": [
      "Epoch 37/50: Train Loss = 0.1654, Val Loss = 0.2403, Val Accuracy = 0.9269\n"
     ]
    },
    {
     "name": "stderr",
     "output_type": "stream",
     "text": [
      "Epoch 37: 100%|██████████| 666/666 [00:00<00:00, 819.80batch/s, loss=0.252] \n"
     ]
    },
    {
     "name": "stdout",
     "output_type": "stream",
     "text": [
      "Epoch 38/50: Train Loss = 0.1650, Val Loss = 0.2393, Val Accuracy = 0.9270\n"
     ]
    },
    {
     "name": "stderr",
     "output_type": "stream",
     "text": [
      "Epoch 38: 100%|██████████| 666/666 [00:00<00:00, 812.05batch/s, loss=0.229] \n"
     ]
    },
    {
     "name": "stdout",
     "output_type": "stream",
     "text": [
      "Epoch 39/50: Train Loss = 0.1642, Val Loss = 0.2550, Val Accuracy = 0.9275\n"
     ]
    },
    {
     "name": "stderr",
     "output_type": "stream",
     "text": [
      "Epoch 39: 100%|██████████| 666/666 [00:00<00:00, 819.32batch/s, loss=0.306] \n"
     ]
    },
    {
     "name": "stdout",
     "output_type": "stream",
     "text": [
      "Epoch 40/50: Train Loss = 0.1642, Val Loss = 0.2539, Val Accuracy = 0.9275\n"
     ]
    },
    {
     "name": "stderr",
     "output_type": "stream",
     "text": [
      "Epoch 40: 100%|██████████| 666/666 [00:00<00:00, 826.40batch/s, loss=0.209] \n"
     ]
    },
    {
     "name": "stdout",
     "output_type": "stream",
     "text": [
      "Epoch 41/50: Train Loss = 0.1641, Val Loss = 0.2484, Val Accuracy = 0.9273\n"
     ]
    },
    {
     "name": "stderr",
     "output_type": "stream",
     "text": [
      "Epoch 41: 100%|██████████| 666/666 [00:00<00:00, 844.77batch/s, loss=0.322] \n"
     ]
    },
    {
     "name": "stdout",
     "output_type": "stream",
     "text": [
      "Epoch 42/50: Train Loss = 0.1618, Val Loss = 0.2469, Val Accuracy = 0.9262\n"
     ]
    },
    {
     "name": "stderr",
     "output_type": "stream",
     "text": [
      "Epoch 42: 100%|██████████| 666/666 [00:00<00:00, 826.14batch/s, loss=0.342] \n"
     ]
    },
    {
     "name": "stdout",
     "output_type": "stream",
     "text": [
      "Epoch 43/50: Train Loss = 0.1633, Val Loss = 0.2489, Val Accuracy = 0.9270\n"
     ]
    },
    {
     "name": "stderr",
     "output_type": "stream",
     "text": [
      "Epoch 43: 100%|██████████| 666/666 [00:00<00:00, 707.09batch/s, loss=0.199] \n"
     ]
    },
    {
     "name": "stdout",
     "output_type": "stream",
     "text": [
      "Epoch 44/50: Train Loss = 0.1608, Val Loss = 0.2491, Val Accuracy = 0.9274\n"
     ]
    },
    {
     "name": "stderr",
     "output_type": "stream",
     "text": [
      "Epoch 44: 100%|██████████| 666/666 [00:00<00:00, 845.52batch/s, loss=0.24]  \n"
     ]
    },
    {
     "name": "stdout",
     "output_type": "stream",
     "text": [
      "Epoch 45/50: Train Loss = 0.1653, Val Loss = 0.2455, Val Accuracy = 0.9269\n"
     ]
    },
    {
     "name": "stderr",
     "output_type": "stream",
     "text": [
      "Epoch 45: 100%|██████████| 666/666 [00:01<00:00, 629.51batch/s, loss=0.192] \n"
     ]
    },
    {
     "name": "stdout",
     "output_type": "stream",
     "text": [
      "Epoch 46/50: Train Loss = 0.1630, Val Loss = 0.2418, Val Accuracy = 0.9271\n"
     ]
    },
    {
     "name": "stderr",
     "output_type": "stream",
     "text": [
      "Epoch 46: 100%|██████████| 666/666 [00:00<00:00, 796.76batch/s, loss=0.232] \n"
     ]
    },
    {
     "name": "stdout",
     "output_type": "stream",
     "text": [
      "Epoch 47/50: Train Loss = 0.1627, Val Loss = 0.2466, Val Accuracy = 0.9270\n"
     ]
    },
    {
     "name": "stderr",
     "output_type": "stream",
     "text": [
      "Epoch 47: 100%|██████████| 666/666 [00:00<00:00, 688.59batch/s, loss=0.334] \n"
     ]
    },
    {
     "name": "stdout",
     "output_type": "stream",
     "text": [
      "Epoch 48/50: Train Loss = 0.1630, Val Loss = 0.2404, Val Accuracy = 0.9273\n"
     ]
    },
    {
     "name": "stderr",
     "output_type": "stream",
     "text": [
      "Epoch 48: 100%|██████████| 666/666 [00:00<00:00, 784.23batch/s, loss=0.308] \n"
     ]
    },
    {
     "name": "stdout",
     "output_type": "stream",
     "text": [
      "Epoch 49/50: Train Loss = 0.1606, Val Loss = 0.2621, Val Accuracy = 0.9265\n"
     ]
    },
    {
     "name": "stderr",
     "output_type": "stream",
     "text": [
      "Epoch 49: 100%|██████████| 666/666 [00:00<00:00, 776.35batch/s, loss=0.222] \n"
     ]
    },
    {
     "name": "stdout",
     "output_type": "stream",
     "text": [
      "Epoch 50/50: Train Loss = 0.1606, Val Loss = 0.2579, Val Accuracy = 0.9265\n",
      "Best Validation Loss: 0.2161\n",
      "\n",
      "=== Running with Learning Rate: 0.0001 ===\n"
     ]
    },
    {
     "name": "stderr",
     "output_type": "stream",
     "text": [
      "Epoch 0: 100%|██████████| 666/666 [00:00<00:00, 808.89batch/s, loss=0.264] \n"
     ]
    },
    {
     "name": "stdout",
     "output_type": "stream",
     "text": [
      "Epoch 1/50: Train Loss = 0.1579, Val Loss = 0.2620, Val Accuracy = 0.9267\n"
     ]
    },
    {
     "name": "stderr",
     "output_type": "stream",
     "text": [
      "Epoch 1: 100%|██████████| 666/666 [00:00<00:00, 770.47batch/s, loss=0.178] \n"
     ]
    },
    {
     "name": "stdout",
     "output_type": "stream",
     "text": [
      "Epoch 2/50: Train Loss = 0.1581, Val Loss = 0.2615, Val Accuracy = 0.9269\n"
     ]
    },
    {
     "name": "stderr",
     "output_type": "stream",
     "text": [
      "Epoch 2: 100%|██████████| 666/666 [00:00<00:00, 793.29batch/s, loss=0.267] \n"
     ]
    },
    {
     "name": "stdout",
     "output_type": "stream",
     "text": [
      "Epoch 3/50: Train Loss = 0.1581, Val Loss = 0.2586, Val Accuracy = 0.9265\n"
     ]
    },
    {
     "name": "stderr",
     "output_type": "stream",
     "text": [
      "Epoch 3: 100%|██████████| 666/666 [00:00<00:00, 804.19batch/s, loss=0.212] \n"
     ]
    },
    {
     "name": "stdout",
     "output_type": "stream",
     "text": [
      "Epoch 4/50: Train Loss = 0.1579, Val Loss = 0.2588, Val Accuracy = 0.9265\n"
     ]
    },
    {
     "name": "stderr",
     "output_type": "stream",
     "text": [
      "Epoch 4: 100%|██████████| 666/666 [00:00<00:00, 820.47batch/s, loss=0.21]  \n"
     ]
    },
    {
     "name": "stdout",
     "output_type": "stream",
     "text": [
      "Epoch 5/50: Train Loss = 0.1592, Val Loss = 0.2580, Val Accuracy = 0.9266\n"
     ]
    },
    {
     "name": "stderr",
     "output_type": "stream",
     "text": [
      "Epoch 5: 100%|██████████| 666/666 [00:00<00:00, 798.59batch/s, loss=0.208] \n"
     ]
    },
    {
     "name": "stdout",
     "output_type": "stream",
     "text": [
      "Epoch 6/50: Train Loss = 0.1586, Val Loss = 0.2592, Val Accuracy = 0.9266\n"
     ]
    },
    {
     "name": "stderr",
     "output_type": "stream",
     "text": [
      "Epoch 6: 100%|██████████| 666/666 [00:00<00:00, 799.25batch/s, loss=0.297] \n"
     ]
    },
    {
     "name": "stdout",
     "output_type": "stream",
     "text": [
      "Epoch 7/50: Train Loss = 0.1587, Val Loss = 0.2580, Val Accuracy = 0.9265\n"
     ]
    },
    {
     "name": "stderr",
     "output_type": "stream",
     "text": [
      "Epoch 7: 100%|██████████| 666/666 [00:00<00:00, 842.56batch/s, loss=0.24]  \n"
     ]
    },
    {
     "name": "stdout",
     "output_type": "stream",
     "text": [
      "Epoch 8/50: Train Loss = 0.1576, Val Loss = 0.2585, Val Accuracy = 0.9265\n"
     ]
    },
    {
     "name": "stderr",
     "output_type": "stream",
     "text": [
      "Epoch 8: 100%|██████████| 666/666 [00:00<00:00, 816.16batch/s, loss=0.244] \n"
     ]
    },
    {
     "name": "stdout",
     "output_type": "stream",
     "text": [
      "Epoch 9/50: Train Loss = 0.1563, Val Loss = 0.2586, Val Accuracy = 0.9266\n"
     ]
    },
    {
     "name": "stderr",
     "output_type": "stream",
     "text": [
      "Epoch 9: 100%|██████████| 666/666 [00:00<00:00, 802.94batch/s, loss=0.262] \n"
     ]
    },
    {
     "name": "stdout",
     "output_type": "stream",
     "text": [
      "Epoch 10/50: Train Loss = 0.1579, Val Loss = 0.2586, Val Accuracy = 0.9263\n"
     ]
    },
    {
     "name": "stderr",
     "output_type": "stream",
     "text": [
      "Epoch 10: 100%|██████████| 666/666 [00:00<00:00, 843.47batch/s, loss=0.215] \n"
     ]
    },
    {
     "name": "stdout",
     "output_type": "stream",
     "text": [
      "Epoch 11/50: Train Loss = 0.1576, Val Loss = 0.2586, Val Accuracy = 0.9262\n"
     ]
    },
    {
     "name": "stderr",
     "output_type": "stream",
     "text": [
      "Epoch 11: 100%|██████████| 666/666 [00:00<00:00, 790.69batch/s, loss=0.203] \n"
     ]
    },
    {
     "name": "stdout",
     "output_type": "stream",
     "text": [
      "Epoch 12/50: Train Loss = 0.1576, Val Loss = 0.2578, Val Accuracy = 0.9263\n"
     ]
    },
    {
     "name": "stderr",
     "output_type": "stream",
     "text": [
      "Epoch 12: 100%|██████████| 666/666 [00:00<00:00, 795.37batch/s, loss=0.259] \n"
     ]
    },
    {
     "name": "stdout",
     "output_type": "stream",
     "text": [
      "Epoch 13/50: Train Loss = 0.1572, Val Loss = 0.2603, Val Accuracy = 0.9263\n"
     ]
    },
    {
     "name": "stderr",
     "output_type": "stream",
     "text": [
      "Epoch 13: 100%|██████████| 666/666 [00:00<00:00, 750.74batch/s, loss=0.293] \n"
     ]
    },
    {
     "name": "stdout",
     "output_type": "stream",
     "text": [
      "Epoch 14/50: Train Loss = 0.1592, Val Loss = 0.2565, Val Accuracy = 0.9266\n"
     ]
    },
    {
     "name": "stderr",
     "output_type": "stream",
     "text": [
      "Epoch 14: 100%|██████████| 666/666 [00:00<00:00, 788.34batch/s, loss=0.229] \n"
     ]
    },
    {
     "name": "stdout",
     "output_type": "stream",
     "text": [
      "Epoch 15/50: Train Loss = 0.1586, Val Loss = 0.2582, Val Accuracy = 0.9265\n"
     ]
    },
    {
     "name": "stderr",
     "output_type": "stream",
     "text": [
      "Epoch 15: 100%|██████████| 666/666 [00:00<00:00, 774.93batch/s, loss=0.278] \n"
     ]
    },
    {
     "name": "stdout",
     "output_type": "stream",
     "text": [
      "Epoch 16/50: Train Loss = 0.1556, Val Loss = 0.2610, Val Accuracy = 0.9262\n"
     ]
    },
    {
     "name": "stderr",
     "output_type": "stream",
     "text": [
      "Epoch 16: 100%|██████████| 666/666 [00:00<00:00, 776.85batch/s, loss=0.249] \n"
     ]
    },
    {
     "name": "stdout",
     "output_type": "stream",
     "text": [
      "Epoch 17/50: Train Loss = 0.1600, Val Loss = 0.2574, Val Accuracy = 0.9267\n"
     ]
    },
    {
     "name": "stderr",
     "output_type": "stream",
     "text": [
      "Epoch 17: 100%|██████████| 666/666 [00:00<00:00, 807.61batch/s, loss=0.25]  \n"
     ]
    },
    {
     "name": "stdout",
     "output_type": "stream",
     "text": [
      "Epoch 18/50: Train Loss = 0.1594, Val Loss = 0.2573, Val Accuracy = 0.9265\n"
     ]
    },
    {
     "name": "stderr",
     "output_type": "stream",
     "text": [
      "Epoch 18: 100%|██████████| 666/666 [00:00<00:00, 782.76batch/s, loss=0.225] \n"
     ]
    },
    {
     "name": "stdout",
     "output_type": "stream",
     "text": [
      "Epoch 19/50: Train Loss = 0.1576, Val Loss = 0.2575, Val Accuracy = 0.9267\n"
     ]
    },
    {
     "name": "stderr",
     "output_type": "stream",
     "text": [
      "Epoch 19: 100%|██████████| 666/666 [00:00<00:00, 843.73batch/s, loss=0.239] \n"
     ]
    },
    {
     "name": "stdout",
     "output_type": "stream",
     "text": [
      "Epoch 20/50: Train Loss = 0.1571, Val Loss = 0.2581, Val Accuracy = 0.9262\n"
     ]
    },
    {
     "name": "stderr",
     "output_type": "stream",
     "text": [
      "Epoch 20: 100%|██████████| 666/666 [00:00<00:00, 793.87batch/s, loss=0.198] \n"
     ]
    },
    {
     "name": "stdout",
     "output_type": "stream",
     "text": [
      "Epoch 21/50: Train Loss = 0.1566, Val Loss = 0.2600, Val Accuracy = 0.9266\n"
     ]
    },
    {
     "name": "stderr",
     "output_type": "stream",
     "text": [
      "Epoch 21: 100%|██████████| 666/666 [00:00<00:00, 812.25batch/s, loss=0.227] \n"
     ]
    },
    {
     "name": "stdout",
     "output_type": "stream",
     "text": [
      "Epoch 22/50: Train Loss = 0.1593, Val Loss = 0.2617, Val Accuracy = 0.9263\n"
     ]
    },
    {
     "name": "stderr",
     "output_type": "stream",
     "text": [
      "Epoch 22: 100%|██████████| 666/666 [00:00<00:00, 837.29batch/s, loss=0.236] \n"
     ]
    },
    {
     "name": "stdout",
     "output_type": "stream",
     "text": [
      "Epoch 23/50: Train Loss = 0.1581, Val Loss = 0.2596, Val Accuracy = 0.9263\n"
     ]
    },
    {
     "name": "stderr",
     "output_type": "stream",
     "text": [
      "Epoch 23: 100%|██████████| 666/666 [00:00<00:00, 795.39batch/s, loss=0.249] \n"
     ]
    },
    {
     "name": "stdout",
     "output_type": "stream",
     "text": [
      "Epoch 24/50: Train Loss = 0.1586, Val Loss = 0.2615, Val Accuracy = 0.9267\n"
     ]
    },
    {
     "name": "stderr",
     "output_type": "stream",
     "text": [
      "Epoch 24: 100%|██████████| 666/666 [00:00<00:00, 806.58batch/s, loss=0.185] \n"
     ]
    },
    {
     "name": "stdout",
     "output_type": "stream",
     "text": [
      "Epoch 25/50: Train Loss = 0.1582, Val Loss = 0.2594, Val Accuracy = 0.9263\n"
     ]
    },
    {
     "name": "stderr",
     "output_type": "stream",
     "text": [
      "Epoch 25: 100%|██████████| 666/666 [00:00<00:00, 795.29batch/s, loss=0.2]   \n"
     ]
    },
    {
     "name": "stdout",
     "output_type": "stream",
     "text": [
      "Epoch 26/50: Train Loss = 0.1566, Val Loss = 0.2590, Val Accuracy = 0.9265\n"
     ]
    },
    {
     "name": "stderr",
     "output_type": "stream",
     "text": [
      "Epoch 26: 100%|██████████| 666/666 [00:00<00:00, 833.73batch/s, loss=0.228] \n"
     ]
    },
    {
     "name": "stdout",
     "output_type": "stream",
     "text": [
      "Epoch 27/50: Train Loss = 0.1557, Val Loss = 0.2625, Val Accuracy = 0.9263\n"
     ]
    },
    {
     "name": "stderr",
     "output_type": "stream",
     "text": [
      "Epoch 27: 100%|██████████| 666/666 [00:00<00:00, 759.55batch/s, loss=0.238] \n"
     ]
    },
    {
     "name": "stdout",
     "output_type": "stream",
     "text": [
      "Epoch 28/50: Train Loss = 0.1599, Val Loss = 0.2602, Val Accuracy = 0.9265\n"
     ]
    },
    {
     "name": "stderr",
     "output_type": "stream",
     "text": [
      "Epoch 28: 100%|██████████| 666/666 [00:00<00:00, 748.07batch/s, loss=0.259] \n"
     ]
    },
    {
     "name": "stdout",
     "output_type": "stream",
     "text": [
      "Epoch 29/50: Train Loss = 0.1556, Val Loss = 0.2618, Val Accuracy = 0.9267\n"
     ]
    },
    {
     "name": "stderr",
     "output_type": "stream",
     "text": [
      "Epoch 29: 100%|██████████| 666/666 [00:00<00:00, 798.74batch/s, loss=0.275] \n"
     ]
    },
    {
     "name": "stdout",
     "output_type": "stream",
     "text": [
      "Epoch 30/50: Train Loss = 0.1580, Val Loss = 0.2621, Val Accuracy = 0.9271\n"
     ]
    },
    {
     "name": "stderr",
     "output_type": "stream",
     "text": [
      "Epoch 30: 100%|██████████| 666/666 [00:00<00:00, 781.23batch/s, loss=0.228] \n"
     ]
    },
    {
     "name": "stdout",
     "output_type": "stream",
     "text": [
      "Epoch 31/50: Train Loss = 0.1574, Val Loss = 0.2599, Val Accuracy = 0.9269\n"
     ]
    },
    {
     "name": "stderr",
     "output_type": "stream",
     "text": [
      "Epoch 31: 100%|██████████| 666/666 [00:00<00:00, 814.38batch/s, loss=0.207] \n"
     ]
    },
    {
     "name": "stdout",
     "output_type": "stream",
     "text": [
      "Epoch 32/50: Train Loss = 0.1573, Val Loss = 0.2499, Val Accuracy = 0.9269\n"
     ]
    },
    {
     "name": "stderr",
     "output_type": "stream",
     "text": [
      "Epoch 32: 100%|██████████| 666/666 [00:00<00:00, 800.01batch/s, loss=0.211] \n"
     ]
    },
    {
     "name": "stdout",
     "output_type": "stream",
     "text": [
      "Epoch 33/50: Train Loss = 0.1575, Val Loss = 0.2490, Val Accuracy = 0.9265\n"
     ]
    },
    {
     "name": "stderr",
     "output_type": "stream",
     "text": [
      "Epoch 33: 100%|██████████| 666/666 [00:00<00:00, 796.46batch/s, loss=0.23]  \n"
     ]
    },
    {
     "name": "stdout",
     "output_type": "stream",
     "text": [
      "Epoch 34/50: Train Loss = 0.1570, Val Loss = 0.2472, Val Accuracy = 0.9266\n"
     ]
    },
    {
     "name": "stderr",
     "output_type": "stream",
     "text": [
      "Epoch 34: 100%|██████████| 666/666 [00:00<00:00, 791.55batch/s, loss=0.209] \n"
     ]
    },
    {
     "name": "stdout",
     "output_type": "stream",
     "text": [
      "Epoch 35/50: Train Loss = 0.1563, Val Loss = 0.2582, Val Accuracy = 0.9269\n"
     ]
    },
    {
     "name": "stderr",
     "output_type": "stream",
     "text": [
      "Epoch 35: 100%|██████████| 666/666 [00:00<00:00, 759.23batch/s, loss=0.233] \n"
     ]
    },
    {
     "name": "stdout",
     "output_type": "stream",
     "text": [
      "Epoch 36/50: Train Loss = 0.1559, Val Loss = 0.2599, Val Accuracy = 0.9266\n"
     ]
    },
    {
     "name": "stderr",
     "output_type": "stream",
     "text": [
      "Epoch 36: 100%|██████████| 666/666 [00:00<00:00, 774.58batch/s, loss=0.233] \n"
     ]
    },
    {
     "name": "stdout",
     "output_type": "stream",
     "text": [
      "Epoch 37/50: Train Loss = 0.1601, Val Loss = 0.2489, Val Accuracy = 0.9269\n"
     ]
    },
    {
     "name": "stderr",
     "output_type": "stream",
     "text": [
      "Epoch 37: 100%|██████████| 666/666 [00:00<00:00, 756.26batch/s, loss=0.258] \n"
     ]
    },
    {
     "name": "stdout",
     "output_type": "stream",
     "text": [
      "Epoch 38/50: Train Loss = 0.1542, Val Loss = 0.2640, Val Accuracy = 0.9266\n"
     ]
    },
    {
     "name": "stderr",
     "output_type": "stream",
     "text": [
      "Epoch 38: 100%|██████████| 666/666 [00:00<00:00, 757.65batch/s, loss=0.201] \n"
     ]
    },
    {
     "name": "stdout",
     "output_type": "stream",
     "text": [
      "Epoch 39/50: Train Loss = 0.1553, Val Loss = 0.2636, Val Accuracy = 0.9265\n"
     ]
    },
    {
     "name": "stderr",
     "output_type": "stream",
     "text": [
      "Epoch 39: 100%|██████████| 666/666 [00:00<00:00, 817.62batch/s, loss=0.24]  \n"
     ]
    },
    {
     "name": "stdout",
     "output_type": "stream",
     "text": [
      "Epoch 40/50: Train Loss = 0.1557, Val Loss = 0.2620, Val Accuracy = 0.9267\n"
     ]
    },
    {
     "name": "stderr",
     "output_type": "stream",
     "text": [
      "Epoch 40: 100%|██████████| 666/666 [00:00<00:00, 790.00batch/s, loss=0.257] \n"
     ]
    },
    {
     "name": "stdout",
     "output_type": "stream",
     "text": [
      "Epoch 41/50: Train Loss = 0.1572, Val Loss = 0.2481, Val Accuracy = 0.9263\n"
     ]
    },
    {
     "name": "stderr",
     "output_type": "stream",
     "text": [
      "Epoch 41: 100%|██████████| 666/666 [00:00<00:00, 815.89batch/s, loss=0.28]  \n"
     ]
    },
    {
     "name": "stdout",
     "output_type": "stream",
     "text": [
      "Epoch 42/50: Train Loss = 0.1577, Val Loss = 0.2466, Val Accuracy = 0.9266\n"
     ]
    },
    {
     "name": "stderr",
     "output_type": "stream",
     "text": [
      "Epoch 42: 100%|██████████| 666/666 [00:00<00:00, 796.36batch/s, loss=0.224] \n"
     ]
    },
    {
     "name": "stdout",
     "output_type": "stream",
     "text": [
      "Epoch 43/50: Train Loss = 0.1575, Val Loss = 0.2484, Val Accuracy = 0.9270\n"
     ]
    },
    {
     "name": "stderr",
     "output_type": "stream",
     "text": [
      "Epoch 43: 100%|██████████| 666/666 [00:00<00:00, 823.35batch/s, loss=0.221] \n"
     ]
    },
    {
     "name": "stdout",
     "output_type": "stream",
     "text": [
      "Epoch 44/50: Train Loss = 0.1596, Val Loss = 0.2467, Val Accuracy = 0.9267\n"
     ]
    },
    {
     "name": "stderr",
     "output_type": "stream",
     "text": [
      "Epoch 44: 100%|██████████| 666/666 [00:00<00:00, 746.78batch/s, loss=0.215] \n"
     ]
    },
    {
     "name": "stdout",
     "output_type": "stream",
     "text": [
      "Epoch 45/50: Train Loss = 0.1556, Val Loss = 0.2593, Val Accuracy = 0.9263\n"
     ]
    },
    {
     "name": "stderr",
     "output_type": "stream",
     "text": [
      "Epoch 45: 100%|██████████| 666/666 [00:00<00:00, 762.03batch/s, loss=0.299] \n"
     ]
    },
    {
     "name": "stdout",
     "output_type": "stream",
     "text": [
      "Epoch 46/50: Train Loss = 0.1553, Val Loss = 0.2616, Val Accuracy = 0.9267\n"
     ]
    },
    {
     "name": "stderr",
     "output_type": "stream",
     "text": [
      "Epoch 46: 100%|██████████| 666/666 [00:00<00:00, 788.83batch/s, loss=0.316] \n"
     ]
    },
    {
     "name": "stdout",
     "output_type": "stream",
     "text": [
      "Epoch 47/50: Train Loss = 0.1554, Val Loss = 0.2509, Val Accuracy = 0.9265\n"
     ]
    },
    {
     "name": "stderr",
     "output_type": "stream",
     "text": [
      "Epoch 47: 100%|██████████| 666/666 [00:00<00:00, 758.68batch/s, loss=0.328] \n"
     ]
    },
    {
     "name": "stdout",
     "output_type": "stream",
     "text": [
      "Epoch 48/50: Train Loss = 0.1537, Val Loss = 0.2646, Val Accuracy = 0.9266\n"
     ]
    },
    {
     "name": "stderr",
     "output_type": "stream",
     "text": [
      "Epoch 48: 100%|██████████| 666/666 [00:00<00:00, 802.62batch/s, loss=0.276] \n"
     ]
    },
    {
     "name": "stdout",
     "output_type": "stream",
     "text": [
      "Epoch 49/50: Train Loss = 0.1554, Val Loss = 0.2519, Val Accuracy = 0.9267\n"
     ]
    },
    {
     "name": "stderr",
     "output_type": "stream",
     "text": [
      "Epoch 49: 100%|██████████| 666/666 [00:00<00:00, 812.64batch/s, loss=0.233] \n"
     ]
    },
    {
     "name": "stdout",
     "output_type": "stream",
     "text": [
      "Epoch 50/50: Train Loss = 0.1581, Val Loss = 0.2490, Val Accuracy = 0.9266\n",
      "Best Validation Loss: 0.2466\n",
      "\n",
      "=== Best Learning Rate: 0.01 ===\n",
      "Best Validation Loss: 0.2107\n",
      "\n",
      "Best Threshold: 0.10, Best TPR: 0.8415\n",
      "\n",
      "=== Testing Model: Best LR: 0.01 ===\n",
      "Test Loss: 0.2133, Test Accuracy: 0.7217\n",
      "\n",
      "Classification Report:\n",
      "              precision    recall  f1-score   support\n",
      "\n",
      "         0.0       0.98      0.71      0.82     11480\n",
      "         1.0       0.21      0.84      0.34      1054\n",
      "\n",
      "    accuracy                           0.72     12534\n",
      "   macro avg       0.59      0.77      0.58     12534\n",
      "weighted avg       0.91      0.72      0.78     12534\n",
      "\n",
      "\n",
      "Confusion Matrix:\n",
      "[[8163 3317]\n",
      " [ 171  883]]\n"
     ]
    },
    {
     "data": {
      "image/png": "[encoded data removed]",
      "text/plain": [
       "<Figure size 800x600 with 1 Axes>"
      ]
     },
     "metadata": {},
     "output_type": "display_data"
    },
    {
     "data": {
      "image/png": "[encoded data removed]",
      "text/plain": [
       "<Figure size 800x600 with 1 Axes>"
      ]
     },
     "metadata": {},
     "output_type": "display_data"
    },
    {
     "name": "stdout",
     "output_type": "stream",
     "text": [
      "Test ROC AUC Score: 0.8620\n",
      "\n",
      "=== Final Results ===\n",
      "Best Learning Rate: 0.01\n",
      "Test Loss: 0.2133\n",
      "Test Accuracy: 0.7217\n",
      "Test ROC AUC: 0.8620\n"
     ]
    }
   ],
   "source": [
    "# Run with multiple learning rates and test the best model\n",
    "learning_rates = [0.01,0.001,0.0001]\n",
    "modelX=NeuralNet(X_train_tensor.shape[1])\n",
    "best_lr, test_loss, test_accuracy, roc_auc, best_model = train_eval_find_best_lr_test(\n",
    "    modelX,\n",
    "    X_train_tensor, Y_train_tensor,\n",
    "    X_val_tensor, Y_val_tensor,\n",
    "    X_test_tensor, Y_test_tensor,\n",
    "    lrs=learning_rates,\n",
    "    description=\"Learning Rate Search and Testing\"\n",
    ")\n",
    "\n",
    "print(f\"\\n=== Final Results ===\")\n",
    "print(f\"Best Learning Rate: {best_lr}\")\n",
    "print(f\"Test Loss: {test_loss:.4f}\")\n",
    "print(f\"Test Accuracy: {test_accuracy:.4f}\")\n",
    "print(f\"Test ROC AUC: {roc_auc:.4f}\")"
   ]
  },
  {
   "cell_type": "code",
   "execution_count": 23,
   "metadata": {},
   "outputs": [
    {
     "name": "stdout",
     "output_type": "stream",
     "text": [
      "\n",
      "=== Running with Learning Rate: 0.01 ===\n"
     ]
    },
    {
     "name": "stderr",
     "output_type": "stream",
     "text": [
      "Epoch 0: 100%|██████████| 666/666 [00:00<00:00, 697.29batch/s, loss=0.343] \n"
     ]
    },
    {
     "name": "stdout",
     "output_type": "stream",
     "text": [
      "Epoch 1/50: Train Loss = 0.2271, Val Loss = 0.2115, Val Accuracy = 0.9249\n"
     ]
    },
    {
     "name": "stderr",
     "output_type": "stream",
     "text": [
      "Epoch 1: 100%|██████████| 666/666 [00:00<00:00, 671.82batch/s, loss=0.344] \n"
     ]
    },
    {
     "name": "stdout",
     "output_type": "stream",
     "text": [
      "Epoch 2/50: Train Loss = 0.2131, Val Loss = 0.2081, Val Accuracy = 0.9258\n"
     ]
    },
    {
     "name": "stderr",
     "output_type": "stream",
     "text": [
      "Epoch 2: 100%|██████████| 666/666 [00:00<00:00, 679.36batch/s, loss=0.357] \n"
     ]
    },
    {
     "name": "stdout",
     "output_type": "stream",
     "text": [
      "Epoch 3/50: Train Loss = 0.2088, Val Loss = 0.2082, Val Accuracy = 0.9269\n"
     ]
    },
    {
     "name": "stderr",
     "output_type": "stream",
     "text": [
      "Epoch 3: 100%|██████████| 666/666 [00:00<00:00, 696.01batch/s, loss=0.351] \n"
     ]
    },
    {
     "name": "stdout",
     "output_type": "stream",
     "text": [
      "Epoch 4/50: Train Loss = 0.2070, Val Loss = 0.2081, Val Accuracy = 0.9259\n"
     ]
    },
    {
     "name": "stderr",
     "output_type": "stream",
     "text": [
      "Epoch 4: 100%|██████████| 666/666 [00:00<00:00, 675.98batch/s, loss=0.343] \n"
     ]
    },
    {
     "name": "stdout",
     "output_type": "stream",
     "text": [
      "Epoch 5/50: Train Loss = 0.2038, Val Loss = 0.2075, Val Accuracy = 0.9271\n"
     ]
    },
    {
     "name": "stderr",
     "output_type": "stream",
     "text": [
      "Epoch 5: 100%|██████████| 666/666 [00:00<00:00, 726.12batch/s, loss=0.338] \n"
     ]
    },
    {
     "name": "stdout",
     "output_type": "stream",
     "text": [
      "Epoch 6/50: Train Loss = 0.1987, Val Loss = 0.2109, Val Accuracy = 0.9241\n"
     ]
    },
    {
     "name": "stderr",
     "output_type": "stream",
     "text": [
      "Epoch 6: 100%|██████████| 666/666 [00:00<00:00, 725.70batch/s, loss=0.33]  \n"
     ]
    },
    {
     "name": "stdout",
     "output_type": "stream",
     "text": [
      "Epoch 7/50: Train Loss = 0.1962, Val Loss = 0.2090, Val Accuracy = 0.9269\n"
     ]
    },
    {
     "name": "stderr",
     "output_type": "stream",
     "text": [
      "Epoch 7: 100%|██████████| 666/666 [00:00<00:00, 748.67batch/s, loss=0.319] \n"
     ]
    },
    {
     "name": "stdout",
     "output_type": "stream",
     "text": [
      "Epoch 8/50: Train Loss = 0.1962, Val Loss = 0.2147, Val Accuracy = 0.9237\n"
     ]
    },
    {
     "name": "stderr",
     "output_type": "stream",
     "text": [
      "Epoch 8: 100%|██████████| 666/666 [00:01<00:00, 662.31batch/s, loss=0.359] \n"
     ]
    },
    {
     "name": "stdout",
     "output_type": "stream",
     "text": [
      "Epoch 9/50: Train Loss = 0.1940, Val Loss = 0.2082, Val Accuracy = 0.9271\n"
     ]
    },
    {
     "name": "stderr",
     "output_type": "stream",
     "text": [
      "Epoch 9: 100%|██████████| 666/666 [00:01<00:00, 646.10batch/s, loss=0.305] \n"
     ]
    },
    {
     "name": "stdout",
     "output_type": "stream",
     "text": [
      "Epoch 10/50: Train Loss = 0.1932, Val Loss = 0.2117, Val Accuracy = 0.9261\n"
     ]
    },
    {
     "name": "stderr",
     "output_type": "stream",
     "text": [
      "Epoch 10: 100%|██████████| 666/666 [00:01<00:00, 636.55batch/s, loss=0.368] \n"
     ]
    },
    {
     "name": "stdout",
     "output_type": "stream",
     "text": [
      "Epoch 11/50: Train Loss = 0.1924, Val Loss = 0.2161, Val Accuracy = 0.9197\n"
     ]
    },
    {
     "name": "stderr",
     "output_type": "stream",
     "text": [
      "Epoch 11: 100%|██████████| 666/666 [00:01<00:00, 646.75batch/s, loss=0.342] \n"
     ]
    },
    {
     "name": "stdout",
     "output_type": "stream",
     "text": [
      "Epoch 12/50: Train Loss = 0.1937, Val Loss = 0.2113, Val Accuracy = 0.9279\n"
     ]
    },
    {
     "name": "stderr",
     "output_type": "stream",
     "text": [
      "Epoch 12: 100%|██████████| 666/666 [00:01<00:00, 661.95batch/s, loss=0.342] \n"
     ]
    },
    {
     "name": "stdout",
     "output_type": "stream",
     "text": [
      "Epoch 13/50: Train Loss = 0.1868, Val Loss = 0.2140, Val Accuracy = 0.9263\n"
     ]
    },
    {
     "name": "stderr",
     "output_type": "stream",
     "text": [
      "Epoch 13: 100%|██████████| 666/666 [00:00<00:00, 700.64batch/s, loss=0.337] \n"
     ]
    },
    {
     "name": "stdout",
     "output_type": "stream",
     "text": [
      "Epoch 14/50: Train Loss = 0.1889, Val Loss = 0.2181, Val Accuracy = 0.9241\n"
     ]
    },
    {
     "name": "stderr",
     "output_type": "stream",
     "text": [
      "Epoch 14: 100%|██████████| 666/666 [00:00<00:00, 716.24batch/s, loss=0.334] \n"
     ]
    },
    {
     "name": "stdout",
     "output_type": "stream",
     "text": [
      "Epoch 15/50: Train Loss = 0.1844, Val Loss = 0.2228, Val Accuracy = 0.9208\n"
     ]
    },
    {
     "name": "stderr",
     "output_type": "stream",
     "text": [
      "Epoch 15: 100%|██████████| 666/666 [00:00<00:00, 722.51batch/s, loss=0.449] \n"
     ]
    },
    {
     "name": "stdout",
     "output_type": "stream",
     "text": [
      "Epoch 16/50: Train Loss = 0.1837, Val Loss = 0.2258, Val Accuracy = 0.9246\n"
     ]
    },
    {
     "name": "stderr",
     "output_type": "stream",
     "text": [
      "Epoch 16: 100%|██████████| 666/666 [00:00<00:00, 713.97batch/s, loss=0.374] \n"
     ]
    },
    {
     "name": "stdout",
     "output_type": "stream",
     "text": [
      "Epoch 17/50: Train Loss = 0.1894, Val Loss = 0.2197, Val Accuracy = 0.9259\n"
     ]
    },
    {
     "name": "stderr",
     "output_type": "stream",
     "text": [
      "Epoch 17: 100%|██████████| 666/666 [00:00<00:00, 669.24batch/s, loss=0.322] \n"
     ]
    },
    {
     "name": "stdout",
     "output_type": "stream",
     "text": [
      "Epoch 18/50: Train Loss = 0.1788, Val Loss = 0.2259, Val Accuracy = 0.9267\n"
     ]
    },
    {
     "name": "stderr",
     "output_type": "stream",
     "text": [
      "Epoch 18: 100%|██████████| 666/666 [00:00<00:00, 673.52batch/s, loss=0.318] \n"
     ]
    },
    {
     "name": "stdout",
     "output_type": "stream",
     "text": [
      "Epoch 19/50: Train Loss = 0.1746, Val Loss = 0.2321, Val Accuracy = 0.9233\n"
     ]
    },
    {
     "name": "stderr",
     "output_type": "stream",
     "text": [
      "Epoch 19: 100%|██████████| 666/666 [00:01<00:00, 647.37batch/s, loss=0.312] \n"
     ]
    },
    {
     "name": "stdout",
     "output_type": "stream",
     "text": [
      "Epoch 20/50: Train Loss = 0.1769, Val Loss = 0.2388, Val Accuracy = 0.9222\n"
     ]
    },
    {
     "name": "stderr",
     "output_type": "stream",
     "text": [
      "Epoch 20: 100%|██████████| 666/666 [00:01<00:00, 652.00batch/s, loss=0.339] \n"
     ]
    },
    {
     "name": "stdout",
     "output_type": "stream",
     "text": [
      "Epoch 21/50: Train Loss = 0.1711, Val Loss = 0.2891, Val Accuracy = 0.8934\n"
     ]
    },
    {
     "name": "stderr",
     "output_type": "stream",
     "text": [
      "Epoch 21: 100%|██████████| 666/666 [00:01<00:00, 659.77batch/s, loss=0.369] \n"
     ]
    },
    {
     "name": "stdout",
     "output_type": "stream",
     "text": [
      "Epoch 22/50: Train Loss = 0.1699, Val Loss = 0.2444, Val Accuracy = 0.9208\n"
     ]
    },
    {
     "name": "stderr",
     "output_type": "stream",
     "text": [
      "Epoch 22: 100%|██████████| 666/666 [00:00<00:00, 701.95batch/s, loss=0.311] \n"
     ]
    },
    {
     "name": "stdout",
     "output_type": "stream",
     "text": [
      "Epoch 23/50: Train Loss = 0.1652, Val Loss = 0.2404, Val Accuracy = 0.9186\n"
     ]
    },
    {
     "name": "stderr",
     "output_type": "stream",
     "text": [
      "Epoch 23: 100%|██████████| 666/666 [00:00<00:00, 732.89batch/s, loss=0.344] \n"
     ]
    },
    {
     "name": "stdout",
     "output_type": "stream",
     "text": [
      "Epoch 24/50: Train Loss = 0.1731, Val Loss = 0.2801, Val Accuracy = 0.9089\n"
     ]
    },
    {
     "name": "stderr",
     "output_type": "stream",
     "text": [
      "Epoch 24: 100%|██████████| 666/666 [00:00<00:00, 711.80batch/s, loss=0.312] \n"
     ]
    },
    {
     "name": "stdout",
     "output_type": "stream",
     "text": [
      "Epoch 25/50: Train Loss = 0.1739, Val Loss = 0.2686, Val Accuracy = 0.9178\n"
     ]
    },
    {
     "name": "stderr",
     "output_type": "stream",
     "text": [
      "Epoch 25: 100%|██████████| 666/666 [00:01<00:00, 649.65batch/s, loss=0.278] \n"
     ]
    },
    {
     "name": "stdout",
     "output_type": "stream",
     "text": [
      "Epoch 26/50: Train Loss = 0.1624, Val Loss = 0.2625, Val Accuracy = 0.9173\n"
     ]
    },
    {
     "name": "stderr",
     "output_type": "stream",
     "text": [
      "Epoch 26: 100%|██████████| 666/666 [00:01<00:00, 648.94batch/s, loss=0.306] \n"
     ]
    },
    {
     "name": "stdout",
     "output_type": "stream",
     "text": [
      "Epoch 27/50: Train Loss = 0.1574, Val Loss = 0.2974, Val Accuracy = 0.9132\n"
     ]
    },
    {
     "name": "stderr",
     "output_type": "stream",
     "text": [
      "Epoch 27: 100%|██████████| 666/666 [00:01<00:00, 623.84batch/s, loss=0.259] \n"
     ]
    },
    {
     "name": "stdout",
     "output_type": "stream",
     "text": [
      "Epoch 28/50: Train Loss = 0.1573, Val Loss = 0.2824, Val Accuracy = 0.9064\n"
     ]
    },
    {
     "name": "stderr",
     "output_type": "stream",
     "text": [
      "Epoch 28: 100%|██████████| 666/666 [00:00<00:00, 685.86batch/s, loss=0.359] \n"
     ]
    },
    {
     "name": "stdout",
     "output_type": "stream",
     "text": [
      "Epoch 29/50: Train Loss = 0.1534, Val Loss = 0.2994, Val Accuracy = 0.9144\n"
     ]
    },
    {
     "name": "stderr",
     "output_type": "stream",
     "text": [
      "Epoch 29: 100%|██████████| 666/666 [00:00<00:00, 732.69batch/s, loss=0.263] \n"
     ]
    },
    {
     "name": "stdout",
     "output_type": "stream",
     "text": [
      "Epoch 30/50: Train Loss = 0.1489, Val Loss = 0.2892, Val Accuracy = 0.9104\n"
     ]
    },
    {
     "name": "stderr",
     "output_type": "stream",
     "text": [
      "Epoch 30: 100%|██████████| 666/666 [00:00<00:00, 695.67batch/s, loss=0.323] \n"
     ]
    },
    {
     "name": "stdout",
     "output_type": "stream",
     "text": [
      "Epoch 31/50: Train Loss = 0.1564, Val Loss = 0.2856, Val Accuracy = 0.9197\n"
     ]
    },
    {
     "name": "stderr",
     "output_type": "stream",
     "text": [
      "Epoch 31: 100%|██████████| 666/666 [00:00<00:00, 694.48batch/s, loss=0.333] \n"
     ]
    },
    {
     "name": "stdout",
     "output_type": "stream",
     "text": [
      "Epoch 32/50: Train Loss = 0.1509, Val Loss = 0.2790, Val Accuracy = 0.9153\n"
     ]
    },
    {
     "name": "stderr",
     "output_type": "stream",
     "text": [
      "Epoch 32: 100%|██████████| 666/666 [00:00<00:00, 689.89batch/s, loss=0.298] \n"
     ]
    },
    {
     "name": "stdout",
     "output_type": "stream",
     "text": [
      "Epoch 33/50: Train Loss = 0.1543, Val Loss = 0.2823, Val Accuracy = 0.9149\n"
     ]
    },
    {
     "name": "stderr",
     "output_type": "stream",
     "text": [
      "Epoch 33: 100%|██████████| 666/666 [00:01<00:00, 656.86batch/s, loss=0.304] \n"
     ]
    },
    {
     "name": "stdout",
     "output_type": "stream",
     "text": [
      "Epoch 34/50: Train Loss = 0.1618, Val Loss = 0.2819, Val Accuracy = 0.9172\n"
     ]
    },
    {
     "name": "stderr",
     "output_type": "stream",
     "text": [
      "Epoch 34: 100%|██████████| 666/666 [00:00<00:00, 675.52batch/s, loss=0.318] \n"
     ]
    },
    {
     "name": "stdout",
     "output_type": "stream",
     "text": [
      "Epoch 35/50: Train Loss = 0.1561, Val Loss = 0.2892, Val Accuracy = 0.9182\n"
     ]
    },
    {
     "name": "stderr",
     "output_type": "stream",
     "text": [
      "Epoch 35: 100%|██████████| 666/666 [00:01<00:00, 643.75batch/s, loss=0.252] \n"
     ]
    },
    {
     "name": "stdout",
     "output_type": "stream",
     "text": [
      "Epoch 36/50: Train Loss = 0.1472, Val Loss = 0.3017, Val Accuracy = 0.9186\n"
     ]
    },
    {
     "name": "stderr",
     "output_type": "stream",
     "text": [
      "Epoch 36: 100%|██████████| 666/666 [00:00<00:00, 671.65batch/s, loss=0.289] \n"
     ]
    },
    {
     "name": "stdout",
     "output_type": "stream",
     "text": [
      "Epoch 37/50: Train Loss = 0.1473, Val Loss = 0.3454, Val Accuracy = 0.9109\n"
     ]
    },
    {
     "name": "stderr",
     "output_type": "stream",
     "text": [
      "Epoch 37: 100%|██████████| 666/666 [00:00<00:00, 715.64batch/s, loss=0.285] \n"
     ]
    },
    {
     "name": "stdout",
     "output_type": "stream",
     "text": [
      "Epoch 38/50: Train Loss = 0.1474, Val Loss = 0.2771, Val Accuracy = 0.9040\n"
     ]
    },
    {
     "name": "stderr",
     "output_type": "stream",
     "text": [
      "Epoch 38: 100%|██████████| 666/666 [00:00<00:00, 734.76batch/s, loss=0.287] \n"
     ]
    },
    {
     "name": "stdout",
     "output_type": "stream",
     "text": [
      "Epoch 39/50: Train Loss = 0.1591, Val Loss = 0.2691, Val Accuracy = 0.9186\n"
     ]
    },
    {
     "name": "stderr",
     "output_type": "stream",
     "text": [
      "Epoch 39: 100%|██████████| 666/666 [00:00<00:00, 713.02batch/s, loss=0.267] \n"
     ]
    },
    {
     "name": "stdout",
     "output_type": "stream",
     "text": [
      "Epoch 40/50: Train Loss = 0.1502, Val Loss = 0.3106, Val Accuracy = 0.9169\n"
     ]
    },
    {
     "name": "stderr",
     "output_type": "stream",
     "text": [
      "Epoch 40: 100%|██████████| 666/666 [00:00<00:00, 698.27batch/s, loss=0.256] \n"
     ]
    },
    {
     "name": "stdout",
     "output_type": "stream",
     "text": [
      "Epoch 41/50: Train Loss = 0.1400, Val Loss = 0.3617, Val Accuracy = 0.9128\n"
     ]
    },
    {
     "name": "stderr",
     "output_type": "stream",
     "text": [
      "Epoch 41: 100%|██████████| 666/666 [00:01<00:00, 653.37batch/s, loss=0.268] \n"
     ]
    },
    {
     "name": "stdout",
     "output_type": "stream",
     "text": [
      "Epoch 42/50: Train Loss = 0.1379, Val Loss = 0.3465, Val Accuracy = 0.9112\n"
     ]
    },
    {
     "name": "stderr",
     "output_type": "stream",
     "text": [
      "Epoch 42: 100%|██████████| 666/666 [00:00<00:00, 667.26batch/s, loss=0.188] \n"
     ]
    },
    {
     "name": "stdout",
     "output_type": "stream",
     "text": [
      "Epoch 43/50: Train Loss = 0.1348, Val Loss = 0.3460, Val Accuracy = 0.9091\n"
     ]
    },
    {
     "name": "stderr",
     "output_type": "stream",
     "text": [
      "Epoch 43: 100%|██████████| 666/666 [00:01<00:00, 646.23batch/s, loss=0.18]  \n"
     ]
    },
    {
     "name": "stdout",
     "output_type": "stream",
     "text": [
      "Epoch 44/50: Train Loss = 0.1271, Val Loss = 0.3838, Val Accuracy = 0.9061\n"
     ]
    },
    {
     "name": "stderr",
     "output_type": "stream",
     "text": [
      "Epoch 44: 100%|██████████| 666/666 [00:01<00:00, 636.63batch/s, loss=0.211] \n"
     ]
    },
    {
     "name": "stdout",
     "output_type": "stream",
     "text": [
      "Epoch 45/50: Train Loss = 0.1308, Val Loss = 0.3983, Val Accuracy = 0.9109\n"
     ]
    },
    {
     "name": "stderr",
     "output_type": "stream",
     "text": [
      "Epoch 45: 100%|██████████| 666/666 [00:01<00:00, 619.20batch/s, loss=0.196] \n"
     ]
    },
    {
     "name": "stdout",
     "output_type": "stream",
     "text": [
      "Epoch 46/50: Train Loss = 0.1258, Val Loss = 0.3997, Val Accuracy = 0.9084\n"
     ]
    },
    {
     "name": "stderr",
     "output_type": "stream",
     "text": [
      "Epoch 46: 100%|██████████| 666/666 [00:00<00:00, 670.86batch/s, loss=0.151] \n"
     ]
    },
    {
     "name": "stdout",
     "output_type": "stream",
     "text": [
      "Epoch 47/50: Train Loss = 0.1198, Val Loss = 0.3934, Val Accuracy = 0.9039\n"
     ]
    },
    {
     "name": "stderr",
     "output_type": "stream",
     "text": [
      "Epoch 47: 100%|██████████| 666/666 [00:01<00:00, 621.85batch/s, loss=0.201] \n"
     ]
    },
    {
     "name": "stdout",
     "output_type": "stream",
     "text": [
      "Epoch 48/50: Train Loss = 0.1252, Val Loss = 0.3815, Val Accuracy = 0.8911\n"
     ]
    },
    {
     "name": "stderr",
     "output_type": "stream",
     "text": [
      "Epoch 48: 100%|██████████| 666/666 [00:01<00:00, 649.98batch/s, loss=0.182] \n"
     ]
    },
    {
     "name": "stdout",
     "output_type": "stream",
     "text": [
      "Epoch 49/50: Train Loss = 0.1269, Val Loss = 0.3468, Val Accuracy = 0.9083\n"
     ]
    },
    {
     "name": "stderr",
     "output_type": "stream",
     "text": [
      "Epoch 49: 100%|██████████| 666/666 [00:01<00:00, 656.61batch/s, loss=0.182] \n"
     ]
    },
    {
     "name": "stdout",
     "output_type": "stream",
     "text": [
      "Epoch 50/50: Train Loss = 0.1199, Val Loss = 0.3930, Val Accuracy = 0.9015\n",
      "Best Validation Loss: 0.2075\n",
      "\n",
      "=== Running with Learning Rate: 0.001 ===\n"
     ]
    },
    {
     "name": "stderr",
     "output_type": "stream",
     "text": [
      "Epoch 0: 100%|██████████| 666/666 [00:01<00:00, 657.66batch/s, loss=0.179] \n"
     ]
    },
    {
     "name": "stdout",
     "output_type": "stream",
     "text": [
      "Epoch 1/50: Train Loss = 0.1004, Val Loss = 0.4253, Val Accuracy = 0.9088\n"
     ]
    },
    {
     "name": "stderr",
     "output_type": "stream",
     "text": [
      "Epoch 1: 100%|██████████| 666/666 [00:00<00:00, 670.80batch/s, loss=0.173] \n"
     ]
    },
    {
     "name": "stdout",
     "output_type": "stream",
     "text": [
      "Epoch 2/50: Train Loss = 0.0921, Val Loss = 0.4863, Val Accuracy = 0.9083\n"
     ]
    },
    {
     "name": "stderr",
     "output_type": "stream",
     "text": [
      "Epoch 2: 100%|██████████| 666/666 [00:00<00:00, 697.05batch/s, loss=0.169] \n"
     ]
    },
    {
     "name": "stdout",
     "output_type": "stream",
     "text": [
      "Epoch 3/50: Train Loss = 0.0875, Val Loss = 0.5516, Val Accuracy = 0.9085\n"
     ]
    },
    {
     "name": "stderr",
     "output_type": "stream",
     "text": [
      "Epoch 3: 100%|██████████| 666/666 [00:00<00:00, 701.37batch/s, loss=0.16]  \n"
     ]
    },
    {
     "name": "stdout",
     "output_type": "stream",
     "text": [
      "Epoch 4/50: Train Loss = 0.0843, Val Loss = 0.6240, Val Accuracy = 0.9083\n"
     ]
    },
    {
     "name": "stderr",
     "output_type": "stream",
     "text": [
      "Epoch 4: 100%|██████████| 666/666 [00:00<00:00, 724.07batch/s, loss=0.165] \n"
     ]
    },
    {
     "name": "stdout",
     "output_type": "stream",
     "text": [
      "Epoch 5/50: Train Loss = 0.0820, Val Loss = 0.6891, Val Accuracy = 0.9069\n"
     ]
    },
    {
     "name": "stderr",
     "output_type": "stream",
     "text": [
      "Epoch 5: 100%|██████████| 666/666 [00:00<00:00, 677.67batch/s, loss=0.154] \n"
     ]
    },
    {
     "name": "stdout",
     "output_type": "stream",
     "text": [
      "Epoch 6/50: Train Loss = 0.0795, Val Loss = 0.7595, Val Accuracy = 0.9060\n"
     ]
    },
    {
     "name": "stderr",
     "output_type": "stream",
     "text": [
      "Epoch 6: 100%|██████████| 666/666 [00:01<00:00, 627.61batch/s, loss=0.151] \n"
     ]
    },
    {
     "name": "stdout",
     "output_type": "stream",
     "text": [
      "Epoch 7/50: Train Loss = 0.0776, Val Loss = 0.8368, Val Accuracy = 0.9069\n"
     ]
    },
    {
     "name": "stderr",
     "output_type": "stream",
     "text": [
      "Epoch 7: 100%|██████████| 666/666 [00:01<00:00, 640.99batch/s, loss=0.154] \n"
     ]
    },
    {
     "name": "stdout",
     "output_type": "stream",
     "text": [
      "Epoch 8/50: Train Loss = 0.0772, Val Loss = 0.8769, Val Accuracy = 0.9039\n"
     ]
    },
    {
     "name": "stderr",
     "output_type": "stream",
     "text": [
      "Epoch 8: 100%|██████████| 666/666 [00:01<00:00, 655.63batch/s, loss=0.148] \n"
     ]
    },
    {
     "name": "stdout",
     "output_type": "stream",
     "text": [
      "Epoch 9/50: Train Loss = 0.0753, Val Loss = 0.9117, Val Accuracy = 0.9067\n"
     ]
    },
    {
     "name": "stderr",
     "output_type": "stream",
     "text": [
      "Epoch 9: 100%|██████████| 666/666 [00:01<00:00, 658.29batch/s, loss=0.151]  \n"
     ]
    },
    {
     "name": "stdout",
     "output_type": "stream",
     "text": [
      "Epoch 10/50: Train Loss = 0.0736, Val Loss = 0.9789, Val Accuracy = 0.9049\n"
     ]
    },
    {
     "name": "stderr",
     "output_type": "stream",
     "text": [
      "Epoch 10: 100%|██████████| 666/666 [00:00<00:00, 692.23batch/s, loss=0.143]  \n"
     ]
    },
    {
     "name": "stdout",
     "output_type": "stream",
     "text": [
      "Epoch 11/50: Train Loss = 0.0728, Val Loss = 1.0488, Val Accuracy = 0.9037\n"
     ]
    },
    {
     "name": "stderr",
     "output_type": "stream",
     "text": [
      "Epoch 11: 100%|██████████| 666/666 [00:00<00:00, 702.48batch/s, loss=0.131]  \n"
     ]
    },
    {
     "name": "stdout",
     "output_type": "stream",
     "text": [
      "Epoch 12/50: Train Loss = 0.0712, Val Loss = 1.0640, Val Accuracy = 0.9035\n"
     ]
    },
    {
     "name": "stderr",
     "output_type": "stream",
     "text": [
      "Epoch 12: 100%|██████████| 666/666 [00:00<00:00, 727.40batch/s, loss=0.128]  \n"
     ]
    },
    {
     "name": "stdout",
     "output_type": "stream",
     "text": [
      "Epoch 13/50: Train Loss = 0.0704, Val Loss = 1.1088, Val Accuracy = 0.9027\n"
     ]
    },
    {
     "name": "stderr",
     "output_type": "stream",
     "text": [
      "Epoch 13: 100%|██████████| 666/666 [00:00<00:00, 683.14batch/s, loss=0.128]  \n"
     ]
    },
    {
     "name": "stdout",
     "output_type": "stream",
     "text": [
      "Epoch 14/50: Train Loss = 0.0689, Val Loss = 1.1691, Val Accuracy = 0.9031\n"
     ]
    },
    {
     "name": "stderr",
     "output_type": "stream",
     "text": [
      "Epoch 14: 100%|██████████| 666/666 [00:01<00:00, 619.27batch/s, loss=0.131]  \n"
     ]
    },
    {
     "name": "stdout",
     "output_type": "stream",
     "text": [
      "Epoch 15/50: Train Loss = 0.0682, Val Loss = 1.2113, Val Accuracy = 0.9008\n"
     ]
    },
    {
     "name": "stderr",
     "output_type": "stream",
     "text": [
      "Epoch 15: 100%|██████████| 666/666 [00:01<00:00, 635.21batch/s, loss=0.131]  \n"
     ]
    },
    {
     "name": "stdout",
     "output_type": "stream",
     "text": [
      "Epoch 16/50: Train Loss = 0.0671, Val Loss = 1.2383, Val Accuracy = 0.9068\n"
     ]
    },
    {
     "name": "stderr",
     "output_type": "stream",
     "text": [
      "Epoch 16: 100%|██████████| 666/666 [00:01<00:00, 631.80batch/s, loss=0.118]  \n"
     ]
    },
    {
     "name": "stdout",
     "output_type": "stream",
     "text": [
      "Epoch 17/50: Train Loss = 0.0666, Val Loss = 1.2611, Val Accuracy = 0.9037\n"
     ]
    },
    {
     "name": "stderr",
     "output_type": "stream",
     "text": [
      "Epoch 17: 100%|██████████| 666/666 [00:01<00:00, 650.69batch/s, loss=0.12]   \n"
     ]
    },
    {
     "name": "stdout",
     "output_type": "stream",
     "text": [
      "Epoch 18/50: Train Loss = 0.0651, Val Loss = 1.2647, Val Accuracy = 0.9028\n"
     ]
    },
    {
     "name": "stderr",
     "output_type": "stream",
     "text": [
      "Epoch 18: 100%|██████████| 666/666 [00:00<00:00, 698.93batch/s, loss=0.119]  \n"
     ]
    },
    {
     "name": "stdout",
     "output_type": "stream",
     "text": [
      "Epoch 19/50: Train Loss = 0.0646, Val Loss = 1.2795, Val Accuracy = 0.8992\n"
     ]
    },
    {
     "name": "stderr",
     "output_type": "stream",
     "text": [
      "Epoch 19: 100%|██████████| 666/666 [00:00<00:00, 696.78batch/s, loss=0.12]   \n"
     ]
    },
    {
     "name": "stdout",
     "output_type": "stream",
     "text": [
      "Epoch 20/50: Train Loss = 0.0639, Val Loss = 1.3767, Val Accuracy = 0.9025\n"
     ]
    },
    {
     "name": "stderr",
     "output_type": "stream",
     "text": [
      "Epoch 20: 100%|██████████| 666/666 [00:00<00:00, 701.99batch/s, loss=0.119]  \n"
     ]
    },
    {
     "name": "stdout",
     "output_type": "stream",
     "text": [
      "Epoch 21/50: Train Loss = 0.0622, Val Loss = 1.4255, Val Accuracy = 0.9012\n"
     ]
    },
    {
     "name": "stderr",
     "output_type": "stream",
     "text": [
      "Epoch 21: 100%|██████████| 666/666 [00:00<00:00, 702.80batch/s, loss=0.122]  \n"
     ]
    },
    {
     "name": "stdout",
     "output_type": "stream",
     "text": [
      "Epoch 22/50: Train Loss = 0.0616, Val Loss = 1.4344, Val Accuracy = 0.9008\n"
     ]
    },
    {
     "name": "stderr",
     "output_type": "stream",
     "text": [
      "Epoch 22: 100%|██████████| 666/666 [00:01<00:00, 628.30batch/s, loss=0.118]   \n"
     ]
    },
    {
     "name": "stdout",
     "output_type": "stream",
     "text": [
      "Epoch 23/50: Train Loss = 0.0608, Val Loss = 1.4807, Val Accuracy = 0.9015\n"
     ]
    },
    {
     "name": "stderr",
     "output_type": "stream",
     "text": [
      "Epoch 23: 100%|██████████| 666/666 [00:01<00:00, 625.32batch/s, loss=0.109]   \n"
     ]
    },
    {
     "name": "stdout",
     "output_type": "stream",
     "text": [
      "Epoch 24/50: Train Loss = 0.0598, Val Loss = 1.5351, Val Accuracy = 0.9017\n"
     ]
    },
    {
     "name": "stderr",
     "output_type": "stream",
     "text": [
      "Epoch 24: 100%|██████████| 666/666 [00:01<00:00, 619.00batch/s, loss=0.106]   \n"
     ]
    },
    {
     "name": "stdout",
     "output_type": "stream",
     "text": [
      "Epoch 25/50: Train Loss = 0.0589, Val Loss = 1.5027, Val Accuracy = 0.9004\n"
     ]
    },
    {
     "name": "stderr",
     "output_type": "stream",
     "text": [
      "Epoch 25: 100%|██████████| 666/666 [00:01<00:00, 611.89batch/s, loss=0.109]   \n"
     ]
    },
    {
     "name": "stdout",
     "output_type": "stream",
     "text": [
      "Epoch 26/50: Train Loss = 0.0589, Val Loss = 1.4882, Val Accuracy = 0.8992\n"
     ]
    },
    {
     "name": "stderr",
     "output_type": "stream",
     "text": [
      "Epoch 26: 100%|██████████| 666/666 [00:00<00:00, 722.59batch/s, loss=0.185]   \n"
     ]
    },
    {
     "name": "stdout",
     "output_type": "stream",
     "text": [
      "Epoch 27/50: Train Loss = 0.0581, Val Loss = 1.5430, Val Accuracy = 0.9013\n"
     ]
    },
    {
     "name": "stderr",
     "output_type": "stream",
     "text": [
      "Epoch 27: 100%|██████████| 666/666 [00:00<00:00, 697.19batch/s, loss=0.1]     \n"
     ]
    },
    {
     "name": "stdout",
     "output_type": "stream",
     "text": [
      "Epoch 28/50: Train Loss = 0.0567, Val Loss = 1.5573, Val Accuracy = 0.8991\n"
     ]
    },
    {
     "name": "stderr",
     "output_type": "stream",
     "text": [
      "Epoch 28: 100%|██████████| 666/666 [00:00<00:00, 692.83batch/s, loss=0.108]   \n"
     ]
    },
    {
     "name": "stdout",
     "output_type": "stream",
     "text": [
      "Epoch 29/50: Train Loss = 0.0564, Val Loss = 1.5484, Val Accuracy = 0.8976\n"
     ]
    },
    {
     "name": "stderr",
     "output_type": "stream",
     "text": [
      "Epoch 29: 100%|██████████| 666/666 [00:00<00:00, 691.86batch/s, loss=0.114]  \n"
     ]
    },
    {
     "name": "stdout",
     "output_type": "stream",
     "text": [
      "Epoch 30/50: Train Loss = 0.0556, Val Loss = 1.6110, Val Accuracy = 0.8976\n"
     ]
    },
    {
     "name": "stderr",
     "output_type": "stream",
     "text": [
      "Epoch 30: 100%|██████████| 666/666 [00:01<00:00, 649.65batch/s, loss=0.107]   \n"
     ]
    },
    {
     "name": "stdout",
     "output_type": "stream",
     "text": [
      "Epoch 31/50: Train Loss = 0.0539, Val Loss = 1.6548, Val Accuracy = 0.8992\n"
     ]
    },
    {
     "name": "stderr",
     "output_type": "stream",
     "text": [
      "Epoch 31: 100%|██████████| 666/666 [00:01<00:00, 622.61batch/s, loss=0.103]   \n"
     ]
    },
    {
     "name": "stdout",
     "output_type": "stream",
     "text": [
      "Epoch 32/50: Train Loss = 0.0534, Val Loss = 1.7182, Val Accuracy = 0.8983\n"
     ]
    },
    {
     "name": "stderr",
     "output_type": "stream",
     "text": [
      "Epoch 32: 100%|██████████| 666/666 [00:01<00:00, 629.14batch/s, loss=0.103]   \n"
     ]
    },
    {
     "name": "stdout",
     "output_type": "stream",
     "text": [
      "Epoch 33/50: Train Loss = 0.0532, Val Loss = 1.6501, Val Accuracy = 0.8979\n"
     ]
    },
    {
     "name": "stderr",
     "output_type": "stream",
     "text": [
      "Epoch 33: 100%|██████████| 666/666 [00:01<00:00, 649.45batch/s, loss=0.103]   \n"
     ]
    },
    {
     "name": "stdout",
     "output_type": "stream",
     "text": [
      "Epoch 34/50: Train Loss = 0.0524, Val Loss = 1.6978, Val Accuracy = 0.9000\n"
     ]
    },
    {
     "name": "stderr",
     "output_type": "stream",
     "text": [
      "Epoch 34: 100%|██████████| 666/666 [00:00<00:00, 721.54batch/s, loss=0.102]   \n"
     ]
    },
    {
     "name": "stdout",
     "output_type": "stream",
     "text": [
      "Epoch 35/50: Train Loss = 0.0511, Val Loss = 1.7965, Val Accuracy = 0.9005\n"
     ]
    },
    {
     "name": "stderr",
     "output_type": "stream",
     "text": [
      "Epoch 35: 100%|██████████| 666/666 [00:00<00:00, 691.92batch/s, loss=0.0967]  \n"
     ]
    },
    {
     "name": "stdout",
     "output_type": "stream",
     "text": [
      "Epoch 36/50: Train Loss = 0.0507, Val Loss = 1.7707, Val Accuracy = 0.8986\n"
     ]
    },
    {
     "name": "stderr",
     "output_type": "stream",
     "text": [
      "Epoch 36: 100%|██████████| 666/666 [00:00<00:00, 688.31batch/s, loss=0.0944]  \n"
     ]
    },
    {
     "name": "stdout",
     "output_type": "stream",
     "text": [
      "Epoch 37/50: Train Loss = 0.0493, Val Loss = 1.7988, Val Accuracy = 0.8984\n"
     ]
    },
    {
     "name": "stderr",
     "output_type": "stream",
     "text": [
      "Epoch 37: 100%|██████████| 666/666 [00:00<00:00, 686.50batch/s, loss=0.0891] \n"
     ]
    },
    {
     "name": "stdout",
     "output_type": "stream",
     "text": [
      "Epoch 38/50: Train Loss = 0.0490, Val Loss = 1.7492, Val Accuracy = 0.8991\n"
     ]
    },
    {
     "name": "stderr",
     "output_type": "stream",
     "text": [
      "Epoch 38: 100%|██████████| 666/666 [00:01<00:00, 448.43batch/s, loss=0.0865] \n"
     ]
    },
    {
     "name": "stdout",
     "output_type": "stream",
     "text": [
      "Epoch 39/50: Train Loss = 0.0475, Val Loss = 1.8387, Val Accuracy = 0.8979\n"
     ]
    },
    {
     "name": "stderr",
     "output_type": "stream",
     "text": [
      "Epoch 39: 100%|██████████| 666/666 [00:01<00:00, 568.72batch/s, loss=0.0896] \n"
     ]
    },
    {
     "name": "stdout",
     "output_type": "stream",
     "text": [
      "Epoch 40/50: Train Loss = 0.0478, Val Loss = 1.8284, Val Accuracy = 0.8988\n"
     ]
    },
    {
     "name": "stderr",
     "output_type": "stream",
     "text": [
      "Epoch 40: 100%|██████████| 666/666 [00:00<00:00, 722.13batch/s, loss=0.0934] \n"
     ]
    },
    {
     "name": "stdout",
     "output_type": "stream",
     "text": [
      "Epoch 41/50: Train Loss = 0.0464, Val Loss = 1.8820, Val Accuracy = 0.8996\n"
     ]
    },
    {
     "name": "stderr",
     "output_type": "stream",
     "text": [
      "Epoch 41: 100%|██████████| 666/666 [00:01<00:00, 651.50batch/s, loss=0.0906] \n"
     ]
    },
    {
     "name": "stdout",
     "output_type": "stream",
     "text": [
      "Epoch 42/50: Train Loss = 0.0453, Val Loss = 1.9159, Val Accuracy = 0.8983\n"
     ]
    },
    {
     "name": "stderr",
     "output_type": "stream",
     "text": [
      "Epoch 42: 100%|██████████| 666/666 [00:01<00:00, 653.12batch/s, loss=0.0851] \n"
     ]
    },
    {
     "name": "stdout",
     "output_type": "stream",
     "text": [
      "Epoch 43/50: Train Loss = 0.0443, Val Loss = 1.9427, Val Accuracy = 0.8955\n"
     ]
    },
    {
     "name": "stderr",
     "output_type": "stream",
     "text": [
      "Epoch 43: 100%|██████████| 666/666 [00:01<00:00, 633.65batch/s, loss=0.082]  \n"
     ]
    },
    {
     "name": "stdout",
     "output_type": "stream",
     "text": [
      "Epoch 44/50: Train Loss = 0.0444, Val Loss = 1.9954, Val Accuracy = 0.8983\n"
     ]
    },
    {
     "name": "stderr",
     "output_type": "stream",
     "text": [
      "Epoch 44: 100%|██████████| 666/666 [00:01<00:00, 643.79batch/s, loss=0.116]  \n"
     ]
    },
    {
     "name": "stdout",
     "output_type": "stream",
     "text": [
      "Epoch 45/50: Train Loss = 0.0434, Val Loss = 2.0119, Val Accuracy = 0.8991\n"
     ]
    },
    {
     "name": "stderr",
     "output_type": "stream",
     "text": [
      "Epoch 45: 100%|██████████| 666/666 [00:01<00:00, 647.85batch/s, loss=0.0713] \n"
     ]
    },
    {
     "name": "stdout",
     "output_type": "stream",
     "text": [
      "Epoch 46/50: Train Loss = 0.0432, Val Loss = 1.9788, Val Accuracy = 0.8976\n"
     ]
    },
    {
     "name": "stderr",
     "output_type": "stream",
     "text": [
      "Epoch 46: 100%|██████████| 666/666 [00:00<00:00, 669.91batch/s, loss=0.0723] \n"
     ]
    },
    {
     "name": "stdout",
     "output_type": "stream",
     "text": [
      "Epoch 47/50: Train Loss = 0.0414, Val Loss = 2.1056, Val Accuracy = 0.8976\n"
     ]
    },
    {
     "name": "stderr",
     "output_type": "stream",
     "text": [
      "Epoch 47: 100%|██████████| 666/666 [00:00<00:00, 686.58batch/s, loss=0.0659] \n"
     ]
    },
    {
     "name": "stdout",
     "output_type": "stream",
     "text": [
      "Epoch 48/50: Train Loss = 0.0409, Val Loss = 2.0834, Val Accuracy = 0.8954\n"
     ]
    },
    {
     "name": "stderr",
     "output_type": "stream",
     "text": [
      "Epoch 48: 100%|██████████| 666/666 [00:00<00:00, 691.28batch/s, loss=0.066]  \n"
     ]
    },
    {
     "name": "stdout",
     "output_type": "stream",
     "text": [
      "Epoch 49/50: Train Loss = 0.0398, Val Loss = 2.0903, Val Accuracy = 0.8955\n"
     ]
    },
    {
     "name": "stderr",
     "output_type": "stream",
     "text": [
      "Epoch 49: 100%|██████████| 666/666 [00:00<00:00, 713.70batch/s, loss=0.0698] \n"
     ]
    },
    {
     "name": "stdout",
     "output_type": "stream",
     "text": [
      "Epoch 50/50: Train Loss = 0.0398, Val Loss = 2.1698, Val Accuracy = 0.8970\n",
      "Best Validation Loss: 0.4253\n",
      "\n",
      "=== Running with Learning Rate: 0.0001 ===\n"
     ]
    },
    {
     "name": "stderr",
     "output_type": "stream",
     "text": [
      "Epoch 0: 100%|██████████| 666/666 [00:01<00:00, 647.65batch/s, loss=0.0775] \n"
     ]
    },
    {
     "name": "stdout",
     "output_type": "stream",
     "text": [
      "Epoch 1/50: Train Loss = 0.0397, Val Loss = 2.1880, Val Accuracy = 0.9011\n"
     ]
    },
    {
     "name": "stderr",
     "output_type": "stream",
     "text": [
      "Epoch 1: 100%|██████████| 666/666 [00:01<00:00, 629.04batch/s, loss=0.0785] \n"
     ]
    },
    {
     "name": "stdout",
     "output_type": "stream",
     "text": [
      "Epoch 2/50: Train Loss = 0.0375, Val Loss = 2.1954, Val Accuracy = 0.9012\n"
     ]
    },
    {
     "name": "stderr",
     "output_type": "stream",
     "text": [
      "Epoch 2: 100%|██████████| 666/666 [00:01<00:00, 624.22batch/s, loss=0.0785] \n"
     ]
    },
    {
     "name": "stdout",
     "output_type": "stream",
     "text": [
      "Epoch 3/50: Train Loss = 0.0369, Val Loss = 2.2099, Val Accuracy = 0.9012\n"
     ]
    },
    {
     "name": "stderr",
     "output_type": "stream",
     "text": [
      "Epoch 3: 100%|██████████| 666/666 [00:01<00:00, 604.78batch/s, loss=0.0778] \n"
     ]
    },
    {
     "name": "stdout",
     "output_type": "stream",
     "text": [
      "Epoch 4/50: Train Loss = 0.0366, Val Loss = 2.2372, Val Accuracy = 0.9012\n"
     ]
    },
    {
     "name": "stderr",
     "output_type": "stream",
     "text": [
      "Epoch 4: 100%|██████████| 666/666 [00:00<00:00, 666.53batch/s, loss=0.0764] \n"
     ]
    },
    {
     "name": "stdout",
     "output_type": "stream",
     "text": [
      "Epoch 5/50: Train Loss = 0.0364, Val Loss = 2.2552, Val Accuracy = 0.9017\n"
     ]
    },
    {
     "name": "stderr",
     "output_type": "stream",
     "text": [
      "Epoch 5: 100%|██████████| 666/666 [00:00<00:00, 680.15batch/s, loss=0.0755] \n"
     ]
    },
    {
     "name": "stdout",
     "output_type": "stream",
     "text": [
      "Epoch 6/50: Train Loss = 0.0362, Val Loss = 2.2715, Val Accuracy = 0.9019\n"
     ]
    },
    {
     "name": "stderr",
     "output_type": "stream",
     "text": [
      "Epoch 6: 100%|██████████| 666/666 [00:00<00:00, 678.09batch/s, loss=0.0746] \n"
     ]
    },
    {
     "name": "stdout",
     "output_type": "stream",
     "text": [
      "Epoch 7/50: Train Loss = 0.0360, Val Loss = 2.2895, Val Accuracy = 0.9024\n"
     ]
    },
    {
     "name": "stderr",
     "output_type": "stream",
     "text": [
      "Epoch 7: 100%|██████████| 666/666 [00:00<00:00, 676.37batch/s, loss=0.0739] \n"
     ]
    },
    {
     "name": "stdout",
     "output_type": "stream",
     "text": [
      "Epoch 8/50: Train Loss = 0.0358, Val Loss = 2.3033, Val Accuracy = 0.9027\n"
     ]
    },
    {
     "name": "stderr",
     "output_type": "stream",
     "text": [
      "Epoch 8: 100%|██████████| 666/666 [00:00<00:00, 667.35batch/s, loss=0.0736] \n"
     ]
    },
    {
     "name": "stdout",
     "output_type": "stream",
     "text": [
      "Epoch 9/50: Train Loss = 0.0356, Val Loss = 2.3215, Val Accuracy = 0.9023\n"
     ]
    },
    {
     "name": "stderr",
     "output_type": "stream",
     "text": [
      "Epoch 9: 100%|██████████| 666/666 [00:01<00:00, 622.73batch/s, loss=0.0731] \n"
     ]
    },
    {
     "name": "stdout",
     "output_type": "stream",
     "text": [
      "Epoch 10/50: Train Loss = 0.0355, Val Loss = 2.3397, Val Accuracy = 0.9021\n"
     ]
    },
    {
     "name": "stderr",
     "output_type": "stream",
     "text": [
      "Epoch 10: 100%|██████████| 666/666 [00:01<00:00, 614.23batch/s, loss=0.0725] \n"
     ]
    },
    {
     "name": "stdout",
     "output_type": "stream",
     "text": [
      "Epoch 11/50: Train Loss = 0.0353, Val Loss = 2.3573, Val Accuracy = 0.9027\n"
     ]
    },
    {
     "name": "stderr",
     "output_type": "stream",
     "text": [
      "Epoch 11: 100%|██████████| 666/666 [00:01<00:00, 624.05batch/s, loss=0.0716] \n"
     ]
    },
    {
     "name": "stdout",
     "output_type": "stream",
     "text": [
      "Epoch 12/50: Train Loss = 0.0351, Val Loss = 2.3759, Val Accuracy = 0.9029\n"
     ]
    },
    {
     "name": "stderr",
     "output_type": "stream",
     "text": [
      "Epoch 12: 100%|██████████| 666/666 [00:00<00:00, 684.65batch/s, loss=0.0714] \n"
     ]
    },
    {
     "name": "stdout",
     "output_type": "stream",
     "text": [
      "Epoch 13/50: Train Loss = 0.0349, Val Loss = 2.3837, Val Accuracy = 0.9031\n"
     ]
    },
    {
     "name": "stderr",
     "output_type": "stream",
     "text": [
      "Epoch 13: 100%|██████████| 666/666 [00:00<00:00, 672.78batch/s, loss=0.0709] \n"
     ]
    },
    {
     "name": "stdout",
     "output_type": "stream",
     "text": [
      "Epoch 14/50: Train Loss = 0.0348, Val Loss = 2.4043, Val Accuracy = 0.9032\n"
     ]
    },
    {
     "name": "stderr",
     "output_type": "stream",
     "text": [
      "Epoch 14: 100%|██████████| 666/666 [00:00<00:00, 676.69batch/s, loss=0.0706] \n"
     ]
    },
    {
     "name": "stdout",
     "output_type": "stream",
     "text": [
      "Epoch 15/50: Train Loss = 0.0346, Val Loss = 2.4166, Val Accuracy = 0.9036\n"
     ]
    },
    {
     "name": "stderr",
     "output_type": "stream",
     "text": [
      "Epoch 15: 100%|██████████| 666/666 [00:00<00:00, 678.32batch/s, loss=0.0701] \n"
     ]
    },
    {
     "name": "stdout",
     "output_type": "stream",
     "text": [
      "Epoch 16/50: Train Loss = 0.0344, Val Loss = 2.4268, Val Accuracy = 0.9029\n"
     ]
    },
    {
     "name": "stderr",
     "output_type": "stream",
     "text": [
      "Epoch 16: 100%|██████████| 666/666 [00:01<00:00, 649.01batch/s, loss=0.0698] \n"
     ]
    },
    {
     "name": "stdout",
     "output_type": "stream",
     "text": [
      "Epoch 17/50: Train Loss = 0.0342, Val Loss = 2.4560, Val Accuracy = 0.9033\n"
     ]
    },
    {
     "name": "stderr",
     "output_type": "stream",
     "text": [
      "Epoch 17: 100%|██████████| 666/666 [00:01<00:00, 596.61batch/s, loss=0.0695] \n"
     ]
    },
    {
     "name": "stdout",
     "output_type": "stream",
     "text": [
      "Epoch 18/50: Train Loss = 0.0341, Val Loss = 2.4710, Val Accuracy = 0.9039\n"
     ]
    },
    {
     "name": "stderr",
     "output_type": "stream",
     "text": [
      "Epoch 18: 100%|██████████| 666/666 [00:01<00:00, 618.21batch/s, loss=0.0693] \n"
     ]
    },
    {
     "name": "stdout",
     "output_type": "stream",
     "text": [
      "Epoch 19/50: Train Loss = 0.0339, Val Loss = 2.4767, Val Accuracy = 0.9035\n"
     ]
    },
    {
     "name": "stderr",
     "output_type": "stream",
     "text": [
      "Epoch 19: 100%|██████████| 666/666 [00:01<00:00, 636.63batch/s, loss=0.0689] \n"
     ]
    },
    {
     "name": "stdout",
     "output_type": "stream",
     "text": [
      "Epoch 20/50: Train Loss = 0.0337, Val Loss = 2.4828, Val Accuracy = 0.9036\n"
     ]
    },
    {
     "name": "stderr",
     "output_type": "stream",
     "text": [
      "Epoch 20: 100%|██████████| 666/666 [00:01<00:00, 551.30batch/s, loss=0.0687] \n"
     ]
    },
    {
     "name": "stdout",
     "output_type": "stream",
     "text": [
      "Epoch 21/50: Train Loss = 0.0336, Val Loss = 2.5040, Val Accuracy = 0.9039\n"
     ]
    },
    {
     "name": "stderr",
     "output_type": "stream",
     "text": [
      "Epoch 21: 100%|██████████| 666/666 [00:01<00:00, 646.16batch/s, loss=0.0684] \n"
     ]
    },
    {
     "name": "stdout",
     "output_type": "stream",
     "text": [
      "Epoch 22/50: Train Loss = 0.0334, Val Loss = 2.5098, Val Accuracy = 0.9036\n"
     ]
    },
    {
     "name": "stderr",
     "output_type": "stream",
     "text": [
      "Epoch 22: 100%|██████████| 666/666 [00:01<00:00, 608.96batch/s, loss=0.0679] \n"
     ]
    },
    {
     "name": "stdout",
     "output_type": "stream",
     "text": [
      "Epoch 23/50: Train Loss = 0.0333, Val Loss = 2.5345, Val Accuracy = 0.9041\n"
     ]
    },
    {
     "name": "stderr",
     "output_type": "stream",
     "text": [
      "Epoch 23: 100%|██████████| 666/666 [00:01<00:00, 491.06batch/s, loss=0.0678] \n"
     ]
    },
    {
     "name": "stdout",
     "output_type": "stream",
     "text": [
      "Epoch 24/50: Train Loss = 0.0332, Val Loss = 2.5345, Val Accuracy = 0.9037\n"
     ]
    },
    {
     "name": "stderr",
     "output_type": "stream",
     "text": [
      "Epoch 24: 100%|██████████| 666/666 [00:01<00:00, 547.47batch/s, loss=0.0675] \n"
     ]
    },
    {
     "name": "stdout",
     "output_type": "stream",
     "text": [
      "Epoch 25/50: Train Loss = 0.0330, Val Loss = 2.5463, Val Accuracy = 0.9036\n"
     ]
    },
    {
     "name": "stderr",
     "output_type": "stream",
     "text": [
      "Epoch 25: 100%|██████████| 666/666 [00:00<00:00, 670.83batch/s, loss=0.0673] \n"
     ]
    },
    {
     "name": "stdout",
     "output_type": "stream",
     "text": [
      "Epoch 26/50: Train Loss = 0.0329, Val Loss = 2.5548, Val Accuracy = 0.9037\n"
     ]
    },
    {
     "name": "stderr",
     "output_type": "stream",
     "text": [
      "Epoch 26: 100%|██████████| 666/666 [00:00<00:00, 670.79batch/s, loss=0.0667] \n"
     ]
    },
    {
     "name": "stdout",
     "output_type": "stream",
     "text": [
      "Epoch 27/50: Train Loss = 0.0327, Val Loss = 2.5699, Val Accuracy = 0.9037\n"
     ]
    },
    {
     "name": "stderr",
     "output_type": "stream",
     "text": [
      "Epoch 27: 100%|██████████| 666/666 [00:01<00:00, 606.10batch/s, loss=0.0663] \n"
     ]
    },
    {
     "name": "stdout",
     "output_type": "stream",
     "text": [
      "Epoch 28/50: Train Loss = 0.0326, Val Loss = 2.5934, Val Accuracy = 0.9039\n"
     ]
    },
    {
     "name": "stderr",
     "output_type": "stream",
     "text": [
      "Epoch 28: 100%|██████████| 666/666 [00:01<00:00, 610.69batch/s, loss=0.0659] \n"
     ]
    },
    {
     "name": "stdout",
     "output_type": "stream",
     "text": [
      "Epoch 29/50: Train Loss = 0.0324, Val Loss = 2.6009, Val Accuracy = 0.9037\n"
     ]
    },
    {
     "name": "stderr",
     "output_type": "stream",
     "text": [
      "Epoch 29: 100%|██████████| 666/666 [00:01<00:00, 621.08batch/s, loss=0.0656] \n"
     ]
    },
    {
     "name": "stdout",
     "output_type": "stream",
     "text": [
      "Epoch 30/50: Train Loss = 0.0323, Val Loss = 2.6127, Val Accuracy = 0.9036\n"
     ]
    },
    {
     "name": "stderr",
     "output_type": "stream",
     "text": [
      "Epoch 30: 100%|██████████| 666/666 [00:01<00:00, 650.00batch/s, loss=0.0654] \n"
     ]
    },
    {
     "name": "stdout",
     "output_type": "stream",
     "text": [
      "Epoch 31/50: Train Loss = 0.0322, Val Loss = 2.6228, Val Accuracy = 0.9035\n"
     ]
    },
    {
     "name": "stderr",
     "output_type": "stream",
     "text": [
      "Epoch 31: 100%|██████████| 666/666 [00:01<00:00, 656.52batch/s, loss=0.0654] \n"
     ]
    },
    {
     "name": "stdout",
     "output_type": "stream",
     "text": [
      "Epoch 32/50: Train Loss = 0.0321, Val Loss = 2.6475, Val Accuracy = 0.9036\n"
     ]
    },
    {
     "name": "stderr",
     "output_type": "stream",
     "text": [
      "Epoch 32: 100%|██████████| 666/666 [00:01<00:00, 656.90batch/s, loss=0.065]  \n"
     ]
    },
    {
     "name": "stdout",
     "output_type": "stream",
     "text": [
      "Epoch 33/50: Train Loss = 0.0319, Val Loss = 2.6669, Val Accuracy = 0.9032\n"
     ]
    },
    {
     "name": "stderr",
     "output_type": "stream",
     "text": [
      "Epoch 33: 100%|██████████| 666/666 [00:01<00:00, 618.41batch/s, loss=0.0648] \n"
     ]
    },
    {
     "name": "stdout",
     "output_type": "stream",
     "text": [
      "Epoch 34/50: Train Loss = 0.0318, Val Loss = 2.6794, Val Accuracy = 0.9032\n"
     ]
    },
    {
     "name": "stderr",
     "output_type": "stream",
     "text": [
      "Epoch 34: 100%|██████████| 666/666 [00:01<00:00, 586.55batch/s, loss=0.0646] \n"
     ]
    },
    {
     "name": "stdout",
     "output_type": "stream",
     "text": [
      "Epoch 35/50: Train Loss = 0.0317, Val Loss = 2.6921, Val Accuracy = 0.9032\n"
     ]
    },
    {
     "name": "stderr",
     "output_type": "stream",
     "text": [
      "Epoch 35: 100%|██████████| 666/666 [00:01<00:00, 607.01batch/s, loss=0.0644] \n"
     ]
    },
    {
     "name": "stdout",
     "output_type": "stream",
     "text": [
      "Epoch 36/50: Train Loss = 0.0315, Val Loss = 2.6955, Val Accuracy = 0.9031\n"
     ]
    },
    {
     "name": "stderr",
     "output_type": "stream",
     "text": [
      "Epoch 36: 100%|██████████| 666/666 [00:01<00:00, 629.08batch/s, loss=0.0645] \n"
     ]
    },
    {
     "name": "stdout",
     "output_type": "stream",
     "text": [
      "Epoch 37/50: Train Loss = 0.0314, Val Loss = 2.6990, Val Accuracy = 0.9035\n"
     ]
    },
    {
     "name": "stderr",
     "output_type": "stream",
     "text": [
      "Epoch 37: 100%|██████████| 666/666 [00:01<00:00, 656.48batch/s, loss=0.0637] \n"
     ]
    },
    {
     "name": "stdout",
     "output_type": "stream",
     "text": [
      "Epoch 38/50: Train Loss = 0.0312, Val Loss = 2.7116, Val Accuracy = 0.9033\n"
     ]
    },
    {
     "name": "stderr",
     "output_type": "stream",
     "text": [
      "Epoch 38: 100%|██████████| 666/666 [00:01<00:00, 660.12batch/s, loss=0.0633] \n"
     ]
    },
    {
     "name": "stdout",
     "output_type": "stream",
     "text": [
      "Epoch 39/50: Train Loss = 0.0311, Val Loss = 2.7223, Val Accuracy = 0.9032\n"
     ]
    },
    {
     "name": "stderr",
     "output_type": "stream",
     "text": [
      "Epoch 39: 100%|██████████| 666/666 [00:01<00:00, 657.04batch/s, loss=0.0631] \n"
     ]
    },
    {
     "name": "stdout",
     "output_type": "stream",
     "text": [
      "Epoch 40/50: Train Loss = 0.0310, Val Loss = 2.7264, Val Accuracy = 0.9031\n"
     ]
    },
    {
     "name": "stderr",
     "output_type": "stream",
     "text": [
      "Epoch 40: 100%|██████████| 666/666 [00:01<00:00, 602.11batch/s, loss=0.0629] \n"
     ]
    },
    {
     "name": "stdout",
     "output_type": "stream",
     "text": [
      "Epoch 41/50: Train Loss = 0.0308, Val Loss = 2.7354, Val Accuracy = 0.9032\n"
     ]
    },
    {
     "name": "stderr",
     "output_type": "stream",
     "text": [
      "Epoch 41: 100%|██████████| 666/666 [00:01<00:00, 620.32batch/s, loss=0.0627] \n"
     ]
    },
    {
     "name": "stdout",
     "output_type": "stream",
     "text": [
      "Epoch 42/50: Train Loss = 0.0307, Val Loss = 2.7479, Val Accuracy = 0.9033\n"
     ]
    },
    {
     "name": "stderr",
     "output_type": "stream",
     "text": [
      "Epoch 42: 100%|██████████| 666/666 [00:01<00:00, 599.73batch/s, loss=0.0624] \n"
     ]
    },
    {
     "name": "stdout",
     "output_type": "stream",
     "text": [
      "Epoch 43/50: Train Loss = 0.0306, Val Loss = 2.7545, Val Accuracy = 0.9027\n"
     ]
    },
    {
     "name": "stderr",
     "output_type": "stream",
     "text": [
      "Epoch 43: 100%|██████████| 666/666 [00:01<00:00, 623.33batch/s, loss=0.0625] \n"
     ]
    },
    {
     "name": "stdout",
     "output_type": "stream",
     "text": [
      "Epoch 44/50: Train Loss = 0.0305, Val Loss = 2.7626, Val Accuracy = 0.9025\n"
     ]
    },
    {
     "name": "stderr",
     "output_type": "stream",
     "text": [
      "Epoch 44: 100%|██████████| 666/666 [00:00<00:00, 676.21batch/s, loss=0.0623] \n"
     ]
    },
    {
     "name": "stdout",
     "output_type": "stream",
     "text": [
      "Epoch 45/50: Train Loss = 0.0303, Val Loss = 2.7723, Val Accuracy = 0.9023\n"
     ]
    },
    {
     "name": "stderr",
     "output_type": "stream",
     "text": [
      "Epoch 45: 100%|██████████| 666/666 [00:01<00:00, 661.80batch/s, loss=0.0621] \n"
     ]
    },
    {
     "name": "stdout",
     "output_type": "stream",
     "text": [
      "Epoch 46/50: Train Loss = 0.0302, Val Loss = 2.7770, Val Accuracy = 0.9020\n"
     ]
    },
    {
     "name": "stderr",
     "output_type": "stream",
     "text": [
      "Epoch 46: 100%|██████████| 666/666 [00:00<00:00, 681.32batch/s, loss=0.0619] \n"
     ]
    },
    {
     "name": "stdout",
     "output_type": "stream",
     "text": [
      "Epoch 47/50: Train Loss = 0.0301, Val Loss = 2.8003, Val Accuracy = 0.9020\n"
     ]
    },
    {
     "name": "stderr",
     "output_type": "stream",
     "text": [
      "Epoch 47: 100%|██████████| 666/666 [00:01<00:00, 606.99batch/s, loss=0.0618] \n"
     ]
    },
    {
     "name": "stdout",
     "output_type": "stream",
     "text": [
      "Epoch 48/50: Train Loss = 0.0300, Val Loss = 2.8012, Val Accuracy = 0.9021\n"
     ]
    },
    {
     "name": "stderr",
     "output_type": "stream",
     "text": [
      "Epoch 48: 100%|██████████| 666/666 [00:01<00:00, 607.55batch/s, loss=0.0616] \n"
     ]
    },
    {
     "name": "stdout",
     "output_type": "stream",
     "text": [
      "Epoch 49/50: Train Loss = 0.0299, Val Loss = 2.8064, Val Accuracy = 0.9019\n"
     ]
    },
    {
     "name": "stderr",
     "output_type": "stream",
     "text": [
      "Epoch 49: 100%|██████████| 666/666 [00:01<00:00, 591.30batch/s, loss=0.0614] \n"
     ]
    },
    {
     "name": "stdout",
     "output_type": "stream",
     "text": [
      "Epoch 50/50: Train Loss = 0.0297, Val Loss = 2.8173, Val Accuracy = 0.9021\n",
      "Best Validation Loss: 2.1880\n",
      "\n",
      "=== Best Learning Rate: 0.01 ===\n",
      "Best Validation Loss: 0.2075\n",
      "\n",
      "Best Threshold: 0.10, Best TPR: 0.7451\n",
      "\n",
      "=== Testing Model: Best LR: 0.01 ===\n",
      "Test Loss: 0.2096, Test Accuracy: 0.7955\n",
      "\n",
      "Classification Report:\n",
      "              precision    recall  f1-score   support\n",
      "\n",
      "         0.0       0.97      0.80      0.88     11480\n",
      "         1.0       0.26      0.76      0.38      1054\n",
      "\n",
      "    accuracy                           0.80     12534\n",
      "   macro avg       0.62      0.78      0.63     12534\n",
      "weighted avg       0.91      0.80      0.84     12534\n",
      "\n",
      "\n",
      "Confusion Matrix:\n",
      "[[9171 2309]\n",
      " [ 254  800]]\n"
     ]
    },
    {
     "data": {
      "image/png": "[encoded data removed]",
      "text/plain": [
       "<Figure size 800x600 with 1 Axes>"
      ]
     },
     "metadata": {},
     "output_type": "display_data"
    },
    {
     "data": {
      "image/png": "[encoded data removed]",
      "text/plain": [
       "<Figure size 800x600 with 1 Axes>"
      ]
     },
     "metadata": {},
     "output_type": "display_data"
    },
    {
     "name": "stdout",
     "output_type": "stream",
     "text": [
      "Test ROC AUC Score: 0.8668\n",
      "\n",
      "=== Final Results ===\n",
      "Best Learning Rate: 0.01\n",
      "Test Loss: 0.2096\n",
      "Test Accuracy: 0.7955\n",
      "Test ROC AUC: 0.8668\n"
     ]
    }
   ],
   "source": [
    "# Run with multiple learning rates and test the best model\n",
    "learning_rates = [0.01,0.001,0.0001]\n",
    "modelY=BigModel(X_train_tensor.shape[1])\n",
    "best_lr, test_loss, test_accuracy, roc_auc, best_model = train_eval_find_best_lr_test(\n",
    "    modelY,\n",
    "    X_train_tensor, Y_train_tensor,\n",
    "    X_val_tensor, Y_val_tensor,\n",
    "    X_test_tensor, Y_test_tensor,\n",
    "    lrs=learning_rates,\n",
    "    description=\"Learning Rate Search and Testing\"\n",
    ")\n",
    "\n",
    "print(f\"\\n=== Final Results ===\")\n",
    "print(f\"Best Learning Rate: {best_lr}\")\n",
    "print(f\"Test Loss: {test_loss:.4f}\")\n",
    "print(f\"Test Accuracy: {test_accuracy:.4f}\")\n",
    "print(f\"Test ROC AUC: {roc_auc:.4f}\")"
   ]
  },
  {
   "cell_type": "code",
   "execution_count": null,
   "metadata": {},
   "outputs": [],
   "source": []
  },
  {
   "cell_type": "code",
   "execution_count": null,
   "metadata": {},
   "outputs": [],
   "source": []
  },
  {
   "cell_type": "code",
   "execution_count": null,
   "metadata": {},
   "outputs": [],
   "source": []
  },
  {
   "cell_type": "code",
   "execution_count": null,
   "metadata": {},
   "outputs": [],
   "source": []
  },
  {
   "cell_type": "code",
   "execution_count": null,
   "metadata": {},
   "outputs": [],
   "source": []
  },
  {
   "cell_type": "code",
   "execution_count": null,
   "metadata": {},
   "outputs": [],
   "source": []
  }
 ],
 "metadata": {
  "kernelspec": {
   "display_name": "base",
   "language": "python",
   "name": "python3"
  },
  "language_info": {
   "codemirror_mode": {
    "name": "ipython",
    "version": 3
   },
   "file_extension": ".py",
   "mimetype": "text/x-python",
   "name": "python",
   "nbconvert_exporter": "python",
   "pygments_lexer": "ipython3",
   "version": "3.12.2"
  }
 },
 "nbformat": 4,
 "nbformat_minor": 2
}
