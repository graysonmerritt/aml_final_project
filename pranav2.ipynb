{
 "cells": [
  {
   "cell_type": "code",
   "execution_count": 33,
   "metadata": {},
   "outputs": [],
   "source": [
    "# Import necessary libraries\n",
    "import numpy as np\n",
    "import pandas as pd\n",
    "import matplotlib.pyplot as plt\n",
    "import seaborn as sns\n",
    "from scipy.stats import skew\n",
    "from sklearn.model_selection import train_test_split\n",
    "from sklearn.preprocessing import StandardScaler\n",
    "from imblearn.over_sampling import SMOTE\n",
    "import random\n",
    "from statsmodels.stats.outliers_influence import variance_inflation_factor\n",
    "from sklearn.decomposition import PCA\n",
    "from imblearn.over_sampling import SMOTE\n",
    "from statsmodels.stats.outliers_influence import variance_inflation_factor\n",
    "from sklearn.metrics import classification_report, confusion_matrix, roc_auc_score, precision_recall_curve, roc_curve\n",
    "import torch\n",
    "import torch.nn as nn\n",
    "import torch.optim as optim\n",
    "from torch.utils.data import DataLoader, Dataset, TensorDataset\n",
    "\n",
    "# Import Captum for interpretability\n",
    "from captum.attr import IntegratedGradients\n",
    "\n",
    "import warnings\n",
    "warnings.filterwarnings('ignore')"
   ]
  },
  {
   "cell_type": "code",
   "execution_count": 34,
   "metadata": {},
   "outputs": [],
   "source": [
    "# # Load the dataset\n",
    "# data = pd.read_csv('dataset.csv')\n",
    "\n",
    "# # Drop unnecessary columns\n",
    "# cols_to_drop = ['encounter_id', 'patient_id', 'hospital_id', 'icu_id', 'Unnamed: 83']\n",
    "# data.drop(columns=cols_to_drop, inplace=True)\n",
    "\n",
    "# # Save 'apache_4a_hospital_death_prob' and 'apache_4a_icu_death_prob' in a separate DataFrame\n",
    "# apache_probs = data[['apache_4a_hospital_death_prob', 'apache_4a_icu_death_prob']].copy()\n",
    "\n",
    "# # Drop these columns from the main dataset\n",
    "# data.drop(columns=['apache_4a_hospital_death_prob', 'apache_4a_icu_death_prob'], inplace=True)\n",
    "\n",
    "# # Display confirmation of saved and deleted columns\n",
    "# print(\"Saved apache columns in a separate DataFrame and removed them from the main dataset.\")\n",
    "# print(\"Apache Probabilities DataFrame:\")\n",
    "# print(apache_probs.head())\n",
    "\n",
    "\n",
    "# # Replace the lowercase value with the uppercase value to combine these categories\n",
    "# data['apache_2_bodysystem'] = data['apache_2_bodysystem'].replace('Undefined diagnoses', 'Undefined Diagnoses')\n",
    "\n",
    "# # Verify that the categories have been combined\n",
    "# print(\"Value Counts for 'apache_2_bodysystem' after combining categories:\")\n",
    "# print(data['apache_2_bodysystem'].value_counts())\n",
    "# # Convert binary variables to categorical\n",
    "# binary_categorical_vars = [\n",
    "#     'intubated_apache', 'ventilated_apache', 'aids', 'cirrhosis',\n",
    "#     'diabetes_mellitus', 'hepatic_failure', 'immunosuppression',\n",
    "#     'leukemia', 'lymphoma', 'solid_tumor_with_metastasis',\n",
    "#     'apache_post_operative', 'arf_apache', 'gcs_unable_apache', 'elective_surgery'\n",
    "# ]\n",
    "# for col in binary_categorical_vars:\n",
    "#     data[col] = data[col].astype('category')\n",
    "\n",
    "# # Convert target variable to integer if it's not already\n",
    "# data['hospital_death'] = data['hospital_death'].astype(int)\n",
    "\n",
    "# categorical_vars = ['icu_admit_source', 'ethnicity', 'gender', 'icu_type', 'apache_3j_bodysystem', 'apache_2_bodysystem', 'icu_stay_type']\n",
    "# data = pd.get_dummies(data, columns=categorical_vars, drop_first=True)"
   ]
  },
  {
   "cell_type": "code",
   "execution_count": 35,
   "metadata": {},
   "outputs": [],
   "source": [
    "# # Update lists of numerical and categorical features\n",
    "# categorical_features = data.select_dtypes(include=['object', 'category']).columns.tolist()\n",
    "# numerical_features = data.select_dtypes(include=[np.number]).columns.tolist()\n",
    "# if 'hospital_death' in numerical_features:\n",
    "#     numerical_features.remove('hospital_death')\n",
    "\n",
    "# print('the list of categorical features is:', categorical_features)\n",
    "# print('the list of numerical features is:', numerical_features)"
   ]
  },
  {
   "cell_type": "code",
   "execution_count": 36,
   "metadata": {},
   "outputs": [],
   "source": [
    "# # check the data type of a colum in data dataframe\n",
    "# data['hospital_death'].dtype"
   ]
  },
  {
   "cell_type": "code",
   "execution_count": 37,
   "metadata": {},
   "outputs": [],
   "source": [
    "# # Handling Missing Values\n",
    "\n",
    "# # Calculate the value counts for 'hospital_death' and convert them to percentages\n",
    "# hospital_death_counts = data['hospital_death'].value_counts(normalize=True) * 100\n",
    "\n",
    "# # Display the percentage distribution of hospital deaths\n",
    "# print(\"Percentage Distribution of Hospital Deaths:\")\n",
    "# print(hospital_death_counts)\n",
    "\n",
    "# # For now, drop any rows that have missing values\n",
    "# data = data.dropna()\n",
    "\n",
    "# # Alternative strategies:\n",
    "# # - Impute numerical features using mean, median, or mode\n",
    "# # - Use KNN imputation or regression models to estimate missing values\n",
    "# # - Impute categorical features with the most frequent category or 'Unknown'\n",
    "# # - Use advanced imputation techniques like MICE (Multiple Imputation by Chained Equations)\n",
    "\n",
    "\n",
    "# # Calculate the value counts for 'hospital_death' and convert them to percentages\n",
    "# hospital_death_counts = data['hospital_death'].value_counts(normalize=True) * 100\n",
    "\n",
    "# # Display the percentage distribution of hospital deaths\n",
    "# print(\"Percentage Distribution of Hospital Deaths:\")\n",
    "# print(hospital_death_counts)"
   ]
  },
  {
   "cell_type": "code",
   "execution_count": 38,
   "metadata": {},
   "outputs": [],
   "source": [
    "# # Split the data\n",
    "# X = data.drop('hospital_death', axis=1)\n",
    "# Y = data['hospital_death']\n",
    "# X_train, X_test, Y_train, Y_test = train_test_split(X, Y, test_size=0.2, random_state=50, stratify=Y)"
   ]
  },
  {
   "cell_type": "code",
   "execution_count": 39,
   "metadata": {},
   "outputs": [],
   "source": [
    "# # Scale the data\n",
    "# scaler = StandardScaler()\n",
    "# X_train_scaled = scaler.fit_transform(X_train)  # Fit on training data\n",
    "# X_test_scaled = scaler.transform(X_test)        # Transform test data using the same scaler"
   ]
  },
  {
   "cell_type": "code",
   "execution_count": 40,
   "metadata": {},
   "outputs": [],
   "source": [
    "# # Split the train dataset into train(85% of train data) and validation(15% of train data) using the train_test_split function with random_state = 50.\n",
    "# X_train, X_val, Y_train, Y_val = train_test_split(X_train_scaled, Y_train, test_size=0.15, random_state=50)"
   ]
  },
  {
   "cell_type": "code",
   "execution_count": 41,
   "metadata": {},
   "outputs": [
    {
     "name": "stdout",
     "output_type": "stream",
     "text": [
      "Data after dropping unnecessary columns, replacing category names, and saving Apache probabilities:\n"
     ]
    },
    {
     "data": {
      "text/html": [
       "<div>\n",
       "<style scoped>\n",
       "    .dataframe tbody tr th:only-of-type {\n",
       "        vertical-align: middle;\n",
       "    }\n",
       "\n",
       "    .dataframe tbody tr th {\n",
       "        vertical-align: top;\n",
       "    }\n",
       "\n",
       "    .dataframe thead th {\n",
       "        text-align: right;\n",
       "    }\n",
       "</style>\n",
       "<table border=\"1\" class=\"dataframe\">\n",
       "  <thead>\n",
       "    <tr style=\"text-align: right;\">\n",
       "      <th></th>\n",
       "      <th>age</th>\n",
       "      <th>bmi</th>\n",
       "      <th>elective_surgery</th>\n",
       "      <th>ethnicity</th>\n",
       "      <th>gender</th>\n",
       "      <th>height</th>\n",
       "      <th>icu_admit_source</th>\n",
       "      <th>icu_stay_type</th>\n",
       "      <th>icu_type</th>\n",
       "      <th>pre_icu_los_days</th>\n",
       "      <th>...</th>\n",
       "      <th>cirrhosis</th>\n",
       "      <th>diabetes_mellitus</th>\n",
       "      <th>hepatic_failure</th>\n",
       "      <th>immunosuppression</th>\n",
       "      <th>leukemia</th>\n",
       "      <th>lymphoma</th>\n",
       "      <th>solid_tumor_with_metastasis</th>\n",
       "      <th>apache_3j_bodysystem</th>\n",
       "      <th>apache_2_bodysystem</th>\n",
       "      <th>hospital_death</th>\n",
       "    </tr>\n",
       "  </thead>\n",
       "  <tbody>\n",
       "    <tr>\n",
       "      <th>0</th>\n",
       "      <td>68.0</td>\n",
       "      <td>22.73</td>\n",
       "      <td>0</td>\n",
       "      <td>Caucasian</td>\n",
       "      <td>M</td>\n",
       "      <td>180.3</td>\n",
       "      <td>Floor</td>\n",
       "      <td>admit</td>\n",
       "      <td>CTICU</td>\n",
       "      <td>0.541667</td>\n",
       "      <td>...</td>\n",
       "      <td>0.0</td>\n",
       "      <td>1.0</td>\n",
       "      <td>0.0</td>\n",
       "      <td>0.0</td>\n",
       "      <td>0.0</td>\n",
       "      <td>0.0</td>\n",
       "      <td>0.0</td>\n",
       "      <td>Sepsis</td>\n",
       "      <td>Cardiovascular</td>\n",
       "      <td>0</td>\n",
       "    </tr>\n",
       "    <tr>\n",
       "      <th>1</th>\n",
       "      <td>77.0</td>\n",
       "      <td>27.42</td>\n",
       "      <td>0</td>\n",
       "      <td>Caucasian</td>\n",
       "      <td>F</td>\n",
       "      <td>160.0</td>\n",
       "      <td>Floor</td>\n",
       "      <td>admit</td>\n",
       "      <td>Med-Surg ICU</td>\n",
       "      <td>0.927778</td>\n",
       "      <td>...</td>\n",
       "      <td>0.0</td>\n",
       "      <td>1.0</td>\n",
       "      <td>0.0</td>\n",
       "      <td>0.0</td>\n",
       "      <td>0.0</td>\n",
       "      <td>0.0</td>\n",
       "      <td>0.0</td>\n",
       "      <td>Respiratory</td>\n",
       "      <td>Respiratory</td>\n",
       "      <td>0</td>\n",
       "    </tr>\n",
       "    <tr>\n",
       "      <th>2</th>\n",
       "      <td>25.0</td>\n",
       "      <td>31.95</td>\n",
       "      <td>0</td>\n",
       "      <td>Caucasian</td>\n",
       "      <td>F</td>\n",
       "      <td>172.7</td>\n",
       "      <td>Accident &amp; Emergency</td>\n",
       "      <td>admit</td>\n",
       "      <td>Med-Surg ICU</td>\n",
       "      <td>0.000694</td>\n",
       "      <td>...</td>\n",
       "      <td>0.0</td>\n",
       "      <td>0.0</td>\n",
       "      <td>0.0</td>\n",
       "      <td>0.0</td>\n",
       "      <td>0.0</td>\n",
       "      <td>0.0</td>\n",
       "      <td>0.0</td>\n",
       "      <td>Metabolic</td>\n",
       "      <td>Metabolic</td>\n",
       "      <td>0</td>\n",
       "    </tr>\n",
       "    <tr>\n",
       "      <th>3</th>\n",
       "      <td>81.0</td>\n",
       "      <td>22.64</td>\n",
       "      <td>1</td>\n",
       "      <td>Caucasian</td>\n",
       "      <td>F</td>\n",
       "      <td>165.1</td>\n",
       "      <td>Operating Room / Recovery</td>\n",
       "      <td>admit</td>\n",
       "      <td>CTICU</td>\n",
       "      <td>0.000694</td>\n",
       "      <td>...</td>\n",
       "      <td>0.0</td>\n",
       "      <td>0.0</td>\n",
       "      <td>0.0</td>\n",
       "      <td>0.0</td>\n",
       "      <td>0.0</td>\n",
       "      <td>0.0</td>\n",
       "      <td>0.0</td>\n",
       "      <td>Cardiovascular</td>\n",
       "      <td>Cardiovascular</td>\n",
       "      <td>0</td>\n",
       "    </tr>\n",
       "    <tr>\n",
       "      <th>4</th>\n",
       "      <td>19.0</td>\n",
       "      <td>NaN</td>\n",
       "      <td>0</td>\n",
       "      <td>Caucasian</td>\n",
       "      <td>M</td>\n",
       "      <td>188.0</td>\n",
       "      <td>Accident &amp; Emergency</td>\n",
       "      <td>admit</td>\n",
       "      <td>Med-Surg ICU</td>\n",
       "      <td>0.073611</td>\n",
       "      <td>...</td>\n",
       "      <td>0.0</td>\n",
       "      <td>0.0</td>\n",
       "      <td>0.0</td>\n",
       "      <td>0.0</td>\n",
       "      <td>0.0</td>\n",
       "      <td>0.0</td>\n",
       "      <td>0.0</td>\n",
       "      <td>Trauma</td>\n",
       "      <td>Trauma</td>\n",
       "      <td>0</td>\n",
       "    </tr>\n",
       "  </tbody>\n",
       "</table>\n",
       "<p>5 rows × 77 columns</p>\n",
       "</div>"
      ],
      "text/plain": [
       "    age    bmi  elective_surgery  ethnicity gender  height  \\\n",
       "0  68.0  22.73                 0  Caucasian      M   180.3   \n",
       "1  77.0  27.42                 0  Caucasian      F   160.0   \n",
       "2  25.0  31.95                 0  Caucasian      F   172.7   \n",
       "3  81.0  22.64                 1  Caucasian      F   165.1   \n",
       "4  19.0    NaN                 0  Caucasian      M   188.0   \n",
       "\n",
       "            icu_admit_source icu_stay_type      icu_type  pre_icu_los_days  \\\n",
       "0                      Floor         admit         CTICU          0.541667   \n",
       "1                      Floor         admit  Med-Surg ICU          0.927778   \n",
       "2       Accident & Emergency         admit  Med-Surg ICU          0.000694   \n",
       "3  Operating Room / Recovery         admit         CTICU          0.000694   \n",
       "4       Accident & Emergency         admit  Med-Surg ICU          0.073611   \n",
       "\n",
       "   ...  cirrhosis  diabetes_mellitus  hepatic_failure  immunosuppression  \\\n",
       "0  ...        0.0                1.0              0.0                0.0   \n",
       "1  ...        0.0                1.0              0.0                0.0   \n",
       "2  ...        0.0                0.0              0.0                0.0   \n",
       "3  ...        0.0                0.0              0.0                0.0   \n",
       "4  ...        0.0                0.0              0.0                0.0   \n",
       "\n",
       "   leukemia  lymphoma  solid_tumor_with_metastasis  apache_3j_bodysystem  \\\n",
       "0       0.0       0.0                          0.0                Sepsis   \n",
       "1       0.0       0.0                          0.0           Respiratory   \n",
       "2       0.0       0.0                          0.0             Metabolic   \n",
       "3       0.0       0.0                          0.0        Cardiovascular   \n",
       "4       0.0       0.0                          0.0                Trauma   \n",
       "\n",
       "   apache_2_bodysystem  hospital_death  \n",
       "0       Cardiovascular               0  \n",
       "1          Respiratory               0  \n",
       "2            Metabolic               0  \n",
       "3       Cardiovascular               0  \n",
       "4               Trauma               0  \n",
       "\n",
       "[5 rows x 77 columns]"
      ]
     },
     "execution_count": 41,
     "metadata": {},
     "output_type": "execute_result"
    }
   ],
   "source": [
    "# Load the dataset\n",
    "data = pd.read_csv('dataset.csv')\n",
    "\n",
    "# Drop unnecessary columns\n",
    "cols_to_drop = ['encounter_id', 'patient_id', 'hospital_id', 'icu_id', 'Unnamed: 83', 'gcs_unable_apache']\n",
    "data.drop(columns=cols_to_drop, inplace=True)\n",
    "\n",
    "# Replace \"Undefined diagnoses\" with \"Undefined Diagnoses\" in 'apache_2_bodysystem'\n",
    "# This ensures consistency in category naming\n",
    "data['apache_2_bodysystem'] = data['apache_2_bodysystem'].replace('Undefined diagnoses', 'Undefined Diagnoses')\n",
    "\n",
    "# Save 'apache_4a_hospital_death_prob' and 'apache_4a_icu_death_prob' in a separate DataFrame\n",
    "apache_probs = data[['apache_4a_hospital_death_prob', 'apache_4a_icu_death_prob']].copy()\n",
    "\n",
    "# Drop these columns from the main dataset\n",
    "data.drop(columns=['apache_4a_hospital_death_prob', 'apache_4a_icu_death_prob'], inplace=True)\n",
    "\n",
    "# Display the first few rows to verify\n",
    "print(\"Data after dropping unnecessary columns, replacing category names, and saving Apache probabilities:\")\n",
    "data.head()"
   ]
  },
  {
   "cell_type": "code",
   "execution_count": 42,
   "metadata": {},
   "outputs": [
    {
     "name": "stdout",
     "output_type": "stream",
     "text": [
      "Missing Values in Each Column:\n",
      "age                            4228\n",
      "bmi                            3429\n",
      "ethnicity                      1395\n",
      "gender                           25\n",
      "height                         1334\n",
      "icu_admit_source                112\n",
      "weight                         2720\n",
      "apache_2_diagnosis             1662\n",
      "apache_3j_diagnosis            1101\n",
      "arf_apache                      715\n",
      "gcs_eyes_apache                1901\n",
      "gcs_motor_apache               1901\n",
      "gcs_verbal_apache              1901\n",
      "heart_rate_apache               878\n",
      "intubated_apache                715\n",
      "map_apache                      994\n",
      "resprate_apache                1234\n",
      "temp_apache                    4108\n",
      "ventilated_apache               715\n",
      "d1_diasbp_max                   165\n",
      "d1_diasbp_min                   165\n",
      "d1_diasbp_noninvasive_max      1040\n",
      "d1_diasbp_noninvasive_min      1040\n",
      "d1_heartrate_max                145\n",
      "d1_heartrate_min                145\n",
      "d1_mbp_max                      220\n",
      "d1_mbp_min                      220\n",
      "d1_mbp_noninvasive_max         1479\n",
      "d1_mbp_noninvasive_min         1479\n",
      "d1_resprate_max                 385\n",
      "d1_resprate_min                 385\n",
      "d1_spo2_max                     333\n",
      "d1_spo2_min                     333\n",
      "d1_sysbp_max                    159\n",
      "d1_sysbp_min                    159\n",
      "d1_sysbp_noninvasive_max       1027\n",
      "d1_sysbp_noninvasive_min       1027\n",
      "d1_temp_max                    2324\n",
      "d1_temp_min                    2324\n",
      "h1_diasbp_max                  3619\n",
      "h1_diasbp_min                  3619\n",
      "h1_diasbp_noninvasive_max      7350\n",
      "h1_diasbp_noninvasive_min      7350\n",
      "h1_heartrate_max               2790\n",
      "h1_heartrate_min               2790\n",
      "h1_mbp_max                     4639\n",
      "h1_mbp_min                     4639\n",
      "h1_mbp_noninvasive_max         9084\n",
      "h1_mbp_noninvasive_min         9084\n",
      "h1_resprate_max                4357\n",
      "h1_resprate_min                4357\n",
      "h1_spo2_max                    4185\n",
      "h1_spo2_min                    4185\n",
      "h1_sysbp_max                   3611\n",
      "h1_sysbp_min                   3611\n",
      "h1_sysbp_noninvasive_max       7341\n",
      "h1_sysbp_noninvasive_min       7341\n",
      "d1_glucose_max                 5807\n",
      "d1_glucose_min                 5807\n",
      "d1_potassium_max               9585\n",
      "d1_potassium_min               9585\n",
      "aids                            715\n",
      "cirrhosis                       715\n",
      "diabetes_mellitus               715\n",
      "hepatic_failure                 715\n",
      "immunosuppression               715\n",
      "leukemia                        715\n",
      "lymphoma                        715\n",
      "solid_tumor_with_metastasis     715\n",
      "apache_3j_bodysystem           1662\n",
      "apache_2_bodysystem            1662\n",
      "dtype: int64\n"
     ]
    }
   ],
   "source": [
    "# Set display options to show all rows for missing values\n",
    "pd.set_option('display.max_rows', None)  # Show all rows\n",
    "pd.set_option('display.max_columns', None)  # Show all columns (if needed)\n",
    "\n",
    "# Calculate and display missing values in each column\n",
    "missing_values = data.isnull().sum()\n",
    "missing_values = missing_values[missing_values > 0]\n",
    "\n",
    "print(\"Missing Values in Each Column:\")\n",
    "print(missing_values)\n",
    "\n",
    "# Reset display options back to default if needed\n",
    "pd.reset_option('display.max_rows')\n",
    "pd.reset_option('display.max_columns')"
   ]
  },
  {
   "cell_type": "code",
   "execution_count": 43,
   "metadata": {},
   "outputs": [
    {
     "name": "stdout",
     "output_type": "stream",
     "text": [
      "\n",
      "Data shape before dropping missing values: (61955, 77)\n",
      "Data shape after dropping missing values: (61955, 77)\n"
     ]
    }
   ],
   "source": [
    "# Drop any rows that have missing values\n",
    "data.dropna(inplace=True)\n",
    "\n",
    "# Alternative strategies (commented for reference):\n",
    "# 1. **Impute Numerical Features:**\n",
    "#    - Use mean, median, or mode to fill missing values.\n",
    "# 2. **Impute Categorical Features:**\n",
    "#    - Fill missing values with the most frequent category or 'Unknown'.\n",
    "# 3. **Advanced Imputation Techniques:**\n",
    "#    - Use K-Nearest Neighbors (KNN) or Multiple Imputation by Chained Equations (MICE).\n",
    "\n",
    "\n",
    "print(f\"\\nData shape before dropping missing values: {data.shape}\")\n",
    "print(f\"Data shape after dropping missing values: {data.shape}\")"
   ]
  },
  {
   "cell_type": "code",
   "execution_count": 44,
   "metadata": {},
   "outputs": [
    {
     "name": "stdout",
     "output_type": "stream",
     "text": [
      "Data after Feature Engineering:\n"
     ]
    },
    {
     "data": {
      "text/html": [
       "<div>\n",
       "<style scoped>\n",
       "    .dataframe tbody tr th:only-of-type {\n",
       "        vertical-align: middle;\n",
       "    }\n",
       "\n",
       "    .dataframe tbody tr th {\n",
       "        vertical-align: top;\n",
       "    }\n",
       "\n",
       "    .dataframe thead th {\n",
       "        text-align: right;\n",
       "    }\n",
       "</style>\n",
       "<table border=\"1\" class=\"dataframe\">\n",
       "  <thead>\n",
       "    <tr style=\"text-align: right;\">\n",
       "      <th></th>\n",
       "      <th>age</th>\n",
       "      <th>bmi</th>\n",
       "      <th>elective_surgery</th>\n",
       "      <th>ethnicity</th>\n",
       "      <th>gender</th>\n",
       "      <th>height</th>\n",
       "      <th>icu_admit_source</th>\n",
       "      <th>icu_stay_type</th>\n",
       "      <th>icu_type</th>\n",
       "      <th>pre_icu_los_days</th>\n",
       "      <th>...</th>\n",
       "      <th>h1_sysbp_noninvasive_min</th>\n",
       "      <th>d1_glucose_max</th>\n",
       "      <th>d1_glucose_min</th>\n",
       "      <th>d1_potassium_max</th>\n",
       "      <th>d1_potassium_min</th>\n",
       "      <th>apache_3j_bodysystem</th>\n",
       "      <th>apache_2_bodysystem</th>\n",
       "      <th>hospital_death</th>\n",
       "      <th>comorbidity_count</th>\n",
       "      <th>gcs_total</th>\n",
       "    </tr>\n",
       "  </thead>\n",
       "  <tbody>\n",
       "    <tr>\n",
       "      <th>0</th>\n",
       "      <td>68.0</td>\n",
       "      <td>22.730000</td>\n",
       "      <td>0</td>\n",
       "      <td>Caucasian</td>\n",
       "      <td>M</td>\n",
       "      <td>180.3</td>\n",
       "      <td>Floor</td>\n",
       "      <td>admit</td>\n",
       "      <td>Other</td>\n",
       "      <td>0.541667</td>\n",
       "      <td>...</td>\n",
       "      <td>115.0</td>\n",
       "      <td>168.0</td>\n",
       "      <td>109.0</td>\n",
       "      <td>4.0</td>\n",
       "      <td>3.4</td>\n",
       "      <td>Sepsis</td>\n",
       "      <td>Cardiovascular</td>\n",
       "      <td>0</td>\n",
       "      <td>1</td>\n",
       "      <td>13.0</td>\n",
       "    </tr>\n",
       "    <tr>\n",
       "      <th>1</th>\n",
       "      <td>77.0</td>\n",
       "      <td>27.420000</td>\n",
       "      <td>0</td>\n",
       "      <td>Caucasian</td>\n",
       "      <td>F</td>\n",
       "      <td>160.0</td>\n",
       "      <td>Floor</td>\n",
       "      <td>admit</td>\n",
       "      <td>Med-Surg ICU</td>\n",
       "      <td>0.927778</td>\n",
       "      <td>...</td>\n",
       "      <td>71.0</td>\n",
       "      <td>145.0</td>\n",
       "      <td>128.0</td>\n",
       "      <td>4.2</td>\n",
       "      <td>3.8</td>\n",
       "      <td>Respiratory</td>\n",
       "      <td>Respiratory</td>\n",
       "      <td>0</td>\n",
       "      <td>1</td>\n",
       "      <td>5.0</td>\n",
       "    </tr>\n",
       "    <tr>\n",
       "      <th>5</th>\n",
       "      <td>67.0</td>\n",
       "      <td>27.560000</td>\n",
       "      <td>0</td>\n",
       "      <td>Caucasian</td>\n",
       "      <td>M</td>\n",
       "      <td>190.5</td>\n",
       "      <td>Accident &amp; Emergency</td>\n",
       "      <td>admit</td>\n",
       "      <td>Med-Surg ICU</td>\n",
       "      <td>0.000694</td>\n",
       "      <td>...</td>\n",
       "      <td>143.0</td>\n",
       "      <td>156.0</td>\n",
       "      <td>125.0</td>\n",
       "      <td>3.9</td>\n",
       "      <td>3.7</td>\n",
       "      <td>Neurological</td>\n",
       "      <td>Neurologic</td>\n",
       "      <td>0</td>\n",
       "      <td>1</td>\n",
       "      <td>15.0</td>\n",
       "    </tr>\n",
       "    <tr>\n",
       "      <th>10</th>\n",
       "      <td>72.0</td>\n",
       "      <td>28.257052</td>\n",
       "      <td>1</td>\n",
       "      <td>Hispanic</td>\n",
       "      <td>F</td>\n",
       "      <td>154.9</td>\n",
       "      <td>Operating Room / Recovery</td>\n",
       "      <td>admit</td>\n",
       "      <td>Med-Surg ICU</td>\n",
       "      <td>0.004861</td>\n",
       "      <td>...</td>\n",
       "      <td>114.0</td>\n",
       "      <td>158.0</td>\n",
       "      <td>133.0</td>\n",
       "      <td>4.2</td>\n",
       "      <td>4.2</td>\n",
       "      <td>Respiratory</td>\n",
       "      <td>Respiratory</td>\n",
       "      <td>0</td>\n",
       "      <td>1</td>\n",
       "      <td>15.0</td>\n",
       "    </tr>\n",
       "    <tr>\n",
       "      <th>17</th>\n",
       "      <td>46.0</td>\n",
       "      <td>25.845717</td>\n",
       "      <td>0</td>\n",
       "      <td>Hispanic</td>\n",
       "      <td>M</td>\n",
       "      <td>167.6</td>\n",
       "      <td>Accident &amp; Emergency</td>\n",
       "      <td>admit</td>\n",
       "      <td>Other</td>\n",
       "      <td>0.000000</td>\n",
       "      <td>...</td>\n",
       "      <td>115.0</td>\n",
       "      <td>143.0</td>\n",
       "      <td>143.0</td>\n",
       "      <td>4.9</td>\n",
       "      <td>4.9</td>\n",
       "      <td>Respiratory</td>\n",
       "      <td>Respiratory</td>\n",
       "      <td>0</td>\n",
       "      <td>0</td>\n",
       "      <td>6.0</td>\n",
       "    </tr>\n",
       "  </tbody>\n",
       "</table>\n",
       "<p>5 rows × 68 columns</p>\n",
       "</div>"
      ],
      "text/plain": [
       "     age        bmi  elective_surgery  ethnicity gender  height  \\\n",
       "0   68.0  22.730000                 0  Caucasian      M   180.3   \n",
       "1   77.0  27.420000                 0  Caucasian      F   160.0   \n",
       "5   67.0  27.560000                 0  Caucasian      M   190.5   \n",
       "10  72.0  28.257052                 1   Hispanic      F   154.9   \n",
       "17  46.0  25.845717                 0   Hispanic      M   167.6   \n",
       "\n",
       "             icu_admit_source icu_stay_type      icu_type  pre_icu_los_days  \\\n",
       "0                       Floor         admit         Other          0.541667   \n",
       "1                       Floor         admit  Med-Surg ICU          0.927778   \n",
       "5        Accident & Emergency         admit  Med-Surg ICU          0.000694   \n",
       "10  Operating Room / Recovery         admit  Med-Surg ICU          0.004861   \n",
       "17       Accident & Emergency         admit         Other          0.000000   \n",
       "\n",
       "    ...  h1_sysbp_noninvasive_min  d1_glucose_max  d1_glucose_min  \\\n",
       "0   ...                     115.0           168.0           109.0   \n",
       "1   ...                      71.0           145.0           128.0   \n",
       "5   ...                     143.0           156.0           125.0   \n",
       "10  ...                     114.0           158.0           133.0   \n",
       "17  ...                     115.0           143.0           143.0   \n",
       "\n",
       "    d1_potassium_max  d1_potassium_min  apache_3j_bodysystem  \\\n",
       "0                4.0               3.4                Sepsis   \n",
       "1                4.2               3.8           Respiratory   \n",
       "5                3.9               3.7          Neurological   \n",
       "10               4.2               4.2           Respiratory   \n",
       "17               4.9               4.9           Respiratory   \n",
       "\n",
       "    apache_2_bodysystem  hospital_death  comorbidity_count  gcs_total  \n",
       "0        Cardiovascular               0                  1       13.0  \n",
       "1           Respiratory               0                  1        5.0  \n",
       "5            Neurologic               0                  1       15.0  \n",
       "10          Respiratory               0                  1       15.0  \n",
       "17          Respiratory               0                  0        6.0  \n",
       "\n",
       "[5 rows x 68 columns]"
      ]
     },
     "execution_count": 44,
     "metadata": {},
     "output_type": "execute_result"
    }
   ],
   "source": [
    "# Handle comorbidity variables\n",
    "comorbidity_vars = [\n",
    "    'aids', 'cirrhosis', 'diabetes_mellitus', 'hepatic_failure',\n",
    "    'immunosuppression', 'leukemia', 'lymphoma', 'solid_tumor_with_metastasis'\n",
    "]\n",
    "\n",
    "# Ensure comorbidity variables are integers\n",
    "data[comorbidity_vars] = data[comorbidity_vars].astype(int)\n",
    "\n",
    "# Compute comorbidity count\n",
    "data['comorbidity_count'] = data[comorbidity_vars].sum(axis=1)\n",
    "\n",
    "# Handle GCS (Glasgow Coma Scale) variables\n",
    "gcs_vars = ['gcs_eyes_apache', 'gcs_motor_apache', 'gcs_verbal_apache']\n",
    "\n",
    "# Convert GCS variables to numeric if not already\n",
    "data[gcs_vars] = data[gcs_vars].apply(pd.to_numeric)\n",
    "\n",
    "# Compute GCS total\n",
    "data['gcs_total'] = data[gcs_vars].sum(axis=1)\n",
    "\n",
    "# Re-express categorical variables by combining certain categories\n",
    "\n",
    "# Ethnicity: Combine 'Asian', 'Native American', 'Other/Unknown' into 'Other'\n",
    "ethnicities_to_combine = ['Asian', 'Native American', 'Other/Unknown']\n",
    "data['ethnicity'] = data['ethnicity'].apply(\n",
    "    lambda x: x if x not in ethnicities_to_combine else 'Other'\n",
    ")\n",
    "\n",
    "# ICU Admit Source: Combine 'Other ICU' into 'Other'\n",
    "icu_admit_sources_to_combine = ['Other ICU']\n",
    "data['icu_admit_source'] = data['icu_admit_source'].apply(\n",
    "    lambda x: x if x not in icu_admit_sources_to_combine else 'Other'\n",
    ")\n",
    "\n",
    "# ICU Type: Combine 'SICU', 'CTICU', 'CSICU' into 'Other'\n",
    "icu_types_to_combine = ['SICU', 'CTICU', 'CSICU']\n",
    "data['icu_type'] = data['icu_type'].apply(\n",
    "    lambda x: x if x not in icu_types_to_combine else 'Other'\n",
    ")\n",
    "\n",
    "# APACHE 3J Bodysystem: Combine specific categories into 'Other'\n",
    "apache_3j_bodysystem_to_combine = [\n",
    "    'Gynecological',\n",
    "    'Musculoskeletal/Skin',\n",
    "    'Hematological',\n",
    "    'Genitourinary',\n",
    "    'Trauma',\n",
    "    'Metabolic'\n",
    "]\n",
    "data['apache_3j_bodysystem'] = data['apache_3j_bodysystem'].apply(\n",
    "    lambda x: x if x not in apache_3j_bodysystem_to_combine else 'Other'\n",
    ")\n",
    "\n",
    "# Drop individual comorbidity and GCS columns since we have the totals\n",
    "data.drop(columns=comorbidity_vars + gcs_vars, inplace=True)\n",
    "\n",
    "# Display the first few rows to verify feature engineering\n",
    "print(\"Data after Feature Engineering:\")\n",
    "data.head()\n"
   ]
  },
  {
   "cell_type": "code",
   "execution_count": 45,
   "metadata": {},
   "outputs": [
    {
     "name": "stdout",
     "output_type": "stream",
     "text": [
      "Continuous Numerical Features:\n",
      "['age', 'bmi', 'elective_surgery', 'height', 'pre_icu_los_days', 'weight', 'apache_2_diagnosis', 'apache_3j_diagnosis', 'apache_post_operative', 'arf_apache', 'heart_rate_apache', 'intubated_apache', 'map_apache', 'resprate_apache', 'temp_apache', 'ventilated_apache', 'd1_diasbp_max', 'd1_diasbp_min', 'd1_diasbp_noninvasive_max', 'd1_diasbp_noninvasive_min', 'd1_heartrate_max', 'd1_heartrate_min', 'd1_mbp_max', 'd1_mbp_min', 'd1_mbp_noninvasive_max', 'd1_mbp_noninvasive_min', 'd1_resprate_max', 'd1_resprate_min', 'd1_spo2_max', 'd1_spo2_min', 'd1_sysbp_max', 'd1_sysbp_min', 'd1_sysbp_noninvasive_max', 'd1_sysbp_noninvasive_min', 'd1_temp_max', 'd1_temp_min', 'h1_diasbp_max', 'h1_diasbp_min', 'h1_diasbp_noninvasive_max', 'h1_diasbp_noninvasive_min', 'h1_heartrate_max', 'h1_heartrate_min', 'h1_mbp_max', 'h1_mbp_min', 'h1_mbp_noninvasive_max', 'h1_mbp_noninvasive_min', 'h1_resprate_max', 'h1_resprate_min', 'h1_spo2_max', 'h1_spo2_min', 'h1_sysbp_max', 'h1_sysbp_min', 'h1_sysbp_noninvasive_max', 'h1_sysbp_noninvasive_min', 'd1_glucose_max', 'd1_glucose_min', 'd1_potassium_max', 'd1_potassium_min', 'comorbidity_count', 'gcs_total']\n",
      "\n",
      "Categorical Features:\n",
      "['ethnicity', 'gender', 'icu_admit_source', 'icu_stay_type', 'icu_type', 'apache_2_bodysystem', 'apache_3j_bodysystem']\n",
      "\n",
      "Binary Categorical Features:\n",
      "['gender']\n",
      "\n",
      "Summary Statistics of Continuous Numerical Features:\n",
      "                age           bmi  elective_surgery        height  \\\n",
      "count  61955.000000  61955.000000      61955.000000  61955.000000   \n",
      "mean      62.479655     29.302444          0.159325    169.763384   \n",
      "std       16.727255      8.343413          0.365982     10.753394   \n",
      "min       16.000000     14.844926          0.000000    137.200000   \n",
      "25%       53.000000     23.706122          0.000000    162.560000   \n",
      "50%       65.000000     27.771653          0.000000    170.100000   \n",
      "75%       75.000000     33.086879          0.000000    177.800000   \n",
      "max       89.000000     67.814990          1.000000    195.590000   \n",
      "\n",
      "       pre_icu_los_days        weight  apache_2_diagnosis  \\\n",
      "count      61955.000000  61955.000000        61955.000000   \n",
      "mean           0.822111     84.448021          181.938278   \n",
      "std            2.396905     25.146599           85.701631   \n",
      "min           -0.244444     38.600000          101.000000   \n",
      "25%            0.036806     67.100000          113.000000   \n",
      "50%            0.136806     80.740000          122.000000   \n",
      "75%            0.389583     97.500000          301.000000   \n",
      "max           73.022917    186.000000          308.000000   \n",
      "\n",
      "       apache_3j_diagnosis  apache_post_operative    arf_apache  ...  \\\n",
      "count         61955.000000           61955.000000  61955.000000  ...   \n",
      "mean            547.861361               0.181519      0.030264  ...   \n",
      "std             450.768800               0.385451      0.171314  ...   \n",
      "min             101.010000               0.000000      0.000000  ...   \n",
      "25%             206.010000               0.000000      0.000000  ...   \n",
      "50%             409.020000               0.000000      0.000000  ...   \n",
      "75%             703.030000               0.000000      0.000000  ...   \n",
      "max            2201.050000               1.000000      1.000000  ...   \n",
      "\n",
      "       h1_sysbp_max  h1_sysbp_min  h1_sysbp_noninvasive_max  \\\n",
      "count  61955.000000  61955.000000              61955.000000   \n",
      "mean     132.821144    115.903688                132.713034   \n",
      "std       27.585256     26.519679                 27.573993   \n",
      "min       75.000000     53.000000                 75.000000   \n",
      "25%      113.000000     97.000000                113.000000   \n",
      "50%      130.000000    114.000000                130.000000   \n",
      "75%      150.000000    133.000000                150.000000   \n",
      "max      223.000000    194.000000                223.000000   \n",
      "\n",
      "       h1_sysbp_noninvasive_min  d1_glucose_max  d1_glucose_min  \\\n",
      "count              61955.000000    61955.000000    61955.000000   \n",
      "mean                 115.849778      175.979195      113.882479   \n",
      "std                   26.510664       88.855958       37.681962   \n",
      "min                   53.000000       73.000000       33.000000   \n",
      "25%                   97.000000      117.000000       90.000000   \n",
      "50%                  114.000000      150.000000      107.000000   \n",
      "75%                  133.000000      203.000000      130.000000   \n",
      "max                  195.000000      611.000000      288.000000   \n",
      "\n",
      "       d1_potassium_max  d1_potassium_min  comorbidity_count     gcs_total  \n",
      "count      61955.000000      61955.000000       61955.000000  61955.000000  \n",
      "mean           4.238361          3.932157           0.334049     12.808942  \n",
      "std            0.669631          0.582967           0.560285      3.532196  \n",
      "min            2.800000          2.400000           0.000000      3.000000  \n",
      "25%            3.800000          3.600000           0.000000     12.000000  \n",
      "50%            4.100000          3.900000           0.000000     15.000000  \n",
      "75%            4.600000          4.300000           1.000000     15.000000  \n",
      "max            7.000000          5.800000           4.000000     15.000000  \n",
      "\n",
      "[8 rows x 60 columns]\n"
     ]
    }
   ],
   "source": [
    "#  Define Categorical Features Before Encoding\n",
    "# It's crucial to define which features are categorical based on your understanding of the data.\n",
    "# Adjust this list based on your dataset's actual categorical features.\n",
    "\n",
    "categorical_features = [\n",
    "    'ethnicity', 'gender', 'icu_admit_source', 'icu_stay_type',\n",
    "    'icu_type', 'apache_2_bodysystem', 'apache_3j_bodysystem'\n",
    "]\n",
    "\n",
    "#  Identify Numerical Features (Excluding the Target Variable)\n",
    "numerical_features = data.select_dtypes(include=[np.number]).columns.tolist()\n",
    "if 'hospital_death' in numerical_features:\n",
    "    numerical_features.remove('hospital_death')\n",
    "\n",
    "#  Differentiate Between Binary and Continuous Numerical Features\n",
    "# Binary categorical features are those categorical features with exactly two unique values\n",
    "binary_columns = [col for col in categorical_features if data[col].nunique() == 2]\n",
    "# Continuous numerical features are the remaining numerical features not in binary_columns\n",
    "continuous_numerical_features = [col for col in numerical_features if col not in binary_columns]\n",
    "\n",
    "#  Print Feature Lists\n",
    "print(\"Continuous Numerical Features:\")\n",
    "print(continuous_numerical_features)\n",
    "\n",
    "print(\"\\nCategorical Features:\")\n",
    "print(categorical_features)\n",
    "\n",
    "print(\"\\nBinary Categorical Features:\")\n",
    "print(binary_columns)\n",
    "\n",
    "#  Summary Statistics for Continuous Numerical Features\n",
    "if continuous_numerical_features:\n",
    "    print(\"\\nSummary Statistics of Continuous Numerical Features:\")\n",
    "    print(data[continuous_numerical_features].describe())\n",
    "else:\n",
    "    print(\"\\nNo Continuous Numerical Features to display.\")"
   ]
  },
  {
   "cell_type": "code",
   "execution_count": 46,
   "metadata": {},
   "outputs": [
    {
     "name": "stdout",
     "output_type": "stream",
     "text": [
      "Categorical Features to Encode:\n",
      "['ethnicity', 'gender', 'icu_admit_source', 'icu_stay_type', 'icu_type', 'apache_2_bodysystem', 'apache_3j_bodysystem']\n",
      "\n",
      "Data Types After Label Encoding:\n",
      "age                     float64\n",
      "bmi                     float64\n",
      "elective_surgery          int64\n",
      "ethnicity                 int64\n",
      "gender                    int64\n",
      "                         ...   \n",
      "apache_3j_bodysystem      int64\n",
      "apache_2_bodysystem       int64\n",
      "hospital_death            int64\n",
      "comorbidity_count         int64\n",
      "gcs_total               float64\n",
      "Length: 68, dtype: object\n"
     ]
    }
   ],
   "source": [
    "from sklearn.preprocessing import LabelEncoder\n",
    "\n",
    "# Identify categorical features (predefined)\n",
    "print(\"Categorical Features to Encode:\")\n",
    "print(categorical_features)\n",
    "\n",
    "# Initialize LabelEncoders for each categorical column\n",
    "label_encoders = {}\n",
    "\n",
    "# Apply Label Encoding to all categorical features\n",
    "for col in categorical_features:\n",
    "    le = LabelEncoder()\n",
    "    data[col] = le.fit_transform(data[col])\n",
    "    label_encoders[col] = le  # Save the encoder for future use (e.g., during inference)\n",
    "\n",
    "# Verify that all categorical features have been encoded\n",
    "print(\"\\nData Types After Label Encoding:\")\n",
    "print(data.dtypes)"
   ]
  },
  {
   "cell_type": "code",
   "execution_count": 47,
   "metadata": {},
   "outputs": [
    {
     "name": "stdout",
     "output_type": "stream",
     "text": [
      "\n",
      "**Label Encoding Explained:**\n",
      "\n",
      "Label Encoding is a technique used to convert categorical variables into numerical form so that machine learning algorithms can process them.\n",
      "Each unique category in a feature is assigned an integer value.\n",
      "\n",
      "**Example:**\n",
      "For a feature 'gender' with categories ['Male', 'Female'], Label Encoding might assign:\n",
      "- 'Male' -> 0\n",
      "- 'Female' -> 1\n",
      "\n",
      "**Important Note:**\n",
      "Label Encoding does not preserve any ordinal relationship unless the categories inherently have one.\n",
      "For purely nominal categorical variables, One-Hot Encoding is often preferred to avoid introducing unintended ordinal relationships.\n",
      "\n",
      "Below, we'll display the mapping of each categorical feature from its original categories to the encoded numerical values.\n",
      "\n",
      "\n",
      "**Feature: ethnicity**\n",
      "  0: African American\n",
      "  1: Caucasian\n",
      "  2: Hispanic\n",
      "  3: Other\n",
      "\n",
      "**Feature: gender**\n",
      "  0: F\n",
      "  1: M\n",
      "\n",
      "**Feature: icu_admit_source**\n",
      "  0: Accident & Emergency\n",
      "  1: Floor\n",
      "  2: Operating Room / Recovery\n",
      "  3: Other\n",
      "  4: Other Hospital\n",
      "\n",
      "**Feature: icu_stay_type**\n",
      "  0: admit\n",
      "  1: readmit\n",
      "  2: transfer\n",
      "\n",
      "**Feature: icu_type**\n",
      "  0: CCU-CTICU\n",
      "  1: Cardiac ICU\n",
      "  2: MICU\n",
      "  3: Med-Surg ICU\n",
      "  4: Neuro ICU\n",
      "  5: Other\n",
      "\n",
      "**Feature: apache_2_bodysystem**\n",
      "  0: Cardiovascular\n",
      "  1: Gastrointestinal\n",
      "  2: Haematologic\n",
      "  3: Metabolic\n",
      "  4: Neurologic\n",
      "  5: Renal/Genitourinary\n",
      "  6: Respiratory\n",
      "  7: Trauma\n",
      "  8: Undefined Diagnoses\n",
      "\n",
      "**Feature: apache_3j_bodysystem**\n",
      "  0: Cardiovascular\n",
      "  1: Gastrointestinal\n",
      "  2: Neurological\n",
      "  3: Other\n",
      "  4: Respiratory\n",
      "  5: Sepsis\n"
     ]
    }
   ],
   "source": [
    "from sklearn.preprocessing import LabelEncoder\n",
    "\n",
    "\n",
    "print(\"\"\"\n",
    "**Label Encoding Explained:**\n",
    "\n",
    "Label Encoding is a technique used to convert categorical variables into numerical form so that machine learning algorithms can process them.\n",
    "Each unique category in a feature is assigned an integer value.\n",
    "\n",
    "**Example:**\n",
    "For a feature 'gender' with categories ['Male', 'Female'], Label Encoding might assign:\n",
    "- 'Male' -> 0\n",
    "- 'Female' -> 1\n",
    "\n",
    "**Important Note:**\n",
    "Label Encoding does not preserve any ordinal relationship unless the categories inherently have one.\n",
    "For purely nominal categorical variables, One-Hot Encoding is often preferred to avoid introducing unintended ordinal relationships.\n",
    "\n",
    "Below, we'll display the mapping of each categorical feature from its original categories to the encoded numerical values.\n",
    "\"\"\")\n",
    "\n",
    "#  Display Label Encoding Mappings for Each Categorical Feature**\n",
    "for col, le in label_encoders.items():\n",
    "    print(f\"\\n**Feature: {col}**\")\n",
    "    mapping = dict(zip(le.classes_, le.transform(le.classes_)))\n",
    "    for category, code in mapping.items():\n",
    "        print(f\"  {code}: {category}\")\n"
   ]
  },
  {
   "cell_type": "code",
   "execution_count": 52,
   "metadata": {},
   "outputs": [
    {
     "name": "stdout",
     "output_type": "stream",
     "text": [
      "Features shape: (61955, 67)\n",
      "Target shape: (61955,)\n",
      "\n",
      "Numerical Features:\n",
      "['age', 'bmi', 'elective_surgery', 'ethnicity', 'gender', 'height', 'icu_admit_source', 'icu_stay_type', 'icu_type', 'pre_icu_los_days', 'weight', 'apache_2_diagnosis', 'apache_3j_diagnosis', 'apache_post_operative', 'arf_apache', 'heart_rate_apache', 'intubated_apache', 'map_apache', 'resprate_apache', 'temp_apache', 'ventilated_apache', 'd1_diasbp_max', 'd1_diasbp_min', 'd1_diasbp_noninvasive_max', 'd1_diasbp_noninvasive_min', 'd1_heartrate_max', 'd1_heartrate_min', 'd1_mbp_max', 'd1_mbp_min', 'd1_mbp_noninvasive_max', 'd1_mbp_noninvasive_min', 'd1_resprate_max', 'd1_resprate_min', 'd1_spo2_max', 'd1_spo2_min', 'd1_sysbp_max', 'd1_sysbp_min', 'd1_sysbp_noninvasive_max', 'd1_sysbp_noninvasive_min', 'd1_temp_max', 'd1_temp_min', 'h1_diasbp_max', 'h1_diasbp_min', 'h1_diasbp_noninvasive_max', 'h1_diasbp_noninvasive_min', 'h1_heartrate_max', 'h1_heartrate_min', 'h1_mbp_max', 'h1_mbp_min', 'h1_mbp_noninvasive_max', 'h1_mbp_noninvasive_min', 'h1_resprate_max', 'h1_resprate_min', 'h1_spo2_max', 'h1_spo2_min', 'h1_sysbp_max', 'h1_sysbp_min', 'h1_sysbp_noninvasive_max', 'h1_sysbp_noninvasive_min', 'd1_glucose_max', 'd1_glucose_min', 'd1_potassium_max', 'd1_potassium_min', 'apache_3j_bodysystem', 'apache_2_bodysystem', 'comorbidity_count', 'gcs_total'] \n",
      "\n",
      "Categorical Features:\n",
      "['ethnicity', 'gender', 'icu_admit_source', 'icu_stay_type', 'icu_type', 'apache_2_bodysystem', 'apache_3j_bodysystem'] \n",
      "\n",
      "Numerical Features After Scaling:\n",
      "         age       bmi  elective_surgery  ethnicity    gender    height  \\\n",
      "0   0.330024 -0.787747         -0.435340  -0.124786  0.917088  0.979849   \n",
      "1   0.868072 -0.225622         -0.435340  -0.124786 -1.090408 -0.907943   \n",
      "5   0.270241 -0.208842         -0.435340  -0.124786  0.917088  1.928394   \n",
      "10  0.569156 -0.125296          2.297056   1.390527 -1.090408 -1.382215   \n",
      "17 -0.985206 -0.414309         -0.435340   1.390527  0.917088 -0.201183   \n",
      "\n",
      "    icu_admit_source  icu_stay_type  icu_type  pre_icu_los_days  ...  \\\n",
      "0           0.334783      -0.261994  1.606219         -0.117004  ...   \n",
      "1           0.334783      -0.261994  0.045067          0.044085  ...   \n",
      "5          -0.681209      -0.261994  0.045067         -0.342702  ...   \n",
      "10          1.350775      -0.261994  0.045067         -0.340963  ...   \n",
      "17         -0.681209      -0.261994  1.606219         -0.342992  ...   \n",
      "\n",
      "    h1_sysbp_noninvasive_max  h1_sysbp_noninvasive_min  d1_glucose_max  \\\n",
      "0                  -0.062125                 -0.032054       -0.089800   \n",
      "1                  -1.367714                 -1.691777       -0.348648   \n",
      "5                   0.373071                  1.024133       -0.224851   \n",
      "10                  0.445603                 -0.069775       -0.202343   \n",
      "17                  1.315996                 -0.032054       -0.371156   \n",
      "\n",
      "    d1_glucose_min  d1_potassium_max  d1_potassium_min  apache_3j_bodysystem  \\\n",
      "0        -0.129572         -0.355962         -0.912849              1.550083   \n",
      "1         0.374652         -0.057287         -0.226699              1.000282   \n",
      "5         0.295038         -0.505299         -0.398236             -0.099320   \n",
      "10        0.507343         -0.057287          0.459452              1.000282   \n",
      "17        0.772724          0.988074          1.660216              1.000282   \n",
      "\n",
      "    apache_2_bodysystem  comorbidity_count  gcs_total  \n",
      "0             -0.931221           1.188604   0.054091  \n",
      "1              1.332716           1.188604  -2.210807  \n",
      "5              0.578070           1.188604   0.620315  \n",
      "10             1.332716           1.188604   0.620315  \n",
      "17             1.332716          -0.596218  -1.927695  \n",
      "\n",
      "[5 rows x 67 columns] \n",
      "\n",
      "Training Features Shape: (49564, 67)\n",
      "Testing Features Shape: (12391, 67)\n",
      "\n",
      "Applying SMOTENC to the training data to handle class imbalance...\n",
      "After SMOTENC:\n",
      "hospital_death\n",
      "0    0.5\n",
      "1    0.5\n",
      "Name: proportion, dtype: float64 \n",
      "\n",
      "Scaler has been saved as 'standard_scaler.joblib'.\n",
      "SMOTENC object has been saved as 'smotenc_resampler.joblib'.\n",
      "\n",
      "Preprocessing completed. Three datasets are ready:\n",
      "- `X_train_original`, `y_train_original`: Original training data without resampling.\n",
      "- `X_train_resampled`, `y_train_resampled`: Training data after applying SMOTENC.\n",
      "- `X_test_original`, `y_test_original`: Original testing data.\n",
      "\n"
     ]
    }
   ],
   "source": [
    "\n",
    "import numpy as np\n",
    "import pandas as pd\n",
    "from sklearn.preprocessing import StandardScaler\n",
    "from sklearn.model_selection import train_test_split\n",
    "from imblearn.over_sampling import SMOTENC\n",
    "import joblib\n",
    "import warnings\n",
    "warnings.filterwarnings('ignore')\n",
    "\n",
    "# Assuming 'data' is your preprocessed DataFrame from previous cells\n",
    "# Ensure 'data' has no missing values and categorical variables are already encoded\n",
    "\n",
    "#  Define Features and Target Variable\n",
    "# Replace 'hospital_death' with your actual target column name\n",
    "target_column = 'hospital_death'  # Example target column\n",
    "\n",
    "# Check if the target column exists\n",
    "if target_column not in data.columns:\n",
    "    raise ValueError(f\"Target column '{target_column}' not found in the dataset. Please check the column name.\")\n",
    "\n",
    "# Define Features (X) and Target (y)\n",
    "X = data.drop(columns=[target_column])\n",
    "y = data[target_column]\n",
    "\n",
    "print(f\"Features shape: {X.shape}\")\n",
    "print(f\"Target shape: {y.shape}\\n\")\n",
    "\n",
    "#  Identify Numerical and Categorical Columns\n",
    "\n",
    "# Define categorical features based on your dataset\n",
    "categorical_features = [\n",
    "    'ethnicity', 'gender', 'icu_admit_source', 'icu_stay_type',\n",
    "    'icu_type', 'apache_2_bodysystem', 'apache_3j_bodysystem'\n",
    "]\n",
    "\n",
    "# Identify numerical columns (excluding the target variable)\n",
    "numerical_features = X.select_dtypes(include=[np.number]).columns.tolist()\n",
    "\n",
    "print(\"Numerical Features:\")\n",
    "print(numerical_features, \"\\n\")\n",
    "\n",
    "print(\"Categorical Features:\")\n",
    "print(categorical_features, \"\\n\")\n",
    "\n",
    "#  Scale Numerical Features with StandardScaler\n",
    "\n",
    "# Initialize StandardScaler\n",
    "scaler = StandardScaler()\n",
    "\n",
    "# Fit and transform the numerical columns\n",
    "X[numerical_features] = scaler.fit_transform(X[numerical_features])\n",
    "\n",
    "print(\"Numerical Features After Scaling:\")\n",
    "print(pd.DataFrame(X[numerical_features], columns=numerical_features).head(), \"\\n\")\n",
    "\n",
    "#  Split the Data into Training and Testing Sets\n",
    "\n",
    "# Split the data into training and testing sets (80% train, 20% test)\n",
    "# Stratify based on the target variable to maintain class distribution\n",
    "X_train, X_test, y_train, y_test = train_test_split(\n",
    "    X, y, test_size=0.2, random_state=42, stratify=y\n",
    ")\n",
    "\n",
    "print(f\"Training Features Shape: {X_train.shape}\")\n",
    "print(f\"Testing Features Shape: {X_test.shape}\\n\")\n",
    "\n",
    "# print(\"Training Target Distribution:\")\n",
    "# print(y_train.value_counts(normalize=True), \"\\n\")\n",
    "\n",
    "# print(\"Testing Target Distribution:\")\n",
    "# print(y_test.value_counts(normalize=True), \"\\n\")\n",
    "\n",
    "#  Handle Class Imbalance with SMOTENC\n",
    "\n",
    "# Since your data is heavily imbalanced, applying SMOTENC to the training set is beneficial\n",
    "print(\"Applying SMOTENC to the training data to handle class imbalance...\")\n",
    "\n",
    "# Identify the indices of categorical features in X_train\n",
    "categorical_indices = [X_train.columns.get_loc(col) for col in categorical_features]\n",
    "\n",
    "# Initialize SMOTENC\n",
    "smote_nc = SMOTENC(categorical_features=categorical_indices, random_state=42)\n",
    "\n",
    "# Apply SMOTENC to the training data\n",
    "X_train_smote, y_train_smote = smote_nc.fit_resample(X_train, y_train)\n",
    "\n",
    "print(\"After SMOTENC:\")\n",
    "print(y_train_smote.value_counts(normalize=True), \"\\n\")\n",
    "\n",
    "# Save the Scaler and SMOTENC Objects for Future Use\n",
    "\n",
    "# Save the scaler\n",
    "joblib.dump(scaler, 'standard_scaler.joblib')\n",
    "print(\"Scaler has been saved as 'standard_scaler.joblib'.\")\n",
    "\n",
    "# Save the SMOTENC object\n",
    "joblib.dump(smote_nc, 'smotenc_resampler.joblib')\n",
    "print(\"SMOTENC object has been saved as 'smotenc_resampler.joblib'.\")\n",
    "\n",
    "#  Save the Datasets for Different Resampling Strategies\n",
    "\n",
    "# Save the original training set (without SMOTENC)\n",
    "X_train_original = X_train.copy()\n",
    "y_train_original = y_train.copy()\n",
    "\n",
    "# Save the SMOTENC-resampled training set\n",
    "X_train_resampled = X_train_smote.copy()\n",
    "y_train_resampled = y_train_smote.copy()\n",
    "\n",
    "# Save the original testing set\n",
    "X_test_original = X_test.copy()\n",
    "y_test_original = y_test.copy()\n",
    "\n",
    "print(\"\\nPreprocessing completed. Three datasets are ready:\")\n",
    "print(\"- `X_train_original`, `y_train_original`: Original training data without resampling.\")\n",
    "print(\"- `X_train_resampled`, `y_train_resampled`: Training data after applying SMOTENC.\")\n",
    "print(\"- `X_test_original`, `y_test_original`: Original testing data.\\n\")"
   ]
  },
  {
   "cell_type": "code",
   "execution_count": 58,
   "metadata": {},
   "outputs": [
    {
     "name": "stdout",
     "output_type": "stream",
     "text": [
      "X_train shape: (42129, 67)\n",
      "Y_train shape: (42129,)\n",
      "X_val shape: (7435, 67)\n",
      "Y_val shape: (7435,)\n",
      "X_train_smote shape: (77168, 67)\n",
      "Y_train_smote shape: (77168,)\n",
      "X_val_smote shape: (13618, 67)\n",
      "Y_val_smote shape: (13618,)\n"
     ]
    }
   ],
   "source": [
    "# Split the train dataset into train(85% of train data) and validation(15% of train data) using the train_test_split function with random_state = 50.\n",
    "X_train, X_val, Y_train, Y_val = train_test_split(X_train_original, y_train_original, test_size=0.15, random_state=50)\n",
    "X_train_smote, X_val_smote, Y_train_smote, Y_val_smote = train_test_split(X_train_resampled, y_train_resampled, test_size=0.15, random_state=50)\n",
    "\n",
    "# checking the shape of the splitted datasets\n",
    "print(\"X_train shape:\", X_train.shape)\n",
    "print(\"Y_train shape:\", Y_train.shape)\n",
    "print(\"X_val shape:\", X_val.shape)\n",
    "print(\"Y_val shape:\", Y_val.shape)\n",
    "print(\"X_train_smote shape:\", X_train_smote.shape)\n",
    "print(\"Y_train_smote shape:\", Y_train_smote.shape)\n",
    "print(\"X_val_smote shape:\", X_val_smote.shape)\n",
    "print(\"Y_val_smote shape:\", Y_val_smote.shape)\n"
   ]
  },
  {
   "cell_type": "code",
   "execution_count": 59,
   "metadata": {},
   "outputs": [],
   "source": [
    "# Convert Data to PyTorch Tensors\n",
    "def to_tensorr(X, Y):\n",
    "    X_tensor = torch.tensor(X, dtype=torch.float32)\n",
    "    Y_tensor = torch.tensor(Y.values.reshape(-1, 1), dtype=torch.float32)\n",
    "    return X_tensor, Y_tensor\n",
    "\n",
    "def to_tensor(X, Y):\n",
    "    X_tensor = torch.tensor(X.values if isinstance(X, pd.DataFrame) else X, dtype=torch.float32)\n",
    "    Y_tensor = torch.tensor(Y.values.reshape(-1, 1) if isinstance(Y, pd.Series) else Y.reshape(-1, 1), dtype=torch.float32)\n",
    "    return X_tensor, Y_tensor\n"
   ]
  },
  {
   "cell_type": "code",
   "execution_count": 60,
   "metadata": {},
   "outputs": [],
   "source": [
    "# Without SMOTE\n",
    "X_train_tensor, Y_train_tensor = to_tensor(X_train, Y_train)\n",
    "X_val_tensor, Y_val_tensor = to_tensor(X_val, Y_val)\n",
    "X_test_tensor, Y_test_tensor = to_tensor(X_test_original, y_test_original)\n",
    "\n",
    "# With SMOTE\n",
    "X_train_smote_tensor, Y_train_smote_tensor = to_tensor(X_train_smote, Y_train_smote)\n",
    "X_val_smote_tensor, Y_val_smote_tensor = to_tensor(X_val_smote, Y_val_smote)"
   ]
  },
  {
   "cell_type": "markdown",
   "metadata": {},
   "source": [
    "# ***MAKE CHANGES HERE***"
   ]
  },
  {
   "cell_type": "code",
   "execution_count": 61,
   "metadata": {},
   "outputs": [],
   "source": [
    "# Define the model\n",
    "class NeuralNet(nn.Module):\n",
    "    def __init__(self, input_size):\n",
    "        super(NeuralNet, self).__init__()\n",
    "        self.layers = nn.Sequential(\n",
    "            nn.Linear(input_size, 128),\n",
    "            nn.ReLU(),\n",
    "            nn.Dropout(0.3),\n",
    "            nn.Linear(128, 64),\n",
    "            nn.ReLU(),\n",
    "            nn.Dropout(0.3),\n",
    "            nn.Linear(64, 1),\n",
    "            nn.Sigmoid()\n",
    "        )\n",
    "\n",
    "    def forward(self, x):\n",
    "        return self.layers(x)\n",
    "    \n",
    "class BigModel(nn.Module):\n",
    "    def __init__(self, input_size):\n",
    "        super(BigModel, self).__init__()\n",
    "        self.network = nn.Sequential(\n",
    "            nn.Linear(input_size, 256),\n",
    "            nn.ReLU(),\n",
    "            nn.Linear(256, 32),\n",
    "            nn.ReLU(),\n",
    "            nn.Linear(32, 8),\n",
    "            nn.ReLU(),\n",
    "            nn.Linear(8, 1),\n",
    "            nn.Sigmoid()  # Adding Sigmoid for binary classification\n",
    "        )\n",
    "\n",
    "    def forward(self, x):\n",
    "        return self.network(x)"
   ]
  },
  {
   "cell_type": "code",
   "execution_count": 62,
   "metadata": {},
   "outputs": [],
   "source": [
    "def eval_model(model, X, Y, loss_fn, threshold=0.5):\n",
    "    \"\"\"\n",
    "    Evaluates the model on a given dataset.\n",
    "    Returns the loss and accuracy.\n",
    "    \"\"\"\n",
    "    model.eval()  # Set the model to evaluation mode\n",
    "    with torch.no_grad():  # Disable gradient calculation\n",
    "        outputs = model(X)  # Get model predictions\n",
    "        loss = loss_fn(outputs, Y)  # Calculate loss\n",
    "        predictions = (outputs > threshold).float()  # Convert probabilities to binary predictions\n",
    "        accuracy = (predictions == Y).float().mean().item()  # Calculate accuracy\n",
    "    return float(loss), accuracy, predictions"
   ]
  },
  {
   "cell_type": "code",
   "execution_count": 63,
   "metadata": {},
   "outputs": [],
   "source": [
    "# Threshold search function\n",
    "def find_best_threshold(model, X_val, Y_val):\n",
    "    \"\"\"\n",
    "    Finds the best threshold to maximize TPR (True Positive Rate).\n",
    "    \"\"\"\n",
    "    model.eval()\n",
    "    with torch.no_grad():\n",
    "        # Move tensors to CPU and convert to NumPy\n",
    "        outputs = np.array(model(X_val).cpu().tolist())\n",
    "        Y_val_np = np.array(Y_val.cpu().tolist())\n",
    "        thresholds = np.linspace(0.1, 0.9, 9)\n",
    "        best_tpr = 0\n",
    "        best_threshold = 0.5\n",
    "\n",
    "        for threshold in thresholds:\n",
    "            predictions = (outputs > threshold).astype(int)\n",
    "            tp = ((predictions == 1) & (Y_val_np == 1)).sum()\n",
    "            fn = ((predictions == 0) & (Y_val_np == 1)).sum()\n",
    "            tpr = tp / (tp + fn) if (tp + fn) > 0 else 0\n",
    "\n",
    "            if tpr > best_tpr:\n",
    "                best_tpr = tpr\n",
    "                best_threshold = threshold\n",
    "\n",
    "    print(f\"\\nBest Threshold: {best_threshold:.2f}, Best TPR: {best_tpr:.4f}\")\n",
    "    return best_threshold"
   ]
  },
  {
   "cell_type": "code",
   "execution_count": 64,
   "metadata": {},
   "outputs": [],
   "source": [
    "def train_model(model, X_train, y_train, X_valid, y_valid, n_epochs, batch_size, optimizer, loss_fn, threshold=0.5):\n",
    "    \"\"\"\n",
    "    Trains the model on the training set and evaluates it on the validation set.\n",
    "    Tracks the best model based on validation loss.\n",
    "    \"\"\"\n",
    "    import copy\n",
    "    from tqdm import tqdm\n",
    "\n",
    "    # Parameters to store the best model on validation loss\n",
    "    best_loss = np.inf   # Initialize to infinity\n",
    "    best_weights = None\n",
    "    train_history = []\n",
    "    valid_history = []\n",
    "    batch_start = torch.arange(0, len(X_train), batch_size)\n",
    "\n",
    "    for epoch in range(n_epochs):\n",
    "        model.train()  # Set the model to training mode\n",
    "        with tqdm(batch_start, unit=\"batch\", mininterval=0, disable=False) as bar:\n",
    "            bar.set_description(f\"Epoch {epoch}\")\n",
    "            train_losses = []\n",
    "\n",
    "            for start in bar:\n",
    "                # Take a batch with the help of 'start' variable\n",
    "                end = min(start + batch_size, len(X_train))\n",
    "                X_batch, y_batch = X_train[start:end], y_train[start:end]\n",
    "                y_pred = model(X_batch)\n",
    "                loss = loss_fn(y_pred, y_batch)\n",
    "\n",
    "                # Backward pass\n",
    "                optimizer.zero_grad()\n",
    "                loss.backward()  # Calculate gradients\n",
    "                optimizer.step()\n",
    "\n",
    "                # Print progress\n",
    "                bar.set_postfix(loss=float(loss))\n",
    "                train_losses.append(float(loss))\n",
    "\n",
    "        # Average training loss for the epoch\n",
    "        train_history.append(sum(train_losses) / len(train_losses))\n",
    "        val_loss, val_accuracy,val_prediction = eval_model(model, X_valid, y_valid, loss_fn, threshold)\n",
    "\n",
    "        # Store the best model based on validation loss\n",
    "        valid_history.append(val_loss)\n",
    "        if val_loss < best_loss:\n",
    "            best_loss = val_loss\n",
    "            best_weights = copy.deepcopy(model.state_dict())  # Save best weights\n",
    "\n",
    "        print(f\"Epoch {epoch + 1}/{n_epochs}: Train Loss = {train_history[-1]:.4f}, \"\n",
    "              f\"Val Loss = {val_loss:.4f}, Val Accuracy = {val_accuracy:.4f}\")\n",
    "\n",
    "    print(\"Best Validation Loss: %.4f\" % best_loss)\n",
    "    return best_weights, train_history, valid_history, best_loss"
   ]
  },
  {
   "cell_type": "code",
   "execution_count": 65,
   "metadata": {},
   "outputs": [],
   "source": [
    "def test_model(model, X_test_tensor, Y_test_tensor, loss_fn, best_threshold, description=\"\"):\n",
    "    \"\"\"\n",
    "    Tests the model on the test set and displays evaluation metrics.\n",
    "    \"\"\"\n",
    "    # Evaluate the model on the test set\n",
    "    test_loss, test_accuracy, test_predictions = eval_model(model, X_test_tensor, Y_test_tensor, loss_fn, best_threshold)\n",
    "\n",
    "    # Move predictions and targets to CPU and convert to NumPy\n",
    "    Y_test_np = np.array(Y_test_tensor.cpu().tolist())\n",
    "    test_predictions_np = np.array(test_predictions.cpu().tolist())\n",
    "\n",
    "    # Display metrics\n",
    "    print(f\"\\n=== Testing Model: {description} ===\")\n",
    "    print(f\"Test Loss: {test_loss:.4f}, Test Accuracy: {test_accuracy:.4f}\")\n",
    "\n",
    "    # Print Classification Report\n",
    "    print(\"\\nClassification Report:\")\n",
    "    print(classification_report(Y_test_np, test_predictions_np))\n",
    "\n",
    "    # Print Confusion Matrix\n",
    "    print(\"\\nConfusion Matrix:\")\n",
    "    print(confusion_matrix(Y_test_np, test_predictions_np))\n",
    "\n",
    "    # Compute Precision-Recall Curve\n",
    "    with torch.no_grad():\n",
    "        outputs = np.array(model(X_test_tensor).cpu().tolist())\n",
    "    precision, recall, _ = precision_recall_curve(Y_test_np, outputs)\n",
    "\n",
    "    plt.figure(figsize=(8, 6))\n",
    "    plt.plot(recall, precision, label=f\"Precision-Recall Curve - {description}\")\n",
    "    plt.xlabel('Recall')\n",
    "    plt.ylabel('Precision')\n",
    "    plt.title(f\"Precision-Recall Curve - {description}\")\n",
    "    plt.legend()\n",
    "    plt.grid(True)\n",
    "    plt.show()\n",
    "\n",
    "    # ROC Curve\n",
    "    fpr, tpr, _ = roc_curve(Y_test_np, outputs)\n",
    "    plt.figure(figsize=(8, 6))\n",
    "    plt.plot(fpr, tpr, label=f\"ROC Curve - {description} (AUC = {roc_auc_score(Y_test_np, outputs):.4f})\")\n",
    "    plt.plot([0, 1], [0, 1], linestyle='--', label='Random Guess')\n",
    "    plt.xlabel('False Positive Rate')\n",
    "    plt.ylabel('True Positive Rate')\n",
    "    plt.title(f\"ROC Curve - {description}\")\n",
    "    plt.legend()\n",
    "    plt.grid(True)\n",
    "    plt.show()\n",
    "\n",
    "    # Compute ROC-AUC\n",
    "    roc_auc = roc_auc_score(Y_test_np, outputs)\n",
    "    print(f\"Test ROC AUC Score: {roc_auc:.4f}\")\n",
    "\n",
    "    return test_loss, test_accuracy, roc_auc"
   ]
  },
  {
   "cell_type": "code",
   "execution_count": 67,
   "metadata": {},
   "outputs": [],
   "source": [
    "# Train, evaluate, and test across learning rates\n",
    "def train_eval_find_best_lr_test(modelX, X_train_tensor, Y_train_tensor, X_val_tensor, Y_val_tensor, X_test_tensor, Y_test_tensor, lrs, description=\"\"):\n",
    "    best_valid_mse = np.inf\n",
    "    best_weights = None\n",
    "    best_train_history = None\n",
    "    best_valid_history = None\n",
    "    best_lr = None\n",
    "\n",
    "    for lr in lrs:\n",
    "        print(f\"\\n=== Running with Learning Rate: {lr} ===\")\n",
    "        model = modelX\n",
    "        criterion = nn.BCELoss()\n",
    "        optimizer = optim.Adam(model.parameters(), lr=lr)\n",
    "\n",
    "        # Train the model\n",
    "        weights, train_history, valid_history, valid_loss = train_model(\n",
    "            model, X_train_tensor, Y_train_tensor,\n",
    "            X_val_tensor, Y_val_tensor,\n",
    "            n_epochs=50, batch_size=64,\n",
    "            optimizer=optimizer, loss_fn=criterion\n",
    "        )\n",
    "\n",
    "        if valid_loss < best_valid_mse:\n",
    "            best_valid_mse = valid_loss\n",
    "            best_weights = weights\n",
    "            best_train_history = train_history\n",
    "            best_valid_history = valid_history\n",
    "            best_lr = lr\n",
    "\n",
    "    print(f\"\\n=== Best Learning Rate: {best_lr} ===\")\n",
    "    print(f\"Best Validation Loss: {best_valid_mse:.4f}\")\n",
    "\n",
    "    # Load the best model\n",
    "    model = modelX\n",
    "    model.load_state_dict(best_weights)\n",
    "\n",
    "    # Find the best threshold\n",
    "    best_threshold = find_best_threshold(model, X_val_tensor, Y_val_tensor)\n",
    "    # best_threshold = 0.5\n",
    "    # Test the best model\n",
    "    test_loss, test_accuracy, roc_auc = test_model(\n",
    "        model, X_test_tensor, Y_test_tensor, criterion, best_threshold, description=f\"Best LR: {best_lr}\"\n",
    "    )\n",
    "\n",
    "    return best_lr, test_loss, test_accuracy, roc_auc, model"
   ]
  },
  {
   "cell_type": "code",
   "execution_count": 68,
   "metadata": {
    "notebookRunGroups": {
     "groupValue": "1"
    }
   },
   "outputs": [
    {
     "name": "stdout",
     "output_type": "stream",
     "text": [
      "\n",
      "=== Running with Learning Rate: 0.01 ===\n"
     ]
    },
    {
     "name": "stderr",
     "output_type": "stream",
     "text": [
      "Epoch 0: 100%|██████████| 659/659 [00:00<00:00, 755.79batch/s, loss=0.245] \n"
     ]
    },
    {
     "name": "stdout",
     "output_type": "stream",
     "text": [
      "Epoch 1/50: Train Loss = 0.2395, Val Loss = 0.2196, Val Accuracy = 0.9221\n"
     ]
    },
    {
     "name": "stderr",
     "output_type": "stream",
     "text": [
      "Epoch 1: 100%|██████████| 659/659 [00:00<00:00, 783.73batch/s, loss=0.202] \n"
     ]
    },
    {
     "name": "stdout",
     "output_type": "stream",
     "text": [
      "Epoch 2/50: Train Loss = 0.2303, Val Loss = 0.2148, Val Accuracy = 0.9237\n"
     ]
    },
    {
     "name": "stderr",
     "output_type": "stream",
     "text": [
      "Epoch 2: 100%|██████████| 659/659 [00:00<00:00, 777.06batch/s, loss=0.252] \n"
     ]
    },
    {
     "name": "stdout",
     "output_type": "stream",
     "text": [
      "Epoch 3/50: Train Loss = 0.2295, Val Loss = 0.2134, Val Accuracy = 0.9233\n"
     ]
    },
    {
     "name": "stderr",
     "output_type": "stream",
     "text": [
      "Epoch 3: 100%|██████████| 659/659 [00:00<00:00, 716.53batch/s, loss=0.188] \n"
     ]
    },
    {
     "name": "stdout",
     "output_type": "stream",
     "text": [
      "Epoch 4/50: Train Loss = 0.2270, Val Loss = 0.2187, Val Accuracy = 0.9227\n"
     ]
    },
    {
     "name": "stderr",
     "output_type": "stream",
     "text": [
      "Epoch 4: 100%|██████████| 659/659 [00:00<00:00, 766.40batch/s, loss=0.19]  \n"
     ]
    },
    {
     "name": "stdout",
     "output_type": "stream",
     "text": [
      "Epoch 5/50: Train Loss = 0.2283, Val Loss = 0.2128, Val Accuracy = 0.9249\n"
     ]
    },
    {
     "name": "stderr",
     "output_type": "stream",
     "text": [
      "Epoch 5: 100%|██████████| 659/659 [00:00<00:00, 778.36batch/s, loss=0.179] \n"
     ]
    },
    {
     "name": "stdout",
     "output_type": "stream",
     "text": [
      "Epoch 6/50: Train Loss = 0.2249, Val Loss = 0.2131, Val Accuracy = 0.9252\n"
     ]
    },
    {
     "name": "stderr",
     "output_type": "stream",
     "text": [
      "Epoch 6: 100%|██████████| 659/659 [00:00<00:00, 817.03batch/s, loss=0.241] \n"
     ]
    },
    {
     "name": "stdout",
     "output_type": "stream",
     "text": [
      "Epoch 7/50: Train Loss = 0.2285, Val Loss = 0.2110, Val Accuracy = 0.9254\n"
     ]
    },
    {
     "name": "stderr",
     "output_type": "stream",
     "text": [
      "Epoch 7: 100%|██████████| 659/659 [00:00<00:00, 800.26batch/s, loss=0.181] \n"
     ]
    },
    {
     "name": "stdout",
     "output_type": "stream",
     "text": [
      "Epoch 8/50: Train Loss = 0.2265, Val Loss = 0.2205, Val Accuracy = 0.9217\n"
     ]
    },
    {
     "name": "stderr",
     "output_type": "stream",
     "text": [
      "Epoch 8: 100%|██████████| 659/659 [00:00<00:00, 828.21batch/s, loss=0.299] \n"
     ]
    },
    {
     "name": "stdout",
     "output_type": "stream",
     "text": [
      "Epoch 9/50: Train Loss = 0.2252, Val Loss = 0.2116, Val Accuracy = 0.9264\n"
     ]
    },
    {
     "name": "stderr",
     "output_type": "stream",
     "text": [
      "Epoch 9: 100%|██████████| 659/659 [00:00<00:00, 818.64batch/s, loss=0.204] \n"
     ]
    },
    {
     "name": "stdout",
     "output_type": "stream",
     "text": [
      "Epoch 10/50: Train Loss = 0.2234, Val Loss = 0.2150, Val Accuracy = 0.9241\n"
     ]
    },
    {
     "name": "stderr",
     "output_type": "stream",
     "text": [
      "Epoch 10: 100%|██████████| 659/659 [00:00<00:00, 817.58batch/s, loss=0.173] \n"
     ]
    },
    {
     "name": "stdout",
     "output_type": "stream",
     "text": [
      "Epoch 11/50: Train Loss = 0.2231, Val Loss = 0.2139, Val Accuracy = 0.9258\n"
     ]
    },
    {
     "name": "stderr",
     "output_type": "stream",
     "text": [
      "Epoch 11: 100%|██████████| 659/659 [00:00<00:00, 793.78batch/s, loss=0.173] \n"
     ]
    },
    {
     "name": "stdout",
     "output_type": "stream",
     "text": [
      "Epoch 12/50: Train Loss = 0.2198, Val Loss = 0.2139, Val Accuracy = 0.9256\n"
     ]
    },
    {
     "name": "stderr",
     "output_type": "stream",
     "text": [
      "Epoch 12: 100%|██████████| 659/659 [00:00<00:00, 842.87batch/s, loss=0.17]  \n"
     ]
    },
    {
     "name": "stdout",
     "output_type": "stream",
     "text": [
      "Epoch 13/50: Train Loss = 0.2179, Val Loss = 0.2129, Val Accuracy = 0.9263\n"
     ]
    },
    {
     "name": "stderr",
     "output_type": "stream",
     "text": [
      "Epoch 13: 100%|██████████| 659/659 [00:00<00:00, 867.35batch/s, loss=0.159] \n"
     ]
    },
    {
     "name": "stdout",
     "output_type": "stream",
     "text": [
      "Epoch 14/50: Train Loss = 0.2202, Val Loss = 0.2150, Val Accuracy = 0.9247\n"
     ]
    },
    {
     "name": "stderr",
     "output_type": "stream",
     "text": [
      "Epoch 14: 100%|██████████| 659/659 [00:00<00:00, 835.98batch/s, loss=0.222] \n"
     ]
    },
    {
     "name": "stdout",
     "output_type": "stream",
     "text": [
      "Epoch 15/50: Train Loss = 0.2194, Val Loss = 0.2146, Val Accuracy = 0.9258\n"
     ]
    },
    {
     "name": "stderr",
     "output_type": "stream",
     "text": [
      "Epoch 15: 100%|██████████| 659/659 [00:00<00:00, 799.17batch/s, loss=0.198] \n"
     ]
    },
    {
     "name": "stdout",
     "output_type": "stream",
     "text": [
      "Epoch 16/50: Train Loss = 0.2210, Val Loss = 0.2143, Val Accuracy = 0.9228\n"
     ]
    },
    {
     "name": "stderr",
     "output_type": "stream",
     "text": [
      "Epoch 16: 100%|██████████| 659/659 [00:00<00:00, 799.95batch/s, loss=0.173] \n"
     ]
    },
    {
     "name": "stdout",
     "output_type": "stream",
     "text": [
      "Epoch 17/50: Train Loss = 0.2241, Val Loss = 0.2120, Val Accuracy = 0.9260\n"
     ]
    },
    {
     "name": "stderr",
     "output_type": "stream",
     "text": [
      "Epoch 17: 100%|██████████| 659/659 [00:00<00:00, 810.32batch/s, loss=0.154] \n"
     ]
    },
    {
     "name": "stdout",
     "output_type": "stream",
     "text": [
      "Epoch 18/50: Train Loss = 0.2185, Val Loss = 0.2328, Val Accuracy = 0.9229\n"
     ]
    },
    {
     "name": "stderr",
     "output_type": "stream",
     "text": [
      "Epoch 18: 100%|██████████| 659/659 [00:00<00:00, 798.40batch/s, loss=0.217] \n"
     ]
    },
    {
     "name": "stdout",
     "output_type": "stream",
     "text": [
      "Epoch 19/50: Train Loss = 0.2191, Val Loss = 0.2215, Val Accuracy = 0.9272\n"
     ]
    },
    {
     "name": "stderr",
     "output_type": "stream",
     "text": [
      "Epoch 19: 100%|██████████| 659/659 [00:00<00:00, 813.20batch/s, loss=0.177]  \n"
     ]
    },
    {
     "name": "stdout",
     "output_type": "stream",
     "text": [
      "Epoch 20/50: Train Loss = 0.2183, Val Loss = 0.2127, Val Accuracy = 0.9272\n"
     ]
    },
    {
     "name": "stderr",
     "output_type": "stream",
     "text": [
      "Epoch 20: 100%|██████████| 659/659 [00:00<00:00, 819.22batch/s, loss=0.18]  \n"
     ]
    },
    {
     "name": "stdout",
     "output_type": "stream",
     "text": [
      "Epoch 21/50: Train Loss = 0.2161, Val Loss = 0.2150, Val Accuracy = 0.9259\n"
     ]
    },
    {
     "name": "stderr",
     "output_type": "stream",
     "text": [
      "Epoch 21: 100%|██████████| 659/659 [00:00<00:00, 798.69batch/s, loss=0.172] \n"
     ]
    },
    {
     "name": "stdout",
     "output_type": "stream",
     "text": [
      "Epoch 22/50: Train Loss = 0.2184, Val Loss = 0.2179, Val Accuracy = 0.9239\n"
     ]
    },
    {
     "name": "stderr",
     "output_type": "stream",
     "text": [
      "Epoch 22: 100%|██████████| 659/659 [00:00<00:00, 819.17batch/s, loss=0.186] \n"
     ]
    },
    {
     "name": "stdout",
     "output_type": "stream",
     "text": [
      "Epoch 23/50: Train Loss = 0.2157, Val Loss = 0.2181, Val Accuracy = 0.9255\n"
     ]
    },
    {
     "name": "stderr",
     "output_type": "stream",
     "text": [
      "Epoch 23: 100%|██████████| 659/659 [00:00<00:00, 805.77batch/s, loss=0.189] \n"
     ]
    },
    {
     "name": "stdout",
     "output_type": "stream",
     "text": [
      "Epoch 24/50: Train Loss = 0.2145, Val Loss = 0.2228, Val Accuracy = 0.9252\n"
     ]
    },
    {
     "name": "stderr",
     "output_type": "stream",
     "text": [
      "Epoch 24: 100%|██████████| 659/659 [00:00<00:00, 799.79batch/s, loss=0.17]  \n"
     ]
    },
    {
     "name": "stdout",
     "output_type": "stream",
     "text": [
      "Epoch 25/50: Train Loss = 0.2169, Val Loss = 0.2158, Val Accuracy = 0.9245\n"
     ]
    },
    {
     "name": "stderr",
     "output_type": "stream",
     "text": [
      "Epoch 25: 100%|██████████| 659/659 [00:00<00:00, 832.49batch/s, loss=0.158] \n"
     ]
    },
    {
     "name": "stdout",
     "output_type": "stream",
     "text": [
      "Epoch 26/50: Train Loss = 0.2130, Val Loss = 0.2200, Val Accuracy = 0.9245\n"
     ]
    },
    {
     "name": "stderr",
     "output_type": "stream",
     "text": [
      "Epoch 26: 100%|██████████| 659/659 [00:00<00:00, 794.10batch/s, loss=0.157] \n"
     ]
    },
    {
     "name": "stdout",
     "output_type": "stream",
     "text": [
      "Epoch 27/50: Train Loss = 0.2145, Val Loss = 0.2284, Val Accuracy = 0.9256\n"
     ]
    },
    {
     "name": "stderr",
     "output_type": "stream",
     "text": [
      "Epoch 27: 100%|██████████| 659/659 [00:00<00:00, 818.89batch/s, loss=0.166] \n"
     ]
    },
    {
     "name": "stdout",
     "output_type": "stream",
     "text": [
      "Epoch 28/50: Train Loss = 0.2126, Val Loss = 0.2244, Val Accuracy = 0.9237\n"
     ]
    },
    {
     "name": "stderr",
     "output_type": "stream",
     "text": [
      "Epoch 28: 100%|██████████| 659/659 [00:00<00:00, 801.51batch/s, loss=0.182] \n"
     ]
    },
    {
     "name": "stdout",
     "output_type": "stream",
     "text": [
      "Epoch 29/50: Train Loss = 0.2150, Val Loss = 0.2243, Val Accuracy = 0.9235\n"
     ]
    },
    {
     "name": "stderr",
     "output_type": "stream",
     "text": [
      "Epoch 29: 100%|██████████| 659/659 [00:00<00:00, 863.03batch/s, loss=0.291]  \n"
     ]
    },
    {
     "name": "stdout",
     "output_type": "stream",
     "text": [
      "Epoch 30/50: Train Loss = 0.2115, Val Loss = 0.2257, Val Accuracy = 0.9244\n"
     ]
    },
    {
     "name": "stderr",
     "output_type": "stream",
     "text": [
      "Epoch 30: 100%|██████████| 659/659 [00:00<00:00, 819.52batch/s, loss=0.181] \n"
     ]
    },
    {
     "name": "stdout",
     "output_type": "stream",
     "text": [
      "Epoch 31/50: Train Loss = 0.2125, Val Loss = 0.2213, Val Accuracy = 0.9248\n"
     ]
    },
    {
     "name": "stderr",
     "output_type": "stream",
     "text": [
      "Epoch 31: 100%|██████████| 659/659 [00:00<00:00, 809.71batch/s, loss=0.159] \n"
     ]
    },
    {
     "name": "stdout",
     "output_type": "stream",
     "text": [
      "Epoch 32/50: Train Loss = 0.2115, Val Loss = 0.2262, Val Accuracy = 0.9241\n"
     ]
    },
    {
     "name": "stderr",
     "output_type": "stream",
     "text": [
      "Epoch 32: 100%|██████████| 659/659 [00:00<00:00, 784.15batch/s, loss=0.174] \n"
     ]
    },
    {
     "name": "stdout",
     "output_type": "stream",
     "text": [
      "Epoch 33/50: Train Loss = 0.2167, Val Loss = 0.2264, Val Accuracy = 0.9241\n"
     ]
    },
    {
     "name": "stderr",
     "output_type": "stream",
     "text": [
      "Epoch 33: 100%|██████████| 659/659 [00:00<00:00, 804.06batch/s, loss=0.283] \n"
     ]
    },
    {
     "name": "stdout",
     "output_type": "stream",
     "text": [
      "Epoch 34/50: Train Loss = 0.2109, Val Loss = 0.2237, Val Accuracy = 0.9240\n"
     ]
    },
    {
     "name": "stderr",
     "output_type": "stream",
     "text": [
      "Epoch 34: 100%|██████████| 659/659 [00:00<00:00, 810.00batch/s, loss=0.172] \n"
     ]
    },
    {
     "name": "stdout",
     "output_type": "stream",
     "text": [
      "Epoch 35/50: Train Loss = 0.2132, Val Loss = 0.2269, Val Accuracy = 0.9252\n"
     ]
    },
    {
     "name": "stderr",
     "output_type": "stream",
     "text": [
      "Epoch 35: 100%|██████████| 659/659 [00:00<00:00, 819.26batch/s, loss=0.181] \n"
     ]
    },
    {
     "name": "stdout",
     "output_type": "stream",
     "text": [
      "Epoch 36/50: Train Loss = 0.2107, Val Loss = 0.2197, Val Accuracy = 0.9252\n"
     ]
    },
    {
     "name": "stderr",
     "output_type": "stream",
     "text": [
      "Epoch 36: 100%|██████████| 659/659 [00:00<00:00, 789.82batch/s, loss=0.165] \n"
     ]
    },
    {
     "name": "stdout",
     "output_type": "stream",
     "text": [
      "Epoch 37/50: Train Loss = 0.2105, Val Loss = 0.2248, Val Accuracy = 0.9236\n"
     ]
    },
    {
     "name": "stderr",
     "output_type": "stream",
     "text": [
      "Epoch 37: 100%|██████████| 659/659 [00:00<00:00, 808.09batch/s, loss=0.175] \n"
     ]
    },
    {
     "name": "stdout",
     "output_type": "stream",
     "text": [
      "Epoch 38/50: Train Loss = 0.2122, Val Loss = 0.2213, Val Accuracy = 0.9244\n"
     ]
    },
    {
     "name": "stderr",
     "output_type": "stream",
     "text": [
      "Epoch 38: 100%|██████████| 659/659 [00:00<00:00, 808.84batch/s, loss=0.167] \n"
     ]
    },
    {
     "name": "stdout",
     "output_type": "stream",
     "text": [
      "Epoch 39/50: Train Loss = 0.2081, Val Loss = 0.2311, Val Accuracy = 0.9229\n"
     ]
    },
    {
     "name": "stderr",
     "output_type": "stream",
     "text": [
      "Epoch 39: 100%|██████████| 659/659 [00:00<00:00, 812.54batch/s, loss=0.167] \n"
     ]
    },
    {
     "name": "stdout",
     "output_type": "stream",
     "text": [
      "Epoch 40/50: Train Loss = 0.2075, Val Loss = 0.2277, Val Accuracy = 0.9244\n"
     ]
    },
    {
     "name": "stderr",
     "output_type": "stream",
     "text": [
      "Epoch 40: 100%|██████████| 659/659 [00:00<00:00, 796.79batch/s, loss=0.21]  \n"
     ]
    },
    {
     "name": "stdout",
     "output_type": "stream",
     "text": [
      "Epoch 41/50: Train Loss = 0.2077, Val Loss = 0.2281, Val Accuracy = 0.9244\n"
     ]
    },
    {
     "name": "stderr",
     "output_type": "stream",
     "text": [
      "Epoch 41: 100%|██████████| 659/659 [00:00<00:00, 811.21batch/s, loss=0.169] \n"
     ]
    },
    {
     "name": "stdout",
     "output_type": "stream",
     "text": [
      "Epoch 42/50: Train Loss = 0.2087, Val Loss = 0.2283, Val Accuracy = 0.9258\n"
     ]
    },
    {
     "name": "stderr",
     "output_type": "stream",
     "text": [
      "Epoch 42: 100%|██████████| 659/659 [00:00<00:00, 807.85batch/s, loss=0.18]  \n"
     ]
    },
    {
     "name": "stdout",
     "output_type": "stream",
     "text": [
      "Epoch 43/50: Train Loss = 0.2089, Val Loss = 0.2194, Val Accuracy = 0.9248\n"
     ]
    },
    {
     "name": "stderr",
     "output_type": "stream",
     "text": [
      "Epoch 43: 100%|██████████| 659/659 [00:00<00:00, 827.48batch/s, loss=0.175]  \n"
     ]
    },
    {
     "name": "stdout",
     "output_type": "stream",
     "text": [
      "Epoch 44/50: Train Loss = 0.2064, Val Loss = 0.2266, Val Accuracy = 0.9239\n"
     ]
    },
    {
     "name": "stderr",
     "output_type": "stream",
     "text": [
      "Epoch 44: 100%|██████████| 659/659 [00:00<00:00, 820.21batch/s, loss=0.179] \n"
     ]
    },
    {
     "name": "stdout",
     "output_type": "stream",
     "text": [
      "Epoch 45/50: Train Loss = 0.2102, Val Loss = 0.2276, Val Accuracy = 0.9229\n"
     ]
    },
    {
     "name": "stderr",
     "output_type": "stream",
     "text": [
      "Epoch 45: 100%|██████████| 659/659 [00:00<00:00, 815.80batch/s, loss=0.447] \n"
     ]
    },
    {
     "name": "stdout",
     "output_type": "stream",
     "text": [
      "Epoch 46/50: Train Loss = 0.2091, Val Loss = 0.2229, Val Accuracy = 0.9247\n"
     ]
    },
    {
     "name": "stderr",
     "output_type": "stream",
     "text": [
      "Epoch 46: 100%|██████████| 659/659 [00:00<00:00, 814.01batch/s, loss=0.171] \n"
     ]
    },
    {
     "name": "stdout",
     "output_type": "stream",
     "text": [
      "Epoch 47/50: Train Loss = 0.2056, Val Loss = 0.2304, Val Accuracy = 0.9239\n"
     ]
    },
    {
     "name": "stderr",
     "output_type": "stream",
     "text": [
      "Epoch 47: 100%|██████████| 659/659 [00:00<00:00, 793.07batch/s, loss=0.176] \n"
     ]
    },
    {
     "name": "stdout",
     "output_type": "stream",
     "text": [
      "Epoch 48/50: Train Loss = 0.2057, Val Loss = 0.2318, Val Accuracy = 0.9235\n"
     ]
    },
    {
     "name": "stderr",
     "output_type": "stream",
     "text": [
      "Epoch 48: 100%|██████████| 659/659 [00:00<00:00, 844.48batch/s, loss=0.16]  \n"
     ]
    },
    {
     "name": "stdout",
     "output_type": "stream",
     "text": [
      "Epoch 49/50: Train Loss = 0.2079, Val Loss = 0.2225, Val Accuracy = 0.9244\n"
     ]
    },
    {
     "name": "stderr",
     "output_type": "stream",
     "text": [
      "Epoch 49: 100%|██████████| 659/659 [00:00<00:00, 809.34batch/s, loss=0.172] \n"
     ]
    },
    {
     "name": "stdout",
     "output_type": "stream",
     "text": [
      "Epoch 50/50: Train Loss = 0.2052, Val Loss = 0.2283, Val Accuracy = 0.9244\n",
      "Best Validation Loss: 0.2110\n",
      "\n",
      "=== Running with Learning Rate: 0.001 ===\n"
     ]
    },
    {
     "name": "stderr",
     "output_type": "stream",
     "text": [
      "Epoch 0: 100%|██████████| 659/659 [00:00<00:00, 827.59batch/s, loss=0.165] \n"
     ]
    },
    {
     "name": "stdout",
     "output_type": "stream",
     "text": [
      "Epoch 1/50: Train Loss = 0.1953, Val Loss = 0.2249, Val Accuracy = 0.9239\n"
     ]
    },
    {
     "name": "stderr",
     "output_type": "stream",
     "text": [
      "Epoch 1: 100%|██████████| 659/659 [00:00<00:00, 823.24batch/s, loss=0.187]  \n"
     ]
    },
    {
     "name": "stdout",
     "output_type": "stream",
     "text": [
      "Epoch 2/50: Train Loss = 0.1882, Val Loss = 0.2270, Val Accuracy = 0.9245\n"
     ]
    },
    {
     "name": "stderr",
     "output_type": "stream",
     "text": [
      "Epoch 2: 100%|██████████| 659/659 [00:00<00:00, 820.33batch/s, loss=0.166] \n"
     ]
    },
    {
     "name": "stdout",
     "output_type": "stream",
     "text": [
      "Epoch 3/50: Train Loss = 0.1870, Val Loss = 0.2236, Val Accuracy = 0.9244\n"
     ]
    },
    {
     "name": "stderr",
     "output_type": "stream",
     "text": [
      "Epoch 3: 100%|██████████| 659/659 [00:00<00:00, 817.39batch/s, loss=0.169] \n"
     ]
    },
    {
     "name": "stdout",
     "output_type": "stream",
     "text": [
      "Epoch 4/50: Train Loss = 0.1864, Val Loss = 0.2255, Val Accuracy = 0.9241\n"
     ]
    },
    {
     "name": "stderr",
     "output_type": "stream",
     "text": [
      "Epoch 4: 100%|██████████| 659/659 [00:00<00:00, 776.66batch/s, loss=0.168] \n"
     ]
    },
    {
     "name": "stdout",
     "output_type": "stream",
     "text": [
      "Epoch 5/50: Train Loss = 0.1829, Val Loss = 0.2257, Val Accuracy = 0.9235\n"
     ]
    },
    {
     "name": "stderr",
     "output_type": "stream",
     "text": [
      "Epoch 5: 100%|██████████| 659/659 [00:00<00:00, 811.45batch/s, loss=0.178]  \n"
     ]
    },
    {
     "name": "stdout",
     "output_type": "stream",
     "text": [
      "Epoch 6/50: Train Loss = 0.1820, Val Loss = 0.2284, Val Accuracy = 0.9231\n"
     ]
    },
    {
     "name": "stderr",
     "output_type": "stream",
     "text": [
      "Epoch 6: 100%|██████████| 659/659 [00:00<00:00, 808.83batch/s, loss=0.163] \n"
     ]
    },
    {
     "name": "stdout",
     "output_type": "stream",
     "text": [
      "Epoch 7/50: Train Loss = 0.1802, Val Loss = 0.2271, Val Accuracy = 0.9245\n"
     ]
    },
    {
     "name": "stderr",
     "output_type": "stream",
     "text": [
      "Epoch 7: 100%|██████████| 659/659 [00:00<00:00, 805.83batch/s, loss=0.158] \n"
     ]
    },
    {
     "name": "stdout",
     "output_type": "stream",
     "text": [
      "Epoch 8/50: Train Loss = 0.1790, Val Loss = 0.2252, Val Accuracy = 0.9243\n"
     ]
    },
    {
     "name": "stderr",
     "output_type": "stream",
     "text": [
      "Epoch 8: 100%|██████████| 659/659 [00:00<00:00, 821.53batch/s, loss=0.159] \n"
     ]
    },
    {
     "name": "stdout",
     "output_type": "stream",
     "text": [
      "Epoch 9/50: Train Loss = 0.1777, Val Loss = 0.2273, Val Accuracy = 0.9239\n"
     ]
    },
    {
     "name": "stderr",
     "output_type": "stream",
     "text": [
      "Epoch 9: 100%|██████████| 659/659 [00:00<00:00, 816.14batch/s, loss=0.165] \n"
     ]
    },
    {
     "name": "stdout",
     "output_type": "stream",
     "text": [
      "Epoch 10/50: Train Loss = 0.1785, Val Loss = 0.2249, Val Accuracy = 0.9254\n"
     ]
    },
    {
     "name": "stderr",
     "output_type": "stream",
     "text": [
      "Epoch 10: 100%|██████████| 659/659 [00:00<00:00, 819.57batch/s, loss=0.157] \n"
     ]
    },
    {
     "name": "stdout",
     "output_type": "stream",
     "text": [
      "Epoch 11/50: Train Loss = 0.1818, Val Loss = 0.2257, Val Accuracy = 0.9241\n"
     ]
    },
    {
     "name": "stderr",
     "output_type": "stream",
     "text": [
      "Epoch 11: 100%|██████████| 659/659 [00:00<00:00, 761.69batch/s, loss=0.203] \n"
     ]
    },
    {
     "name": "stdout",
     "output_type": "stream",
     "text": [
      "Epoch 12/50: Train Loss = 0.1784, Val Loss = 0.2398, Val Accuracy = 0.9240\n"
     ]
    },
    {
     "name": "stderr",
     "output_type": "stream",
     "text": [
      "Epoch 12: 100%|██████████| 659/659 [00:00<00:00, 805.37batch/s, loss=0.16]  \n"
     ]
    },
    {
     "name": "stdout",
     "output_type": "stream",
     "text": [
      "Epoch 13/50: Train Loss = 0.1806, Val Loss = 0.2383, Val Accuracy = 0.9239\n"
     ]
    },
    {
     "name": "stderr",
     "output_type": "stream",
     "text": [
      "Epoch 13: 100%|██████████| 659/659 [00:00<00:00, 852.17batch/s, loss=0.19]  \n"
     ]
    },
    {
     "name": "stdout",
     "output_type": "stream",
     "text": [
      "Epoch 14/50: Train Loss = 0.1762, Val Loss = 0.2261, Val Accuracy = 0.9235\n"
     ]
    },
    {
     "name": "stderr",
     "output_type": "stream",
     "text": [
      "Epoch 14: 100%|██████████| 659/659 [00:00<00:00, 801.81batch/s, loss=0.168] \n"
     ]
    },
    {
     "name": "stdout",
     "output_type": "stream",
     "text": [
      "Epoch 15/50: Train Loss = 0.1761, Val Loss = 0.2275, Val Accuracy = 0.9241\n"
     ]
    },
    {
     "name": "stderr",
     "output_type": "stream",
     "text": [
      "Epoch 15: 100%|██████████| 659/659 [00:01<00:00, 629.73batch/s, loss=0.166] \n"
     ]
    },
    {
     "name": "stdout",
     "output_type": "stream",
     "text": [
      "Epoch 16/50: Train Loss = 0.1760, Val Loss = 0.2282, Val Accuracy = 0.9244\n"
     ]
    },
    {
     "name": "stderr",
     "output_type": "stream",
     "text": [
      "Epoch 16: 100%|██████████| 659/659 [00:00<00:00, 812.22batch/s, loss=0.237] \n"
     ]
    },
    {
     "name": "stdout",
     "output_type": "stream",
     "text": [
      "Epoch 17/50: Train Loss = 0.1755, Val Loss = 0.2275, Val Accuracy = 0.9239\n"
     ]
    },
    {
     "name": "stderr",
     "output_type": "stream",
     "text": [
      "Epoch 17: 100%|██████████| 659/659 [00:00<00:00, 738.58batch/s, loss=0.161] \n"
     ]
    },
    {
     "name": "stdout",
     "output_type": "stream",
     "text": [
      "Epoch 18/50: Train Loss = 0.1752, Val Loss = 0.2290, Val Accuracy = 0.9235\n"
     ]
    },
    {
     "name": "stderr",
     "output_type": "stream",
     "text": [
      "Epoch 18: 100%|██████████| 659/659 [00:00<00:00, 811.19batch/s, loss=0.221] \n"
     ]
    },
    {
     "name": "stdout",
     "output_type": "stream",
     "text": [
      "Epoch 19/50: Train Loss = 0.1730, Val Loss = 0.2322, Val Accuracy = 0.9235\n"
     ]
    },
    {
     "name": "stderr",
     "output_type": "stream",
     "text": [
      "Epoch 19: 100%|██████████| 659/659 [00:00<00:00, 807.98batch/s, loss=0.157] \n"
     ]
    },
    {
     "name": "stdout",
     "output_type": "stream",
     "text": [
      "Epoch 20/50: Train Loss = 0.1751, Val Loss = 0.2307, Val Accuracy = 0.9239\n"
     ]
    },
    {
     "name": "stderr",
     "output_type": "stream",
     "text": [
      "Epoch 20: 100%|██████████| 659/659 [00:00<00:00, 807.45batch/s, loss=0.344] \n"
     ]
    },
    {
     "name": "stdout",
     "output_type": "stream",
     "text": [
      "Epoch 21/50: Train Loss = 0.1754, Val Loss = 0.2412, Val Accuracy = 0.9241\n"
     ]
    },
    {
     "name": "stderr",
     "output_type": "stream",
     "text": [
      "Epoch 21: 100%|██████████| 659/659 [00:00<00:00, 804.75batch/s, loss=0.157] \n"
     ]
    },
    {
     "name": "stdout",
     "output_type": "stream",
     "text": [
      "Epoch 22/50: Train Loss = 0.1721, Val Loss = 0.2434, Val Accuracy = 0.9239\n"
     ]
    },
    {
     "name": "stderr",
     "output_type": "stream",
     "text": [
      "Epoch 22: 100%|██████████| 659/659 [00:00<00:00, 808.15batch/s, loss=0.155] \n"
     ]
    },
    {
     "name": "stdout",
     "output_type": "stream",
     "text": [
      "Epoch 23/50: Train Loss = 0.1729, Val Loss = 0.2310, Val Accuracy = 0.9241\n"
     ]
    },
    {
     "name": "stderr",
     "output_type": "stream",
     "text": [
      "Epoch 23: 100%|██████████| 659/659 [00:00<00:00, 806.68batch/s, loss=0.157] \n"
     ]
    },
    {
     "name": "stdout",
     "output_type": "stream",
     "text": [
      "Epoch 24/50: Train Loss = 0.1716, Val Loss = 0.2319, Val Accuracy = 0.9235\n"
     ]
    },
    {
     "name": "stderr",
     "output_type": "stream",
     "text": [
      "Epoch 24: 100%|██████████| 659/659 [00:00<00:00, 789.91batch/s, loss=0.163] \n"
     ]
    },
    {
     "name": "stdout",
     "output_type": "stream",
     "text": [
      "Epoch 25/50: Train Loss = 0.1719, Val Loss = 0.2311, Val Accuracy = 0.9240\n"
     ]
    },
    {
     "name": "stderr",
     "output_type": "stream",
     "text": [
      "Epoch 25: 100%|██████████| 659/659 [00:00<00:00, 793.23batch/s, loss=0.162] \n"
     ]
    },
    {
     "name": "stdout",
     "output_type": "stream",
     "text": [
      "Epoch 26/50: Train Loss = 0.1717, Val Loss = 0.2311, Val Accuracy = 0.9235\n"
     ]
    },
    {
     "name": "stderr",
     "output_type": "stream",
     "text": [
      "Epoch 26: 100%|██████████| 659/659 [00:00<00:00, 811.96batch/s, loss=0.16]  \n"
     ]
    },
    {
     "name": "stdout",
     "output_type": "stream",
     "text": [
      "Epoch 27/50: Train Loss = 0.1706, Val Loss = 0.2439, Val Accuracy = 0.9237\n"
     ]
    },
    {
     "name": "stderr",
     "output_type": "stream",
     "text": [
      "Epoch 27: 100%|██████████| 659/659 [00:00<00:00, 806.95batch/s, loss=0.175] \n"
     ]
    },
    {
     "name": "stdout",
     "output_type": "stream",
     "text": [
      "Epoch 28/50: Train Loss = 0.1688, Val Loss = 0.2455, Val Accuracy = 0.9244\n"
     ]
    },
    {
     "name": "stderr",
     "output_type": "stream",
     "text": [
      "Epoch 28: 100%|██████████| 659/659 [00:00<00:00, 799.24batch/s, loss=0.161] \n"
     ]
    },
    {
     "name": "stdout",
     "output_type": "stream",
     "text": [
      "Epoch 29/50: Train Loss = 0.1680, Val Loss = 0.2448, Val Accuracy = 0.9240\n"
     ]
    },
    {
     "name": "stderr",
     "output_type": "stream",
     "text": [
      "Epoch 29: 100%|██████████| 659/659 [00:00<00:00, 792.96batch/s, loss=0.152] \n"
     ]
    },
    {
     "name": "stdout",
     "output_type": "stream",
     "text": [
      "Epoch 30/50: Train Loss = 0.1698, Val Loss = 0.2458, Val Accuracy = 0.9241\n"
     ]
    },
    {
     "name": "stderr",
     "output_type": "stream",
     "text": [
      "Epoch 30: 100%|██████████| 659/659 [00:00<00:00, 774.30batch/s, loss=0.265] \n"
     ]
    },
    {
     "name": "stdout",
     "output_type": "stream",
     "text": [
      "Epoch 31/50: Train Loss = 0.1686, Val Loss = 0.2477, Val Accuracy = 0.9240\n"
     ]
    },
    {
     "name": "stderr",
     "output_type": "stream",
     "text": [
      "Epoch 31: 100%|██████████| 659/659 [00:00<00:00, 841.25batch/s, loss=0.163] \n"
     ]
    },
    {
     "name": "stdout",
     "output_type": "stream",
     "text": [
      "Epoch 32/50: Train Loss = 0.1686, Val Loss = 0.2457, Val Accuracy = 0.9239\n"
     ]
    },
    {
     "name": "stderr",
     "output_type": "stream",
     "text": [
      "Epoch 32: 100%|██████████| 659/659 [00:00<00:00, 750.31batch/s, loss=0.165] \n"
     ]
    },
    {
     "name": "stdout",
     "output_type": "stream",
     "text": [
      "Epoch 33/50: Train Loss = 0.1700, Val Loss = 0.2346, Val Accuracy = 0.9241\n"
     ]
    },
    {
     "name": "stderr",
     "output_type": "stream",
     "text": [
      "Epoch 33: 100%|██████████| 659/659 [00:00<00:00, 777.43batch/s, loss=0.154] \n"
     ]
    },
    {
     "name": "stdout",
     "output_type": "stream",
     "text": [
      "Epoch 34/50: Train Loss = 0.1680, Val Loss = 0.2367, Val Accuracy = 0.9225\n"
     ]
    },
    {
     "name": "stderr",
     "output_type": "stream",
     "text": [
      "Epoch 34: 100%|██████████| 659/659 [00:00<00:00, 775.67batch/s, loss=0.185] \n"
     ]
    },
    {
     "name": "stdout",
     "output_type": "stream",
     "text": [
      "Epoch 35/50: Train Loss = 0.1691, Val Loss = 0.2367, Val Accuracy = 0.9229\n"
     ]
    },
    {
     "name": "stderr",
     "output_type": "stream",
     "text": [
      "Epoch 35: 100%|██████████| 659/659 [00:00<00:00, 774.43batch/s, loss=0.172] \n"
     ]
    },
    {
     "name": "stdout",
     "output_type": "stream",
     "text": [
      "Epoch 36/50: Train Loss = 0.1688, Val Loss = 0.2472, Val Accuracy = 0.9233\n"
     ]
    },
    {
     "name": "stderr",
     "output_type": "stream",
     "text": [
      "Epoch 36: 100%|██████████| 659/659 [00:00<00:00, 756.73batch/s, loss=0.152] \n"
     ]
    },
    {
     "name": "stdout",
     "output_type": "stream",
     "text": [
      "Epoch 37/50: Train Loss = 0.1655, Val Loss = 0.2502, Val Accuracy = 0.9237\n"
     ]
    },
    {
     "name": "stderr",
     "output_type": "stream",
     "text": [
      "Epoch 37: 100%|██████████| 659/659 [00:00<00:00, 779.04batch/s, loss=0.164] \n"
     ]
    },
    {
     "name": "stdout",
     "output_type": "stream",
     "text": [
      "Epoch 38/50: Train Loss = 0.1663, Val Loss = 0.2498, Val Accuracy = 0.9233\n"
     ]
    },
    {
     "name": "stderr",
     "output_type": "stream",
     "text": [
      "Epoch 38: 100%|██████████| 659/659 [00:00<00:00, 815.85batch/s, loss=0.159] \n"
     ]
    },
    {
     "name": "stdout",
     "output_type": "stream",
     "text": [
      "Epoch 39/50: Train Loss = 0.1669, Val Loss = 0.2499, Val Accuracy = 0.9224\n"
     ]
    },
    {
     "name": "stderr",
     "output_type": "stream",
     "text": [
      "Epoch 39: 100%|██████████| 659/659 [00:00<00:00, 767.35batch/s, loss=0.158] \n"
     ]
    },
    {
     "name": "stdout",
     "output_type": "stream",
     "text": [
      "Epoch 40/50: Train Loss = 0.1643, Val Loss = 0.2526, Val Accuracy = 0.9224\n"
     ]
    },
    {
     "name": "stderr",
     "output_type": "stream",
     "text": [
      "Epoch 40: 100%|██████████| 659/659 [00:00<00:00, 808.42batch/s, loss=0.16]  \n"
     ]
    },
    {
     "name": "stdout",
     "output_type": "stream",
     "text": [
      "Epoch 41/50: Train Loss = 0.1659, Val Loss = 0.2525, Val Accuracy = 0.9225\n"
     ]
    },
    {
     "name": "stderr",
     "output_type": "stream",
     "text": [
      "Epoch 41: 100%|██████████| 659/659 [00:00<00:00, 787.88batch/s, loss=0.198] \n"
     ]
    },
    {
     "name": "stdout",
     "output_type": "stream",
     "text": [
      "Epoch 42/50: Train Loss = 0.1665, Val Loss = 0.2517, Val Accuracy = 0.9229\n"
     ]
    },
    {
     "name": "stderr",
     "output_type": "stream",
     "text": [
      "Epoch 42: 100%|██████████| 659/659 [00:00<00:00, 791.19batch/s, loss=0.151] \n"
     ]
    },
    {
     "name": "stdout",
     "output_type": "stream",
     "text": [
      "Epoch 43/50: Train Loss = 0.1684, Val Loss = 0.2389, Val Accuracy = 0.9232\n"
     ]
    },
    {
     "name": "stderr",
     "output_type": "stream",
     "text": [
      "Epoch 43: 100%|██████████| 659/659 [00:00<00:00, 805.50batch/s, loss=0.17]  \n"
     ]
    },
    {
     "name": "stdout",
     "output_type": "stream",
     "text": [
      "Epoch 44/50: Train Loss = 0.1658, Val Loss = 0.2498, Val Accuracy = 0.9229\n"
     ]
    },
    {
     "name": "stderr",
     "output_type": "stream",
     "text": [
      "Epoch 44: 100%|██████████| 659/659 [00:00<00:00, 796.08batch/s, loss=0.198] \n"
     ]
    },
    {
     "name": "stdout",
     "output_type": "stream",
     "text": [
      "Epoch 45/50: Train Loss = 0.1664, Val Loss = 0.2533, Val Accuracy = 0.9225\n"
     ]
    },
    {
     "name": "stderr",
     "output_type": "stream",
     "text": [
      "Epoch 45: 100%|██████████| 659/659 [00:00<00:00, 703.32batch/s, loss=0.158] \n"
     ]
    },
    {
     "name": "stdout",
     "output_type": "stream",
     "text": [
      "Epoch 46/50: Train Loss = 0.1648, Val Loss = 0.2559, Val Accuracy = 0.9221\n"
     ]
    },
    {
     "name": "stderr",
     "output_type": "stream",
     "text": [
      "Epoch 46: 100%|██████████| 659/659 [00:00<00:00, 842.57batch/s, loss=0.157] \n"
     ]
    },
    {
     "name": "stdout",
     "output_type": "stream",
     "text": [
      "Epoch 47/50: Train Loss = 0.1639, Val Loss = 0.2538, Val Accuracy = 0.9229\n"
     ]
    },
    {
     "name": "stderr",
     "output_type": "stream",
     "text": [
      "Epoch 47: 100%|██████████| 659/659 [00:00<00:00, 769.65batch/s, loss=0.148] \n"
     ]
    },
    {
     "name": "stdout",
     "output_type": "stream",
     "text": [
      "Epoch 48/50: Train Loss = 0.1645, Val Loss = 0.2509, Val Accuracy = 0.9223\n"
     ]
    },
    {
     "name": "stderr",
     "output_type": "stream",
     "text": [
      "Epoch 48: 100%|██████████| 659/659 [00:00<00:00, 840.60batch/s, loss=0.189] \n"
     ]
    },
    {
     "name": "stdout",
     "output_type": "stream",
     "text": [
      "Epoch 49/50: Train Loss = 0.1631, Val Loss = 0.2534, Val Accuracy = 0.9232\n"
     ]
    },
    {
     "name": "stderr",
     "output_type": "stream",
     "text": [
      "Epoch 49: 100%|██████████| 659/659 [00:00<00:00, 879.86batch/s, loss=0.144] \n"
     ]
    },
    {
     "name": "stdout",
     "output_type": "stream",
     "text": [
      "Epoch 50/50: Train Loss = 0.1637, Val Loss = 0.2535, Val Accuracy = 0.9231\n",
      "Best Validation Loss: 0.2236\n",
      "\n",
      "=== Running with Learning Rate: 0.0001 ===\n"
     ]
    },
    {
     "name": "stderr",
     "output_type": "stream",
     "text": [
      "Epoch 0: 100%|██████████| 659/659 [00:00<00:00, 890.02batch/s, loss=0.144] \n"
     ]
    },
    {
     "name": "stdout",
     "output_type": "stream",
     "text": [
      "Epoch 1/50: Train Loss = 0.1628, Val Loss = 0.2544, Val Accuracy = 0.9224\n"
     ]
    },
    {
     "name": "stderr",
     "output_type": "stream",
     "text": [
      "Epoch 1: 100%|██████████| 659/659 [00:00<00:00, 855.90batch/s, loss=0.206]  \n"
     ]
    },
    {
     "name": "stdout",
     "output_type": "stream",
     "text": [
      "Epoch 2/50: Train Loss = 0.1604, Val Loss = 0.2553, Val Accuracy = 0.9225\n"
     ]
    },
    {
     "name": "stderr",
     "output_type": "stream",
     "text": [
      "Epoch 2: 100%|██████████| 659/659 [00:00<00:00, 839.31batch/s, loss=0.151] \n"
     ]
    },
    {
     "name": "stdout",
     "output_type": "stream",
     "text": [
      "Epoch 3/50: Train Loss = 0.1618, Val Loss = 0.2545, Val Accuracy = 0.9227\n"
     ]
    },
    {
     "name": "stderr",
     "output_type": "stream",
     "text": [
      "Epoch 3: 100%|██████████| 659/659 [00:00<00:00, 858.75batch/s, loss=0.257] \n"
     ]
    },
    {
     "name": "stdout",
     "output_type": "stream",
     "text": [
      "Epoch 4/50: Train Loss = 0.1608, Val Loss = 0.2545, Val Accuracy = 0.9225\n"
     ]
    },
    {
     "name": "stderr",
     "output_type": "stream",
     "text": [
      "Epoch 4: 100%|██████████| 659/659 [00:00<00:00, 812.29batch/s, loss=0.161]  \n"
     ]
    },
    {
     "name": "stdout",
     "output_type": "stream",
     "text": [
      "Epoch 5/50: Train Loss = 0.1628, Val Loss = 0.2539, Val Accuracy = 0.9224\n"
     ]
    },
    {
     "name": "stderr",
     "output_type": "stream",
     "text": [
      "Epoch 5: 100%|██████████| 659/659 [00:00<00:00, 766.54batch/s, loss=0.171] \n"
     ]
    },
    {
     "name": "stdout",
     "output_type": "stream",
     "text": [
      "Epoch 6/50: Train Loss = 0.1634, Val Loss = 0.2534, Val Accuracy = 0.9223\n"
     ]
    },
    {
     "name": "stderr",
     "output_type": "stream",
     "text": [
      "Epoch 6: 100%|██████████| 659/659 [00:00<00:00, 757.62batch/s, loss=0.169] \n"
     ]
    },
    {
     "name": "stdout",
     "output_type": "stream",
     "text": [
      "Epoch 7/50: Train Loss = 0.1615, Val Loss = 0.2536, Val Accuracy = 0.9223\n"
     ]
    },
    {
     "name": "stderr",
     "output_type": "stream",
     "text": [
      "Epoch 7: 100%|██████████| 659/659 [00:00<00:00, 736.19batch/s, loss=0.15]  \n"
     ]
    },
    {
     "name": "stdout",
     "output_type": "stream",
     "text": [
      "Epoch 8/50: Train Loss = 0.1611, Val Loss = 0.2540, Val Accuracy = 0.9221\n"
     ]
    },
    {
     "name": "stderr",
     "output_type": "stream",
     "text": [
      "Epoch 8: 100%|██████████| 659/659 [00:00<00:00, 761.61batch/s, loss=0.146] \n"
     ]
    },
    {
     "name": "stdout",
     "output_type": "stream",
     "text": [
      "Epoch 9/50: Train Loss = 0.1619, Val Loss = 0.2540, Val Accuracy = 0.9225\n"
     ]
    },
    {
     "name": "stderr",
     "output_type": "stream",
     "text": [
      "Epoch 9: 100%|██████████| 659/659 [00:00<00:00, 794.97batch/s, loss=0.149] \n"
     ]
    },
    {
     "name": "stdout",
     "output_type": "stream",
     "text": [
      "Epoch 10/50: Train Loss = 0.1604, Val Loss = 0.2543, Val Accuracy = 0.9228\n"
     ]
    },
    {
     "name": "stderr",
     "output_type": "stream",
     "text": [
      "Epoch 10: 100%|██████████| 659/659 [00:00<00:00, 809.48batch/s, loss=0.148] \n"
     ]
    },
    {
     "name": "stdout",
     "output_type": "stream",
     "text": [
      "Epoch 11/50: Train Loss = 0.1623, Val Loss = 0.2540, Val Accuracy = 0.9229\n"
     ]
    },
    {
     "name": "stderr",
     "output_type": "stream",
     "text": [
      "Epoch 11: 100%|██████████| 659/659 [00:00<00:00, 780.09batch/s, loss=0.152] \n"
     ]
    },
    {
     "name": "stdout",
     "output_type": "stream",
     "text": [
      "Epoch 12/50: Train Loss = 0.1592, Val Loss = 0.2550, Val Accuracy = 0.9229\n"
     ]
    },
    {
     "name": "stderr",
     "output_type": "stream",
     "text": [
      "Epoch 12: 100%|██████████| 659/659 [00:00<00:00, 797.17batch/s, loss=0.153] \n"
     ]
    },
    {
     "name": "stdout",
     "output_type": "stream",
     "text": [
      "Epoch 13/50: Train Loss = 0.1609, Val Loss = 0.2534, Val Accuracy = 0.9229\n"
     ]
    },
    {
     "name": "stderr",
     "output_type": "stream",
     "text": [
      "Epoch 13: 100%|██████████| 659/659 [00:00<00:00, 806.20batch/s, loss=0.173] \n"
     ]
    },
    {
     "name": "stdout",
     "output_type": "stream",
     "text": [
      "Epoch 14/50: Train Loss = 0.1611, Val Loss = 0.2541, Val Accuracy = 0.9232\n"
     ]
    },
    {
     "name": "stderr",
     "output_type": "stream",
     "text": [
      "Epoch 14: 100%|██████████| 659/659 [00:00<00:00, 815.26batch/s, loss=0.166] \n"
     ]
    },
    {
     "name": "stdout",
     "output_type": "stream",
     "text": [
      "Epoch 15/50: Train Loss = 0.1601, Val Loss = 0.2542, Val Accuracy = 0.9229\n"
     ]
    },
    {
     "name": "stderr",
     "output_type": "stream",
     "text": [
      "Epoch 15: 100%|██████████| 659/659 [00:00<00:00, 786.32batch/s, loss=0.151] \n"
     ]
    },
    {
     "name": "stdout",
     "output_type": "stream",
     "text": [
      "Epoch 16/50: Train Loss = 0.1614, Val Loss = 0.2541, Val Accuracy = 0.9229\n"
     ]
    },
    {
     "name": "stderr",
     "output_type": "stream",
     "text": [
      "Epoch 16: 100%|██████████| 659/659 [00:00<00:00, 811.21batch/s, loss=0.156] \n"
     ]
    },
    {
     "name": "stdout",
     "output_type": "stream",
     "text": [
      "Epoch 17/50: Train Loss = 0.1598, Val Loss = 0.2556, Val Accuracy = 0.9229\n"
     ]
    },
    {
     "name": "stderr",
     "output_type": "stream",
     "text": [
      "Epoch 17: 100%|██████████| 659/659 [00:00<00:00, 794.55batch/s, loss=0.219] \n"
     ]
    },
    {
     "name": "stdout",
     "output_type": "stream",
     "text": [
      "Epoch 18/50: Train Loss = 0.1612, Val Loss = 0.2543, Val Accuracy = 0.9233\n"
     ]
    },
    {
     "name": "stderr",
     "output_type": "stream",
     "text": [
      "Epoch 18: 100%|██████████| 659/659 [00:00<00:00, 778.12batch/s, loss=0.15]  \n"
     ]
    },
    {
     "name": "stdout",
     "output_type": "stream",
     "text": [
      "Epoch 19/50: Train Loss = 0.1594, Val Loss = 0.2545, Val Accuracy = 0.9231\n"
     ]
    },
    {
     "name": "stderr",
     "output_type": "stream",
     "text": [
      "Epoch 19: 100%|██████████| 659/659 [00:00<00:00, 766.97batch/s, loss=0.141] \n"
     ]
    },
    {
     "name": "stdout",
     "output_type": "stream",
     "text": [
      "Epoch 20/50: Train Loss = 0.1600, Val Loss = 0.2537, Val Accuracy = 0.9229\n"
     ]
    },
    {
     "name": "stderr",
     "output_type": "stream",
     "text": [
      "Epoch 20: 100%|██████████| 659/659 [00:00<00:00, 801.18batch/s, loss=0.153] \n"
     ]
    },
    {
     "name": "stdout",
     "output_type": "stream",
     "text": [
      "Epoch 21/50: Train Loss = 0.1607, Val Loss = 0.2551, Val Accuracy = 0.9232\n"
     ]
    },
    {
     "name": "stderr",
     "output_type": "stream",
     "text": [
      "Epoch 21: 100%|██████████| 659/659 [00:00<00:00, 781.84batch/s, loss=0.153] \n"
     ]
    },
    {
     "name": "stdout",
     "output_type": "stream",
     "text": [
      "Epoch 22/50: Train Loss = 0.1633, Val Loss = 0.2548, Val Accuracy = 0.9229\n"
     ]
    },
    {
     "name": "stderr",
     "output_type": "stream",
     "text": [
      "Epoch 22: 100%|██████████| 659/659 [00:00<00:00, 804.64batch/s, loss=0.173] \n"
     ]
    },
    {
     "name": "stdout",
     "output_type": "stream",
     "text": [
      "Epoch 23/50: Train Loss = 0.1608, Val Loss = 0.2554, Val Accuracy = 0.9229\n"
     ]
    },
    {
     "name": "stderr",
     "output_type": "stream",
     "text": [
      "Epoch 23: 100%|██████████| 659/659 [00:00<00:00, 809.69batch/s, loss=0.158] \n"
     ]
    },
    {
     "name": "stdout",
     "output_type": "stream",
     "text": [
      "Epoch 24/50: Train Loss = 0.1591, Val Loss = 0.2558, Val Accuracy = 0.9225\n"
     ]
    },
    {
     "name": "stderr",
     "output_type": "stream",
     "text": [
      "Epoch 24: 100%|██████████| 659/659 [00:00<00:00, 806.99batch/s, loss=0.144] \n"
     ]
    },
    {
     "name": "stdout",
     "output_type": "stream",
     "text": [
      "Epoch 25/50: Train Loss = 0.1605, Val Loss = 0.2547, Val Accuracy = 0.9229\n"
     ]
    },
    {
     "name": "stderr",
     "output_type": "stream",
     "text": [
      "Epoch 25: 100%|██████████| 659/659 [00:00<00:00, 796.48batch/s, loss=0.147] \n"
     ]
    },
    {
     "name": "stdout",
     "output_type": "stream",
     "text": [
      "Epoch 26/50: Train Loss = 0.1606, Val Loss = 0.2545, Val Accuracy = 0.9231\n"
     ]
    },
    {
     "name": "stderr",
     "output_type": "stream",
     "text": [
      "Epoch 26: 100%|██████████| 659/659 [00:00<00:00, 753.85batch/s, loss=0.144] \n"
     ]
    },
    {
     "name": "stdout",
     "output_type": "stream",
     "text": [
      "Epoch 27/50: Train Loss = 0.1624, Val Loss = 0.2533, Val Accuracy = 0.9228\n"
     ]
    },
    {
     "name": "stderr",
     "output_type": "stream",
     "text": [
      "Epoch 27: 100%|██████████| 659/659 [00:00<00:00, 781.41batch/s, loss=0.158] \n"
     ]
    },
    {
     "name": "stdout",
     "output_type": "stream",
     "text": [
      "Epoch 28/50: Train Loss = 0.1609, Val Loss = 0.2530, Val Accuracy = 0.9231\n"
     ]
    },
    {
     "name": "stderr",
     "output_type": "stream",
     "text": [
      "Epoch 28: 100%|██████████| 659/659 [00:00<00:00, 771.47batch/s, loss=0.147] \n"
     ]
    },
    {
     "name": "stdout",
     "output_type": "stream",
     "text": [
      "Epoch 29/50: Train Loss = 0.1605, Val Loss = 0.2539, Val Accuracy = 0.9228\n"
     ]
    },
    {
     "name": "stderr",
     "output_type": "stream",
     "text": [
      "Epoch 29: 100%|██████████| 659/659 [00:00<00:00, 846.33batch/s, loss=0.148] \n"
     ]
    },
    {
     "name": "stdout",
     "output_type": "stream",
     "text": [
      "Epoch 30/50: Train Loss = 0.1598, Val Loss = 0.2557, Val Accuracy = 0.9231\n"
     ]
    },
    {
     "name": "stderr",
     "output_type": "stream",
     "text": [
      "Epoch 30: 100%|██████████| 659/659 [00:00<00:00, 851.08batch/s, loss=0.168] \n"
     ]
    },
    {
     "name": "stdout",
     "output_type": "stream",
     "text": [
      "Epoch 31/50: Train Loss = 0.1608, Val Loss = 0.2555, Val Accuracy = 0.9232\n"
     ]
    },
    {
     "name": "stderr",
     "output_type": "stream",
     "text": [
      "Epoch 31: 100%|██████████| 659/659 [00:00<00:00, 811.23batch/s, loss=0.177] \n"
     ]
    },
    {
     "name": "stdout",
     "output_type": "stream",
     "text": [
      "Epoch 32/50: Train Loss = 0.1602, Val Loss = 0.2559, Val Accuracy = 0.9232\n"
     ]
    },
    {
     "name": "stderr",
     "output_type": "stream",
     "text": [
      "Epoch 32: 100%|██████████| 659/659 [00:00<00:00, 822.74batch/s, loss=0.148] \n"
     ]
    },
    {
     "name": "stdout",
     "output_type": "stream",
     "text": [
      "Epoch 33/50: Train Loss = 0.1586, Val Loss = 0.2559, Val Accuracy = 0.9231\n"
     ]
    },
    {
     "name": "stderr",
     "output_type": "stream",
     "text": [
      "Epoch 33: 100%|██████████| 659/659 [00:00<00:00, 793.50batch/s, loss=0.149] \n"
     ]
    },
    {
     "name": "stdout",
     "output_type": "stream",
     "text": [
      "Epoch 34/50: Train Loss = 0.1598, Val Loss = 0.2556, Val Accuracy = 0.9231\n"
     ]
    },
    {
     "name": "stderr",
     "output_type": "stream",
     "text": [
      "Epoch 34: 100%|██████████| 659/659 [00:00<00:00, 858.47batch/s, loss=0.166] \n"
     ]
    },
    {
     "name": "stdout",
     "output_type": "stream",
     "text": [
      "Epoch 35/50: Train Loss = 0.1597, Val Loss = 0.2559, Val Accuracy = 0.9233\n"
     ]
    },
    {
     "name": "stderr",
     "output_type": "stream",
     "text": [
      "Epoch 35: 100%|██████████| 659/659 [00:00<00:00, 833.88batch/s, loss=0.145] \n"
     ]
    },
    {
     "name": "stdout",
     "output_type": "stream",
     "text": [
      "Epoch 36/50: Train Loss = 0.1592, Val Loss = 0.2551, Val Accuracy = 0.9231\n"
     ]
    },
    {
     "name": "stderr",
     "output_type": "stream",
     "text": [
      "Epoch 36: 100%|██████████| 659/659 [00:00<00:00, 863.32batch/s, loss=0.153] \n"
     ]
    },
    {
     "name": "stdout",
     "output_type": "stream",
     "text": [
      "Epoch 37/50: Train Loss = 0.1604, Val Loss = 0.2550, Val Accuracy = 0.9235\n"
     ]
    },
    {
     "name": "stderr",
     "output_type": "stream",
     "text": [
      "Epoch 37: 100%|██████████| 659/659 [00:00<00:00, 703.39batch/s, loss=0.167] \n"
     ]
    },
    {
     "name": "stdout",
     "output_type": "stream",
     "text": [
      "Epoch 38/50: Train Loss = 0.1588, Val Loss = 0.2566, Val Accuracy = 0.9229\n"
     ]
    },
    {
     "name": "stderr",
     "output_type": "stream",
     "text": [
      "Epoch 38: 100%|██████████| 659/659 [00:00<00:00, 771.60batch/s, loss=0.151] \n"
     ]
    },
    {
     "name": "stdout",
     "output_type": "stream",
     "text": [
      "Epoch 39/50: Train Loss = 0.1599, Val Loss = 0.2558, Val Accuracy = 0.9233\n"
     ]
    },
    {
     "name": "stderr",
     "output_type": "stream",
     "text": [
      "Epoch 39: 100%|██████████| 659/659 [00:00<00:00, 816.87batch/s, loss=0.157]  \n"
     ]
    },
    {
     "name": "stdout",
     "output_type": "stream",
     "text": [
      "Epoch 40/50: Train Loss = 0.1608, Val Loss = 0.2554, Val Accuracy = 0.9233\n"
     ]
    },
    {
     "name": "stderr",
     "output_type": "stream",
     "text": [
      "Epoch 40: 100%|██████████| 659/659 [00:00<00:00, 877.57batch/s, loss=0.166] \n"
     ]
    },
    {
     "name": "stdout",
     "output_type": "stream",
     "text": [
      "Epoch 41/50: Train Loss = 0.1590, Val Loss = 0.2561, Val Accuracy = 0.9231\n"
     ]
    },
    {
     "name": "stderr",
     "output_type": "stream",
     "text": [
      "Epoch 41: 100%|██████████| 659/659 [00:00<00:00, 850.67batch/s, loss=0.161] \n"
     ]
    },
    {
     "name": "stdout",
     "output_type": "stream",
     "text": [
      "Epoch 42/50: Train Loss = 0.1591, Val Loss = 0.2567, Val Accuracy = 0.9232\n"
     ]
    },
    {
     "name": "stderr",
     "output_type": "stream",
     "text": [
      "Epoch 42: 100%|██████████| 659/659 [00:00<00:00, 869.69batch/s, loss=0.152] \n"
     ]
    },
    {
     "name": "stdout",
     "output_type": "stream",
     "text": [
      "Epoch 43/50: Train Loss = 0.1608, Val Loss = 0.2553, Val Accuracy = 0.9232\n"
     ]
    },
    {
     "name": "stderr",
     "output_type": "stream",
     "text": [
      "Epoch 43: 100%|██████████| 659/659 [00:00<00:00, 869.68batch/s, loss=0.153] \n"
     ]
    },
    {
     "name": "stdout",
     "output_type": "stream",
     "text": [
      "Epoch 44/50: Train Loss = 0.1598, Val Loss = 0.2559, Val Accuracy = 0.9235\n"
     ]
    },
    {
     "name": "stderr",
     "output_type": "stream",
     "text": [
      "Epoch 44: 100%|██████████| 659/659 [00:00<00:00, 869.98batch/s, loss=0.146]  \n"
     ]
    },
    {
     "name": "stdout",
     "output_type": "stream",
     "text": [
      "Epoch 45/50: Train Loss = 0.1598, Val Loss = 0.2573, Val Accuracy = 0.9235\n"
     ]
    },
    {
     "name": "stderr",
     "output_type": "stream",
     "text": [
      "Epoch 45: 100%|██████████| 659/659 [00:00<00:00, 855.17batch/s, loss=0.161] \n"
     ]
    },
    {
     "name": "stdout",
     "output_type": "stream",
     "text": [
      "Epoch 46/50: Train Loss = 0.1585, Val Loss = 0.2573, Val Accuracy = 0.9232\n"
     ]
    },
    {
     "name": "stderr",
     "output_type": "stream",
     "text": [
      "Epoch 46: 100%|██████████| 659/659 [00:00<00:00, 862.59batch/s, loss=0.15]  \n"
     ]
    },
    {
     "name": "stdout",
     "output_type": "stream",
     "text": [
      "Epoch 47/50: Train Loss = 0.1627, Val Loss = 0.2570, Val Accuracy = 0.9231\n"
     ]
    },
    {
     "name": "stderr",
     "output_type": "stream",
     "text": [
      "Epoch 47: 100%|██████████| 659/659 [00:00<00:00, 862.81batch/s, loss=0.165] \n"
     ]
    },
    {
     "name": "stdout",
     "output_type": "stream",
     "text": [
      "Epoch 48/50: Train Loss = 0.1574, Val Loss = 0.2573, Val Accuracy = 0.9232\n"
     ]
    },
    {
     "name": "stderr",
     "output_type": "stream",
     "text": [
      "Epoch 48: 100%|██████████| 659/659 [00:00<00:00, 804.63batch/s, loss=0.154] \n"
     ]
    },
    {
     "name": "stdout",
     "output_type": "stream",
     "text": [
      "Epoch 49/50: Train Loss = 0.1597, Val Loss = 0.2556, Val Accuracy = 0.9228\n"
     ]
    },
    {
     "name": "stderr",
     "output_type": "stream",
     "text": [
      "Epoch 49: 100%|██████████| 659/659 [00:00<00:00, 873.77batch/s, loss=0.144] \n"
     ]
    },
    {
     "name": "stdout",
     "output_type": "stream",
     "text": [
      "Epoch 50/50: Train Loss = 0.1573, Val Loss = 0.2570, Val Accuracy = 0.9232\n",
      "Best Validation Loss: 0.2530\n",
      "\n",
      "=== Best Learning Rate: 0.01 ===\n",
      "Best Validation Loss: 0.2110\n",
      "\n",
      "Best Threshold: 0.10, Best TPR: 0.7761\n",
      "\n",
      "=== Testing Model: Best LR: 0.01 ===\n",
      "Test Loss: 0.2163, Test Accuracy: 0.7548\n",
      "\n",
      "Classification Report:\n",
      "              precision    recall  f1-score   support\n",
      "\n",
      "         0.0       0.98      0.75      0.85     11348\n",
      "         1.0       0.23      0.80      0.35      1043\n",
      "\n",
      "    accuracy                           0.75     12391\n",
      "   macro avg       0.60      0.78      0.60     12391\n",
      "weighted avg       0.91      0.75      0.81     12391\n",
      "\n",
      "\n",
      "Confusion Matrix:\n",
      "[[8519 2829]\n",
      " [ 209  834]]\n"
     ]
    },
    {
     "data": {
      "image/png": "[encoded data removed]",
      "text/plain": [
       "<Figure size 800x600 with 1 Axes>"
      ]
     },
     "metadata": {},
     "output_type": "display_data"
    },
    {
     "data": {
      "image/png": "[encoded data removed]",
      "text/plain": [
       "<Figure size 800x600 with 1 Axes>"
      ]
     },
     "metadata": {},
     "output_type": "display_data"
    },
    {
     "name": "stdout",
     "output_type": "stream",
     "text": [
      "Test ROC AUC Score: 0.8567\n",
      "\n",
      "=== Final Results ===\n",
      "Best Learning Rate: 0.01\n",
      "Test Loss: 0.2163\n",
      "Test Accuracy: 0.7548\n",
      "Test ROC AUC: 0.8567\n"
     ]
    }
   ],
   "source": [
    "# Run with multiple learning rates and test the best model\n",
    "learning_rates = [0.01,0.001,0.0001]\n",
    "modelX=NeuralNet(X_train_tensor.shape[1])\n",
    "best_lr, test_loss, test_accuracy, roc_auc, best_model = train_eval_find_best_lr_test(\n",
    "    modelX,\n",
    "    X_train_tensor, Y_train_tensor,\n",
    "    X_val_tensor, Y_val_tensor,\n",
    "    X_test_tensor, Y_test_tensor,\n",
    "    lrs=learning_rates,\n",
    "    description=\"Learning Rate Search and Testing\"\n",
    ")\n",
    "\n",
    "print(f\"\\n=== Final Results ===\")\n",
    "print(f\"Best Learning Rate: {best_lr}\")\n",
    "print(f\"Test Loss: {test_loss:.4f}\")\n",
    "print(f\"Test Accuracy: {test_accuracy:.4f}\")\n",
    "print(f\"Test ROC AUC: {roc_auc:.4f}\")"
   ]
  },
  {
   "cell_type": "code",
   "execution_count": 69,
   "metadata": {},
   "outputs": [
    {
     "name": "stdout",
     "output_type": "stream",
     "text": [
      "\n",
      "=== Final Results ===\n",
      "Best Learning Rate: 0.01\n",
      "Test Loss: 0.2163\n",
      "Test Accuracy: 0.7548\n",
      "Test ROC AUC: 0.8567\n"
     ]
    }
   ],
   "source": [
    "\n",
    "print(f\"\\n=== Final Results ===\")\n",
    "print(f\"Best Learning Rate: {best_lr}\")\n",
    "print(f\"Test Loss: {test_loss:.4f}\")\n",
    "print(f\"Test Accuracy: {test_accuracy:.4f}\")\n",
    "print(f\"Test ROC AUC: {roc_auc:.4f}\")"
   ]
  },
  {
   "cell_type": "code",
   "execution_count": 70,
   "metadata": {},
   "outputs": [
    {
     "name": "stdout",
     "output_type": "stream",
     "text": [
      "\n",
      "=== Running with Learning Rate: 0.01 ===\n"
     ]
    },
    {
     "name": "stderr",
     "output_type": "stream",
     "text": [
      "Epoch 0: 100%|██████████| 659/659 [00:00<00:00, 736.90batch/s, loss=0.31]  \n"
     ]
    },
    {
     "name": "stdout",
     "output_type": "stream",
     "text": [
      "Epoch 1/50: Train Loss = 0.2271, Val Loss = 0.2142, Val Accuracy = 0.9245\n"
     ]
    },
    {
     "name": "stderr",
     "output_type": "stream",
     "text": [
      "Epoch 1: 100%|██████████| 659/659 [00:00<00:00, 726.30batch/s, loss=0.297] \n"
     ]
    },
    {
     "name": "stdout",
     "output_type": "stream",
     "text": [
      "Epoch 2/50: Train Loss = 0.2133, Val Loss = 0.2127, Val Accuracy = 0.9263\n"
     ]
    },
    {
     "name": "stderr",
     "output_type": "stream",
     "text": [
      "Epoch 2: 100%|██████████| 659/659 [00:00<00:00, 758.81batch/s, loss=0.274] \n"
     ]
    },
    {
     "name": "stdout",
     "output_type": "stream",
     "text": [
      "Epoch 3/50: Train Loss = 0.2093, Val Loss = 0.2141, Val Accuracy = 0.9245\n"
     ]
    },
    {
     "name": "stderr",
     "output_type": "stream",
     "text": [
      "Epoch 3: 100%|██████████| 659/659 [00:00<00:00, 761.59batch/s, loss=0.256] \n"
     ]
    },
    {
     "name": "stdout",
     "output_type": "stream",
     "text": [
      "Epoch 4/50: Train Loss = 0.2057, Val Loss = 0.2111, Val Accuracy = 0.9266\n"
     ]
    },
    {
     "name": "stderr",
     "output_type": "stream",
     "text": [
      "Epoch 4: 100%|██████████| 659/659 [00:00<00:00, 724.40batch/s, loss=0.201] \n"
     ]
    },
    {
     "name": "stdout",
     "output_type": "stream",
     "text": [
      "Epoch 5/50: Train Loss = 0.2009, Val Loss = 0.2088, Val Accuracy = 0.9255\n"
     ]
    },
    {
     "name": "stderr",
     "output_type": "stream",
     "text": [
      "Epoch 5: 100%|██████████| 659/659 [00:00<00:00, 676.05batch/s, loss=0.157] \n"
     ]
    },
    {
     "name": "stdout",
     "output_type": "stream",
     "text": [
      "Epoch 6/50: Train Loss = 0.1976, Val Loss = 0.2097, Val Accuracy = 0.9260\n"
     ]
    },
    {
     "name": "stderr",
     "output_type": "stream",
     "text": [
      "Epoch 6: 100%|██████████| 659/659 [00:00<00:00, 732.90batch/s, loss=0.173] \n"
     ]
    },
    {
     "name": "stdout",
     "output_type": "stream",
     "text": [
      "Epoch 7/50: Train Loss = 0.1955, Val Loss = 0.2110, Val Accuracy = 0.9254\n"
     ]
    },
    {
     "name": "stderr",
     "output_type": "stream",
     "text": [
      "Epoch 7: 100%|██████████| 659/659 [00:00<00:00, 725.76batch/s, loss=0.15]  \n"
     ]
    },
    {
     "name": "stdout",
     "output_type": "stream",
     "text": [
      "Epoch 8/50: Train Loss = 0.1928, Val Loss = 0.2123, Val Accuracy = 0.9241\n"
     ]
    },
    {
     "name": "stderr",
     "output_type": "stream",
     "text": [
      "Epoch 8: 100%|██████████| 659/659 [00:00<00:00, 804.89batch/s, loss=0.162] \n"
     ]
    },
    {
     "name": "stdout",
     "output_type": "stream",
     "text": [
      "Epoch 9/50: Train Loss = 0.1897, Val Loss = 0.2128, Val Accuracy = 0.9237\n"
     ]
    },
    {
     "name": "stderr",
     "output_type": "stream",
     "text": [
      "Epoch 9: 100%|██████████| 659/659 [00:00<00:00, 813.69batch/s, loss=0.144] \n"
     ]
    },
    {
     "name": "stdout",
     "output_type": "stream",
     "text": [
      "Epoch 10/50: Train Loss = 0.1883, Val Loss = 0.2156, Val Accuracy = 0.9210\n"
     ]
    },
    {
     "name": "stderr",
     "output_type": "stream",
     "text": [
      "Epoch 10: 100%|██████████| 659/659 [00:00<00:00, 806.47batch/s, loss=0.15]  \n"
     ]
    },
    {
     "name": "stdout",
     "output_type": "stream",
     "text": [
      "Epoch 11/50: Train Loss = 0.1856, Val Loss = 0.2155, Val Accuracy = 0.9229\n"
     ]
    },
    {
     "name": "stderr",
     "output_type": "stream",
     "text": [
      "Epoch 11: 100%|██████████| 659/659 [00:00<00:00, 813.28batch/s, loss=0.15]  \n"
     ]
    },
    {
     "name": "stdout",
     "output_type": "stream",
     "text": [
      "Epoch 12/50: Train Loss = 0.1816, Val Loss = 0.2172, Val Accuracy = 0.9217\n"
     ]
    },
    {
     "name": "stderr",
     "output_type": "stream",
     "text": [
      "Epoch 12: 100%|██████████| 659/659 [00:00<00:00, 792.99batch/s, loss=0.15]  \n"
     ]
    },
    {
     "name": "stdout",
     "output_type": "stream",
     "text": [
      "Epoch 13/50: Train Loss = 0.1775, Val Loss = 0.2238, Val Accuracy = 0.9221\n"
     ]
    },
    {
     "name": "stderr",
     "output_type": "stream",
     "text": [
      "Epoch 13: 100%|██████████| 659/659 [00:00<00:00, 766.88batch/s, loss=0.157] \n"
     ]
    },
    {
     "name": "stdout",
     "output_type": "stream",
     "text": [
      "Epoch 14/50: Train Loss = 0.1759, Val Loss = 0.2289, Val Accuracy = 0.9186\n"
     ]
    },
    {
     "name": "stderr",
     "output_type": "stream",
     "text": [
      "Epoch 14: 100%|██████████| 659/659 [00:00<00:00, 794.34batch/s, loss=0.164] \n"
     ]
    },
    {
     "name": "stdout",
     "output_type": "stream",
     "text": [
      "Epoch 15/50: Train Loss = 0.1743, Val Loss = 0.2297, Val Accuracy = 0.9215\n"
     ]
    },
    {
     "name": "stderr",
     "output_type": "stream",
     "text": [
      "Epoch 15: 100%|██████████| 659/659 [00:00<00:00, 810.47batch/s, loss=0.204] \n"
     ]
    },
    {
     "name": "stdout",
     "output_type": "stream",
     "text": [
      "Epoch 16/50: Train Loss = 0.1685, Val Loss = 0.2307, Val Accuracy = 0.9196\n"
     ]
    },
    {
     "name": "stderr",
     "output_type": "stream",
     "text": [
      "Epoch 16: 100%|██████████| 659/659 [00:00<00:00, 813.06batch/s, loss=0.167] \n"
     ]
    },
    {
     "name": "stdout",
     "output_type": "stream",
     "text": [
      "Epoch 17/50: Train Loss = 0.1695, Val Loss = 0.2359, Val Accuracy = 0.9198\n"
     ]
    },
    {
     "name": "stderr",
     "output_type": "stream",
     "text": [
      "Epoch 17: 100%|██████████| 659/659 [00:00<00:00, 789.20batch/s, loss=0.163] \n"
     ]
    },
    {
     "name": "stdout",
     "output_type": "stream",
     "text": [
      "Epoch 18/50: Train Loss = 0.1647, Val Loss = 0.2387, Val Accuracy = 0.9219\n"
     ]
    },
    {
     "name": "stderr",
     "output_type": "stream",
     "text": [
      "Epoch 18: 100%|██████████| 659/659 [00:00<00:00, 746.80batch/s, loss=0.186] \n"
     ]
    },
    {
     "name": "stdout",
     "output_type": "stream",
     "text": [
      "Epoch 19/50: Train Loss = 0.1612, Val Loss = 0.2363, Val Accuracy = 0.9194\n"
     ]
    },
    {
     "name": "stderr",
     "output_type": "stream",
     "text": [
      "Epoch 19: 100%|██████████| 659/659 [00:00<00:00, 662.32batch/s, loss=0.172] \n"
     ]
    },
    {
     "name": "stdout",
     "output_type": "stream",
     "text": [
      "Epoch 20/50: Train Loss = 0.1591, Val Loss = 0.2335, Val Accuracy = 0.9197\n"
     ]
    },
    {
     "name": "stderr",
     "output_type": "stream",
     "text": [
      "Epoch 20: 100%|██████████| 659/659 [00:00<00:00, 719.31batch/s, loss=0.173] \n"
     ]
    },
    {
     "name": "stdout",
     "output_type": "stream",
     "text": [
      "Epoch 21/50: Train Loss = 0.1577, Val Loss = 0.2489, Val Accuracy = 0.9201\n"
     ]
    },
    {
     "name": "stderr",
     "output_type": "stream",
     "text": [
      "Epoch 21: 100%|██████████| 659/659 [00:00<00:00, 706.91batch/s, loss=0.169] \n"
     ]
    },
    {
     "name": "stdout",
     "output_type": "stream",
     "text": [
      "Epoch 22/50: Train Loss = 0.1572, Val Loss = 0.2520, Val Accuracy = 0.9174\n"
     ]
    },
    {
     "name": "stderr",
     "output_type": "stream",
     "text": [
      "Epoch 22: 100%|██████████| 659/659 [00:00<00:00, 697.99batch/s, loss=0.139] \n"
     ]
    },
    {
     "name": "stdout",
     "output_type": "stream",
     "text": [
      "Epoch 23/50: Train Loss = 0.1529, Val Loss = 0.2542, Val Accuracy = 0.9192\n"
     ]
    },
    {
     "name": "stderr",
     "output_type": "stream",
     "text": [
      "Epoch 23: 100%|██████████| 659/659 [00:00<00:00, 708.44batch/s, loss=0.146] \n"
     ]
    },
    {
     "name": "stdout",
     "output_type": "stream",
     "text": [
      "Epoch 24/50: Train Loss = 0.1543, Val Loss = 0.2565, Val Accuracy = 0.9186\n"
     ]
    },
    {
     "name": "stderr",
     "output_type": "stream",
     "text": [
      "Epoch 24: 100%|██████████| 659/659 [00:00<00:00, 691.64batch/s, loss=0.14]  \n"
     ]
    },
    {
     "name": "stdout",
     "output_type": "stream",
     "text": [
      "Epoch 25/50: Train Loss = 0.1512, Val Loss = 0.2820, Val Accuracy = 0.9163\n"
     ]
    },
    {
     "name": "stderr",
     "output_type": "stream",
     "text": [
      "Epoch 25: 100%|██████████| 659/659 [00:00<00:00, 660.06batch/s, loss=0.14]  \n"
     ]
    },
    {
     "name": "stdout",
     "output_type": "stream",
     "text": [
      "Epoch 26/50: Train Loss = 0.1481, Val Loss = 0.2480, Val Accuracy = 0.9193\n"
     ]
    },
    {
     "name": "stderr",
     "output_type": "stream",
     "text": [
      "Epoch 26: 100%|██████████| 659/659 [00:00<00:00, 755.13batch/s, loss=0.147] \n"
     ]
    },
    {
     "name": "stdout",
     "output_type": "stream",
     "text": [
      "Epoch 27/50: Train Loss = 0.1482, Val Loss = 0.2625, Val Accuracy = 0.9189\n"
     ]
    },
    {
     "name": "stderr",
     "output_type": "stream",
     "text": [
      "Epoch 27: 100%|██████████| 659/659 [00:00<00:00, 679.77batch/s, loss=0.143] \n"
     ]
    },
    {
     "name": "stdout",
     "output_type": "stream",
     "text": [
      "Epoch 28/50: Train Loss = 0.1487, Val Loss = 0.2569, Val Accuracy = 0.9212\n"
     ]
    },
    {
     "name": "stderr",
     "output_type": "stream",
     "text": [
      "Epoch 28: 100%|██████████| 659/659 [00:01<00:00, 628.08batch/s, loss=0.133] \n"
     ]
    },
    {
     "name": "stdout",
     "output_type": "stream",
     "text": [
      "Epoch 29/50: Train Loss = 0.1443, Val Loss = 0.2794, Val Accuracy = 0.9189\n"
     ]
    },
    {
     "name": "stderr",
     "output_type": "stream",
     "text": [
      "Epoch 29: 100%|██████████| 659/659 [00:00<00:00, 666.05batch/s, loss=0.146] \n"
     ]
    },
    {
     "name": "stdout",
     "output_type": "stream",
     "text": [
      "Epoch 30/50: Train Loss = 0.1438, Val Loss = 0.2848, Val Accuracy = 0.9192\n"
     ]
    },
    {
     "name": "stderr",
     "output_type": "stream",
     "text": [
      "Epoch 30: 100%|██████████| 659/659 [00:00<00:00, 774.30batch/s, loss=0.148] \n"
     ]
    },
    {
     "name": "stdout",
     "output_type": "stream",
     "text": [
      "Epoch 31/50: Train Loss = 0.1435, Val Loss = 0.2841, Val Accuracy = 0.9178\n"
     ]
    },
    {
     "name": "stderr",
     "output_type": "stream",
     "text": [
      "Epoch 31: 100%|██████████| 659/659 [00:00<00:00, 736.10batch/s, loss=0.133] \n"
     ]
    },
    {
     "name": "stdout",
     "output_type": "stream",
     "text": [
      "Epoch 32/50: Train Loss = 0.1419, Val Loss = 0.2914, Val Accuracy = 0.9166\n"
     ]
    },
    {
     "name": "stderr",
     "output_type": "stream",
     "text": [
      "Epoch 32: 100%|██████████| 659/659 [00:00<00:00, 798.09batch/s, loss=0.144] \n"
     ]
    },
    {
     "name": "stdout",
     "output_type": "stream",
     "text": [
      "Epoch 33/50: Train Loss = 0.1424, Val Loss = 0.2942, Val Accuracy = 0.9170\n"
     ]
    },
    {
     "name": "stderr",
     "output_type": "stream",
     "text": [
      "Epoch 33: 100%|██████████| 659/659 [00:00<00:00, 799.15batch/s, loss=0.138] \n"
     ]
    },
    {
     "name": "stdout",
     "output_type": "stream",
     "text": [
      "Epoch 34/50: Train Loss = 0.1378, Val Loss = 0.3211, Val Accuracy = 0.9161\n"
     ]
    },
    {
     "name": "stderr",
     "output_type": "stream",
     "text": [
      "Epoch 34: 100%|██████████| 659/659 [00:00<00:00, 792.68batch/s, loss=0.136] \n"
     ]
    },
    {
     "name": "stdout",
     "output_type": "stream",
     "text": [
      "Epoch 35/50: Train Loss = 0.1383, Val Loss = 0.3121, Val Accuracy = 0.9188\n"
     ]
    },
    {
     "name": "stderr",
     "output_type": "stream",
     "text": [
      "Epoch 35: 100%|██████████| 659/659 [00:00<00:00, 818.01batch/s, loss=0.13]  \n"
     ]
    },
    {
     "name": "stdout",
     "output_type": "stream",
     "text": [
      "Epoch 36/50: Train Loss = 0.1392, Val Loss = 0.3642, Val Accuracy = 0.9165\n"
     ]
    },
    {
     "name": "stderr",
     "output_type": "stream",
     "text": [
      "Epoch 36: 100%|██████████| 659/659 [00:00<00:00, 836.64batch/s, loss=0.119] \n"
     ]
    },
    {
     "name": "stdout",
     "output_type": "stream",
     "text": [
      "Epoch 37/50: Train Loss = 0.1366, Val Loss = 0.3516, Val Accuracy = 0.9139\n"
     ]
    },
    {
     "name": "stderr",
     "output_type": "stream",
     "text": [
      "Epoch 37: 100%|██████████| 659/659 [00:00<00:00, 798.62batch/s, loss=0.128] \n"
     ]
    },
    {
     "name": "stdout",
     "output_type": "stream",
     "text": [
      "Epoch 38/50: Train Loss = 0.1335, Val Loss = 0.3814, Val Accuracy = 0.9166\n"
     ]
    },
    {
     "name": "stderr",
     "output_type": "stream",
     "text": [
      "Epoch 38: 100%|██████████| 659/659 [00:00<00:00, 838.59batch/s, loss=0.123] \n"
     ]
    },
    {
     "name": "stdout",
     "output_type": "stream",
     "text": [
      "Epoch 39/50: Train Loss = 0.1337, Val Loss = 0.4817, Val Accuracy = 0.9145\n"
     ]
    },
    {
     "name": "stderr",
     "output_type": "stream",
     "text": [
      "Epoch 39: 100%|██████████| 659/659 [00:00<00:00, 837.51batch/s, loss=0.13]  \n"
     ]
    },
    {
     "name": "stdout",
     "output_type": "stream",
     "text": [
      "Epoch 40/50: Train Loss = 0.1321, Val Loss = 0.4137, Val Accuracy = 0.9149\n"
     ]
    },
    {
     "name": "stderr",
     "output_type": "stream",
     "text": [
      "Epoch 40: 100%|██████████| 659/659 [00:00<00:00, 803.49batch/s, loss=0.13]  \n"
     ]
    },
    {
     "name": "stdout",
     "output_type": "stream",
     "text": [
      "Epoch 41/50: Train Loss = 0.1330, Val Loss = 0.3794, Val Accuracy = 0.9146\n"
     ]
    },
    {
     "name": "stderr",
     "output_type": "stream",
     "text": [
      "Epoch 41: 100%|██████████| 659/659 [00:00<00:00, 842.81batch/s, loss=0.136] \n"
     ]
    },
    {
     "name": "stdout",
     "output_type": "stream",
     "text": [
      "Epoch 42/50: Train Loss = 0.1302, Val Loss = 0.3513, Val Accuracy = 0.9159\n"
     ]
    },
    {
     "name": "stderr",
     "output_type": "stream",
     "text": [
      "Epoch 42: 100%|██████████| 659/659 [00:00<00:00, 847.85batch/s, loss=0.124] \n"
     ]
    },
    {
     "name": "stdout",
     "output_type": "stream",
     "text": [
      "Epoch 43/50: Train Loss = 0.1273, Val Loss = 0.3223, Val Accuracy = 0.9182\n"
     ]
    },
    {
     "name": "stderr",
     "output_type": "stream",
     "text": [
      "Epoch 43: 100%|██████████| 659/659 [00:00<00:00, 808.11batch/s, loss=0.128] \n"
     ]
    },
    {
     "name": "stdout",
     "output_type": "stream",
     "text": [
      "Epoch 44/50: Train Loss = 0.1277, Val Loss = 0.4326, Val Accuracy = 0.9171\n"
     ]
    },
    {
     "name": "stderr",
     "output_type": "stream",
     "text": [
      "Epoch 44: 100%|██████████| 659/659 [00:00<00:00, 847.72batch/s, loss=0.122] \n"
     ]
    },
    {
     "name": "stdout",
     "output_type": "stream",
     "text": [
      "Epoch 45/50: Train Loss = 0.1315, Val Loss = 0.4532, Val Accuracy = 0.9135\n"
     ]
    },
    {
     "name": "stderr",
     "output_type": "stream",
     "text": [
      "Epoch 45: 100%|██████████| 659/659 [00:00<00:00, 846.44batch/s, loss=0.135] \n"
     ]
    },
    {
     "name": "stdout",
     "output_type": "stream",
     "text": [
      "Epoch 46/50: Train Loss = 0.1249, Val Loss = 0.3937, Val Accuracy = 0.9149\n"
     ]
    },
    {
     "name": "stderr",
     "output_type": "stream",
     "text": [
      "Epoch 46: 100%|██████████| 659/659 [00:00<00:00, 802.44batch/s, loss=0.133] \n"
     ]
    },
    {
     "name": "stdout",
     "output_type": "stream",
     "text": [
      "Epoch 47/50: Train Loss = 0.1253, Val Loss = 0.5760, Val Accuracy = 0.9165\n"
     ]
    },
    {
     "name": "stderr",
     "output_type": "stream",
     "text": [
      "Epoch 47: 100%|██████████| 659/659 [00:00<00:00, 847.59batch/s, loss=0.129] \n"
     ]
    },
    {
     "name": "stdout",
     "output_type": "stream",
     "text": [
      "Epoch 48/50: Train Loss = 0.1262, Val Loss = 0.3830, Val Accuracy = 0.9185\n"
     ]
    },
    {
     "name": "stderr",
     "output_type": "stream",
     "text": [
      "Epoch 48: 100%|██████████| 659/659 [00:00<00:00, 851.65batch/s, loss=0.118] \n"
     ]
    },
    {
     "name": "stdout",
     "output_type": "stream",
     "text": [
      "Epoch 49/50: Train Loss = 0.1211, Val Loss = 0.4327, Val Accuracy = 0.9169\n"
     ]
    },
    {
     "name": "stderr",
     "output_type": "stream",
     "text": [
      "Epoch 49: 100%|██████████| 659/659 [00:00<00:00, 807.35batch/s, loss=0.125] \n"
     ]
    },
    {
     "name": "stdout",
     "output_type": "stream",
     "text": [
      "Epoch 50/50: Train Loss = 0.1201, Val Loss = 0.4579, Val Accuracy = 0.9177\n",
      "Best Validation Loss: 0.2088\n",
      "\n",
      "=== Running with Learning Rate: 0.001 ===\n"
     ]
    },
    {
     "name": "stderr",
     "output_type": "stream",
     "text": [
      "Epoch 0: 100%|██████████| 659/659 [00:00<00:00, 746.82batch/s, loss=0.114] \n"
     ]
    },
    {
     "name": "stdout",
     "output_type": "stream",
     "text": [
      "Epoch 1/50: Train Loss = 0.1099, Val Loss = 0.6272, Val Accuracy = 0.9151\n"
     ]
    },
    {
     "name": "stderr",
     "output_type": "stream",
     "text": [
      "Epoch 1: 100%|██████████| 659/659 [00:00<00:00, 764.50batch/s, loss=0.104] \n"
     ]
    },
    {
     "name": "stdout",
     "output_type": "stream",
     "text": [
      "Epoch 2/50: Train Loss = 0.1009, Val Loss = 0.7634, Val Accuracy = 0.9153\n"
     ]
    },
    {
     "name": "stderr",
     "output_type": "stream",
     "text": [
      "Epoch 2: 100%|██████████| 659/659 [00:00<00:00, 840.61batch/s, loss=0.0982]\n"
     ]
    },
    {
     "name": "stdout",
     "output_type": "stream",
     "text": [
      "Epoch 3/50: Train Loss = 0.0966, Val Loss = 0.8302, Val Accuracy = 0.9154\n"
     ]
    },
    {
     "name": "stderr",
     "output_type": "stream",
     "text": [
      "Epoch 3: 100%|██████████| 659/659 [00:00<00:00, 837.93batch/s, loss=0.0955]\n"
     ]
    },
    {
     "name": "stdout",
     "output_type": "stream",
     "text": [
      "Epoch 4/50: Train Loss = 0.0933, Val Loss = 0.9762, Val Accuracy = 0.9146\n"
     ]
    },
    {
     "name": "stderr",
     "output_type": "stream",
     "text": [
      "Epoch 4: 100%|██████████| 659/659 [00:00<00:00, 811.42batch/s, loss=0.0934] \n"
     ]
    },
    {
     "name": "stdout",
     "output_type": "stream",
     "text": [
      "Epoch 5/50: Train Loss = 0.0913, Val Loss = 1.0908, Val Accuracy = 0.9155\n"
     ]
    },
    {
     "name": "stderr",
     "output_type": "stream",
     "text": [
      "Epoch 5: 100%|██████████| 659/659 [00:00<00:00, 860.90batch/s, loss=0.093]  \n"
     ]
    },
    {
     "name": "stdout",
     "output_type": "stream",
     "text": [
      "Epoch 6/50: Train Loss = 0.0889, Val Loss = 1.1753, Val Accuracy = 0.9138\n"
     ]
    },
    {
     "name": "stderr",
     "output_type": "stream",
     "text": [
      "Epoch 6: 100%|██████████| 659/659 [00:00<00:00, 852.17batch/s, loss=0.0916] \n"
     ]
    },
    {
     "name": "stdout",
     "output_type": "stream",
     "text": [
      "Epoch 7/50: Train Loss = 0.0884, Val Loss = 1.2094, Val Accuracy = 0.9130\n"
     ]
    },
    {
     "name": "stderr",
     "output_type": "stream",
     "text": [
      "Epoch 7: 100%|██████████| 659/659 [00:00<00:00, 843.40batch/s, loss=0.0906] \n"
     ]
    },
    {
     "name": "stdout",
     "output_type": "stream",
     "text": [
      "Epoch 8/50: Train Loss = 0.0861, Val Loss = 1.3748, Val Accuracy = 0.9143\n"
     ]
    },
    {
     "name": "stderr",
     "output_type": "stream",
     "text": [
      "Epoch 8: 100%|██████████| 659/659 [00:00<00:00, 745.26batch/s, loss=0.089]  \n"
     ]
    },
    {
     "name": "stdout",
     "output_type": "stream",
     "text": [
      "Epoch 9/50: Train Loss = 0.0856, Val Loss = 1.3889, Val Accuracy = 0.9138\n"
     ]
    },
    {
     "name": "stderr",
     "output_type": "stream",
     "text": [
      "Epoch 9: 100%|██████████| 659/659 [00:00<00:00, 758.10batch/s, loss=0.0873] \n"
     ]
    },
    {
     "name": "stdout",
     "output_type": "stream",
     "text": [
      "Epoch 10/50: Train Loss = 0.0841, Val Loss = 1.5372, Val Accuracy = 0.9145\n"
     ]
    },
    {
     "name": "stderr",
     "output_type": "stream",
     "text": [
      "Epoch 10: 100%|██████████| 659/659 [00:00<00:00, 666.26batch/s, loss=0.102]  \n"
     ]
    },
    {
     "name": "stdout",
     "output_type": "stream",
     "text": [
      "Epoch 11/50: Train Loss = 0.0834, Val Loss = 1.6673, Val Accuracy = 0.9139\n"
     ]
    },
    {
     "name": "stderr",
     "output_type": "stream",
     "text": [
      "Epoch 11: 100%|██████████| 659/659 [00:00<00:00, 773.67batch/s, loss=0.0858] \n"
     ]
    },
    {
     "name": "stdout",
     "output_type": "stream",
     "text": [
      "Epoch 12/50: Train Loss = 0.0821, Val Loss = 1.8316, Val Accuracy = 0.9132\n"
     ]
    },
    {
     "name": "stderr",
     "output_type": "stream",
     "text": [
      "Epoch 12: 100%|██████████| 659/659 [00:01<00:00, 655.47batch/s, loss=0.0828] \n"
     ]
    },
    {
     "name": "stdout",
     "output_type": "stream",
     "text": [
      "Epoch 13/50: Train Loss = 0.0825, Val Loss = 1.7873, Val Accuracy = 0.9132\n"
     ]
    },
    {
     "name": "stderr",
     "output_type": "stream",
     "text": [
      "Epoch 13: 100%|██████████| 659/659 [00:00<00:00, 710.06batch/s, loss=0.0823] \n"
     ]
    },
    {
     "name": "stdout",
     "output_type": "stream",
     "text": [
      "Epoch 14/50: Train Loss = 0.0808, Val Loss = 1.7655, Val Accuracy = 0.9126\n"
     ]
    },
    {
     "name": "stderr",
     "output_type": "stream",
     "text": [
      "Epoch 14: 100%|██████████| 659/659 [00:00<00:00, 711.30batch/s, loss=0.0826] \n"
     ]
    },
    {
     "name": "stdout",
     "output_type": "stream",
     "text": [
      "Epoch 15/50: Train Loss = 0.0803, Val Loss = 1.8756, Val Accuracy = 0.9130\n"
     ]
    },
    {
     "name": "stderr",
     "output_type": "stream",
     "text": [
      "Epoch 15: 100%|██████████| 659/659 [00:00<00:00, 710.61batch/s, loss=0.0814] \n"
     ]
    },
    {
     "name": "stdout",
     "output_type": "stream",
     "text": [
      "Epoch 16/50: Train Loss = 0.0794, Val Loss = 1.9259, Val Accuracy = 0.9130\n"
     ]
    },
    {
     "name": "stderr",
     "output_type": "stream",
     "text": [
      "Epoch 16: 100%|██████████| 659/659 [00:00<00:00, 672.60batch/s, loss=0.0799] \n"
     ]
    },
    {
     "name": "stdout",
     "output_type": "stream",
     "text": [
      "Epoch 17/50: Train Loss = 0.0792, Val Loss = 1.9860, Val Accuracy = 0.9131\n"
     ]
    },
    {
     "name": "stderr",
     "output_type": "stream",
     "text": [
      "Epoch 17: 100%|██████████| 659/659 [00:00<00:00, 748.53batch/s, loss=0.0822] \n"
     ]
    },
    {
     "name": "stdout",
     "output_type": "stream",
     "text": [
      "Epoch 18/50: Train Loss = 0.0787, Val Loss = 1.9106, Val Accuracy = 0.9139\n"
     ]
    },
    {
     "name": "stderr",
     "output_type": "stream",
     "text": [
      "Epoch 18: 100%|██████████| 659/659 [00:00<00:00, 670.21batch/s, loss=0.0788] \n"
     ]
    },
    {
     "name": "stdout",
     "output_type": "stream",
     "text": [
      "Epoch 19/50: Train Loss = 0.0782, Val Loss = 1.9581, Val Accuracy = 0.9128\n"
     ]
    },
    {
     "name": "stderr",
     "output_type": "stream",
     "text": [
      "Epoch 19: 100%|██████████| 659/659 [00:00<00:00, 666.04batch/s, loss=0.0786] \n"
     ]
    },
    {
     "name": "stdout",
     "output_type": "stream",
     "text": [
      "Epoch 20/50: Train Loss = 0.0773, Val Loss = 2.0505, Val Accuracy = 0.9126\n"
     ]
    },
    {
     "name": "stderr",
     "output_type": "stream",
     "text": [
      "Epoch 20: 100%|██████████| 659/659 [00:00<00:00, 676.69batch/s, loss=0.0769] \n"
     ]
    },
    {
     "name": "stdout",
     "output_type": "stream",
     "text": [
      "Epoch 21/50: Train Loss = 0.0757, Val Loss = 2.0053, Val Accuracy = 0.9142\n"
     ]
    },
    {
     "name": "stderr",
     "output_type": "stream",
     "text": [
      "Epoch 21: 100%|██████████| 659/659 [00:00<00:00, 663.84batch/s, loss=0.0761] \n"
     ]
    },
    {
     "name": "stdout",
     "output_type": "stream",
     "text": [
      "Epoch 22/50: Train Loss = 0.0757, Val Loss = 2.0882, Val Accuracy = 0.9135\n"
     ]
    },
    {
     "name": "stderr",
     "output_type": "stream",
     "text": [
      "Epoch 22: 100%|██████████| 659/659 [00:01<00:00, 614.39batch/s, loss=0.0772] \n"
     ]
    },
    {
     "name": "stdout",
     "output_type": "stream",
     "text": [
      "Epoch 23/50: Train Loss = 0.0752, Val Loss = 2.1666, Val Accuracy = 0.9145\n"
     ]
    },
    {
     "name": "stderr",
     "output_type": "stream",
     "text": [
      "Epoch 23: 100%|██████████| 659/659 [00:01<00:00, 563.59batch/s, loss=0.0753] \n"
     ]
    },
    {
     "name": "stdout",
     "output_type": "stream",
     "text": [
      "Epoch 24/50: Train Loss = 0.0750, Val Loss = 2.1341, Val Accuracy = 0.9137\n"
     ]
    },
    {
     "name": "stderr",
     "output_type": "stream",
     "text": [
      "Epoch 24: 100%|██████████| 659/659 [00:01<00:00, 618.65batch/s, loss=0.0744] \n"
     ]
    },
    {
     "name": "stdout",
     "output_type": "stream",
     "text": [
      "Epoch 25/50: Train Loss = 0.0743, Val Loss = 2.1134, Val Accuracy = 0.9139\n"
     ]
    },
    {
     "name": "stderr",
     "output_type": "stream",
     "text": [
      "Epoch 25: 100%|██████████| 659/659 [00:00<00:00, 744.28batch/s, loss=0.0699] \n"
     ]
    },
    {
     "name": "stdout",
     "output_type": "stream",
     "text": [
      "Epoch 26/50: Train Loss = 0.0739, Val Loss = 2.2053, Val Accuracy = 0.9128\n"
     ]
    },
    {
     "name": "stderr",
     "output_type": "stream",
     "text": [
      "Epoch 26: 100%|██████████| 659/659 [00:00<00:00, 748.89batch/s, loss=0.0705] \n"
     ]
    },
    {
     "name": "stdout",
     "output_type": "stream",
     "text": [
      "Epoch 27/50: Train Loss = 0.0730, Val Loss = 2.2184, Val Accuracy = 0.9130\n"
     ]
    },
    {
     "name": "stderr",
     "output_type": "stream",
     "text": [
      "Epoch 27: 100%|██████████| 659/659 [00:00<00:00, 754.99batch/s, loss=0.0655] \n"
     ]
    },
    {
     "name": "stdout",
     "output_type": "stream",
     "text": [
      "Epoch 28/50: Train Loss = 0.0728, Val Loss = 2.2168, Val Accuracy = 0.9122\n"
     ]
    },
    {
     "name": "stderr",
     "output_type": "stream",
     "text": [
      "Epoch 28: 100%|██████████| 659/659 [00:00<00:00, 751.39batch/s, loss=0.0656] \n"
     ]
    },
    {
     "name": "stdout",
     "output_type": "stream",
     "text": [
      "Epoch 29/50: Train Loss = 0.0723, Val Loss = 2.1945, Val Accuracy = 0.9126\n"
     ]
    },
    {
     "name": "stderr",
     "output_type": "stream",
     "text": [
      "Epoch 29: 100%|██████████| 659/659 [00:00<00:00, 715.84batch/s, loss=0.0592] \n"
     ]
    },
    {
     "name": "stdout",
     "output_type": "stream",
     "text": [
      "Epoch 30/50: Train Loss = 0.0718, Val Loss = 2.2352, Val Accuracy = 0.9123\n"
     ]
    },
    {
     "name": "stderr",
     "output_type": "stream",
     "text": [
      "Epoch 30: 100%|██████████| 659/659 [00:00<00:00, 733.60batch/s, loss=0.0613] \n"
     ]
    },
    {
     "name": "stdout",
     "output_type": "stream",
     "text": [
      "Epoch 31/50: Train Loss = 0.0719, Val Loss = 2.1777, Val Accuracy = 0.9122\n"
     ]
    },
    {
     "name": "stderr",
     "output_type": "stream",
     "text": [
      "Epoch 31: 100%|██████████| 659/659 [00:00<00:00, 725.70batch/s, loss=0.059]  \n"
     ]
    },
    {
     "name": "stdout",
     "output_type": "stream",
     "text": [
      "Epoch 32/50: Train Loss = 0.0707, Val Loss = 2.3104, Val Accuracy = 0.9122\n"
     ]
    },
    {
     "name": "stderr",
     "output_type": "stream",
     "text": [
      "Epoch 32: 100%|██████████| 659/659 [00:00<00:00, 734.41batch/s, loss=0.0607] \n"
     ]
    },
    {
     "name": "stdout",
     "output_type": "stream",
     "text": [
      "Epoch 33/50: Train Loss = 0.0706, Val Loss = 2.2300, Val Accuracy = 0.9150\n"
     ]
    },
    {
     "name": "stderr",
     "output_type": "stream",
     "text": [
      "Epoch 33: 100%|██████████| 659/659 [00:00<00:00, 698.42batch/s, loss=0.0571] \n"
     ]
    },
    {
     "name": "stdout",
     "output_type": "stream",
     "text": [
      "Epoch 34/50: Train Loss = 0.0702, Val Loss = 2.3026, Val Accuracy = 0.9130\n"
     ]
    },
    {
     "name": "stderr",
     "output_type": "stream",
     "text": [
      "Epoch 34: 100%|██████████| 659/659 [00:00<00:00, 751.88batch/s, loss=0.057]  \n"
     ]
    },
    {
     "name": "stdout",
     "output_type": "stream",
     "text": [
      "Epoch 35/50: Train Loss = 0.0699, Val Loss = 2.4432, Val Accuracy = 0.9126\n"
     ]
    },
    {
     "name": "stderr",
     "output_type": "stream",
     "text": [
      "Epoch 35: 100%|██████████| 659/659 [00:00<00:00, 748.19batch/s, loss=0.0553] \n"
     ]
    },
    {
     "name": "stdout",
     "output_type": "stream",
     "text": [
      "Epoch 36/50: Train Loss = 0.0697, Val Loss = 2.2761, Val Accuracy = 0.9138\n"
     ]
    },
    {
     "name": "stderr",
     "output_type": "stream",
     "text": [
      "Epoch 36: 100%|██████████| 659/659 [00:00<00:00, 734.52batch/s, loss=0.0556] \n"
     ]
    },
    {
     "name": "stdout",
     "output_type": "stream",
     "text": [
      "Epoch 37/50: Train Loss = 0.0690, Val Loss = 2.3169, Val Accuracy = 0.9139\n"
     ]
    },
    {
     "name": "stderr",
     "output_type": "stream",
     "text": [
      "Epoch 37: 100%|██████████| 659/659 [00:00<00:00, 701.24batch/s, loss=0.0548] \n"
     ]
    },
    {
     "name": "stdout",
     "output_type": "stream",
     "text": [
      "Epoch 38/50: Train Loss = 0.0685, Val Loss = 2.4176, Val Accuracy = 0.9124\n"
     ]
    },
    {
     "name": "stderr",
     "output_type": "stream",
     "text": [
      "Epoch 38: 100%|██████████| 659/659 [00:00<00:00, 693.97batch/s, loss=0.056]  \n"
     ]
    },
    {
     "name": "stdout",
     "output_type": "stream",
     "text": [
      "Epoch 39/50: Train Loss = 0.0679, Val Loss = 2.4651, Val Accuracy = 0.9126\n"
     ]
    },
    {
     "name": "stderr",
     "output_type": "stream",
     "text": [
      "Epoch 39: 100%|██████████| 659/659 [00:00<00:00, 750.30batch/s, loss=0.0576] \n"
     ]
    },
    {
     "name": "stdout",
     "output_type": "stream",
     "text": [
      "Epoch 40/50: Train Loss = 0.0679, Val Loss = 2.5692, Val Accuracy = 0.9114\n"
     ]
    },
    {
     "name": "stderr",
     "output_type": "stream",
     "text": [
      "Epoch 40: 100%|██████████| 659/659 [00:00<00:00, 727.83batch/s, loss=0.053]  \n"
     ]
    },
    {
     "name": "stdout",
     "output_type": "stream",
     "text": [
      "Epoch 41/50: Train Loss = 0.0670, Val Loss = 2.6254, Val Accuracy = 0.9122\n"
     ]
    },
    {
     "name": "stderr",
     "output_type": "stream",
     "text": [
      "Epoch 41: 100%|██████████| 659/659 [00:00<00:00, 711.19batch/s, loss=0.0521] \n"
     ]
    },
    {
     "name": "stdout",
     "output_type": "stream",
     "text": [
      "Epoch 42/50: Train Loss = 0.0669, Val Loss = 2.5656, Val Accuracy = 0.9132\n"
     ]
    },
    {
     "name": "stderr",
     "output_type": "stream",
     "text": [
      "Epoch 42: 100%|██████████| 659/659 [00:00<00:00, 787.85batch/s, loss=0.0532] \n"
     ]
    },
    {
     "name": "stdout",
     "output_type": "stream",
     "text": [
      "Epoch 43/50: Train Loss = 0.0674, Val Loss = 2.5720, Val Accuracy = 0.9130\n"
     ]
    },
    {
     "name": "stderr",
     "output_type": "stream",
     "text": [
      "Epoch 43: 100%|██████████| 659/659 [00:00<00:00, 820.67batch/s, loss=0.052]  \n"
     ]
    },
    {
     "name": "stdout",
     "output_type": "stream",
     "text": [
      "Epoch 44/50: Train Loss = 0.0674, Val Loss = 2.5628, Val Accuracy = 0.9123\n"
     ]
    },
    {
     "name": "stderr",
     "output_type": "stream",
     "text": [
      "Epoch 44: 100%|██████████| 659/659 [00:00<00:00, 774.11batch/s, loss=0.0514] \n"
     ]
    },
    {
     "name": "stdout",
     "output_type": "stream",
     "text": [
      "Epoch 45/50: Train Loss = 0.0664, Val Loss = 2.5792, Val Accuracy = 0.9127\n"
     ]
    },
    {
     "name": "stderr",
     "output_type": "stream",
     "text": [
      "Epoch 45: 100%|██████████| 659/659 [00:00<00:00, 779.42batch/s, loss=0.051]  \n"
     ]
    },
    {
     "name": "stdout",
     "output_type": "stream",
     "text": [
      "Epoch 46/50: Train Loss = 0.0658, Val Loss = 2.5682, Val Accuracy = 0.9130\n"
     ]
    },
    {
     "name": "stderr",
     "output_type": "stream",
     "text": [
      "Epoch 46: 100%|██████████| 659/659 [00:00<00:00, 710.98batch/s, loss=0.0508] \n"
     ]
    },
    {
     "name": "stdout",
     "output_type": "stream",
     "text": [
      "Epoch 47/50: Train Loss = 0.0654, Val Loss = 2.5523, Val Accuracy = 0.9132\n"
     ]
    },
    {
     "name": "stderr",
     "output_type": "stream",
     "text": [
      "Epoch 47: 100%|██████████| 659/659 [00:00<00:00, 721.10batch/s, loss=0.0507] \n"
     ]
    },
    {
     "name": "stdout",
     "output_type": "stream",
     "text": [
      "Epoch 48/50: Train Loss = 0.0651, Val Loss = 2.6401, Val Accuracy = 0.9122\n"
     ]
    },
    {
     "name": "stderr",
     "output_type": "stream",
     "text": [
      "Epoch 48: 100%|██████████| 659/659 [00:00<00:00, 829.39batch/s, loss=0.0495] \n"
     ]
    },
    {
     "name": "stdout",
     "output_type": "stream",
     "text": [
      "Epoch 49/50: Train Loss = 0.0652, Val Loss = 2.7133, Val Accuracy = 0.9120\n"
     ]
    },
    {
     "name": "stderr",
     "output_type": "stream",
     "text": [
      "Epoch 49: 100%|██████████| 659/659 [00:00<00:00, 831.06batch/s, loss=0.0513] \n"
     ]
    },
    {
     "name": "stdout",
     "output_type": "stream",
     "text": [
      "Epoch 50/50: Train Loss = 0.0651, Val Loss = 2.6420, Val Accuracy = 0.9127\n",
      "Best Validation Loss: 0.6272\n",
      "\n",
      "=== Running with Learning Rate: 0.0001 ===\n"
     ]
    },
    {
     "name": "stderr",
     "output_type": "stream",
     "text": [
      "Epoch 0: 100%|██████████| 659/659 [00:00<00:00, 744.04batch/s, loss=0.0501]  \n"
     ]
    },
    {
     "name": "stdout",
     "output_type": "stream",
     "text": [
      "Epoch 1/50: Train Loss = 0.0631, Val Loss = 2.6360, Val Accuracy = 0.9135\n"
     ]
    },
    {
     "name": "stderr",
     "output_type": "stream",
     "text": [
      "Epoch 1: 100%|██████████| 659/659 [00:00<00:00, 813.10batch/s, loss=0.0495]  \n"
     ]
    },
    {
     "name": "stdout",
     "output_type": "stream",
     "text": [
      "Epoch 2/50: Train Loss = 0.0621, Val Loss = 2.6476, Val Accuracy = 0.9137\n"
     ]
    },
    {
     "name": "stderr",
     "output_type": "stream",
     "text": [
      "Epoch 2: 100%|██████████| 659/659 [00:00<00:00, 777.75batch/s, loss=0.0492] \n"
     ]
    },
    {
     "name": "stdout",
     "output_type": "stream",
     "text": [
      "Epoch 3/50: Train Loss = 0.0614, Val Loss = 2.6873, Val Accuracy = 0.9138\n"
     ]
    },
    {
     "name": "stderr",
     "output_type": "stream",
     "text": [
      "Epoch 3: 100%|██████████| 659/659 [00:00<00:00, 810.01batch/s, loss=0.0487]  \n"
     ]
    },
    {
     "name": "stdout",
     "output_type": "stream",
     "text": [
      "Epoch 4/50: Train Loss = 0.0612, Val Loss = 2.6939, Val Accuracy = 0.8885\n"
     ]
    },
    {
     "name": "stderr",
     "output_type": "stream",
     "text": [
      "Epoch 4: 100%|██████████| 659/659 [00:00<00:00, 822.06batch/s, loss=0.0483]  \n"
     ]
    },
    {
     "name": "stdout",
     "output_type": "stream",
     "text": [
      "Epoch 5/50: Train Loss = 0.0611, Val Loss = 2.7038, Val Accuracy = 0.8888\n"
     ]
    },
    {
     "name": "stderr",
     "output_type": "stream",
     "text": [
      "Epoch 5: 100%|██████████| 659/659 [00:00<00:00, 779.63batch/s, loss=0.0479]  \n"
     ]
    },
    {
     "name": "stdout",
     "output_type": "stream",
     "text": [
      "Epoch 6/50: Train Loss = 0.0608, Val Loss = 2.7371, Val Accuracy = 0.8893\n"
     ]
    },
    {
     "name": "stderr",
     "output_type": "stream",
     "text": [
      "Epoch 6: 100%|██████████| 659/659 [00:00<00:00, 815.40batch/s, loss=0.0475]  \n"
     ]
    },
    {
     "name": "stdout",
     "output_type": "stream",
     "text": [
      "Epoch 7/50: Train Loss = 0.0607, Val Loss = 2.7708, Val Accuracy = 0.8898\n"
     ]
    },
    {
     "name": "stderr",
     "output_type": "stream",
     "text": [
      "Epoch 7: 100%|██████████| 659/659 [00:00<00:00, 807.56batch/s, loss=0.0473]  \n"
     ]
    },
    {
     "name": "stdout",
     "output_type": "stream",
     "text": [
      "Epoch 8/50: Train Loss = 0.0605, Val Loss = 2.8010, Val Accuracy = 0.8898\n"
     ]
    },
    {
     "name": "stderr",
     "output_type": "stream",
     "text": [
      "Epoch 8: 100%|██████████| 659/659 [00:00<00:00, 803.60batch/s, loss=0.0471]  \n"
     ]
    },
    {
     "name": "stdout",
     "output_type": "stream",
     "text": [
      "Epoch 9/50: Train Loss = 0.0604, Val Loss = 2.8234, Val Accuracy = 0.8897\n"
     ]
    },
    {
     "name": "stderr",
     "output_type": "stream",
     "text": [
      "Epoch 9: 100%|██████████| 659/659 [00:00<00:00, 849.52batch/s, loss=0.047]   \n"
     ]
    },
    {
     "name": "stdout",
     "output_type": "stream",
     "text": [
      "Epoch 10/50: Train Loss = 0.0603, Val Loss = 2.8447, Val Accuracy = 0.8892\n"
     ]
    },
    {
     "name": "stderr",
     "output_type": "stream",
     "text": [
      "Epoch 10: 100%|██████████| 659/659 [00:00<00:00, 851.84batch/s, loss=0.0467]  \n"
     ]
    },
    {
     "name": "stdout",
     "output_type": "stream",
     "text": [
      "Epoch 11/50: Train Loss = 0.0603, Val Loss = 2.8485, Val Accuracy = 0.8904\n"
     ]
    },
    {
     "name": "stderr",
     "output_type": "stream",
     "text": [
      "Epoch 11: 100%|██████████| 659/659 [00:00<00:00, 800.02batch/s, loss=0.0467]  \n"
     ]
    },
    {
     "name": "stdout",
     "output_type": "stream",
     "text": [
      "Epoch 12/50: Train Loss = 0.0602, Val Loss = 2.8817, Val Accuracy = 0.8901\n"
     ]
    },
    {
     "name": "stderr",
     "output_type": "stream",
     "text": [
      "Epoch 12: 100%|██████████| 659/659 [00:00<00:00, 722.61batch/s, loss=0.0465]  \n"
     ]
    },
    {
     "name": "stdout",
     "output_type": "stream",
     "text": [
      "Epoch 13/50: Train Loss = 0.0601, Val Loss = 2.9157, Val Accuracy = 0.8905\n"
     ]
    },
    {
     "name": "stderr",
     "output_type": "stream",
     "text": [
      "Epoch 13: 100%|██████████| 659/659 [00:00<00:00, 708.10batch/s, loss=0.0463]  \n"
     ]
    },
    {
     "name": "stdout",
     "output_type": "stream",
     "text": [
      "Epoch 14/50: Train Loss = 0.0599, Val Loss = 2.8886, Val Accuracy = 0.8898\n"
     ]
    },
    {
     "name": "stderr",
     "output_type": "stream",
     "text": [
      "Epoch 14: 100%|██████████| 659/659 [00:00<00:00, 800.82batch/s, loss=0.046]   \n"
     ]
    },
    {
     "name": "stdout",
     "output_type": "stream",
     "text": [
      "Epoch 15/50: Train Loss = 0.0597, Val Loss = 2.9276, Val Accuracy = 0.8905\n"
     ]
    },
    {
     "name": "stderr",
     "output_type": "stream",
     "text": [
      "Epoch 15: 100%|██████████| 659/659 [00:00<00:00, 779.13batch/s, loss=0.0459]  \n"
     ]
    },
    {
     "name": "stdout",
     "output_type": "stream",
     "text": [
      "Epoch 16/50: Train Loss = 0.0596, Val Loss = 2.9390, Val Accuracy = 0.8902\n"
     ]
    },
    {
     "name": "stderr",
     "output_type": "stream",
     "text": [
      "Epoch 16: 100%|██████████| 659/659 [00:00<00:00, 783.11batch/s, loss=0.0458]  \n"
     ]
    },
    {
     "name": "stdout",
     "output_type": "stream",
     "text": [
      "Epoch 17/50: Train Loss = 0.0595, Val Loss = 2.9943, Val Accuracy = 0.8900\n"
     ]
    },
    {
     "name": "stderr",
     "output_type": "stream",
     "text": [
      "Epoch 17: 100%|██████████| 659/659 [00:00<00:00, 714.15batch/s, loss=0.0458] \n"
     ]
    },
    {
     "name": "stdout",
     "output_type": "stream",
     "text": [
      "Epoch 18/50: Train Loss = 0.0595, Val Loss = 3.0049, Val Accuracy = 0.8896\n"
     ]
    },
    {
     "name": "stderr",
     "output_type": "stream",
     "text": [
      "Epoch 18: 100%|██████████| 659/659 [00:00<00:00, 759.76batch/s, loss=0.0453]  \n"
     ]
    },
    {
     "name": "stdout",
     "output_type": "stream",
     "text": [
      "Epoch 19/50: Train Loss = 0.0595, Val Loss = 3.0067, Val Accuracy = 0.8905\n"
     ]
    },
    {
     "name": "stderr",
     "output_type": "stream",
     "text": [
      "Epoch 19: 100%|██████████| 659/659 [00:00<00:00, 659.86batch/s, loss=0.0452]  \n"
     ]
    },
    {
     "name": "stdout",
     "output_type": "stream",
     "text": [
      "Epoch 20/50: Train Loss = 0.0593, Val Loss = 3.0477, Val Accuracy = 0.8902\n"
     ]
    },
    {
     "name": "stderr",
     "output_type": "stream",
     "text": [
      "Epoch 20: 100%|██████████| 659/659 [00:00<00:00, 672.16batch/s, loss=0.0452]  \n"
     ]
    },
    {
     "name": "stdout",
     "output_type": "stream",
     "text": [
      "Epoch 21/50: Train Loss = 0.0592, Val Loss = 3.0514, Val Accuracy = 0.8905\n"
     ]
    },
    {
     "name": "stderr",
     "output_type": "stream",
     "text": [
      "Epoch 21: 100%|██████████| 659/659 [00:00<00:00, 676.28batch/s, loss=0.0451]  \n"
     ]
    },
    {
     "name": "stdout",
     "output_type": "stream",
     "text": [
      "Epoch 22/50: Train Loss = 0.0591, Val Loss = 3.0370, Val Accuracy = 0.8911\n"
     ]
    },
    {
     "name": "stderr",
     "output_type": "stream",
     "text": [
      "Epoch 22: 100%|██████████| 659/659 [00:00<00:00, 678.25batch/s, loss=0.0451]  \n"
     ]
    },
    {
     "name": "stdout",
     "output_type": "stream",
     "text": [
      "Epoch 23/50: Train Loss = 0.0591, Val Loss = 3.0651, Val Accuracy = 0.8909\n"
     ]
    },
    {
     "name": "stderr",
     "output_type": "stream",
     "text": [
      "Epoch 23: 100%|██████████| 659/659 [00:00<00:00, 665.17batch/s, loss=0.045]   \n"
     ]
    },
    {
     "name": "stdout",
     "output_type": "stream",
     "text": [
      "Epoch 24/50: Train Loss = 0.0590, Val Loss = 3.0883, Val Accuracy = 0.8907\n"
     ]
    },
    {
     "name": "stderr",
     "output_type": "stream",
     "text": [
      "Epoch 24: 100%|██████████| 659/659 [00:00<00:00, 729.37batch/s, loss=0.0448]  \n"
     ]
    },
    {
     "name": "stdout",
     "output_type": "stream",
     "text": [
      "Epoch 25/50: Train Loss = 0.0589, Val Loss = 3.1095, Val Accuracy = 0.8908\n"
     ]
    },
    {
     "name": "stderr",
     "output_type": "stream",
     "text": [
      "Epoch 25: 100%|██████████| 659/659 [00:00<00:00, 714.83batch/s, loss=0.0448]  \n"
     ]
    },
    {
     "name": "stdout",
     "output_type": "stream",
     "text": [
      "Epoch 26/50: Train Loss = 0.0588, Val Loss = 3.1001, Val Accuracy = 0.8907\n"
     ]
    },
    {
     "name": "stderr",
     "output_type": "stream",
     "text": [
      "Epoch 26: 100%|██████████| 659/659 [00:00<00:00, 699.69batch/s, loss=0.0448]  \n"
     ]
    },
    {
     "name": "stdout",
     "output_type": "stream",
     "text": [
      "Epoch 27/50: Train Loss = 0.0587, Val Loss = 3.1369, Val Accuracy = 0.8904\n"
     ]
    },
    {
     "name": "stderr",
     "output_type": "stream",
     "text": [
      "Epoch 27: 100%|██████████| 659/659 [00:00<00:00, 718.31batch/s, loss=0.0446]  \n"
     ]
    },
    {
     "name": "stdout",
     "output_type": "stream",
     "text": [
      "Epoch 28/50: Train Loss = 0.0586, Val Loss = 3.1506, Val Accuracy = 0.8904\n"
     ]
    },
    {
     "name": "stderr",
     "output_type": "stream",
     "text": [
      "Epoch 28: 100%|██████████| 659/659 [00:00<00:00, 727.67batch/s, loss=0.0446]  \n"
     ]
    },
    {
     "name": "stdout",
     "output_type": "stream",
     "text": [
      "Epoch 29/50: Train Loss = 0.0586, Val Loss = 3.1582, Val Accuracy = 0.8912\n"
     ]
    },
    {
     "name": "stderr",
     "output_type": "stream",
     "text": [
      "Epoch 29: 100%|██████████| 659/659 [00:00<00:00, 703.33batch/s, loss=0.0443]  \n"
     ]
    },
    {
     "name": "stdout",
     "output_type": "stream",
     "text": [
      "Epoch 30/50: Train Loss = 0.0585, Val Loss = 3.1677, Val Accuracy = 0.8907\n"
     ]
    },
    {
     "name": "stderr",
     "output_type": "stream",
     "text": [
      "Epoch 30: 100%|██████████| 659/659 [00:00<00:00, 717.43batch/s, loss=0.0444]  \n"
     ]
    },
    {
     "name": "stdout",
     "output_type": "stream",
     "text": [
      "Epoch 31/50: Train Loss = 0.0584, Val Loss = 3.1726, Val Accuracy = 0.8909\n"
     ]
    },
    {
     "name": "stderr",
     "output_type": "stream",
     "text": [
      "Epoch 31: 100%|██████████| 659/659 [00:00<00:00, 737.30batch/s, loss=0.0443]  \n"
     ]
    },
    {
     "name": "stdout",
     "output_type": "stream",
     "text": [
      "Epoch 32/50: Train Loss = 0.0583, Val Loss = 3.1944, Val Accuracy = 0.8911\n"
     ]
    },
    {
     "name": "stderr",
     "output_type": "stream",
     "text": [
      "Epoch 32: 100%|██████████| 659/659 [00:00<00:00, 720.52batch/s, loss=0.044]   \n"
     ]
    },
    {
     "name": "stdout",
     "output_type": "stream",
     "text": [
      "Epoch 33/50: Train Loss = 0.0583, Val Loss = 3.2386, Val Accuracy = 0.8913\n"
     ]
    },
    {
     "name": "stderr",
     "output_type": "stream",
     "text": [
      "Epoch 33: 100%|██████████| 659/659 [00:00<00:00, 727.76batch/s, loss=0.0443] \n"
     ]
    },
    {
     "name": "stdout",
     "output_type": "stream",
     "text": [
      "Epoch 34/50: Train Loss = 0.0582, Val Loss = 3.2614, Val Accuracy = 0.8908\n"
     ]
    },
    {
     "name": "stderr",
     "output_type": "stream",
     "text": [
      "Epoch 34: 100%|██████████| 659/659 [00:01<00:00, 602.99batch/s, loss=0.0442]  \n"
     ]
    },
    {
     "name": "stdout",
     "output_type": "stream",
     "text": [
      "Epoch 35/50: Train Loss = 0.0581, Val Loss = 3.2567, Val Accuracy = 0.8909\n"
     ]
    },
    {
     "name": "stderr",
     "output_type": "stream",
     "text": [
      "Epoch 35: 100%|██████████| 659/659 [00:00<00:00, 727.24batch/s, loss=0.0441]  \n"
     ]
    },
    {
     "name": "stdout",
     "output_type": "stream",
     "text": [
      "Epoch 36/50: Train Loss = 0.0580, Val Loss = 3.2787, Val Accuracy = 0.8907\n"
     ]
    },
    {
     "name": "stderr",
     "output_type": "stream",
     "text": [
      "Epoch 36: 100%|██████████| 659/659 [00:00<00:00, 661.93batch/s, loss=0.044]   \n"
     ]
    },
    {
     "name": "stdout",
     "output_type": "stream",
     "text": [
      "Epoch 37/50: Train Loss = 0.0579, Val Loss = 3.2894, Val Accuracy = 0.8904\n"
     ]
    },
    {
     "name": "stderr",
     "output_type": "stream",
     "text": [
      "Epoch 37: 100%|██████████| 659/659 [00:00<00:00, 699.52batch/s, loss=0.0439]  \n"
     ]
    },
    {
     "name": "stdout",
     "output_type": "stream",
     "text": [
      "Epoch 38/50: Train Loss = 0.0579, Val Loss = 3.3160, Val Accuracy = 0.8909\n"
     ]
    },
    {
     "name": "stderr",
     "output_type": "stream",
     "text": [
      "Epoch 38: 100%|██████████| 659/659 [00:01<00:00, 646.35batch/s, loss=0.0439]  \n"
     ]
    },
    {
     "name": "stdout",
     "output_type": "stream",
     "text": [
      "Epoch 39/50: Train Loss = 0.0579, Val Loss = 3.3215, Val Accuracy = 0.8900\n"
     ]
    },
    {
     "name": "stderr",
     "output_type": "stream",
     "text": [
      "Epoch 39: 100%|██████████| 659/659 [00:01<00:00, 652.09batch/s, loss=0.0439]  \n"
     ]
    },
    {
     "name": "stdout",
     "output_type": "stream",
     "text": [
      "Epoch 40/50: Train Loss = 0.0577, Val Loss = 3.3464, Val Accuracy = 0.8901\n"
     ]
    },
    {
     "name": "stderr",
     "output_type": "stream",
     "text": [
      "Epoch 40: 100%|██████████| 659/659 [00:00<00:00, 731.25batch/s, loss=0.0438]  \n"
     ]
    },
    {
     "name": "stdout",
     "output_type": "stream",
     "text": [
      "Epoch 41/50: Train Loss = 0.0576, Val Loss = 3.3271, Val Accuracy = 0.8898\n"
     ]
    },
    {
     "name": "stderr",
     "output_type": "stream",
     "text": [
      "Epoch 41: 100%|██████████| 659/659 [00:00<00:00, 718.90batch/s, loss=0.0436]  \n"
     ]
    },
    {
     "name": "stdout",
     "output_type": "stream",
     "text": [
      "Epoch 42/50: Train Loss = 0.0576, Val Loss = 3.3538, Val Accuracy = 0.8900\n"
     ]
    },
    {
     "name": "stderr",
     "output_type": "stream",
     "text": [
      "Epoch 42: 100%|██████████| 659/659 [00:00<00:00, 744.62batch/s, loss=0.0434]  \n"
     ]
    },
    {
     "name": "stdout",
     "output_type": "stream",
     "text": [
      "Epoch 43/50: Train Loss = 0.0575, Val Loss = 3.3508, Val Accuracy = 0.8897\n"
     ]
    },
    {
     "name": "stderr",
     "output_type": "stream",
     "text": [
      "Epoch 43: 100%|██████████| 659/659 [00:00<00:00, 736.12batch/s, loss=0.0433]  \n"
     ]
    },
    {
     "name": "stdout",
     "output_type": "stream",
     "text": [
      "Epoch 44/50: Train Loss = 0.0574, Val Loss = 3.3976, Val Accuracy = 0.8898\n"
     ]
    },
    {
     "name": "stderr",
     "output_type": "stream",
     "text": [
      "Epoch 44: 100%|██████████| 659/659 [00:00<00:00, 753.21batch/s, loss=0.0433]  \n"
     ]
    },
    {
     "name": "stdout",
     "output_type": "stream",
     "text": [
      "Epoch 45/50: Train Loss = 0.0574, Val Loss = 3.4026, Val Accuracy = 0.8893\n"
     ]
    },
    {
     "name": "stderr",
     "output_type": "stream",
     "text": [
      "Epoch 45: 100%|██████████| 659/659 [00:00<00:00, 743.41batch/s, loss=0.0432]  \n"
     ]
    },
    {
     "name": "stdout",
     "output_type": "stream",
     "text": [
      "Epoch 46/50: Train Loss = 0.0573, Val Loss = 3.4130, Val Accuracy = 0.8892\n"
     ]
    },
    {
     "name": "stderr",
     "output_type": "stream",
     "text": [
      "Epoch 46: 100%|██████████| 659/659 [00:00<00:00, 731.29batch/s, loss=0.0431]  \n"
     ]
    },
    {
     "name": "stdout",
     "output_type": "stream",
     "text": [
      "Epoch 47/50: Train Loss = 0.0573, Val Loss = 3.4301, Val Accuracy = 0.8894\n"
     ]
    },
    {
     "name": "stderr",
     "output_type": "stream",
     "text": [
      "Epoch 47: 100%|██████████| 659/659 [00:00<00:00, 711.13batch/s, loss=0.0431]  \n"
     ]
    },
    {
     "name": "stdout",
     "output_type": "stream",
     "text": [
      "Epoch 48/50: Train Loss = 0.0572, Val Loss = 3.4663, Val Accuracy = 0.8897\n"
     ]
    },
    {
     "name": "stderr",
     "output_type": "stream",
     "text": [
      "Epoch 48: 100%|██████████| 659/659 [00:00<00:00, 707.87batch/s, loss=0.0429]  \n"
     ]
    },
    {
     "name": "stdout",
     "output_type": "stream",
     "text": [
      "Epoch 49/50: Train Loss = 0.0571, Val Loss = 3.4547, Val Accuracy = 0.8900\n"
     ]
    },
    {
     "name": "stderr",
     "output_type": "stream",
     "text": [
      "Epoch 49: 100%|██████████| 659/659 [00:00<00:00, 723.19batch/s, loss=0.043]   \n"
     ]
    },
    {
     "name": "stdout",
     "output_type": "stream",
     "text": [
      "Epoch 50/50: Train Loss = 0.0571, Val Loss = 3.4779, Val Accuracy = 0.8897\n",
      "Best Validation Loss: 2.6360\n",
      "\n",
      "=== Best Learning Rate: 0.01 ===\n",
      "Best Validation Loss: 0.2088\n",
      "\n",
      "Best Threshold: 0.10, Best TPR: 0.7222\n",
      "\n",
      "=== Testing Model: Best LR: 0.01 ===\n",
      "Test Loss: 0.2127, Test Accuracy: 0.8132\n",
      "\n",
      "Classification Report:\n",
      "              precision    recall  f1-score   support\n",
      "\n",
      "         0.0       0.97      0.82      0.89     11348\n",
      "         1.0       0.27      0.73      0.40      1043\n",
      "\n",
      "    accuracy                           0.81     12391\n",
      "   macro avg       0.62      0.78      0.64     12391\n",
      "weighted avg       0.91      0.81      0.85     12391\n",
      "\n",
      "\n",
      "Confusion Matrix:\n",
      "[[9311 2037]\n",
      " [ 278  765]]\n"
     ]
    },
    {
     "data": {
      "image/png": "[encoded data removed]",
      "text/plain": [
       "<Figure size 800x600 with 1 Axes>"
      ]
     },
     "metadata": {},
     "output_type": "display_data"
    },
    {
     "data": {
      "image/png": "[encoded data removed]",
      "text/plain": [
       "<Figure size 800x600 with 1 Axes>"
      ]
     },
     "metadata": {},
     "output_type": "display_data"
    },
    {
     "name": "stdout",
     "output_type": "stream",
     "text": [
      "Test ROC AUC Score: 0.8607\n",
      "\n",
      "=== Final Results ===\n",
      "Best Learning Rate: 0.01\n",
      "Test Loss: 0.2127\n",
      "Test Accuracy: 0.8132\n",
      "Test ROC AUC: 0.8607\n"
     ]
    }
   ],
   "source": [
    "# Run with multiple learning rates and test the best model\n",
    "learning_rates = [0.01,0.001,0.0001]\n",
    "modelY=BigModel(X_train_tensor.shape[1])\n",
    "best_lr, test_loss, test_accuracy, roc_auc, best_model = train_eval_find_best_lr_test(\n",
    "    modelY,\n",
    "    X_train_tensor, Y_train_tensor,\n",
    "    X_val_tensor, Y_val_tensor,\n",
    "    X_test_tensor, Y_test_tensor,\n",
    "    lrs=learning_rates,\n",
    "    description=\"Learning Rate Search and Testing\"\n",
    ")\n",
    "\n",
    "print(f\"\\n=== Final Results ===\")\n",
    "print(f\"Best Learning Rate: {best_lr}\")\n",
    "print(f\"Test Loss: {test_loss:.4f}\")\n",
    "print(f\"Test Accuracy: {test_accuracy:.4f}\")\n",
    "print(f\"Test ROC AUC: {roc_auc:.4f}\")"
   ]
  },
  {
   "cell_type": "code",
   "execution_count": 71,
   "metadata": {},
   "outputs": [
    {
     "name": "stdout",
     "output_type": "stream",
     "text": [
      "\n",
      "=== Running with Learning Rate: 0.01 ===\n"
     ]
    },
    {
     "name": "stderr",
     "output_type": "stream",
     "text": [
      "Epoch 0: 100%|██████████| 1206/1206 [00:01<00:00, 830.63batch/s, loss=0.45] \n"
     ]
    },
    {
     "name": "stdout",
     "output_type": "stream",
     "text": [
      "Epoch 1/50: Train Loss = 0.4247, Val Loss = 0.3711, Val Accuracy = 0.8385\n"
     ]
    },
    {
     "name": "stderr",
     "output_type": "stream",
     "text": [
      "Epoch 1: 100%|██████████| 1206/1206 [00:01<00:00, 827.12batch/s, loss=0.518]\n"
     ]
    },
    {
     "name": "stdout",
     "output_type": "stream",
     "text": [
      "Epoch 2/50: Train Loss = 0.3960, Val Loss = 0.3558, Val Accuracy = 0.8454\n"
     ]
    },
    {
     "name": "stderr",
     "output_type": "stream",
     "text": [
      "Epoch 2: 100%|██████████| 1206/1206 [00:01<00:00, 831.53batch/s, loss=0.49] \n"
     ]
    },
    {
     "name": "stdout",
     "output_type": "stream",
     "text": [
      "Epoch 3/50: Train Loss = 0.3779, Val Loss = 0.3401, Val Accuracy = 0.8558\n"
     ]
    },
    {
     "name": "stderr",
     "output_type": "stream",
     "text": [
      "Epoch 3: 100%|██████████| 1206/1206 [00:01<00:00, 832.30batch/s, loss=0.386]\n"
     ]
    },
    {
     "name": "stdout",
     "output_type": "stream",
     "text": [
      "Epoch 4/50: Train Loss = 0.3648, Val Loss = 0.3304, Val Accuracy = 0.8616\n"
     ]
    },
    {
     "name": "stderr",
     "output_type": "stream",
     "text": [
      "Epoch 4: 100%|██████████| 1206/1206 [00:01<00:00, 822.56batch/s, loss=0.384]\n"
     ]
    },
    {
     "name": "stdout",
     "output_type": "stream",
     "text": [
      "Epoch 5/50: Train Loss = 0.3537, Val Loss = 0.3237, Val Accuracy = 0.8632\n"
     ]
    },
    {
     "name": "stderr",
     "output_type": "stream",
     "text": [
      "Epoch 5: 100%|██████████| 1206/1206 [00:01<00:00, 836.21batch/s, loss=0.618]\n"
     ]
    },
    {
     "name": "stdout",
     "output_type": "stream",
     "text": [
      "Epoch 6/50: Train Loss = 0.3426, Val Loss = 0.3073, Val Accuracy = 0.8701\n"
     ]
    },
    {
     "name": "stderr",
     "output_type": "stream",
     "text": [
      "Epoch 6: 100%|██████████| 1206/1206 [00:01<00:00, 828.81batch/s, loss=0.386]\n"
     ]
    },
    {
     "name": "stdout",
     "output_type": "stream",
     "text": [
      "Epoch 7/50: Train Loss = 0.3306, Val Loss = 0.3011, Val Accuracy = 0.8758\n"
     ]
    },
    {
     "name": "stderr",
     "output_type": "stream",
     "text": [
      "Epoch 7: 100%|██████████| 1206/1206 [00:01<00:00, 821.39batch/s, loss=0.381]\n"
     ]
    },
    {
     "name": "stdout",
     "output_type": "stream",
     "text": [
      "Epoch 8/50: Train Loss = 0.3224, Val Loss = 0.2950, Val Accuracy = 0.8791\n"
     ]
    },
    {
     "name": "stderr",
     "output_type": "stream",
     "text": [
      "Epoch 8: 100%|██████████| 1206/1206 [00:01<00:00, 710.20batch/s, loss=0.44] \n"
     ]
    },
    {
     "name": "stdout",
     "output_type": "stream",
     "text": [
      "Epoch 9/50: Train Loss = 0.3172, Val Loss = 0.2846, Val Accuracy = 0.8808\n"
     ]
    },
    {
     "name": "stderr",
     "output_type": "stream",
     "text": [
      "Epoch 9: 100%|██████████| 1206/1206 [00:01<00:00, 803.87batch/s, loss=0.304]\n"
     ]
    },
    {
     "name": "stdout",
     "output_type": "stream",
     "text": [
      "Epoch 10/50: Train Loss = 0.3120, Val Loss = 0.2832, Val Accuracy = 0.8787\n"
     ]
    },
    {
     "name": "stderr",
     "output_type": "stream",
     "text": [
      "Epoch 10: 100%|██████████| 1206/1206 [00:01<00:00, 815.03batch/s, loss=0.283]\n"
     ]
    },
    {
     "name": "stdout",
     "output_type": "stream",
     "text": [
      "Epoch 11/50: Train Loss = 0.3032, Val Loss = 0.2748, Val Accuracy = 0.8852\n"
     ]
    },
    {
     "name": "stderr",
     "output_type": "stream",
     "text": [
      "Epoch 11: 100%|██████████| 1206/1206 [00:01<00:00, 784.06batch/s, loss=0.302]\n"
     ]
    },
    {
     "name": "stdout",
     "output_type": "stream",
     "text": [
      "Epoch 12/50: Train Loss = 0.2997, Val Loss = 0.2692, Val Accuracy = 0.8874\n"
     ]
    },
    {
     "name": "stderr",
     "output_type": "stream",
     "text": [
      "Epoch 12: 100%|██████████| 1206/1206 [00:01<00:00, 833.28batch/s, loss=0.53] \n"
     ]
    },
    {
     "name": "stdout",
     "output_type": "stream",
     "text": [
      "Epoch 13/50: Train Loss = 0.2944, Val Loss = 0.2687, Val Accuracy = 0.8881\n"
     ]
    },
    {
     "name": "stderr",
     "output_type": "stream",
     "text": [
      "Epoch 13: 100%|██████████| 1206/1206 [00:01<00:00, 786.70batch/s, loss=0.283]\n"
     ]
    },
    {
     "name": "stdout",
     "output_type": "stream",
     "text": [
      "Epoch 14/50: Train Loss = 0.2921, Val Loss = 0.2610, Val Accuracy = 0.8925\n"
     ]
    },
    {
     "name": "stderr",
     "output_type": "stream",
     "text": [
      "Epoch 14: 100%|██████████| 1206/1206 [00:01<00:00, 824.22batch/s, loss=0.366]\n"
     ]
    },
    {
     "name": "stdout",
     "output_type": "stream",
     "text": [
      "Epoch 15/50: Train Loss = 0.2897, Val Loss = 0.2599, Val Accuracy = 0.8911\n"
     ]
    },
    {
     "name": "stderr",
     "output_type": "stream",
     "text": [
      "Epoch 15: 100%|██████████| 1206/1206 [00:01<00:00, 782.57batch/s, loss=0.346]\n"
     ]
    },
    {
     "name": "stdout",
     "output_type": "stream",
     "text": [
      "Epoch 16/50: Train Loss = 0.2867, Val Loss = 0.2637, Val Accuracy = 0.8921\n"
     ]
    },
    {
     "name": "stderr",
     "output_type": "stream",
     "text": [
      "Epoch 16: 100%|██████████| 1206/1206 [00:01<00:00, 780.43batch/s, loss=0.408]\n"
     ]
    },
    {
     "name": "stdout",
     "output_type": "stream",
     "text": [
      "Epoch 17/50: Train Loss = 0.2834, Val Loss = 0.2614, Val Accuracy = 0.8893\n"
     ]
    },
    {
     "name": "stderr",
     "output_type": "stream",
     "text": [
      "Epoch 17: 100%|██████████| 1206/1206 [00:01<00:00, 770.23batch/s, loss=0.254]\n"
     ]
    },
    {
     "name": "stdout",
     "output_type": "stream",
     "text": [
      "Epoch 18/50: Train Loss = 0.2820, Val Loss = 0.2568, Val Accuracy = 0.8958\n"
     ]
    },
    {
     "name": "stderr",
     "output_type": "stream",
     "text": [
      "Epoch 18: 100%|██████████| 1206/1206 [00:01<00:00, 912.99batch/s, loss=0.367]\n"
     ]
    },
    {
     "name": "stdout",
     "output_type": "stream",
     "text": [
      "Epoch 19/50: Train Loss = 0.2782, Val Loss = 0.2536, Val Accuracy = 0.8979\n"
     ]
    },
    {
     "name": "stderr",
     "output_type": "stream",
     "text": [
      "Epoch 19: 100%|██████████| 1206/1206 [00:01<00:00, 859.06batch/s, loss=0.358]\n"
     ]
    },
    {
     "name": "stdout",
     "output_type": "stream",
     "text": [
      "Epoch 20/50: Train Loss = 0.2819, Val Loss = 0.2598, Val Accuracy = 0.8939\n"
     ]
    },
    {
     "name": "stderr",
     "output_type": "stream",
     "text": [
      "Epoch 20: 100%|██████████| 1206/1206 [00:01<00:00, 774.41batch/s, loss=0.299]\n"
     ]
    },
    {
     "name": "stdout",
     "output_type": "stream",
     "text": [
      "Epoch 21/50: Train Loss = 0.2770, Val Loss = 0.2517, Val Accuracy = 0.8963\n"
     ]
    },
    {
     "name": "stderr",
     "output_type": "stream",
     "text": [
      "Epoch 21: 100%|██████████| 1206/1206 [00:01<00:00, 882.98batch/s, loss=0.305] \n"
     ]
    },
    {
     "name": "stdout",
     "output_type": "stream",
     "text": [
      "Epoch 22/50: Train Loss = 0.2744, Val Loss = 0.2536, Val Accuracy = 0.8970\n"
     ]
    },
    {
     "name": "stderr",
     "output_type": "stream",
     "text": [
      "Epoch 22: 100%|██████████| 1206/1206 [00:01<00:00, 880.90batch/s, loss=0.26] \n"
     ]
    },
    {
     "name": "stdout",
     "output_type": "stream",
     "text": [
      "Epoch 23/50: Train Loss = 0.2729, Val Loss = 0.2500, Val Accuracy = 0.9001\n"
     ]
    },
    {
     "name": "stderr",
     "output_type": "stream",
     "text": [
      "Epoch 23: 100%|██████████| 1206/1206 [00:01<00:00, 947.79batch/s, loss=0.266]\n"
     ]
    },
    {
     "name": "stdout",
     "output_type": "stream",
     "text": [
      "Epoch 24/50: Train Loss = 0.2746, Val Loss = 0.2467, Val Accuracy = 0.8965\n"
     ]
    },
    {
     "name": "stderr",
     "output_type": "stream",
     "text": [
      "Epoch 24: 100%|██████████| 1206/1206 [00:01<00:00, 912.21batch/s, loss=0.246]\n"
     ]
    },
    {
     "name": "stdout",
     "output_type": "stream",
     "text": [
      "Epoch 25/50: Train Loss = 0.2716, Val Loss = 0.2566, Val Accuracy = 0.8928\n"
     ]
    },
    {
     "name": "stderr",
     "output_type": "stream",
     "text": [
      "Epoch 25: 100%|██████████| 1206/1206 [00:01<00:00, 928.89batch/s, loss=0.344] \n"
     ]
    },
    {
     "name": "stdout",
     "output_type": "stream",
     "text": [
      "Epoch 26/50: Train Loss = 0.2711, Val Loss = 0.2503, Val Accuracy = 0.8946\n"
     ]
    },
    {
     "name": "stderr",
     "output_type": "stream",
     "text": [
      "Epoch 26: 100%|██████████| 1206/1206 [00:01<00:00, 935.61batch/s, loss=0.266]\n"
     ]
    },
    {
     "name": "stdout",
     "output_type": "stream",
     "text": [
      "Epoch 27/50: Train Loss = 0.2662, Val Loss = 0.2538, Val Accuracy = 0.8918\n"
     ]
    },
    {
     "name": "stderr",
     "output_type": "stream",
     "text": [
      "Epoch 27: 100%|██████████| 1206/1206 [00:01<00:00, 810.67batch/s, loss=0.328]\n"
     ]
    },
    {
     "name": "stdout",
     "output_type": "stream",
     "text": [
      "Epoch 28/50: Train Loss = 0.2654, Val Loss = 0.2369, Val Accuracy = 0.8981\n"
     ]
    },
    {
     "name": "stderr",
     "output_type": "stream",
     "text": [
      "Epoch 28: 100%|██████████| 1206/1206 [00:01<00:00, 821.76batch/s, loss=0.27] \n"
     ]
    },
    {
     "name": "stdout",
     "output_type": "stream",
     "text": [
      "Epoch 29/50: Train Loss = 0.2667, Val Loss = 0.2494, Val Accuracy = 0.8995\n"
     ]
    },
    {
     "name": "stderr",
     "output_type": "stream",
     "text": [
      "Epoch 29: 100%|██████████| 1206/1206 [00:01<00:00, 918.07batch/s, loss=0.302]\n"
     ]
    },
    {
     "name": "stdout",
     "output_type": "stream",
     "text": [
      "Epoch 30/50: Train Loss = 0.2666, Val Loss = 0.2401, Val Accuracy = 0.9012\n"
     ]
    },
    {
     "name": "stderr",
     "output_type": "stream",
     "text": [
      "Epoch 30: 100%|██████████| 1206/1206 [00:01<00:00, 919.98batch/s, loss=0.232]\n"
     ]
    },
    {
     "name": "stdout",
     "output_type": "stream",
     "text": [
      "Epoch 31/50: Train Loss = 0.2647, Val Loss = 0.2484, Val Accuracy = 0.9006\n"
     ]
    },
    {
     "name": "stderr",
     "output_type": "stream",
     "text": [
      "Epoch 31: 100%|██████████| 1206/1206 [00:01<00:00, 945.54batch/s, loss=0.192] \n"
     ]
    },
    {
     "name": "stdout",
     "output_type": "stream",
     "text": [
      "Epoch 32/50: Train Loss = 0.2609, Val Loss = 0.2412, Val Accuracy = 0.9000\n"
     ]
    },
    {
     "name": "stderr",
     "output_type": "stream",
     "text": [
      "Epoch 32: 100%|██████████| 1206/1206 [00:01<00:00, 914.68batch/s, loss=0.301]\n"
     ]
    },
    {
     "name": "stdout",
     "output_type": "stream",
     "text": [
      "Epoch 33/50: Train Loss = 0.2577, Val Loss = 0.2439, Val Accuracy = 0.9004\n"
     ]
    },
    {
     "name": "stderr",
     "output_type": "stream",
     "text": [
      "Epoch 33: 100%|██████████| 1206/1206 [00:01<00:00, 943.57batch/s, loss=0.245] \n"
     ]
    },
    {
     "name": "stdout",
     "output_type": "stream",
     "text": [
      "Epoch 34/50: Train Loss = 0.2591, Val Loss = 0.2460, Val Accuracy = 0.8995\n"
     ]
    },
    {
     "name": "stderr",
     "output_type": "stream",
     "text": [
      "Epoch 34: 100%|██████████| 1206/1206 [00:01<00:00, 905.33batch/s, loss=0.177]\n"
     ]
    },
    {
     "name": "stdout",
     "output_type": "stream",
     "text": [
      "Epoch 35/50: Train Loss = 0.2564, Val Loss = 0.2374, Val Accuracy = 0.9034\n"
     ]
    },
    {
     "name": "stderr",
     "output_type": "stream",
     "text": [
      "Epoch 35: 100%|██████████| 1206/1206 [00:01<00:00, 916.20batch/s, loss=0.235]\n"
     ]
    },
    {
     "name": "stdout",
     "output_type": "stream",
     "text": [
      "Epoch 36/50: Train Loss = 0.2559, Val Loss = 0.2382, Val Accuracy = 0.9059\n"
     ]
    },
    {
     "name": "stderr",
     "output_type": "stream",
     "text": [
      "Epoch 36: 100%|██████████| 1206/1206 [00:01<00:00, 950.43batch/s, loss=0.263] \n"
     ]
    },
    {
     "name": "stdout",
     "output_type": "stream",
     "text": [
      "Epoch 37/50: Train Loss = 0.2540, Val Loss = 0.2384, Val Accuracy = 0.9047\n"
     ]
    },
    {
     "name": "stderr",
     "output_type": "stream",
     "text": [
      "Epoch 37: 100%|██████████| 1206/1206 [00:01<00:00, 926.17batch/s, loss=0.396] \n"
     ]
    },
    {
     "name": "stdout",
     "output_type": "stream",
     "text": [
      "Epoch 38/50: Train Loss = 0.2584, Val Loss = 0.2360, Val Accuracy = 0.9027\n"
     ]
    },
    {
     "name": "stderr",
     "output_type": "stream",
     "text": [
      "Epoch 38: 100%|██████████| 1206/1206 [00:01<00:00, 955.55batch/s, loss=0.224] \n"
     ]
    },
    {
     "name": "stdout",
     "output_type": "stream",
     "text": [
      "Epoch 39/50: Train Loss = 0.2524, Val Loss = 0.2358, Val Accuracy = 0.9057\n"
     ]
    },
    {
     "name": "stderr",
     "output_type": "stream",
     "text": [
      "Epoch 39: 100%|██████████| 1206/1206 [00:01<00:00, 930.29batch/s, loss=0.147] \n"
     ]
    },
    {
     "name": "stdout",
     "output_type": "stream",
     "text": [
      "Epoch 40/50: Train Loss = 0.2551, Val Loss = 0.2346, Val Accuracy = 0.9048\n"
     ]
    },
    {
     "name": "stderr",
     "output_type": "stream",
     "text": [
      "Epoch 40: 100%|██████████| 1206/1206 [00:01<00:00, 950.69batch/s, loss=0.186] \n"
     ]
    },
    {
     "name": "stdout",
     "output_type": "stream",
     "text": [
      "Epoch 41/50: Train Loss = 0.2480, Val Loss = 0.2355, Val Accuracy = 0.9051\n"
     ]
    },
    {
     "name": "stderr",
     "output_type": "stream",
     "text": [
      "Epoch 41: 100%|██████████| 1206/1206 [00:01<00:00, 914.40batch/s, loss=0.288] \n"
     ]
    },
    {
     "name": "stdout",
     "output_type": "stream",
     "text": [
      "Epoch 42/50: Train Loss = 0.2505, Val Loss = 0.2356, Val Accuracy = 0.9018\n"
     ]
    },
    {
     "name": "stderr",
     "output_type": "stream",
     "text": [
      "Epoch 42: 100%|██████████| 1206/1206 [00:01<00:00, 921.01batch/s, loss=0.176] \n"
     ]
    },
    {
     "name": "stdout",
     "output_type": "stream",
     "text": [
      "Epoch 43/50: Train Loss = 0.2513, Val Loss = 0.2321, Val Accuracy = 0.9057\n"
     ]
    },
    {
     "name": "stderr",
     "output_type": "stream",
     "text": [
      "Epoch 43: 100%|██████████| 1206/1206 [00:01<00:00, 949.58batch/s, loss=0.427]\n"
     ]
    },
    {
     "name": "stdout",
     "output_type": "stream",
     "text": [
      "Epoch 44/50: Train Loss = 0.2520, Val Loss = 0.2328, Val Accuracy = 0.9089\n"
     ]
    },
    {
     "name": "stderr",
     "output_type": "stream",
     "text": [
      "Epoch 44: 100%|██████████| 1206/1206 [00:01<00:00, 923.46batch/s, loss=0.28]  \n"
     ]
    },
    {
     "name": "stdout",
     "output_type": "stream",
     "text": [
      "Epoch 45/50: Train Loss = 0.2469, Val Loss = 0.2276, Val Accuracy = 0.9100\n"
     ]
    },
    {
     "name": "stderr",
     "output_type": "stream",
     "text": [
      "Epoch 45: 100%|██████████| 1206/1206 [00:01<00:00, 928.39batch/s, loss=0.324]\n"
     ]
    },
    {
     "name": "stdout",
     "output_type": "stream",
     "text": [
      "Epoch 46/50: Train Loss = 0.2479, Val Loss = 0.2430, Val Accuracy = 0.9034\n"
     ]
    },
    {
     "name": "stderr",
     "output_type": "stream",
     "text": [
      "Epoch 46: 100%|██████████| 1206/1206 [00:01<00:00, 932.10batch/s, loss=0.232] \n"
     ]
    },
    {
     "name": "stdout",
     "output_type": "stream",
     "text": [
      "Epoch 47/50: Train Loss = 0.2506, Val Loss = 0.2335, Val Accuracy = 0.9043\n"
     ]
    },
    {
     "name": "stderr",
     "output_type": "stream",
     "text": [
      "Epoch 47: 100%|██████████| 1206/1206 [00:01<00:00, 928.18batch/s, loss=0.198] \n"
     ]
    },
    {
     "name": "stdout",
     "output_type": "stream",
     "text": [
      "Epoch 48/50: Train Loss = 0.2447, Val Loss = 0.2297, Val Accuracy = 0.9059\n"
     ]
    },
    {
     "name": "stderr",
     "output_type": "stream",
     "text": [
      "Epoch 48: 100%|██████████| 1206/1206 [00:01<00:00, 932.26batch/s, loss=0.205] \n"
     ]
    },
    {
     "name": "stdout",
     "output_type": "stream",
     "text": [
      "Epoch 49/50: Train Loss = 0.2474, Val Loss = 0.2309, Val Accuracy = 0.9030\n"
     ]
    },
    {
     "name": "stderr",
     "output_type": "stream",
     "text": [
      "Epoch 49: 100%|██████████| 1206/1206 [00:01<00:00, 922.49batch/s, loss=0.304] \n"
     ]
    },
    {
     "name": "stdout",
     "output_type": "stream",
     "text": [
      "Epoch 50/50: Train Loss = 0.2445, Val Loss = 0.2273, Val Accuracy = 0.9090\n",
      "Best Validation Loss: 0.2273\n",
      "\n",
      "=== Running with Learning Rate: 0.001 ===\n"
     ]
    },
    {
     "name": "stderr",
     "output_type": "stream",
     "text": [
      "Epoch 0: 100%|██████████| 1206/1206 [00:01<00:00, 950.13batch/s, loss=0.347] \n"
     ]
    },
    {
     "name": "stdout",
     "output_type": "stream",
     "text": [
      "Epoch 1/50: Train Loss = 0.2147, Val Loss = 0.2120, Val Accuracy = 0.9172\n"
     ]
    },
    {
     "name": "stderr",
     "output_type": "stream",
     "text": [
      "Epoch 1: 100%|██████████| 1206/1206 [00:01<00:00, 877.11batch/s, loss=0.133] \n"
     ]
    },
    {
     "name": "stdout",
     "output_type": "stream",
     "text": [
      "Epoch 2/50: Train Loss = 0.2030, Val Loss = 0.2064, Val Accuracy = 0.9204\n"
     ]
    },
    {
     "name": "stderr",
     "output_type": "stream",
     "text": [
      "Epoch 2: 100%|██████████| 1206/1206 [00:01<00:00, 822.71batch/s, loss=0.185] \n"
     ]
    },
    {
     "name": "stdout",
     "output_type": "stream",
     "text": [
      "Epoch 3/50: Train Loss = 0.1967, Val Loss = 0.2031, Val Accuracy = 0.9209\n"
     ]
    },
    {
     "name": "stderr",
     "output_type": "stream",
     "text": [
      "Epoch 3: 100%|██████████| 1206/1206 [00:01<00:00, 916.14batch/s, loss=0.185] \n"
     ]
    },
    {
     "name": "stdout",
     "output_type": "stream",
     "text": [
      "Epoch 4/50: Train Loss = 0.1964, Val Loss = 0.2039, Val Accuracy = 0.9208\n"
     ]
    },
    {
     "name": "stderr",
     "output_type": "stream",
     "text": [
      "Epoch 4: 100%|██████████| 1206/1206 [00:01<00:00, 924.75batch/s, loss=0.177] \n"
     ]
    },
    {
     "name": "stdout",
     "output_type": "stream",
     "text": [
      "Epoch 5/50: Train Loss = 0.1903, Val Loss = 0.2010, Val Accuracy = 0.9229\n"
     ]
    },
    {
     "name": "stderr",
     "output_type": "stream",
     "text": [
      "Epoch 5: 100%|██████████| 1206/1206 [00:01<00:00, 944.02batch/s, loss=0.144] \n"
     ]
    },
    {
     "name": "stdout",
     "output_type": "stream",
     "text": [
      "Epoch 6/50: Train Loss = 0.1880, Val Loss = 0.2003, Val Accuracy = 0.9230\n"
     ]
    },
    {
     "name": "stderr",
     "output_type": "stream",
     "text": [
      "Epoch 6: 100%|██████████| 1206/1206 [00:01<00:00, 877.95batch/s, loss=0.152] \n"
     ]
    },
    {
     "name": "stdout",
     "output_type": "stream",
     "text": [
      "Epoch 7/50: Train Loss = 0.1872, Val Loss = 0.1994, Val Accuracy = 0.9235\n"
     ]
    },
    {
     "name": "stderr",
     "output_type": "stream",
     "text": [
      "Epoch 7: 100%|██████████| 1206/1206 [00:01<00:00, 908.40batch/s, loss=0.152] \n"
     ]
    },
    {
     "name": "stdout",
     "output_type": "stream",
     "text": [
      "Epoch 8/50: Train Loss = 0.1831, Val Loss = 0.1976, Val Accuracy = 0.9253\n"
     ]
    },
    {
     "name": "stderr",
     "output_type": "stream",
     "text": [
      "Epoch 8: 100%|██████████| 1206/1206 [00:01<00:00, 943.63batch/s, loss=0.133] \n"
     ]
    },
    {
     "name": "stdout",
     "output_type": "stream",
     "text": [
      "Epoch 9/50: Train Loss = 0.1824, Val Loss = 0.1982, Val Accuracy = 0.9240\n"
     ]
    },
    {
     "name": "stderr",
     "output_type": "stream",
     "text": [
      "Epoch 9: 100%|██████████| 1206/1206 [00:01<00:00, 926.37batch/s, loss=0.121] \n"
     ]
    },
    {
     "name": "stdout",
     "output_type": "stream",
     "text": [
      "Epoch 10/50: Train Loss = 0.1832, Val Loss = 0.1977, Val Accuracy = 0.9247\n"
     ]
    },
    {
     "name": "stderr",
     "output_type": "stream",
     "text": [
      "Epoch 10: 100%|██████████| 1206/1206 [00:01<00:00, 920.79batch/s, loss=0.139] \n"
     ]
    },
    {
     "name": "stdout",
     "output_type": "stream",
     "text": [
      "Epoch 11/50: Train Loss = 0.1831, Val Loss = 0.1968, Val Accuracy = 0.9240\n"
     ]
    },
    {
     "name": "stderr",
     "output_type": "stream",
     "text": [
      "Epoch 11: 100%|██████████| 1206/1206 [00:01<00:00, 945.25batch/s, loss=0.193] \n"
     ]
    },
    {
     "name": "stdout",
     "output_type": "stream",
     "text": [
      "Epoch 12/50: Train Loss = 0.1789, Val Loss = 0.1952, Val Accuracy = 0.9249\n"
     ]
    },
    {
     "name": "stderr",
     "output_type": "stream",
     "text": [
      "Epoch 12: 100%|██████████| 1206/1206 [00:01<00:00, 919.93batch/s, loss=0.141] \n"
     ]
    },
    {
     "name": "stdout",
     "output_type": "stream",
     "text": [
      "Epoch 13/50: Train Loss = 0.1809, Val Loss = 0.1953, Val Accuracy = 0.9240\n"
     ]
    },
    {
     "name": "stderr",
     "output_type": "stream",
     "text": [
      "Epoch 13: 100%|██████████| 1206/1206 [00:01<00:00, 950.26batch/s, loss=0.196] \n"
     ]
    },
    {
     "name": "stdout",
     "output_type": "stream",
     "text": [
      "Epoch 14/50: Train Loss = 0.1787, Val Loss = 0.1947, Val Accuracy = 0.9239\n"
     ]
    },
    {
     "name": "stderr",
     "output_type": "stream",
     "text": [
      "Epoch 14: 100%|██████████| 1206/1206 [00:01<00:00, 919.69batch/s, loss=0.107] \n"
     ]
    },
    {
     "name": "stdout",
     "output_type": "stream",
     "text": [
      "Epoch 15/50: Train Loss = 0.1784, Val Loss = 0.1937, Val Accuracy = 0.9244\n"
     ]
    },
    {
     "name": "stderr",
     "output_type": "stream",
     "text": [
      "Epoch 15: 100%|██████████| 1206/1206 [00:01<00:00, 946.13batch/s, loss=0.172] \n"
     ]
    },
    {
     "name": "stdout",
     "output_type": "stream",
     "text": [
      "Epoch 16/50: Train Loss = 0.1787, Val Loss = 0.1916, Val Accuracy = 0.9244\n"
     ]
    },
    {
     "name": "stderr",
     "output_type": "stream",
     "text": [
      "Epoch 16: 100%|██████████| 1206/1206 [00:01<00:00, 919.88batch/s, loss=0.145] \n"
     ]
    },
    {
     "name": "stdout",
     "output_type": "stream",
     "text": [
      "Epoch 17/50: Train Loss = 0.1771, Val Loss = 0.1950, Val Accuracy = 0.9252\n"
     ]
    },
    {
     "name": "stderr",
     "output_type": "stream",
     "text": [
      "Epoch 17: 100%|██████████| 1206/1206 [00:01<00:00, 929.13batch/s, loss=0.17]  \n"
     ]
    },
    {
     "name": "stdout",
     "output_type": "stream",
     "text": [
      "Epoch 18/50: Train Loss = 0.1771, Val Loss = 0.1932, Val Accuracy = 0.9257\n"
     ]
    },
    {
     "name": "stderr",
     "output_type": "stream",
     "text": [
      "Epoch 18: 100%|██████████| 1206/1206 [00:01<00:00, 955.10batch/s, loss=0.131] \n"
     ]
    },
    {
     "name": "stdout",
     "output_type": "stream",
     "text": [
      "Epoch 19/50: Train Loss = 0.1770, Val Loss = 0.1932, Val Accuracy = 0.9257\n"
     ]
    },
    {
     "name": "stderr",
     "output_type": "stream",
     "text": [
      "Epoch 19: 100%|██████████| 1206/1206 [00:01<00:00, 912.76batch/s, loss=0.161] \n"
     ]
    },
    {
     "name": "stdout",
     "output_type": "stream",
     "text": [
      "Epoch 20/50: Train Loss = 0.1744, Val Loss = 0.1909, Val Accuracy = 0.9254\n"
     ]
    },
    {
     "name": "stderr",
     "output_type": "stream",
     "text": [
      "Epoch 20: 100%|██████████| 1206/1206 [00:01<00:00, 941.17batch/s, loss=0.156] \n"
     ]
    },
    {
     "name": "stdout",
     "output_type": "stream",
     "text": [
      "Epoch 21/50: Train Loss = 0.1743, Val Loss = 0.1904, Val Accuracy = 0.9274\n"
     ]
    },
    {
     "name": "stderr",
     "output_type": "stream",
     "text": [
      "Epoch 21: 100%|██████████| 1206/1206 [00:01<00:00, 917.15batch/s, loss=0.102] \n"
     ]
    },
    {
     "name": "stdout",
     "output_type": "stream",
     "text": [
      "Epoch 22/50: Train Loss = 0.1730, Val Loss = 0.1917, Val Accuracy = 0.9277\n"
     ]
    },
    {
     "name": "stderr",
     "output_type": "stream",
     "text": [
      "Epoch 22: 100%|██████████| 1206/1206 [00:01<00:00, 940.22batch/s, loss=0.119] \n"
     ]
    },
    {
     "name": "stdout",
     "output_type": "stream",
     "text": [
      "Epoch 23/50: Train Loss = 0.1732, Val Loss = 0.1909, Val Accuracy = 0.9273\n"
     ]
    },
    {
     "name": "stderr",
     "output_type": "stream",
     "text": [
      "Epoch 23: 100%|██████████| 1206/1206 [00:01<00:00, 918.32batch/s, loss=0.146] \n"
     ]
    },
    {
     "name": "stdout",
     "output_type": "stream",
     "text": [
      "Epoch 24/50: Train Loss = 0.1739, Val Loss = 0.1917, Val Accuracy = 0.9264\n"
     ]
    },
    {
     "name": "stderr",
     "output_type": "stream",
     "text": [
      "Epoch 24: 100%|██████████| 1206/1206 [00:01<00:00, 915.92batch/s, loss=0.114] \n"
     ]
    },
    {
     "name": "stdout",
     "output_type": "stream",
     "text": [
      "Epoch 25/50: Train Loss = 0.1747, Val Loss = 0.1909, Val Accuracy = 0.9279\n"
     ]
    },
    {
     "name": "stderr",
     "output_type": "stream",
     "text": [
      "Epoch 25: 100%|██████████| 1206/1206 [00:01<00:00, 953.96batch/s, loss=0.093] \n"
     ]
    },
    {
     "name": "stdout",
     "output_type": "stream",
     "text": [
      "Epoch 26/50: Train Loss = 0.1736, Val Loss = 0.1915, Val Accuracy = 0.9273\n"
     ]
    },
    {
     "name": "stderr",
     "output_type": "stream",
     "text": [
      "Epoch 26: 100%|██████████| 1206/1206 [00:01<00:00, 800.67batch/s, loss=0.14]  \n"
     ]
    },
    {
     "name": "stdout",
     "output_type": "stream",
     "text": [
      "Epoch 27/50: Train Loss = 0.1733, Val Loss = 0.1919, Val Accuracy = 0.9280\n"
     ]
    },
    {
     "name": "stderr",
     "output_type": "stream",
     "text": [
      "Epoch 27: 100%|██████████| 1206/1206 [00:01<00:00, 904.42batch/s, loss=0.151] \n"
     ]
    },
    {
     "name": "stdout",
     "output_type": "stream",
     "text": [
      "Epoch 28/50: Train Loss = 0.1707, Val Loss = 0.1975, Val Accuracy = 0.9270\n"
     ]
    },
    {
     "name": "stderr",
     "output_type": "stream",
     "text": [
      "Epoch 28: 100%|██████████| 1206/1206 [00:01<00:00, 918.64batch/s, loss=0.148] \n"
     ]
    },
    {
     "name": "stdout",
     "output_type": "stream",
     "text": [
      "Epoch 29/50: Train Loss = 0.1705, Val Loss = 0.1911, Val Accuracy = 0.9274\n"
     ]
    },
    {
     "name": "stderr",
     "output_type": "stream",
     "text": [
      "Epoch 29: 100%|██████████| 1206/1206 [00:01<00:00, 920.69batch/s, loss=0.0996]\n"
     ]
    },
    {
     "name": "stdout",
     "output_type": "stream",
     "text": [
      "Epoch 30/50: Train Loss = 0.1726, Val Loss = 0.1917, Val Accuracy = 0.9280\n"
     ]
    },
    {
     "name": "stderr",
     "output_type": "stream",
     "text": [
      "Epoch 30: 100%|██████████| 1206/1206 [00:01<00:00, 948.51batch/s, loss=0.161] \n"
     ]
    },
    {
     "name": "stdout",
     "output_type": "stream",
     "text": [
      "Epoch 31/50: Train Loss = 0.1713, Val Loss = 0.1908, Val Accuracy = 0.9301\n"
     ]
    },
    {
     "name": "stderr",
     "output_type": "stream",
     "text": [
      "Epoch 31: 100%|██████████| 1206/1206 [00:01<00:00, 903.89batch/s, loss=0.194] \n"
     ]
    },
    {
     "name": "stdout",
     "output_type": "stream",
     "text": [
      "Epoch 32/50: Train Loss = 0.1711, Val Loss = 0.1961, Val Accuracy = 0.9288\n"
     ]
    },
    {
     "name": "stderr",
     "output_type": "stream",
     "text": [
      "Epoch 32: 100%|██████████| 1206/1206 [00:01<00:00, 899.81batch/s, loss=0.178] \n"
     ]
    },
    {
     "name": "stdout",
     "output_type": "stream",
     "text": [
      "Epoch 33/50: Train Loss = 0.1691, Val Loss = 0.1904, Val Accuracy = 0.9277\n"
     ]
    },
    {
     "name": "stderr",
     "output_type": "stream",
     "text": [
      "Epoch 33: 100%|██████████| 1206/1206 [00:01<00:00, 859.64batch/s, loss=0.108] \n"
     ]
    },
    {
     "name": "stdout",
     "output_type": "stream",
     "text": [
      "Epoch 34/50: Train Loss = 0.1698, Val Loss = 0.1909, Val Accuracy = 0.9277\n"
     ]
    },
    {
     "name": "stderr",
     "output_type": "stream",
     "text": [
      "Epoch 34: 100%|██████████| 1206/1206 [00:01<00:00, 684.83batch/s, loss=0.178] \n"
     ]
    },
    {
     "name": "stdout",
     "output_type": "stream",
     "text": [
      "Epoch 35/50: Train Loss = 0.1731, Val Loss = 0.1907, Val Accuracy = 0.9283\n"
     ]
    },
    {
     "name": "stderr",
     "output_type": "stream",
     "text": [
      "Epoch 35: 100%|██████████| 1206/1206 [00:01<00:00, 790.70batch/s, loss=0.0704]\n"
     ]
    },
    {
     "name": "stdout",
     "output_type": "stream",
     "text": [
      "Epoch 36/50: Train Loss = 0.1693, Val Loss = 0.1897, Val Accuracy = 0.9290\n"
     ]
    },
    {
     "name": "stderr",
     "output_type": "stream",
     "text": [
      "Epoch 36: 100%|██████████| 1206/1206 [00:01<00:00, 798.85batch/s, loss=0.12]  \n"
     ]
    },
    {
     "name": "stdout",
     "output_type": "stream",
     "text": [
      "Epoch 37/50: Train Loss = 0.1693, Val Loss = 0.1906, Val Accuracy = 0.9284\n"
     ]
    },
    {
     "name": "stderr",
     "output_type": "stream",
     "text": [
      "Epoch 37: 100%|██████████| 1206/1206 [00:01<00:00, 826.53batch/s, loss=0.167] \n"
     ]
    },
    {
     "name": "stdout",
     "output_type": "stream",
     "text": [
      "Epoch 38/50: Train Loss = 0.1678, Val Loss = 0.1893, Val Accuracy = 0.9283\n"
     ]
    },
    {
     "name": "stderr",
     "output_type": "stream",
     "text": [
      "Epoch 38: 100%|██████████| 1206/1206 [00:01<00:00, 830.82batch/s, loss=0.121] \n"
     ]
    },
    {
     "name": "stdout",
     "output_type": "stream",
     "text": [
      "Epoch 39/50: Train Loss = 0.1684, Val Loss = 0.1893, Val Accuracy = 0.9286\n"
     ]
    },
    {
     "name": "stderr",
     "output_type": "stream",
     "text": [
      "Epoch 39: 100%|██████████| 1206/1206 [00:01<00:00, 843.99batch/s, loss=0.131] \n"
     ]
    },
    {
     "name": "stdout",
     "output_type": "stream",
     "text": [
      "Epoch 40/50: Train Loss = 0.1700, Val Loss = 0.1889, Val Accuracy = 0.9285\n"
     ]
    },
    {
     "name": "stderr",
     "output_type": "stream",
     "text": [
      "Epoch 40: 100%|██████████| 1206/1206 [00:01<00:00, 846.98batch/s, loss=0.135] \n"
     ]
    },
    {
     "name": "stdout",
     "output_type": "stream",
     "text": [
      "Epoch 41/50: Train Loss = 0.1700, Val Loss = 0.1880, Val Accuracy = 0.9286\n"
     ]
    },
    {
     "name": "stderr",
     "output_type": "stream",
     "text": [
      "Epoch 41: 100%|██████████| 1206/1206 [00:01<00:00, 754.54batch/s, loss=0.226] \n"
     ]
    },
    {
     "name": "stdout",
     "output_type": "stream",
     "text": [
      "Epoch 42/50: Train Loss = 0.1672, Val Loss = 0.1879, Val Accuracy = 0.9290\n"
     ]
    },
    {
     "name": "stderr",
     "output_type": "stream",
     "text": [
      "Epoch 42: 100%|██████████| 1206/1206 [00:01<00:00, 661.83batch/s, loss=0.093] \n"
     ]
    },
    {
     "name": "stdout",
     "output_type": "stream",
     "text": [
      "Epoch 43/50: Train Loss = 0.1702, Val Loss = 0.1880, Val Accuracy = 0.9283\n"
     ]
    },
    {
     "name": "stderr",
     "output_type": "stream",
     "text": [
      "Epoch 43: 100%|██████████| 1206/1206 [00:01<00:00, 706.45batch/s, loss=0.108] \n"
     ]
    },
    {
     "name": "stdout",
     "output_type": "stream",
     "text": [
      "Epoch 44/50: Train Loss = 0.1685, Val Loss = 0.1877, Val Accuracy = 0.9286\n"
     ]
    },
    {
     "name": "stderr",
     "output_type": "stream",
     "text": [
      "Epoch 44: 100%|██████████| 1206/1206 [00:01<00:00, 698.75batch/s, loss=0.21]  \n"
     ]
    },
    {
     "name": "stdout",
     "output_type": "stream",
     "text": [
      "Epoch 45/50: Train Loss = 0.1675, Val Loss = 0.1925, Val Accuracy = 0.9288\n"
     ]
    },
    {
     "name": "stderr",
     "output_type": "stream",
     "text": [
      "Epoch 45: 100%|██████████| 1206/1206 [00:01<00:00, 793.34batch/s, loss=0.105] \n"
     ]
    },
    {
     "name": "stdout",
     "output_type": "stream",
     "text": [
      "Epoch 46/50: Train Loss = 0.1688, Val Loss = 0.1894, Val Accuracy = 0.9283\n"
     ]
    },
    {
     "name": "stderr",
     "output_type": "stream",
     "text": [
      "Epoch 46: 100%|██████████| 1206/1206 [00:01<00:00, 755.88batch/s, loss=0.126] \n"
     ]
    },
    {
     "name": "stdout",
     "output_type": "stream",
     "text": [
      "Epoch 47/50: Train Loss = 0.1681, Val Loss = 0.1898, Val Accuracy = 0.9277\n"
     ]
    },
    {
     "name": "stderr",
     "output_type": "stream",
     "text": [
      "Epoch 47: 100%|██████████| 1206/1206 [00:01<00:00, 777.69batch/s, loss=0.156] \n"
     ]
    },
    {
     "name": "stdout",
     "output_type": "stream",
     "text": [
      "Epoch 48/50: Train Loss = 0.1662, Val Loss = 0.1887, Val Accuracy = 0.9276\n"
     ]
    },
    {
     "name": "stderr",
     "output_type": "stream",
     "text": [
      "Epoch 48: 100%|██████████| 1206/1206 [00:01<00:00, 786.12batch/s, loss=0.211] \n"
     ]
    },
    {
     "name": "stdout",
     "output_type": "stream",
     "text": [
      "Epoch 49/50: Train Loss = 0.1668, Val Loss = 0.1869, Val Accuracy = 0.9280\n"
     ]
    },
    {
     "name": "stderr",
     "output_type": "stream",
     "text": [
      "Epoch 49: 100%|██████████| 1206/1206 [00:01<00:00, 846.28batch/s, loss=0.166] \n"
     ]
    },
    {
     "name": "stdout",
     "output_type": "stream",
     "text": [
      "Epoch 50/50: Train Loss = 0.1663, Val Loss = 0.1885, Val Accuracy = 0.9277\n",
      "Best Validation Loss: 0.1869\n",
      "\n",
      "=== Best Learning Rate: 0.001 ===\n",
      "Best Validation Loss: 0.1869\n",
      "\n",
      "Best Threshold: 0.10, Best TPR: 0.9892\n",
      "\n",
      "=== Testing Model: Best LR: 0.001 ===\n",
      "Test Loss: 0.3637, Test Accuracy: 0.7365\n",
      "\n",
      "Classification Report:\n",
      "              precision    recall  f1-score   support\n",
      "\n",
      "         0.0       0.97      0.73      0.84     11348\n",
      "         1.0       0.21      0.77      0.33      1043\n",
      "\n",
      "    accuracy                           0.74     12391\n",
      "   macro avg       0.59      0.75      0.58     12391\n",
      "weighted avg       0.91      0.74      0.79     12391\n",
      "\n",
      "\n",
      "Confusion Matrix:\n",
      "[[8328 3020]\n",
      " [ 245  798]]\n"
     ]
    },
    {
     "data": {
      "image/png": "[encoded data removed]",
      "text/plain": [
       "<Figure size 800x600 with 1 Axes>"
      ]
     },
     "metadata": {},
     "output_type": "display_data"
    },
    {
     "data": {
      "image/png": "[encoded data removed]",
      "text/plain": [
       "<Figure size 800x600 with 1 Axes>"
      ]
     },
     "metadata": {},
     "output_type": "display_data"
    },
    {
     "name": "stdout",
     "output_type": "stream",
     "text": [
      "Test ROC AUC Score: 0.8204\n",
      "\n",
      "=== Final Results ===\n",
      "Best Learning Rate: 0.001\n",
      "Test Loss: 0.3637\n",
      "Test Accuracy: 0.7365\n",
      "Test ROC AUC: 0.8204\n"
     ]
    }
   ],
   "source": [
    "# Run with multiple learning rates and test the best model\n",
    "# # With SMOTE\n",
    "# X_train_smote_tensor, Y_train_smote_tensor = to_tensor(X_train_smote, Y_train_smote)\n",
    "# X_val_smote_tensor, Y_val_smote_tensor = to_tensor(X_val_smote, Y_val_smote)\n",
    "learning_rates = [0.01,0.001]\n",
    "modelX=NeuralNet(X_train_smote_tensor.shape[1])\n",
    "best_lr, test_loss, test_accuracy, roc_auc, best_model = train_eval_find_best_lr_test(\n",
    "    modelX,\n",
    "    X_train_smote_tensor, Y_train_smote_tensor,\n",
    "    X_val_smote_tensor, Y_val_smote_tensor,\n",
    "    X_test_tensor, Y_test_tensor,\n",
    "    lrs=learning_rates,\n",
    "    description=\"Learning Rate Search and Testing\"\n",
    ")\n",
    "\n",
    "print(f\"\\n=== Final Results ===\")\n",
    "print(f\"Best Learning Rate: {best_lr}\")\n",
    "print(f\"Test Loss: {test_loss:.4f}\")\n",
    "print(f\"Test Accuracy: {test_accuracy:.4f}\")\n",
    "print(f\"Test ROC AUC: {roc_auc:.4f}\")"
   ]
  },
  {
   "cell_type": "code",
   "execution_count": null,
   "metadata": {},
   "outputs": [],
   "source": []
  },
  {
   "cell_type": "code",
   "execution_count": null,
   "metadata": {},
   "outputs": [],
   "source": []
  },
  {
   "cell_type": "code",
   "execution_count": null,
   "metadata": {},
   "outputs": [],
   "source": []
  },
  {
   "cell_type": "code",
   "execution_count": null,
   "metadata": {},
   "outputs": [],
   "source": []
  },
  {
   "cell_type": "code",
   "execution_count": null,
   "metadata": {},
   "outputs": [],
   "source": []
  },
  {
   "cell_type": "code",
   "execution_count": null,
   "metadata": {},
   "outputs": [],
   "source": []
  },
  {
   "cell_type": "code",
   "execution_count": null,
   "metadata": {},
   "outputs": [],
   "source": []
  },
  {
   "cell_type": "code",
   "execution_count": null,
   "metadata": {},
   "outputs": [],
   "source": []
  },
  {
   "cell_type": "code",
   "execution_count": null,
   "metadata": {},
   "outputs": [],
   "source": []
  },
  {
   "cell_type": "code",
   "execution_count": null,
   "metadata": {},
   "outputs": [],
   "source": []
  },
  {
   "cell_type": "code",
   "execution_count": null,
   "metadata": {},
   "outputs": [],
   "source": []
  },
  {
   "cell_type": "code",
   "execution_count": 9,
   "metadata": {},
   "outputs": [],
   "source": [
    "# Step 5: Define the ToyModel and adjust it for the dataset\n",
    "class ToyModel(nn.Module):\n",
    "    def __init__(self, input_size):\n",
    "        super(ToyModel, self).__init__()\n",
    "        self.lin1 = nn.Linear(input_size, 3)  # Modified to accept the input_size of the dataset\n",
    "        self.relu = nn.ReLU()\n",
    "        self.lin2 = nn.Linear(3, 1)  # Modified output to 1 for binary classification\n",
    "\n",
    "        # Initialize weights and biases (Optional: to match ToyModel style, or you can let it randomly initialize)\n",
    "        nn.init.xavier_uniform_(self.lin1.weight)\n",
    "        nn.init.zeros_(self.lin1.bias)\n",
    "        nn.init.xavier_uniform_(self.lin2.weight)\n",
    "        nn.init.zeros_(self.lin2.bias)\n",
    "\n",
    "    def forward(self, input):\n",
    "        return torch.sigmoid(self.lin2(self.relu(self.lin1(input))))"
   ]
  },
  {
   "cell_type": "code",
   "execution_count": 10,
   "metadata": {},
   "outputs": [],
   "source": [
    "# Step 8: Interpret the ToyModel using Captum\n",
    "def interpret_model(model, X_sample, description=\"\"):\n",
    "    \"\"\"\n",
    "    Uses Integrated Gradients from Captum to interpret the model.\n",
    "    \"\"\"\n",
    "    model.eval()\n",
    "    ig = IntegratedGradients(model)\n",
    "\n",
    "    X_sample_tensor = torch.tensor(X_sample, dtype=torch.float32).requires_grad_()\n",
    "    baseline = torch.zeros_like(X_sample_tensor)  # Baseline of all zeros\n",
    "\n",
    "    # Calculate attributions using Integrated Gradients\n",
    "    attributions, delta = ig.attribute(X_sample_tensor, baseline, target=0, return_convergence_delta=True)\n",
    "\n",
    "    # Plot attributions\n",
    "    plt.figure(figsize=(10, 6))\n",
    "    plt.bar(range(X_sample_tensor.shape[1]), attributions.detach().numpy()[0], color='skyblue')\n",
    "    plt.xlabel('Feature Index')\n",
    "    plt.ylabel('Attribution Value')\n",
    "    plt.title(f'Feature Attributions - {description}')\n",
    "    plt.grid(True)\n",
    "    plt.show()"
   ]
  },
  {
   "cell_type": "code",
   "execution_count": 29,
   "metadata": {},
   "outputs": [
    {
     "name": "stdout",
     "output_type": "stream",
     "text": [
      "\n",
      "=== Running with Learning Rate: 0.01 ===\n"
     ]
    },
    {
     "name": "stderr",
     "output_type": "stream",
     "text": [
      "Epoch 0: 100%|██████████| 666/666 [00:00<00:00, 903.89batch/s, loss=0.338]  \n"
     ]
    },
    {
     "name": "stdout",
     "output_type": "stream",
     "text": [
      "Epoch 1/50: Train Loss = 0.2516, Val Loss = 0.2117, Val Accuracy = 0.9247\n"
     ]
    },
    {
     "name": "stderr",
     "output_type": "stream",
     "text": [
      "Epoch 1: 100%|██████████| 666/666 [00:00<00:00, 1019.01batch/s, loss=0.375] \n"
     ]
    },
    {
     "name": "stdout",
     "output_type": "stream",
     "text": [
      "Epoch 2/50: Train Loss = 0.2126, Val Loss = 0.2092, Val Accuracy = 0.9254\n"
     ]
    },
    {
     "name": "stderr",
     "output_type": "stream",
     "text": [
      "Epoch 2: 100%|██████████| 666/666 [00:00<00:00, 1010.95batch/s, loss=0.375] \n"
     ]
    },
    {
     "name": "stdout",
     "output_type": "stream",
     "text": [
      "Epoch 3/50: Train Loss = 0.2103, Val Loss = 0.2082, Val Accuracy = 0.9247\n"
     ]
    },
    {
     "name": "stderr",
     "output_type": "stream",
     "text": [
      "Epoch 3: 100%|██████████| 666/666 [00:00<00:00, 1038.86batch/s, loss=0.379] \n"
     ]
    },
    {
     "name": "stdout",
     "output_type": "stream",
     "text": [
      "Epoch 4/50: Train Loss = 0.2093, Val Loss = 0.2072, Val Accuracy = 0.9246\n"
     ]
    },
    {
     "name": "stderr",
     "output_type": "stream",
     "text": [
      "Epoch 4: 100%|██████████| 666/666 [00:00<00:00, 1011.32batch/s, loss=0.372] \n"
     ]
    },
    {
     "name": "stdout",
     "output_type": "stream",
     "text": [
      "Epoch 5/50: Train Loss = 0.2087, Val Loss = 0.2073, Val Accuracy = 0.9239\n"
     ]
    },
    {
     "name": "stderr",
     "output_type": "stream",
     "text": [
      "Epoch 5: 100%|██████████| 666/666 [00:00<00:00, 1012.19batch/s, loss=0.377] \n"
     ]
    },
    {
     "name": "stdout",
     "output_type": "stream",
     "text": [
      "Epoch 6/50: Train Loss = 0.2083, Val Loss = 0.2071, Val Accuracy = 0.9239\n"
     ]
    },
    {
     "name": "stderr",
     "output_type": "stream",
     "text": [
      "Epoch 6: 100%|██████████| 666/666 [00:00<00:00, 1027.85batch/s, loss=0.382] \n"
     ]
    },
    {
     "name": "stdout",
     "output_type": "stream",
     "text": [
      "Epoch 7/50: Train Loss = 0.2081, Val Loss = 0.2070, Val Accuracy = 0.9245\n"
     ]
    },
    {
     "name": "stderr",
     "output_type": "stream",
     "text": [
      "Epoch 7: 100%|██████████| 666/666 [00:00<00:00, 1050.87batch/s, loss=0.381] \n"
     ]
    },
    {
     "name": "stdout",
     "output_type": "stream",
     "text": [
      "Epoch 8/50: Train Loss = 0.2077, Val Loss = 0.2070, Val Accuracy = 0.9245\n"
     ]
    },
    {
     "name": "stderr",
     "output_type": "stream",
     "text": [
      "Epoch 8: 100%|██████████| 666/666 [00:00<00:00, 968.48batch/s, loss=0.381]  \n"
     ]
    },
    {
     "name": "stdout",
     "output_type": "stream",
     "text": [
      "Epoch 9/50: Train Loss = 0.2076, Val Loss = 0.2069, Val Accuracy = 0.9235\n"
     ]
    },
    {
     "name": "stderr",
     "output_type": "stream",
     "text": [
      "Epoch 9: 100%|██████████| 666/666 [00:00<00:00, 957.19batch/s, loss=0.377]  \n"
     ]
    },
    {
     "name": "stdout",
     "output_type": "stream",
     "text": [
      "Epoch 10/50: Train Loss = 0.2075, Val Loss = 0.2067, Val Accuracy = 0.9242\n"
     ]
    },
    {
     "name": "stderr",
     "output_type": "stream",
     "text": [
      "Epoch 10: 100%|██████████| 666/666 [00:00<00:00, 980.70batch/s, loss=0.378]  \n"
     ]
    },
    {
     "name": "stdout",
     "output_type": "stream",
     "text": [
      "Epoch 11/50: Train Loss = 0.2072, Val Loss = 0.2068, Val Accuracy = 0.9237\n"
     ]
    },
    {
     "name": "stderr",
     "output_type": "stream",
     "text": [
      "Epoch 11: 100%|██████████| 666/666 [00:00<00:00, 1028.31batch/s, loss=0.377] \n"
     ]
    },
    {
     "name": "stdout",
     "output_type": "stream",
     "text": [
      "Epoch 12/50: Train Loss = 0.2071, Val Loss = 0.2069, Val Accuracy = 0.9237\n"
     ]
    },
    {
     "name": "stderr",
     "output_type": "stream",
     "text": [
      "Epoch 12: 100%|██████████| 666/666 [00:00<00:00, 1006.35batch/s, loss=0.382] \n"
     ]
    },
    {
     "name": "stdout",
     "output_type": "stream",
     "text": [
      "Epoch 13/50: Train Loss = 0.2071, Val Loss = 0.2070, Val Accuracy = 0.9241\n"
     ]
    },
    {
     "name": "stderr",
     "output_type": "stream",
     "text": [
      "Epoch 13: 100%|██████████| 666/666 [00:00<00:00, 1011.27batch/s, loss=0.378] \n"
     ]
    },
    {
     "name": "stdout",
     "output_type": "stream",
     "text": [
      "Epoch 14/50: Train Loss = 0.2070, Val Loss = 0.2072, Val Accuracy = 0.9238\n"
     ]
    },
    {
     "name": "stderr",
     "output_type": "stream",
     "text": [
      "Epoch 14: 100%|██████████| 666/666 [00:00<00:00, 985.06batch/s, loss=0.383]  \n"
     ]
    },
    {
     "name": "stdout",
     "output_type": "stream",
     "text": [
      "Epoch 15/50: Train Loss = 0.2070, Val Loss = 0.2072, Val Accuracy = 0.9245\n"
     ]
    },
    {
     "name": "stderr",
     "output_type": "stream",
     "text": [
      "Epoch 15: 100%|██████████| 666/666 [00:00<00:00, 935.96batch/s, loss=0.383]  \n"
     ]
    },
    {
     "name": "stdout",
     "output_type": "stream",
     "text": [
      "Epoch 16/50: Train Loss = 0.2070, Val Loss = 0.2071, Val Accuracy = 0.9235\n"
     ]
    },
    {
     "name": "stderr",
     "output_type": "stream",
     "text": [
      "Epoch 16: 100%|██████████| 666/666 [00:00<00:00, 1016.29batch/s, loss=0.384] \n"
     ]
    },
    {
     "name": "stdout",
     "output_type": "stream",
     "text": [
      "Epoch 17/50: Train Loss = 0.2069, Val Loss = 0.2071, Val Accuracy = 0.9245\n"
     ]
    },
    {
     "name": "stderr",
     "output_type": "stream",
     "text": [
      "Epoch 17: 100%|██████████| 666/666 [00:00<00:00, 952.87batch/s, loss=0.385]  \n"
     ]
    },
    {
     "name": "stdout",
     "output_type": "stream",
     "text": [
      "Epoch 18/50: Train Loss = 0.2068, Val Loss = 0.2071, Val Accuracy = 0.9243\n"
     ]
    },
    {
     "name": "stderr",
     "output_type": "stream",
     "text": [
      "Epoch 18: 100%|██████████| 666/666 [00:00<00:00, 1074.61batch/s, loss=0.386] \n"
     ]
    },
    {
     "name": "stdout",
     "output_type": "stream",
     "text": [
      "Epoch 19/50: Train Loss = 0.2068, Val Loss = 0.2072, Val Accuracy = 0.9239\n"
     ]
    },
    {
     "name": "stderr",
     "output_type": "stream",
     "text": [
      "Epoch 19: 100%|██████████| 666/666 [00:00<00:00, 1011.93batch/s, loss=0.386] \n"
     ]
    },
    {
     "name": "stdout",
     "output_type": "stream",
     "text": [
      "Epoch 20/50: Train Loss = 0.2067, Val Loss = 0.2072, Val Accuracy = 0.9241\n"
     ]
    },
    {
     "name": "stderr",
     "output_type": "stream",
     "text": [
      "Epoch 20: 100%|██████████| 666/666 [00:00<00:00, 1107.66batch/s, loss=0.383] \n"
     ]
    },
    {
     "name": "stdout",
     "output_type": "stream",
     "text": [
      "Epoch 21/50: Train Loss = 0.2067, Val Loss = 0.2072, Val Accuracy = 0.9245\n"
     ]
    },
    {
     "name": "stderr",
     "output_type": "stream",
     "text": [
      "Epoch 21: 100%|██████████| 666/666 [00:00<00:00, 1078.61batch/s, loss=0.385] \n"
     ]
    },
    {
     "name": "stdout",
     "output_type": "stream",
     "text": [
      "Epoch 22/50: Train Loss = 0.2067, Val Loss = 0.2071, Val Accuracy = 0.9242\n"
     ]
    },
    {
     "name": "stderr",
     "output_type": "stream",
     "text": [
      "Epoch 22: 100%|██████████| 666/666 [00:00<00:00, 1113.29batch/s, loss=0.382] \n"
     ]
    },
    {
     "name": "stdout",
     "output_type": "stream",
     "text": [
      "Epoch 23/50: Train Loss = 0.2067, Val Loss = 0.2071, Val Accuracy = 0.9245\n"
     ]
    },
    {
     "name": "stderr",
     "output_type": "stream",
     "text": [
      "Epoch 23: 100%|██████████| 666/666 [00:00<00:00, 1082.27batch/s, loss=0.384] \n"
     ]
    },
    {
     "name": "stdout",
     "output_type": "stream",
     "text": [
      "Epoch 24/50: Train Loss = 0.2067, Val Loss = 0.2071, Val Accuracy = 0.9241\n"
     ]
    },
    {
     "name": "stderr",
     "output_type": "stream",
     "text": [
      "Epoch 24: 100%|██████████| 666/666 [00:00<00:00, 1109.32batch/s, loss=0.386] \n"
     ]
    },
    {
     "name": "stdout",
     "output_type": "stream",
     "text": [
      "Epoch 25/50: Train Loss = 0.2067, Val Loss = 0.2068, Val Accuracy = 0.9249\n"
     ]
    },
    {
     "name": "stderr",
     "output_type": "stream",
     "text": [
      "Epoch 25: 100%|██████████| 666/666 [00:00<00:00, 1079.78batch/s, loss=0.384] \n"
     ]
    },
    {
     "name": "stdout",
     "output_type": "stream",
     "text": [
      "Epoch 26/50: Train Loss = 0.2066, Val Loss = 0.2071, Val Accuracy = 0.9239\n"
     ]
    },
    {
     "name": "stderr",
     "output_type": "stream",
     "text": [
      "Epoch 26: 100%|██████████| 666/666 [00:00<00:00, 1118.28batch/s, loss=0.385] \n"
     ]
    },
    {
     "name": "stdout",
     "output_type": "stream",
     "text": [
      "Epoch 27/50: Train Loss = 0.2066, Val Loss = 0.2070, Val Accuracy = 0.9242\n"
     ]
    },
    {
     "name": "stderr",
     "output_type": "stream",
     "text": [
      "Epoch 27: 100%|██████████| 666/666 [00:00<00:00, 1111.11batch/s, loss=0.382] \n"
     ]
    },
    {
     "name": "stdout",
     "output_type": "stream",
     "text": [
      "Epoch 28/50: Train Loss = 0.2066, Val Loss = 0.2071, Val Accuracy = 0.9237\n"
     ]
    },
    {
     "name": "stderr",
     "output_type": "stream",
     "text": [
      "Epoch 28: 100%|██████████| 666/666 [00:00<00:00, 1080.47batch/s, loss=0.385] \n"
     ]
    },
    {
     "name": "stdout",
     "output_type": "stream",
     "text": [
      "Epoch 29/50: Train Loss = 0.2066, Val Loss = 0.2069, Val Accuracy = 0.9250\n"
     ]
    },
    {
     "name": "stderr",
     "output_type": "stream",
     "text": [
      "Epoch 29: 100%|██████████| 666/666 [00:00<00:00, 1122.01batch/s, loss=0.386] \n"
     ]
    },
    {
     "name": "stdout",
     "output_type": "stream",
     "text": [
      "Epoch 30/50: Train Loss = 0.2065, Val Loss = 0.2070, Val Accuracy = 0.9243\n"
     ]
    },
    {
     "name": "stderr",
     "output_type": "stream",
     "text": [
      "Epoch 30: 100%|██████████| 666/666 [00:00<00:00, 1086.40batch/s, loss=0.385] \n"
     ]
    },
    {
     "name": "stdout",
     "output_type": "stream",
     "text": [
      "Epoch 31/50: Train Loss = 0.2065, Val Loss = 0.2070, Val Accuracy = 0.9246\n"
     ]
    },
    {
     "name": "stderr",
     "output_type": "stream",
     "text": [
      "Epoch 31: 100%|██████████| 666/666 [00:00<00:00, 1121.87batch/s, loss=0.385] \n"
     ]
    },
    {
     "name": "stdout",
     "output_type": "stream",
     "text": [
      "Epoch 32/50: Train Loss = 0.2065, Val Loss = 0.2070, Val Accuracy = 0.9243\n"
     ]
    },
    {
     "name": "stderr",
     "output_type": "stream",
     "text": [
      "Epoch 32: 100%|██████████| 666/666 [00:00<00:00, 1082.02batch/s, loss=0.382] \n"
     ]
    },
    {
     "name": "stdout",
     "output_type": "stream",
     "text": [
      "Epoch 33/50: Train Loss = 0.2065, Val Loss = 0.2070, Val Accuracy = 0.9246\n"
     ]
    },
    {
     "name": "stderr",
     "output_type": "stream",
     "text": [
      "Epoch 33: 100%|██████████| 666/666 [00:00<00:00, 1111.64batch/s, loss=0.383] \n"
     ]
    },
    {
     "name": "stdout",
     "output_type": "stream",
     "text": [
      "Epoch 34/50: Train Loss = 0.2064, Val Loss = 0.2071, Val Accuracy = 0.9250\n"
     ]
    },
    {
     "name": "stderr",
     "output_type": "stream",
     "text": [
      "Epoch 34: 100%|██████████| 666/666 [00:00<00:00, 1083.04batch/s, loss=0.384] \n"
     ]
    },
    {
     "name": "stdout",
     "output_type": "stream",
     "text": [
      "Epoch 35/50: Train Loss = 0.2064, Val Loss = 0.2070, Val Accuracy = 0.9247\n"
     ]
    },
    {
     "name": "stderr",
     "output_type": "stream",
     "text": [
      "Epoch 35: 100%|██████████| 666/666 [00:00<00:00, 1118.53batch/s, loss=0.384] \n"
     ]
    },
    {
     "name": "stdout",
     "output_type": "stream",
     "text": [
      "Epoch 36/50: Train Loss = 0.2064, Val Loss = 0.2072, Val Accuracy = 0.9245\n"
     ]
    },
    {
     "name": "stderr",
     "output_type": "stream",
     "text": [
      "Epoch 36: 100%|██████████| 666/666 [00:00<00:00, 1079.36batch/s, loss=0.384] \n"
     ]
    },
    {
     "name": "stdout",
     "output_type": "stream",
     "text": [
      "Epoch 37/50: Train Loss = 0.2064, Val Loss = 0.2072, Val Accuracy = 0.9247\n"
     ]
    },
    {
     "name": "stderr",
     "output_type": "stream",
     "text": [
      "Epoch 37: 100%|██████████| 666/666 [00:00<00:00, 1125.36batch/s, loss=0.381] \n"
     ]
    },
    {
     "name": "stdout",
     "output_type": "stream",
     "text": [
      "Epoch 38/50: Train Loss = 0.2064, Val Loss = 0.2073, Val Accuracy = 0.9247\n"
     ]
    },
    {
     "name": "stderr",
     "output_type": "stream",
     "text": [
      "Epoch 38: 100%|██████████| 666/666 [00:00<00:00, 965.06batch/s, loss=0.381]  \n"
     ]
    },
    {
     "name": "stdout",
     "output_type": "stream",
     "text": [
      "Epoch 39/50: Train Loss = 0.2064, Val Loss = 0.2073, Val Accuracy = 0.9246\n"
     ]
    },
    {
     "name": "stderr",
     "output_type": "stream",
     "text": [
      "Epoch 39: 100%|██████████| 666/666 [00:00<00:00, 1008.49batch/s, loss=0.385] \n"
     ]
    },
    {
     "name": "stdout",
     "output_type": "stream",
     "text": [
      "Epoch 40/50: Train Loss = 0.2064, Val Loss = 0.2071, Val Accuracy = 0.9247\n"
     ]
    },
    {
     "name": "stderr",
     "output_type": "stream",
     "text": [
      "Epoch 40: 100%|██████████| 666/666 [00:00<00:00, 977.22batch/s, loss=0.383]  \n"
     ]
    },
    {
     "name": "stdout",
     "output_type": "stream",
     "text": [
      "Epoch 41/50: Train Loss = 0.2064, Val Loss = 0.2073, Val Accuracy = 0.9245\n"
     ]
    },
    {
     "name": "stderr",
     "output_type": "stream",
     "text": [
      "Epoch 41: 100%|██████████| 666/666 [00:00<00:00, 999.20batch/s, loss=0.385]  \n"
     ]
    },
    {
     "name": "stdout",
     "output_type": "stream",
     "text": [
      "Epoch 42/50: Train Loss = 0.2064, Val Loss = 0.2071, Val Accuracy = 0.9247\n"
     ]
    },
    {
     "name": "stderr",
     "output_type": "stream",
     "text": [
      "Epoch 42: 100%|██████████| 666/666 [00:00<00:00, 1000.69batch/s, loss=0.379] \n"
     ]
    },
    {
     "name": "stdout",
     "output_type": "stream",
     "text": [
      "Epoch 43/50: Train Loss = 0.2064, Val Loss = 0.2072, Val Accuracy = 0.9246\n"
     ]
    },
    {
     "name": "stderr",
     "output_type": "stream",
     "text": [
      "Epoch 43: 100%|██████████| 666/666 [00:00<00:00, 963.24batch/s, loss=0.382]  \n"
     ]
    },
    {
     "name": "stdout",
     "output_type": "stream",
     "text": [
      "Epoch 44/50: Train Loss = 0.2064, Val Loss = 0.2072, Val Accuracy = 0.9249\n"
     ]
    },
    {
     "name": "stderr",
     "output_type": "stream",
     "text": [
      "Epoch 44: 100%|██████████| 666/666 [00:00<00:00, 985.55batch/s, loss=0.383]  \n"
     ]
    },
    {
     "name": "stdout",
     "output_type": "stream",
     "text": [
      "Epoch 45/50: Train Loss = 0.2063, Val Loss = 0.2071, Val Accuracy = 0.9246\n"
     ]
    },
    {
     "name": "stderr",
     "output_type": "stream",
     "text": [
      "Epoch 45: 100%|██████████| 666/666 [00:00<00:00, 974.89batch/s, loss=0.385]  \n"
     ]
    },
    {
     "name": "stdout",
     "output_type": "stream",
     "text": [
      "Epoch 46/50: Train Loss = 0.2063, Val Loss = 0.2071, Val Accuracy = 0.9245\n"
     ]
    },
    {
     "name": "stderr",
     "output_type": "stream",
     "text": [
      "Epoch 46: 100%|██████████| 666/666 [00:00<00:00, 970.49batch/s, loss=0.383]  \n"
     ]
    },
    {
     "name": "stdout",
     "output_type": "stream",
     "text": [
      "Epoch 47/50: Train Loss = 0.2063, Val Loss = 0.2072, Val Accuracy = 0.9245\n"
     ]
    },
    {
     "name": "stderr",
     "output_type": "stream",
     "text": [
      "Epoch 47: 100%|██████████| 666/666 [00:00<00:00, 1006.22batch/s, loss=0.381] \n"
     ]
    },
    {
     "name": "stdout",
     "output_type": "stream",
     "text": [
      "Epoch 48/50: Train Loss = 0.2063, Val Loss = 0.2073, Val Accuracy = 0.9245\n"
     ]
    },
    {
     "name": "stderr",
     "output_type": "stream",
     "text": [
      "Epoch 48: 100%|██████████| 666/666 [00:00<00:00, 1008.11batch/s, loss=0.383] \n"
     ]
    },
    {
     "name": "stdout",
     "output_type": "stream",
     "text": [
      "Epoch 49/50: Train Loss = 0.2063, Val Loss = 0.2072, Val Accuracy = 0.9247\n"
     ]
    },
    {
     "name": "stderr",
     "output_type": "stream",
     "text": [
      "Epoch 49: 100%|██████████| 666/666 [00:00<00:00, 1038.56batch/s, loss=0.384] \n"
     ]
    },
    {
     "name": "stdout",
     "output_type": "stream",
     "text": [
      "Epoch 50/50: Train Loss = 0.2063, Val Loss = 0.2072, Val Accuracy = 0.9246\n",
      "Best Validation Loss: 0.2067\n",
      "\n",
      "=== Running with Learning Rate: 0.001 ===\n"
     ]
    },
    {
     "name": "stderr",
     "output_type": "stream",
     "text": [
      "Epoch 0: 100%|██████████| 666/666 [00:00<00:00, 1005.83batch/s, loss=0.385] \n"
     ]
    },
    {
     "name": "stdout",
     "output_type": "stream",
     "text": [
      "Epoch 1/50: Train Loss = 0.2030, Val Loss = 0.2063, Val Accuracy = 0.9250\n"
     ]
    },
    {
     "name": "stderr",
     "output_type": "stream",
     "text": [
      "Epoch 1: 100%|██████████| 666/666 [00:00<00:00, 975.17batch/s, loss=0.385]  \n"
     ]
    },
    {
     "name": "stdout",
     "output_type": "stream",
     "text": [
      "Epoch 2/50: Train Loss = 0.2025, Val Loss = 0.2061, Val Accuracy = 0.9251\n"
     ]
    },
    {
     "name": "stderr",
     "output_type": "stream",
     "text": [
      "Epoch 2: 100%|██████████| 666/666 [00:00<00:00, 1011.24batch/s, loss=0.385] \n"
     ]
    },
    {
     "name": "stdout",
     "output_type": "stream",
     "text": [
      "Epoch 3/50: Train Loss = 0.2023, Val Loss = 0.2059, Val Accuracy = 0.9251\n"
     ]
    },
    {
     "name": "stderr",
     "output_type": "stream",
     "text": [
      "Epoch 3: 100%|██████████| 666/666 [00:00<00:00, 1050.28batch/s, loss=0.385] \n"
     ]
    },
    {
     "name": "stdout",
     "output_type": "stream",
     "text": [
      "Epoch 4/50: Train Loss = 0.2022, Val Loss = 0.2059, Val Accuracy = 0.9253\n"
     ]
    },
    {
     "name": "stderr",
     "output_type": "stream",
     "text": [
      "Epoch 4: 100%|██████████| 666/666 [00:00<00:00, 1014.50batch/s, loss=0.385] \n"
     ]
    },
    {
     "name": "stdout",
     "output_type": "stream",
     "text": [
      "Epoch 5/50: Train Loss = 0.2022, Val Loss = 0.2059, Val Accuracy = 0.9255\n"
     ]
    },
    {
     "name": "stderr",
     "output_type": "stream",
     "text": [
      "Epoch 5: 100%|██████████| 666/666 [00:00<00:00, 1000.60batch/s, loss=0.384] \n"
     ]
    },
    {
     "name": "stdout",
     "output_type": "stream",
     "text": [
      "Epoch 6/50: Train Loss = 0.2021, Val Loss = 0.2059, Val Accuracy = 0.9255\n"
     ]
    },
    {
     "name": "stderr",
     "output_type": "stream",
     "text": [
      "Epoch 6: 100%|██████████| 666/666 [00:00<00:00, 942.95batch/s, loss=0.384]  \n"
     ]
    },
    {
     "name": "stdout",
     "output_type": "stream",
     "text": [
      "Epoch 7/50: Train Loss = 0.2021, Val Loss = 0.2059, Val Accuracy = 0.9257\n"
     ]
    },
    {
     "name": "stderr",
     "output_type": "stream",
     "text": [
      "Epoch 7: 100%|██████████| 666/666 [00:00<00:00, 934.63batch/s, loss=0.384]  \n"
     ]
    },
    {
     "name": "stdout",
     "output_type": "stream",
     "text": [
      "Epoch 8/50: Train Loss = 0.2021, Val Loss = 0.2059, Val Accuracy = 0.9255\n"
     ]
    },
    {
     "name": "stderr",
     "output_type": "stream",
     "text": [
      "Epoch 8: 100%|██████████| 666/666 [00:00<00:00, 1071.64batch/s, loss=0.384] \n"
     ]
    },
    {
     "name": "stdout",
     "output_type": "stream",
     "text": [
      "Epoch 9/50: Train Loss = 0.2021, Val Loss = 0.2059, Val Accuracy = 0.9255\n"
     ]
    },
    {
     "name": "stderr",
     "output_type": "stream",
     "text": [
      "Epoch 9: 100%|██████████| 666/666 [00:00<00:00, 1038.50batch/s, loss=0.384] \n"
     ]
    },
    {
     "name": "stdout",
     "output_type": "stream",
     "text": [
      "Epoch 10/50: Train Loss = 0.2020, Val Loss = 0.2059, Val Accuracy = 0.9255\n"
     ]
    },
    {
     "name": "stderr",
     "output_type": "stream",
     "text": [
      "Epoch 10: 100%|██████████| 666/666 [00:00<00:00, 1106.75batch/s, loss=0.383] \n"
     ]
    },
    {
     "name": "stdout",
     "output_type": "stream",
     "text": [
      "Epoch 11/50: Train Loss = 0.2020, Val Loss = 0.2059, Val Accuracy = 0.9258\n"
     ]
    },
    {
     "name": "stderr",
     "output_type": "stream",
     "text": [
      "Epoch 11: 100%|██████████| 666/666 [00:00<00:00, 1089.54batch/s, loss=0.383] \n"
     ]
    },
    {
     "name": "stdout",
     "output_type": "stream",
     "text": [
      "Epoch 12/50: Train Loss = 0.2020, Val Loss = 0.2059, Val Accuracy = 0.9258\n"
     ]
    },
    {
     "name": "stderr",
     "output_type": "stream",
     "text": [
      "Epoch 12: 100%|██████████| 666/666 [00:00<00:00, 1126.69batch/s, loss=0.384] \n"
     ]
    },
    {
     "name": "stdout",
     "output_type": "stream",
     "text": [
      "Epoch 13/50: Train Loss = 0.2020, Val Loss = 0.2059, Val Accuracy = 0.9259\n"
     ]
    },
    {
     "name": "stderr",
     "output_type": "stream",
     "text": [
      "Epoch 13: 100%|██████████| 666/666 [00:00<00:00, 1091.67batch/s, loss=0.383] \n"
     ]
    },
    {
     "name": "stdout",
     "output_type": "stream",
     "text": [
      "Epoch 14/50: Train Loss = 0.2020, Val Loss = 0.2059, Val Accuracy = 0.9257\n"
     ]
    },
    {
     "name": "stderr",
     "output_type": "stream",
     "text": [
      "Epoch 14: 100%|██████████| 666/666 [00:00<00:00, 1131.52batch/s, loss=0.383] \n"
     ]
    },
    {
     "name": "stdout",
     "output_type": "stream",
     "text": [
      "Epoch 15/50: Train Loss = 0.2020, Val Loss = 0.2059, Val Accuracy = 0.9257\n"
     ]
    },
    {
     "name": "stderr",
     "output_type": "stream",
     "text": [
      "Epoch 15: 100%|██████████| 666/666 [00:00<00:00, 1086.90batch/s, loss=0.384] \n"
     ]
    },
    {
     "name": "stdout",
     "output_type": "stream",
     "text": [
      "Epoch 16/50: Train Loss = 0.2020, Val Loss = 0.2060, Val Accuracy = 0.9257\n"
     ]
    },
    {
     "name": "stderr",
     "output_type": "stream",
     "text": [
      "Epoch 16: 100%|██████████| 666/666 [00:00<00:00, 1084.18batch/s, loss=0.384] \n"
     ]
    },
    {
     "name": "stdout",
     "output_type": "stream",
     "text": [
      "Epoch 17/50: Train Loss = 0.2020, Val Loss = 0.2060, Val Accuracy = 0.9257\n"
     ]
    },
    {
     "name": "stderr",
     "output_type": "stream",
     "text": [
      "Epoch 17: 100%|██████████| 666/666 [00:00<00:00, 1084.47batch/s, loss=0.384] \n"
     ]
    },
    {
     "name": "stdout",
     "output_type": "stream",
     "text": [
      "Epoch 18/50: Train Loss = 0.2020, Val Loss = 0.2060, Val Accuracy = 0.9257\n"
     ]
    },
    {
     "name": "stderr",
     "output_type": "stream",
     "text": [
      "Epoch 18: 100%|██████████| 666/666 [00:00<00:00, 1129.02batch/s, loss=0.384] \n"
     ]
    },
    {
     "name": "stdout",
     "output_type": "stream",
     "text": [
      "Epoch 19/50: Train Loss = 0.2020, Val Loss = 0.2060, Val Accuracy = 0.9257\n"
     ]
    },
    {
     "name": "stderr",
     "output_type": "stream",
     "text": [
      "Epoch 19: 100%|██████████| 666/666 [00:00<00:00, 1093.17batch/s, loss=0.384] \n"
     ]
    },
    {
     "name": "stdout",
     "output_type": "stream",
     "text": [
      "Epoch 20/50: Train Loss = 0.2019, Val Loss = 0.2060, Val Accuracy = 0.9255\n"
     ]
    },
    {
     "name": "stderr",
     "output_type": "stream",
     "text": [
      "Epoch 20: 100%|██████████| 666/666 [00:00<00:00, 1127.72batch/s, loss=0.384] \n"
     ]
    },
    {
     "name": "stdout",
     "output_type": "stream",
     "text": [
      "Epoch 21/50: Train Loss = 0.2019, Val Loss = 0.2060, Val Accuracy = 0.9254\n"
     ]
    },
    {
     "name": "stderr",
     "output_type": "stream",
     "text": [
      "Epoch 21: 100%|██████████| 666/666 [00:00<00:00, 1092.42batch/s, loss=0.383] \n"
     ]
    },
    {
     "name": "stdout",
     "output_type": "stream",
     "text": [
      "Epoch 22/50: Train Loss = 0.2019, Val Loss = 0.2060, Val Accuracy = 0.9254\n"
     ]
    },
    {
     "name": "stderr",
     "output_type": "stream",
     "text": [
      "Epoch 22: 100%|██████████| 666/666 [00:00<00:00, 1129.14batch/s, loss=0.383] \n"
     ]
    },
    {
     "name": "stdout",
     "output_type": "stream",
     "text": [
      "Epoch 23/50: Train Loss = 0.2019, Val Loss = 0.2060, Val Accuracy = 0.9254\n"
     ]
    },
    {
     "name": "stderr",
     "output_type": "stream",
     "text": [
      "Epoch 23: 100%|██████████| 666/666 [00:00<00:00, 1085.19batch/s, loss=0.383] \n"
     ]
    },
    {
     "name": "stdout",
     "output_type": "stream",
     "text": [
      "Epoch 24/50: Train Loss = 0.2019, Val Loss = 0.2060, Val Accuracy = 0.9254\n"
     ]
    },
    {
     "name": "stderr",
     "output_type": "stream",
     "text": [
      "Epoch 24: 100%|██████████| 666/666 [00:00<00:00, 1125.33batch/s, loss=0.383] \n"
     ]
    },
    {
     "name": "stdout",
     "output_type": "stream",
     "text": [
      "Epoch 25/50: Train Loss = 0.2019, Val Loss = 0.2060, Val Accuracy = 0.9254\n"
     ]
    },
    {
     "name": "stderr",
     "output_type": "stream",
     "text": [
      "Epoch 25: 100%|██████████| 666/666 [00:00<00:00, 1095.03batch/s, loss=0.383] \n"
     ]
    },
    {
     "name": "stdout",
     "output_type": "stream",
     "text": [
      "Epoch 26/50: Train Loss = 0.2019, Val Loss = 0.2060, Val Accuracy = 0.9254\n"
     ]
    },
    {
     "name": "stderr",
     "output_type": "stream",
     "text": [
      "Epoch 26: 100%|██████████| 666/666 [00:00<00:00, 1125.47batch/s, loss=0.383] \n"
     ]
    },
    {
     "name": "stdout",
     "output_type": "stream",
     "text": [
      "Epoch 27/50: Train Loss = 0.2019, Val Loss = 0.2060, Val Accuracy = 0.9255\n"
     ]
    },
    {
     "name": "stderr",
     "output_type": "stream",
     "text": [
      "Epoch 27: 100%|██████████| 666/666 [00:00<00:00, 1094.07batch/s, loss=0.383] \n"
     ]
    },
    {
     "name": "stdout",
     "output_type": "stream",
     "text": [
      "Epoch 28/50: Train Loss = 0.2019, Val Loss = 0.2060, Val Accuracy = 0.9255\n"
     ]
    },
    {
     "name": "stderr",
     "output_type": "stream",
     "text": [
      "Epoch 28: 100%|██████████| 666/666 [00:00<00:00, 1135.40batch/s, loss=0.383] \n"
     ]
    },
    {
     "name": "stdout",
     "output_type": "stream",
     "text": [
      "Epoch 29/50: Train Loss = 0.2019, Val Loss = 0.2060, Val Accuracy = 0.9255\n"
     ]
    },
    {
     "name": "stderr",
     "output_type": "stream",
     "text": [
      "Epoch 29: 100%|██████████| 666/666 [00:00<00:00, 1130.27batch/s, loss=0.383] \n"
     ]
    },
    {
     "name": "stdout",
     "output_type": "stream",
     "text": [
      "Epoch 30/50: Train Loss = 0.2019, Val Loss = 0.2060, Val Accuracy = 0.9255\n"
     ]
    },
    {
     "name": "stderr",
     "output_type": "stream",
     "text": [
      "Epoch 30: 100%|██████████| 666/666 [00:00<00:00, 1093.23batch/s, loss=0.383] \n"
     ]
    },
    {
     "name": "stdout",
     "output_type": "stream",
     "text": [
      "Epoch 31/50: Train Loss = 0.2019, Val Loss = 0.2060, Val Accuracy = 0.9255\n"
     ]
    },
    {
     "name": "stderr",
     "output_type": "stream",
     "text": [
      "Epoch 31: 100%|██████████| 666/666 [00:00<00:00, 1126.58batch/s, loss=0.383] \n"
     ]
    },
    {
     "name": "stdout",
     "output_type": "stream",
     "text": [
      "Epoch 32/50: Train Loss = 0.2019, Val Loss = 0.2060, Val Accuracy = 0.9253\n"
     ]
    },
    {
     "name": "stderr",
     "output_type": "stream",
     "text": [
      "Epoch 32: 100%|██████████| 666/666 [00:00<00:00, 1094.17batch/s, loss=0.383] \n"
     ]
    },
    {
     "name": "stdout",
     "output_type": "stream",
     "text": [
      "Epoch 33/50: Train Loss = 0.2019, Val Loss = 0.2060, Val Accuracy = 0.9253\n"
     ]
    },
    {
     "name": "stderr",
     "output_type": "stream",
     "text": [
      "Epoch 33: 100%|██████████| 666/666 [00:00<00:00, 1129.01batch/s, loss=0.383] \n"
     ]
    },
    {
     "name": "stdout",
     "output_type": "stream",
     "text": [
      "Epoch 34/50: Train Loss = 0.2019, Val Loss = 0.2060, Val Accuracy = 0.9254\n"
     ]
    },
    {
     "name": "stderr",
     "output_type": "stream",
     "text": [
      "Epoch 34: 100%|██████████| 666/666 [00:00<00:00, 1091.63batch/s, loss=0.382] \n"
     ]
    },
    {
     "name": "stdout",
     "output_type": "stream",
     "text": [
      "Epoch 35/50: Train Loss = 0.2019, Val Loss = 0.2061, Val Accuracy = 0.9254\n"
     ]
    },
    {
     "name": "stderr",
     "output_type": "stream",
     "text": [
      "Epoch 35: 100%|██████████| 666/666 [00:00<00:00, 1129.89batch/s, loss=0.383] \n"
     ]
    },
    {
     "name": "stdout",
     "output_type": "stream",
     "text": [
      "Epoch 36/50: Train Loss = 0.2019, Val Loss = 0.2061, Val Accuracy = 0.9255\n"
     ]
    },
    {
     "name": "stderr",
     "output_type": "stream",
     "text": [
      "Epoch 36: 100%|██████████| 666/666 [00:00<00:00, 1101.94batch/s, loss=0.383] \n"
     ]
    },
    {
     "name": "stdout",
     "output_type": "stream",
     "text": [
      "Epoch 37/50: Train Loss = 0.2019, Val Loss = 0.2061, Val Accuracy = 0.9255\n"
     ]
    },
    {
     "name": "stderr",
     "output_type": "stream",
     "text": [
      "Epoch 37: 100%|██████████| 666/666 [00:00<00:00, 1139.60batch/s, loss=0.383] \n"
     ]
    },
    {
     "name": "stdout",
     "output_type": "stream",
     "text": [
      "Epoch 38/50: Train Loss = 0.2019, Val Loss = 0.2060, Val Accuracy = 0.9255\n"
     ]
    },
    {
     "name": "stderr",
     "output_type": "stream",
     "text": [
      "Epoch 38: 100%|██████████| 666/666 [00:00<00:00, 1100.73batch/s, loss=0.382] \n"
     ]
    },
    {
     "name": "stdout",
     "output_type": "stream",
     "text": [
      "Epoch 39/50: Train Loss = 0.2019, Val Loss = 0.2061, Val Accuracy = 0.9257\n"
     ]
    },
    {
     "name": "stderr",
     "output_type": "stream",
     "text": [
      "Epoch 39: 100%|██████████| 666/666 [00:00<00:00, 1136.01batch/s, loss=0.383] \n"
     ]
    },
    {
     "name": "stdout",
     "output_type": "stream",
     "text": [
      "Epoch 40/50: Train Loss = 0.2019, Val Loss = 0.2061, Val Accuracy = 0.9257\n"
     ]
    },
    {
     "name": "stderr",
     "output_type": "stream",
     "text": [
      "Epoch 40: 100%|██████████| 666/666 [00:00<00:00, 1094.49batch/s, loss=0.383] \n"
     ]
    },
    {
     "name": "stdout",
     "output_type": "stream",
     "text": [
      "Epoch 41/50: Train Loss = 0.2019, Val Loss = 0.2061, Val Accuracy = 0.9257\n"
     ]
    },
    {
     "name": "stderr",
     "output_type": "stream",
     "text": [
      "Epoch 41: 100%|██████████| 666/666 [00:00<00:00, 1137.68batch/s, loss=0.382] \n"
     ]
    },
    {
     "name": "stdout",
     "output_type": "stream",
     "text": [
      "Epoch 42/50: Train Loss = 0.2019, Val Loss = 0.2061, Val Accuracy = 0.9257\n"
     ]
    },
    {
     "name": "stderr",
     "output_type": "stream",
     "text": [
      "Epoch 42: 100%|██████████| 666/666 [00:00<00:00, 1096.54batch/s, loss=0.382] \n"
     ]
    },
    {
     "name": "stdout",
     "output_type": "stream",
     "text": [
      "Epoch 43/50: Train Loss = 0.2019, Val Loss = 0.2061, Val Accuracy = 0.9257\n"
     ]
    },
    {
     "name": "stderr",
     "output_type": "stream",
     "text": [
      "Epoch 43: 100%|██████████| 666/666 [00:00<00:00, 1140.39batch/s, loss=0.382] \n"
     ]
    },
    {
     "name": "stdout",
     "output_type": "stream",
     "text": [
      "Epoch 44/50: Train Loss = 0.2019, Val Loss = 0.2061, Val Accuracy = 0.9257\n"
     ]
    },
    {
     "name": "stderr",
     "output_type": "stream",
     "text": [
      "Epoch 44: 100%|██████████| 666/666 [00:00<00:00, 1103.77batch/s, loss=0.382] \n"
     ]
    },
    {
     "name": "stdout",
     "output_type": "stream",
     "text": [
      "Epoch 45/50: Train Loss = 0.2019, Val Loss = 0.2060, Val Accuracy = 0.9257\n"
     ]
    },
    {
     "name": "stderr",
     "output_type": "stream",
     "text": [
      "Epoch 45: 100%|██████████| 666/666 [00:00<00:00, 1138.75batch/s, loss=0.382] \n"
     ]
    },
    {
     "name": "stdout",
     "output_type": "stream",
     "text": [
      "Epoch 46/50: Train Loss = 0.2019, Val Loss = 0.2060, Val Accuracy = 0.9255\n"
     ]
    },
    {
     "name": "stderr",
     "output_type": "stream",
     "text": [
      "Epoch 46: 100%|██████████| 666/666 [00:00<00:00, 1139.24batch/s, loss=0.382] \n"
     ]
    },
    {
     "name": "stdout",
     "output_type": "stream",
     "text": [
      "Epoch 47/50: Train Loss = 0.2019, Val Loss = 0.2060, Val Accuracy = 0.9254\n"
     ]
    },
    {
     "name": "stderr",
     "output_type": "stream",
     "text": [
      "Epoch 47: 100%|██████████| 666/666 [00:00<00:00, 1101.81batch/s, loss=0.382] \n"
     ]
    },
    {
     "name": "stdout",
     "output_type": "stream",
     "text": [
      "Epoch 48/50: Train Loss = 0.2018, Val Loss = 0.2061, Val Accuracy = 0.9254\n"
     ]
    },
    {
     "name": "stderr",
     "output_type": "stream",
     "text": [
      "Epoch 48: 100%|██████████| 666/666 [00:00<00:00, 1085.63batch/s, loss=0.382] \n"
     ]
    },
    {
     "name": "stdout",
     "output_type": "stream",
     "text": [
      "Epoch 49/50: Train Loss = 0.2018, Val Loss = 0.2060, Val Accuracy = 0.9255\n"
     ]
    },
    {
     "name": "stderr",
     "output_type": "stream",
     "text": [
      "Epoch 49: 100%|██████████| 666/666 [00:00<00:00, 1104.59batch/s, loss=0.382] \n"
     ]
    },
    {
     "name": "stdout",
     "output_type": "stream",
     "text": [
      "Epoch 50/50: Train Loss = 0.2018, Val Loss = 0.2060, Val Accuracy = 0.9255\n",
      "Best Validation Loss: 0.2059\n",
      "\n",
      "=== Running with Learning Rate: 0.0001 ===\n"
     ]
    },
    {
     "name": "stderr",
     "output_type": "stream",
     "text": [
      "Epoch 0: 100%|██████████| 666/666 [00:00<00:00, 1139.74batch/s, loss=0.384] \n"
     ]
    },
    {
     "name": "stdout",
     "output_type": "stream",
     "text": [
      "Epoch 1/50: Train Loss = 0.2015, Val Loss = 0.2057, Val Accuracy = 0.9266\n"
     ]
    },
    {
     "name": "stderr",
     "output_type": "stream",
     "text": [
      "Epoch 1: 100%|██████████| 666/666 [00:00<00:00, 1104.77batch/s, loss=0.384] \n"
     ]
    },
    {
     "name": "stdout",
     "output_type": "stream",
     "text": [
      "Epoch 2/50: Train Loss = 0.2014, Val Loss = 0.2058, Val Accuracy = 0.9266\n"
     ]
    },
    {
     "name": "stderr",
     "output_type": "stream",
     "text": [
      "Epoch 2: 100%|██████████| 666/666 [00:00<00:00, 1141.72batch/s, loss=0.384] \n"
     ]
    },
    {
     "name": "stdout",
     "output_type": "stream",
     "text": [
      "Epoch 3/50: Train Loss = 0.2014, Val Loss = 0.2058, Val Accuracy = 0.9266\n"
     ]
    },
    {
     "name": "stderr",
     "output_type": "stream",
     "text": [
      "Epoch 3: 100%|██████████| 666/666 [00:00<00:00, 1086.97batch/s, loss=0.384] \n"
     ]
    },
    {
     "name": "stdout",
     "output_type": "stream",
     "text": [
      "Epoch 4/50: Train Loss = 0.2014, Val Loss = 0.2058, Val Accuracy = 0.9269\n"
     ]
    },
    {
     "name": "stderr",
     "output_type": "stream",
     "text": [
      "Epoch 4: 100%|██████████| 666/666 [00:00<00:00, 1053.87batch/s, loss=0.384] \n"
     ]
    },
    {
     "name": "stdout",
     "output_type": "stream",
     "text": [
      "Epoch 5/50: Train Loss = 0.2014, Val Loss = 0.2058, Val Accuracy = 0.9267\n"
     ]
    },
    {
     "name": "stderr",
     "output_type": "stream",
     "text": [
      "Epoch 5: 100%|██████████| 666/666 [00:00<00:00, 1101.40batch/s, loss=0.384] \n"
     ]
    },
    {
     "name": "stdout",
     "output_type": "stream",
     "text": [
      "Epoch 6/50: Train Loss = 0.2014, Val Loss = 0.2058, Val Accuracy = 0.9267\n"
     ]
    },
    {
     "name": "stderr",
     "output_type": "stream",
     "text": [
      "Epoch 6: 100%|██████████| 666/666 [00:00<00:00, 1102.39batch/s, loss=0.384] \n"
     ]
    },
    {
     "name": "stdout",
     "output_type": "stream",
     "text": [
      "Epoch 7/50: Train Loss = 0.2014, Val Loss = 0.2058, Val Accuracy = 0.9269\n"
     ]
    },
    {
     "name": "stderr",
     "output_type": "stream",
     "text": [
      "Epoch 7: 100%|██████████| 666/666 [00:00<00:00, 1084.52batch/s, loss=0.383] \n"
     ]
    },
    {
     "name": "stdout",
     "output_type": "stream",
     "text": [
      "Epoch 8/50: Train Loss = 0.2014, Val Loss = 0.2058, Val Accuracy = 0.9269\n"
     ]
    },
    {
     "name": "stderr",
     "output_type": "stream",
     "text": [
      "Epoch 8: 100%|██████████| 666/666 [00:00<00:00, 1130.80batch/s, loss=0.383] \n"
     ]
    },
    {
     "name": "stdout",
     "output_type": "stream",
     "text": [
      "Epoch 9/50: Train Loss = 0.2014, Val Loss = 0.2058, Val Accuracy = 0.9269\n"
     ]
    },
    {
     "name": "stderr",
     "output_type": "stream",
     "text": [
      "Epoch 9: 100%|██████████| 666/666 [00:00<00:00, 1097.71batch/s, loss=0.383] \n"
     ]
    },
    {
     "name": "stdout",
     "output_type": "stream",
     "text": [
      "Epoch 10/50: Train Loss = 0.2014, Val Loss = 0.2058, Val Accuracy = 0.9269\n"
     ]
    },
    {
     "name": "stderr",
     "output_type": "stream",
     "text": [
      "Epoch 10: 100%|██████████| 666/666 [00:00<00:00, 1130.96batch/s, loss=0.383] \n"
     ]
    },
    {
     "name": "stdout",
     "output_type": "stream",
     "text": [
      "Epoch 11/50: Train Loss = 0.2014, Val Loss = 0.2058, Val Accuracy = 0.9269\n"
     ]
    },
    {
     "name": "stderr",
     "output_type": "stream",
     "text": [
      "Epoch 11: 100%|██████████| 666/666 [00:00<00:00, 1130.14batch/s, loss=0.383] \n"
     ]
    },
    {
     "name": "stdout",
     "output_type": "stream",
     "text": [
      "Epoch 12/50: Train Loss = 0.2014, Val Loss = 0.2058, Val Accuracy = 0.9269\n"
     ]
    },
    {
     "name": "stderr",
     "output_type": "stream",
     "text": [
      "Epoch 12: 100%|██████████| 666/666 [00:00<00:00, 1094.97batch/s, loss=0.383] \n"
     ]
    },
    {
     "name": "stdout",
     "output_type": "stream",
     "text": [
      "Epoch 13/50: Train Loss = 0.2014, Val Loss = 0.2058, Val Accuracy = 0.9269\n"
     ]
    },
    {
     "name": "stderr",
     "output_type": "stream",
     "text": [
      "Epoch 13: 100%|██████████| 666/666 [00:00<00:00, 1121.11batch/s, loss=0.383] \n"
     ]
    },
    {
     "name": "stdout",
     "output_type": "stream",
     "text": [
      "Epoch 14/50: Train Loss = 0.2014, Val Loss = 0.2058, Val Accuracy = 0.9269\n"
     ]
    },
    {
     "name": "stderr",
     "output_type": "stream",
     "text": [
      "Epoch 14: 100%|██████████| 666/666 [00:00<00:00, 1089.31batch/s, loss=0.383] \n"
     ]
    },
    {
     "name": "stdout",
     "output_type": "stream",
     "text": [
      "Epoch 15/50: Train Loss = 0.2014, Val Loss = 0.2058, Val Accuracy = 0.9269\n"
     ]
    },
    {
     "name": "stderr",
     "output_type": "stream",
     "text": [
      "Epoch 15: 100%|██████████| 666/666 [00:00<00:00, 1130.48batch/s, loss=0.383] \n"
     ]
    },
    {
     "name": "stdout",
     "output_type": "stream",
     "text": [
      "Epoch 16/50: Train Loss = 0.2014, Val Loss = 0.2058, Val Accuracy = 0.9269\n"
     ]
    },
    {
     "name": "stderr",
     "output_type": "stream",
     "text": [
      "Epoch 16: 100%|██████████| 666/666 [00:00<00:00, 1092.72batch/s, loss=0.383] \n"
     ]
    },
    {
     "name": "stdout",
     "output_type": "stream",
     "text": [
      "Epoch 17/50: Train Loss = 0.2014, Val Loss = 0.2058, Val Accuracy = 0.9269\n"
     ]
    },
    {
     "name": "stderr",
     "output_type": "stream",
     "text": [
      "Epoch 17: 100%|██████████| 666/666 [00:00<00:00, 1126.22batch/s, loss=0.383] \n"
     ]
    },
    {
     "name": "stdout",
     "output_type": "stream",
     "text": [
      "Epoch 18/50: Train Loss = 0.2014, Val Loss = 0.2058, Val Accuracy = 0.9269\n"
     ]
    },
    {
     "name": "stderr",
     "output_type": "stream",
     "text": [
      "Epoch 18: 100%|██████████| 666/666 [00:00<00:00, 1094.24batch/s, loss=0.383] \n"
     ]
    },
    {
     "name": "stdout",
     "output_type": "stream",
     "text": [
      "Epoch 19/50: Train Loss = 0.2014, Val Loss = 0.2058, Val Accuracy = 0.9270\n"
     ]
    },
    {
     "name": "stderr",
     "output_type": "stream",
     "text": [
      "Epoch 19: 100%|██████████| 666/666 [00:00<00:00, 1136.85batch/s, loss=0.383] \n"
     ]
    },
    {
     "name": "stdout",
     "output_type": "stream",
     "text": [
      "Epoch 20/50: Train Loss = 0.2014, Val Loss = 0.2058, Val Accuracy = 0.9269\n"
     ]
    },
    {
     "name": "stderr",
     "output_type": "stream",
     "text": [
      "Epoch 20: 100%|██████████| 666/666 [00:00<00:00, 1096.14batch/s, loss=0.383] \n"
     ]
    },
    {
     "name": "stdout",
     "output_type": "stream",
     "text": [
      "Epoch 21/50: Train Loss = 0.2014, Val Loss = 0.2058, Val Accuracy = 0.9269\n"
     ]
    },
    {
     "name": "stderr",
     "output_type": "stream",
     "text": [
      "Epoch 21: 100%|██████████| 666/666 [00:00<00:00, 1136.22batch/s, loss=0.383] \n"
     ]
    },
    {
     "name": "stdout",
     "output_type": "stream",
     "text": [
      "Epoch 22/50: Train Loss = 0.2014, Val Loss = 0.2058, Val Accuracy = 0.9269\n"
     ]
    },
    {
     "name": "stderr",
     "output_type": "stream",
     "text": [
      "Epoch 22: 100%|██████████| 666/666 [00:00<00:00, 1088.29batch/s, loss=0.383] \n"
     ]
    },
    {
     "name": "stdout",
     "output_type": "stream",
     "text": [
      "Epoch 23/50: Train Loss = 0.2014, Val Loss = 0.2058, Val Accuracy = 0.9269\n"
     ]
    },
    {
     "name": "stderr",
     "output_type": "stream",
     "text": [
      "Epoch 23: 100%|██████████| 666/666 [00:00<00:00, 1127.57batch/s, loss=0.383] \n"
     ]
    },
    {
     "name": "stdout",
     "output_type": "stream",
     "text": [
      "Epoch 24/50: Train Loss = 0.2014, Val Loss = 0.2058, Val Accuracy = 0.9269\n"
     ]
    },
    {
     "name": "stderr",
     "output_type": "stream",
     "text": [
      "Epoch 24: 100%|██████████| 666/666 [00:00<00:00, 1095.68batch/s, loss=0.383] \n"
     ]
    },
    {
     "name": "stdout",
     "output_type": "stream",
     "text": [
      "Epoch 25/50: Train Loss = 0.2014, Val Loss = 0.2058, Val Accuracy = 0.9269\n"
     ]
    },
    {
     "name": "stderr",
     "output_type": "stream",
     "text": [
      "Epoch 25: 100%|██████████| 666/666 [00:00<00:00, 1132.22batch/s, loss=0.383] \n"
     ]
    },
    {
     "name": "stdout",
     "output_type": "stream",
     "text": [
      "Epoch 26/50: Train Loss = 0.2014, Val Loss = 0.2058, Val Accuracy = 0.9269\n"
     ]
    },
    {
     "name": "stderr",
     "output_type": "stream",
     "text": [
      "Epoch 26: 100%|██████████| 666/666 [00:00<00:00, 1127.16batch/s, loss=0.383] \n"
     ]
    },
    {
     "name": "stdout",
     "output_type": "stream",
     "text": [
      "Epoch 27/50: Train Loss = 0.2014, Val Loss = 0.2058, Val Accuracy = 0.9269\n"
     ]
    },
    {
     "name": "stderr",
     "output_type": "stream",
     "text": [
      "Epoch 27: 100%|██████████| 666/666 [00:00<00:00, 1091.91batch/s, loss=0.383] \n"
     ]
    },
    {
     "name": "stdout",
     "output_type": "stream",
     "text": [
      "Epoch 28/50: Train Loss = 0.2014, Val Loss = 0.2058, Val Accuracy = 0.9269\n"
     ]
    },
    {
     "name": "stderr",
     "output_type": "stream",
     "text": [
      "Epoch 28: 100%|██████████| 666/666 [00:00<00:00, 1128.46batch/s, loss=0.383] \n"
     ]
    },
    {
     "name": "stdout",
     "output_type": "stream",
     "text": [
      "Epoch 29/50: Train Loss = 0.2014, Val Loss = 0.2058, Val Accuracy = 0.9269\n"
     ]
    },
    {
     "name": "stderr",
     "output_type": "stream",
     "text": [
      "Epoch 29: 100%|██████████| 666/666 [00:00<00:00, 1093.85batch/s, loss=0.383] \n"
     ]
    },
    {
     "name": "stdout",
     "output_type": "stream",
     "text": [
      "Epoch 30/50: Train Loss = 0.2014, Val Loss = 0.2058, Val Accuracy = 0.9269\n"
     ]
    },
    {
     "name": "stderr",
     "output_type": "stream",
     "text": [
      "Epoch 30: 100%|██████████| 666/666 [00:00<00:00, 1134.70batch/s, loss=0.383] \n"
     ]
    },
    {
     "name": "stdout",
     "output_type": "stream",
     "text": [
      "Epoch 31/50: Train Loss = 0.2014, Val Loss = 0.2058, Val Accuracy = 0.9269\n"
     ]
    },
    {
     "name": "stderr",
     "output_type": "stream",
     "text": [
      "Epoch 31: 100%|██████████| 666/666 [00:00<00:00, 1089.07batch/s, loss=0.383] \n"
     ]
    },
    {
     "name": "stdout",
     "output_type": "stream",
     "text": [
      "Epoch 32/50: Train Loss = 0.2014, Val Loss = 0.2058, Val Accuracy = 0.9269\n"
     ]
    },
    {
     "name": "stderr",
     "output_type": "stream",
     "text": [
      "Epoch 32: 100%|██████████| 666/666 [00:00<00:00, 1135.45batch/s, loss=0.383] \n"
     ]
    },
    {
     "name": "stdout",
     "output_type": "stream",
     "text": [
      "Epoch 33/50: Train Loss = 0.2014, Val Loss = 0.2058, Val Accuracy = 0.9269\n"
     ]
    },
    {
     "name": "stderr",
     "output_type": "stream",
     "text": [
      "Epoch 33: 100%|██████████| 666/666 [00:00<00:00, 1093.44batch/s, loss=0.383] \n"
     ]
    },
    {
     "name": "stdout",
     "output_type": "stream",
     "text": [
      "Epoch 34/50: Train Loss = 0.2014, Val Loss = 0.2058, Val Accuracy = 0.9269\n"
     ]
    },
    {
     "name": "stderr",
     "output_type": "stream",
     "text": [
      "Epoch 34: 100%|██████████| 666/666 [00:00<00:00, 1132.89batch/s, loss=0.383] \n"
     ]
    },
    {
     "name": "stdout",
     "output_type": "stream",
     "text": [
      "Epoch 35/50: Train Loss = 0.2014, Val Loss = 0.2058, Val Accuracy = 0.9269\n"
     ]
    },
    {
     "name": "stderr",
     "output_type": "stream",
     "text": [
      "Epoch 35: 100%|██████████| 666/666 [00:00<00:00, 1096.03batch/s, loss=0.383] \n"
     ]
    },
    {
     "name": "stdout",
     "output_type": "stream",
     "text": [
      "Epoch 36/50: Train Loss = 0.2014, Val Loss = 0.2058, Val Accuracy = 0.9269\n"
     ]
    },
    {
     "name": "stderr",
     "output_type": "stream",
     "text": [
      "Epoch 36: 100%|██████████| 666/666 [00:00<00:00, 1134.54batch/s, loss=0.383] \n"
     ]
    },
    {
     "name": "stdout",
     "output_type": "stream",
     "text": [
      "Epoch 37/50: Train Loss = 0.2014, Val Loss = 0.2058, Val Accuracy = 0.9269\n"
     ]
    },
    {
     "name": "stderr",
     "output_type": "stream",
     "text": [
      "Epoch 37: 100%|██████████| 666/666 [00:00<00:00, 1101.48batch/s, loss=0.383] \n"
     ]
    },
    {
     "name": "stdout",
     "output_type": "stream",
     "text": [
      "Epoch 38/50: Train Loss = 0.2014, Val Loss = 0.2058, Val Accuracy = 0.9269\n"
     ]
    },
    {
     "name": "stderr",
     "output_type": "stream",
     "text": [
      "Epoch 38: 100%|██████████| 666/666 [00:00<00:00, 1136.56batch/s, loss=0.383] \n"
     ]
    },
    {
     "name": "stdout",
     "output_type": "stream",
     "text": [
      "Epoch 39/50: Train Loss = 0.2014, Val Loss = 0.2058, Val Accuracy = 0.9269\n"
     ]
    },
    {
     "name": "stderr",
     "output_type": "stream",
     "text": [
      "Epoch 39: 100%|██████████| 666/666 [00:00<00:00, 1088.99batch/s, loss=0.383] \n"
     ]
    },
    {
     "name": "stdout",
     "output_type": "stream",
     "text": [
      "Epoch 40/50: Train Loss = 0.2014, Val Loss = 0.2058, Val Accuracy = 0.9269\n"
     ]
    },
    {
     "name": "stderr",
     "output_type": "stream",
     "text": [
      "Epoch 40: 100%|██████████| 666/666 [00:00<00:00, 1118.57batch/s, loss=0.383] \n"
     ]
    },
    {
     "name": "stdout",
     "output_type": "stream",
     "text": [
      "Epoch 41/50: Train Loss = 0.2014, Val Loss = 0.2058, Val Accuracy = 0.9269\n"
     ]
    },
    {
     "name": "stderr",
     "output_type": "stream",
     "text": [
      "Epoch 41: 100%|██████████| 666/666 [00:00<00:00, 1091.13batch/s, loss=0.383] \n"
     ]
    },
    {
     "name": "stdout",
     "output_type": "stream",
     "text": [
      "Epoch 42/50: Train Loss = 0.2014, Val Loss = 0.2058, Val Accuracy = 0.9269\n"
     ]
    },
    {
     "name": "stderr",
     "output_type": "stream",
     "text": [
      "Epoch 42: 100%|██████████| 666/666 [00:00<00:00, 1128.38batch/s, loss=0.383] \n"
     ]
    },
    {
     "name": "stdout",
     "output_type": "stream",
     "text": [
      "Epoch 43/50: Train Loss = 0.2014, Val Loss = 0.2058, Val Accuracy = 0.9269\n"
     ]
    },
    {
     "name": "stderr",
     "output_type": "stream",
     "text": [
      "Epoch 43: 100%|██████████| 666/666 [00:00<00:00, 1131.40batch/s, loss=0.383] \n"
     ]
    },
    {
     "name": "stdout",
     "output_type": "stream",
     "text": [
      "Epoch 44/50: Train Loss = 0.2014, Val Loss = 0.2058, Val Accuracy = 0.9269\n"
     ]
    },
    {
     "name": "stderr",
     "output_type": "stream",
     "text": [
      "Epoch 44: 100%|██████████| 666/666 [00:00<00:00, 1098.99batch/s, loss=0.382] \n"
     ]
    },
    {
     "name": "stdout",
     "output_type": "stream",
     "text": [
      "Epoch 45/50: Train Loss = 0.2014, Val Loss = 0.2058, Val Accuracy = 0.9269\n"
     ]
    },
    {
     "name": "stderr",
     "output_type": "stream",
     "text": [
      "Epoch 45: 100%|██████████| 666/666 [00:00<00:00, 1138.36batch/s, loss=0.382] \n"
     ]
    },
    {
     "name": "stdout",
     "output_type": "stream",
     "text": [
      "Epoch 46/50: Train Loss = 0.2014, Val Loss = 0.2058, Val Accuracy = 0.9269\n"
     ]
    },
    {
     "name": "stderr",
     "output_type": "stream",
     "text": [
      "Epoch 46: 100%|██████████| 666/666 [00:00<00:00, 1086.96batch/s, loss=0.382] \n"
     ]
    },
    {
     "name": "stdout",
     "output_type": "stream",
     "text": [
      "Epoch 47/50: Train Loss = 0.2014, Val Loss = 0.2058, Val Accuracy = 0.9269\n"
     ]
    },
    {
     "name": "stderr",
     "output_type": "stream",
     "text": [
      "Epoch 47: 100%|██████████| 666/666 [00:00<00:00, 1129.08batch/s, loss=0.382] \n"
     ]
    },
    {
     "name": "stdout",
     "output_type": "stream",
     "text": [
      "Epoch 48/50: Train Loss = 0.2014, Val Loss = 0.2058, Val Accuracy = 0.9269\n"
     ]
    },
    {
     "name": "stderr",
     "output_type": "stream",
     "text": [
      "Epoch 48: 100%|██████████| 666/666 [00:00<00:00, 1087.99batch/s, loss=0.382] \n"
     ]
    },
    {
     "name": "stdout",
     "output_type": "stream",
     "text": [
      "Epoch 49/50: Train Loss = 0.2014, Val Loss = 0.2058, Val Accuracy = 0.9269\n"
     ]
    },
    {
     "name": "stderr",
     "output_type": "stream",
     "text": [
      "Epoch 49: 100%|██████████| 666/666 [00:00<00:00, 1133.34batch/s, loss=0.382] \n"
     ]
    },
    {
     "name": "stdout",
     "output_type": "stream",
     "text": [
      "Epoch 50/50: Train Loss = 0.2014, Val Loss = 0.2058, Val Accuracy = 0.9269\n",
      "Best Validation Loss: 0.2057\n",
      "\n",
      "=== Best Learning Rate: 0.0001 ===\n",
      "Best Validation Loss: 0.2057\n",
      "\n",
      "Best Threshold: 0.10, Best TPR: 0.7435\n",
      "\n",
      "=== Testing Model: Best LR: 0.0001 ===\n",
      "Test Loss: 0.2075, Test Accuracy: 0.7953\n",
      "\n",
      "Classification Report:\n",
      "              precision    recall  f1-score   support\n",
      "\n",
      "         0.0       0.97      0.80      0.88     11480\n",
      "         1.0       0.26      0.75      0.38      1054\n",
      "\n",
      "    accuracy                           0.80     12534\n",
      "   macro avg       0.61      0.77      0.63     12534\n",
      "weighted avg       0.91      0.80      0.84     12534\n",
      "\n",
      "\n",
      "Confusion Matrix:\n",
      "[[9181 2299]\n",
      " [ 267  787]]\n"
     ]
    },
    {
     "data": {
      "image/png": "[encoded data removed]",
      "text/plain": [
       "<Figure size 800x600 with 1 Axes>"
      ]
     },
     "metadata": {},
     "output_type": "display_data"
    },
    {
     "data": {
      "image/png": "[encoded data removed]",
      "text/plain": [
       "<Figure size 800x600 with 1 Axes>"
      ]
     },
     "metadata": {},
     "output_type": "display_data"
    },
    {
     "name": "stdout",
     "output_type": "stream",
     "text": [
      "Test ROC AUC Score: 0.8664\n"
     ]
    },
    {
     "ename": "ValueError",
     "evalue": "too many values to unpack (expected 3)",
     "output_type": "error",
     "traceback": [
      "\u001b[0;31m---------------------------------------------------------------------------\u001b[0m",
      "\u001b[0;31mValueError\u001b[0m                                Traceback (most recent call last)",
      "Cell \u001b[0;32mIn[29], line 4\u001b[0m\n\u001b[1;32m      2\u001b[0m learning_rates \u001b[38;5;241m=\u001b[39m [\u001b[38;5;241m0.01\u001b[39m, \u001b[38;5;241m0.001\u001b[39m, \u001b[38;5;241m0.0001\u001b[39m]\n\u001b[1;32m      3\u001b[0m modelTM \u001b[38;5;241m=\u001b[39m ToyModel(input_size\u001b[38;5;241m=\u001b[39mX_train_tensor\u001b[38;5;241m.\u001b[39mshape[\u001b[38;5;241m1\u001b[39m])\n\u001b[0;32m----> 4\u001b[0m best_lr, best_model, best_threshold \u001b[38;5;241m=\u001b[39m train_eval_find_best_lr_test(\n\u001b[1;32m      5\u001b[0m     modelTM,\n\u001b[1;32m      6\u001b[0m     X_train_tensor, Y_train_tensor,\n\u001b[1;32m      7\u001b[0m     X_val_tensor, Y_val_tensor,\n\u001b[1;32m      8\u001b[0m     X_test_tensor, Y_test_tensor,\n\u001b[1;32m      9\u001b[0m     lrs\u001b[38;5;241m=\u001b[39mlearning_rates,\n\u001b[1;32m     10\u001b[0m     description\u001b[38;5;241m=\u001b[39m\u001b[38;5;124m\"\u001b[39m\u001b[38;5;124mLearning Rate Search with ToyModel\u001b[39m\u001b[38;5;124m\"\u001b[39m\n\u001b[1;32m     11\u001b[0m )\n\u001b[1;32m     13\u001b[0m \u001b[38;5;28mprint\u001b[39m(\u001b[38;5;124mf\u001b[39m\u001b[38;5;124m\"\u001b[39m\u001b[38;5;130;01m\\n\u001b[39;00m\u001b[38;5;124m=== Final Results ===\u001b[39m\u001b[38;5;124m\"\u001b[39m)\n\u001b[1;32m     14\u001b[0m \u001b[38;5;28mprint\u001b[39m(\u001b[38;5;124mf\u001b[39m\u001b[38;5;124m\"\u001b[39m\u001b[38;5;124mBest Learning Rate: \u001b[39m\u001b[38;5;132;01m{\u001b[39;00mbest_lr\u001b[38;5;132;01m}\u001b[39;00m\u001b[38;5;124m\"\u001b[39m)\n",
      "\u001b[0;31mValueError\u001b[0m: too many values to unpack (expected 3)"
     ]
    }
   ],
   "source": [
    "# Run with multiple learning rates and interpret the ToyModel\n",
    "learning_rates = [0.01, 0.001, 0.0001]\n",
    "modelTM = ToyModel(input_size=X_train_tensor.shape[1])\n",
    "best_lr, best_model, best_threshold = train_eval_find_best_lr_test(\n",
    "    modelTM,\n",
    "    X_train_tensor, Y_train_tensor,\n",
    "    X_val_tensor, Y_val_tensor,\n",
    "    X_test_tensor, Y_test_tensor,\n",
    "    lrs=learning_rates,\n",
    "    description=\"Learning Rate Search with ToyModel\"\n",
    ")\n",
    "\n",
    "print(f\"\\n=== Final Results ===\")\n",
    "print(f\"Best Learning Rate: {best_lr}\")\n",
    "\n",
    "# Interpret the model using Captum\n",
    "X_sample = X_test_tensor[:1]  # Take a sample from the test set for interpretation\n",
    "interpret_model(best_model, X_sample, description=\"Final ToyModel Interpretation\")"
   ]
  },
  {
   "cell_type": "code",
   "execution_count": null,
   "metadata": {},
   "outputs": [],
   "source": []
  },
  {
   "cell_type": "code",
   "execution_count": null,
   "metadata": {},
   "outputs": [],
   "source": []
  }
 ],
 "metadata": {
  "kernelspec": {
   "display_name": "base",
   "language": "python",
   "name": "python3"
  },
  "language_info": {
   "codemirror_mode": {
    "name": "ipython",
    "version": 3
   },
   "file_extension": ".py",
   "mimetype": "text/x-python",
   "name": "python",
   "nbconvert_exporter": "python",
   "pygments_lexer": "ipython3",
   "version": "3.12.2"
  }
 },
 "nbformat": 4,
 "nbformat_minor": 2
}
